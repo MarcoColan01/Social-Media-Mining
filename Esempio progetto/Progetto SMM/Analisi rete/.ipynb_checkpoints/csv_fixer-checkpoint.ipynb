{
 "cells": [
  {
   "cell_type": "code",
   "execution_count": 13,
   "id": "177b4bc7-0282-439f-b1f3-0c9a5793b3af",
   "metadata": {},
   "outputs": [
    {
     "name": "stdout",
     "output_type": "stream",
     "text": [
      "Il file è codificato in: ascii\n"
     ]
    }
   ],
   "source": [
    "import csv\n",
    "\n",
    "# Funzione per rimuovere i caratteri indesiderati alla fine di ogni riga del CSV\n",
    "def remove_trailing_semicolons(input_file, output_file):\n",
    "    with open(input_file, 'r', encoding='utf-8-sig') as csv_input:\n",
    "        with open(output_file, 'w', newline='', encoding='utf-8') as csv_output:\n",
    "            reader = csv.reader(csv_input, delimiter=';')\n",
    "            writer = csv.writer(csv_output, delimiter=';')\n",
    "            for row in reader:\n",
    "                # Rimuove i caratteri indesiderati dalla fine di ogni riga\n",
    "                cleaned_row = [cell.rstrip(';') for cell in row]\n",
    "                writer.writerow(cleaned_row)\n",
    "\n",
    "# Percorso del file di input e del nuovo file di output\n",
    "input_file = 'output.csv'\n",
    "output_file = 'output2.csv'\n",
    "\n",
    "# Rimuovi i caratteri indesiderati alla fine di ogni riga del CSV e scrivi il risultato in un nuovo file CSV\n",
    "remove_trailing_semicolons(input_file, output_file)\n"
   ]
  },
  {
   "cell_type": "code",
   "execution_count": 8,
   "id": "ab9eeb12-5f40-497b-9442-f2295c217668",
   "metadata": {},
   "outputs": [
    {
     "name": "stdout",
     "output_type": "stream",
     "text": [
      "Collecting chardet\n",
      "  Obtaining dependency information for chardet from https://files.pythonhosted.org/packages/38/6f/f5fbc992a329ee4e0f288c1fe0e2ad9485ed064cac731ed2fe47dcc38cbf/chardet-5.2.0-py3-none-any.whl.metadata\n",
      "  Downloading chardet-5.2.0-py3-none-any.whl.metadata (3.4 kB)\n",
      "Downloading chardet-5.2.0-py3-none-any.whl (199 kB)\n",
      "   ---------------------------------------- 0.0/199.4 kB ? eta -:--:--\n",
      "   ---------------------------------------- 0.0/199.4 kB ? eta -:--:--\n",
      "   ---------------------------------------  194.6/199.4 kB 2.9 MB/s eta 0:00:01\n",
      "   ---------------------------------------- 199.4/199.4 kB 3.0 MB/s eta 0:00:00\n",
      "Installing collected packages: chardet\n",
      "Successfully installed chardet-5.2.0\n"
     ]
    },
    {
     "name": "stderr",
     "output_type": "stream",
     "text": [
      "\n",
      "[notice] A new release of pip is available: 23.2.1 -> 24.0\n",
      "[notice] To update, run: python.exe -m pip install --upgrade pip\n"
     ]
    }
   ],
   "source": [
    "!pip install chardet"
   ]
  },
  {
   "cell_type": "code",
   "execution_count": null,
   "id": "b5a432f3-0bf3-43d1-b4d2-90362b029507",
   "metadata": {},
   "outputs": [],
   "source": []
  }
 ],
 "metadata": {
  "kernelspec": {
   "display_name": "Python 3 (ipykernel)",
   "language": "python",
   "name": "python3"
  },
  "language_info": {
   "codemirror_mode": {
    "name": "ipython",
    "version": 3
   },
   "file_extension": ".py",
   "mimetype": "text/x-python",
   "name": "python",
   "nbconvert_exporter": "python",
   "pygments_lexer": "ipython3",
   "version": "3.11.5"
  }
 },
 "nbformat": 4,
 "nbformat_minor": 5
}
