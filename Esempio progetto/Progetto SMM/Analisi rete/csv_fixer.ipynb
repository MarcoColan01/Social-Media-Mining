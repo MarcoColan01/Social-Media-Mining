{
 "cells": [
  {
   "cell_type": "code",
   "execution_count": 4,
   "id": "177b4bc7-0282-439f-b1f3-0c9a5793b3af",
   "metadata": {},
   "outputs": [],
   "source": [
    "import csv\n",
    "\n",
    "# Funzione per rimuovere i caratteri indesiderati alla fine di ogni riga del CSV\n",
    "def remove_trailing_semicolons(input_file, output_file):\n",
    "    with open(input_file, 'r', encoding='utf-8-sig') as csv_input:\n",
    "        with open(output_file, 'w', newline='', encoding='utf-8') as csv_output:\n",
    "            reader = csv.reader(csv_input, delimiter=';')\n",
    "            writer = csv.writer(csv_output, delimiter=';')\n",
    "            for row in reader:\n",
    "                # Rimuove i caratteri indesiderati dalla fine di ogni riga\n",
    "                cleaned_row = [cell.rstrip(';') for cell in row]\n",
    "                writer.writerow(cleaned_row)\n",
    "\n",
    "# Percorso del file di input e del nuovo file di output\n",
    "input_file = 'fixed.csv'\n",
    "output_file = 'fixed2.csv'\n",
    "\n",
    "# Rimuovi i caratteri indesiderati alla fine di ogni riga del CSV e scrivi il risultato in un nuovo file CSV\n",
    "remove_trailing_semicolons(input_file, output_file)\n"
   ]
  },
  {
   "cell_type": "code",
   "execution_count": null,
   "id": "b5a432f3-0bf3-43d1-b4d2-90362b029507",
   "metadata": {},
   "outputs": [],
   "source": []
  }
 ],
 "metadata": {
  "kernelspec": {
   "display_name": "Python 3 (ipykernel)",
   "language": "python",
   "name": "python3"
  },
  "language_info": {
   "codemirror_mode": {
    "name": "ipython",
    "version": 3
   },
   "file_extension": ".py",
   "mimetype": "text/x-python",
   "name": "python",
   "nbconvert_exporter": "python",
   "pygments_lexer": "ipython3",
   "version": "3.11.5"
  }
 },
 "nbformat": 4,
 "nbformat_minor": 5
}
