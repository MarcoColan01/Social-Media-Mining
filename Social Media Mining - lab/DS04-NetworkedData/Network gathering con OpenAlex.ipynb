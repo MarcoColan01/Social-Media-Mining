{
 "cells": [
  {
   "cell_type": "code",
   "execution_count": 4,
   "metadata": {
    "cell_id": "b0389a43fe0b482eaa48ea318e5aa91d",
    "deepnote_cell_type": "code",
    "deepnote_to_be_reexecuted": false,
    "execution_millis": 59,
    "execution_start": 1682569862849,
    "source_hash": null
   },
   "outputs": [],
   "source": [
    "import httpx\n",
    "import networkx as nx\n",
    "import time\n",
    "import sqlite3\n",
    "import pandas as pd\n",
    "import persistqueue"
   ]
  },
  {
   "cell_type": "markdown",
   "metadata": {
    "cell_id": "8c0105cabbb74fb088ff5855abdefefd",
    "deepnote_cell_type": "markdown"
   },
   "source": [
    "# Collezionare e costruire una rete di relazioni"
   ]
  },
  {
   "cell_type": "markdown",
   "metadata": {
    "cell_id": "0106ff26129b447f830d7e0764392e30",
    "deepnote_cell_type": "markdown"
   },
   "source": [
    "In questo notebook definiremo una procedura per il data gathering da un servizio \"social\" che espone una RESTful API in modo da esplorare la rete della relazioni tra gli elementi della piattaforma, e nello stesso tempo costruire la stessa rete in locale. \n",
    "\n",
    "La piattaforma in questione è [OpenAlex](https://docs.openalex.org/) e fornisce un insieme di endpoint che restituiscono gli elementi coinvolti nella pubblicazione di articoli di ricerca. **OpenAlex** è un catalogo globale open access delle pubblicazioni academiche.\n",
    "\n",
    "Anche in questo caso possiamo evitare l'utilizzo di OAuth2.0 per l'autorizzazione all'accesso alle risorse dal momento che la rete delle relazioni è costruita integrando diversi fonti di dati, non coinvolgendo il proprietario delle risorse.\n",
    "\n",
    "### Descrizione delle relazioni tra entità in OpenAlex\n",
    "Le relazioni tra gli elementi supportati dalle API sono visualizzate in figura:\n",
    "\n",
    "![](entity.png)\n",
    "\n",
    "Un articolo (`Works`) è prodotto da un insieme di autori (`Author`) ed ogni autore è affiliato, al momento della pubblicazione dell'articolo, ad un'istituzione academica (`Institution`). Un articolo viene pubblicato in giornali, conferenze o altri strumenti di pubblicazione (`Source`). Ogni sorgente di pubblicazione è edita da un editore (`Publisher`).\n",
    "\n",
    "In questo contesto, il nostro obiettivo è costruitre una rete di almeno 100 nodi/elementi. Ogni nodo corrisponde ad un autore, mentre esiste una connessione tra due nodi autori `A` e `B` se `A` e `B` hanno scritto insieme almeno un articolo, cioè hanno collaborato almeno una volta. Costruiremo, quindi, una rete di collaborazioni: tipo di rete che non riguarda solo l'ambito academico, ma anche il mondo musicale - collaborazione tra artisti nella creazioni di un'opera.\n",
    "\n",
    "Guidati dal nostro obiettivo identifichiamo gli elementi necessari alla costruzione del grafo. \n",
    "\n",
    "- **Author**: La documentazione dell'oggetto `Author` è disponibile [qui](https://docs.openalex.org/api-entities/authors/author-object). Se analizziamo la documentazione non abbiamo accesso diretto alla lista degli autori con coi un singolo autore ha collaborato. Tuttavia, possiamo accedere alla lista dei lavori pubblicati da un autore. Nello specifico, il campo `**works_api_url**` restituisce quale richiesta inviare alle API per ottenere la lista degli articolo pubblicati da un autore.\n",
    "- **Works**: La documentazione dell'oggetto `Work` è disponibile [qui](https://docs.openalex.org/api-entities/works/work-object). Se analizziamo la documentazione, la risposta delle API restitusice un JSON object. In tale oggetto alla chiave **authorships** è associato una lista di oggetti `Author` da cui è possibile estrarre gli identificativi degli autori."
   ]
  },
  {
   "cell_type": "markdown",
   "metadata": {
    "cell_id": "d959da778e524a1596c802eea2eb52af",
    "deepnote_cell_type": "markdown"
   },
   "source": [
    "Esistono delle librerie in Python per interagire con le API di OpenAlex, tuttavia per fini didattici effettueremo le richieste necessarie evitando l'uso di tali librerie, mentre inviaremo le richieste mediante la libreria `httpx`. "
   ]
  },
  {
   "cell_type": "markdown",
   "metadata": {
    "cell_id": "12d8604d8be74e559b36cbb165b2d82c",
    "deepnote_cell_type": "markdown"
   },
   "source": [
    "### Ottenere i vicini di un nodo mediante l'esplorazione delle relazioni"
   ]
  },
  {
   "cell_type": "markdown",
   "metadata": {
    "cell_id": "fc7ade7af62b49c191c0d7e85fb73806",
    "deepnote_cell_type": "markdown"
   },
   "source": [
    "Il primo passo da affrontare è la definizione di alcune funzioni accessorie per eseguire le prime richieste alle API ed ottenere le entità coinvolte nelle relazioni.\n",
    "\n",
    "Nello specifico il nostro primo obiettivo è implementare la funzione `**get_collaborators**` che restituisce gli autori con cui l'autore passato come argomento ha collaborato. La funzione riceve l'`ID` - stringa - dell'autore e restituisce una lista di `ID` corrispondenti ad altri autori.\n",
    "\n",
    "Il codice della funzione deve contenere la richiesta HTTP verso l'endpoint corretto; si deve quindi **identificare l'endpoint corretto** e i **parametri richiesti per ottenere la risposta attesa**. Poi si deve estrarre dalla risposta l'informazione richiesta, ossia l'`ID` di ogni collaboratore.\n",
    "\n",
    "<span style=\"color:red;font-weight:bold;\">Suggerimento</span>: per selezionare l'endpoint corretto concentratevi sulla risorsa [`Works`](https://docs.openalex.org/api-entities/works).\n",
    "\n",
    "<span style=\"color:red;font-weight:bold;\">Suggerimento 2</span>: nel definire la soluzione completa procedete step-by-step, ossia prima effettuare la richiesta e visualizzare la risposta. Poi, in base al formato della risposta, definire come accedere all'`ID` del collaboratore."
   ]
  },
  {
   "cell_type": "code",
   "execution_count": null,
   "metadata": {
    "cell_id": "40cd2d9eecc04628a7e1cfcc31961e8b",
    "deepnote_cell_type": "code",
    "deepnote_to_be_reexecuted": false,
    "execution_millis": 5,
    "execution_start": 1682534855943,
    "source_hash": null
   },
   "outputs": [],
   "source": [
    "seed_author_id = 'A5035471624' # autore esempio"
   ]
  },
  {
   "cell_type": "code",
   "execution_count": null,
   "metadata": {
    "cell_id": "ab1bfdb547ff4d0b9ed30a9b60e3429a",
    "deepnote_cell_type": "code",
    "deepnote_to_be_reexecuted": false,
    "execution_millis": 0,
    "execution_start": 1681292263637,
    "source_hash": null
   },
   "outputs": [],
   "source": [
    "def get_collaborators(id_author):\n",
    "   # TODO"
   ]
  },
  {
   "cell_type": "code",
   "execution_count": null,
   "metadata": {
    "cell_id": "fc973b5016e945518925c67bcbdbf923",
    "deepnote_app_is_output_hidden": false,
    "deepnote_cell_type": "code",
    "deepnote_to_be_reexecuted": false,
    "execution_millis": 85,
    "execution_start": 1681292271264,
    "is_output_hidden": false,
    "source_hash": null
   },
   "outputs": [],
   "source": [
    "co_authors = get_collaborators(seed_author_id)"
   ]
  },
  {
   "cell_type": "markdown",
   "metadata": {
    "cell_id": "d302459bd7c94177888c9d8e188016c9",
    "deepnote_cell_type": "markdown"
   },
   "source": [
    "### Esplorare la rete delle relazioni"
   ]
  },
  {
   "cell_type": "markdown",
   "metadata": {
    "cell_id": "fdc500d9ab5d4f12b6882f6c9a606a20",
    "deepnote_cell_type": "markdown"
   },
   "source": [
    "A questo punto, dato un autore possiamo identificare facilmente i suoi collaboratori, ed in generale **dato un nodo sappiamo identificare i suoi vicini**. \n",
    "\n",
    "Il prossimo passo è implementare una **visita** della rete di collaborazione tra autori. In particolare effettueremo una **visita in ampiezza** della rete. Tale visita viene solitamente implementata per effettuare quello che viene definito come **snowball sampling** - campionamento a fiocco di neve - ed è descritta dal seguente pseudo-codice.\n",
    "```python\n",
    "# Input: nodo R o insieme di nodi\n",
    "coda = [R]\n",
    "while coda: # finchè la coda non è vuota\n",
    "    vertice = coda.pop(0) # operazione di dequeue\n",
    "    vertice.visitato = True # etichetto come `visitato` il nodo selezionato\n",
    "    for adiacente in vertice.adiacenti: # esploro i vicini del nodo\n",
    "        if not adiacente.visitato: \n",
    "            coda.append(adiacente)\n",
    "```\n",
    "\n",
    "La seguente figura descrive il processo di visita, che corrisponde lo stesso processo implementato da un crawler minimale. Rispetto allo pseudo-codice nella coda vengono inserite delle coppie `(nodo, distanza dal seed)` che permettono di troncare la visita in ampiezza ad una specifica distanza dai nodi seed. Inoltre, non essendo possibile etichettare i nodi di una piattaforma social con l'etichetta `visitato`, dobbiamo utilizzare un set per indicare quali nodi siano stati visitati.\n",
    "![](surf_1.png)\n",
    "![](surf_2.png)"
   ]
  },
  {
   "cell_type": "markdown",
   "metadata": {
    "cell_id": "9292382f573c4e709f02ebff7054a7da",
    "deepnote_cell_type": "markdown"
   },
   "source": [
    "#### Object Oriented Programming - OOP - in Python"
   ]
  },
  {
   "cell_type": "markdown",
   "metadata": {
    "cell_id": "5e83405b2bf344a4b5278349853e668b",
    "deepnote_cell_type": "markdown"
   },
   "source": [
    "Il concetto di classe in Python è fondamentale per la programmazione orientata agli oggetti (OOP). Una classe funge da modello per la creazione di oggetti (istanze), che possono avere proprietà - **attributi** - e comportamenti - **metodi**. \n",
    "\n",
    "Ecco una breve introduzione su come definire una classe in Python e i suoi elementi principali:\n",
    "\n",
    "##### Definizione di una Classe\n",
    "\n",
    "In Python, una classe viene definita utilizzando la parola chiave `class`, seguita dal nome della classe e due punti. Il nome della classe solitamente inizia con una lettera maiuscola per convenzione.\n",
    "\n",
    "```python\n",
    "class <nome_classe>:\n",
    "    # corpo della classe\n",
    "```\n",
    "\n",
    "##### Attributi\n",
    "Gli attributi sono variabili associate a una classe. Possono essere definiti a livello di classe (attributi di classe) o a livello di istanza (attributi di istanza).\n",
    "\n",
    "- **Attributi di Classe**: attributi *condivisi* tra tutte le istanze della classe.\n",
    "- **Attributi di Istanza**: attributi *unici* per ogni istanza della classe.\n",
    "\n",
    "``` python\n",
    "class Auto:\n",
    "    ruote = 4  # Attributo di classe\n",
    "\n",
    "    def __init__(self, marca, modello):\n",
    "        self.marca = marca  # Attributo di istanza\n",
    "        self.modello = modello  # Attributo di istanza\n",
    "```\n",
    "In questo caso abbiamo definito una classe `Auto`. Ogni auto, per definizione ha 4 ruote, quindi il numero di ruote è un attributo condiviso o di classe, mentre ogni istanza di `Auto`, nella realtà ogni auto prodotta, è caratterizzata da una specifica marca e da un modello.\n",
    "\n",
    "In Python, il costruttore di un oggetto viene definito utilizzando il metodo speciale `__init__`. Questo metodo viene chiamato automaticamente quando si crea una nuova istanza di una classe. Il suo scopo principale è inizializzare gli attributi dell'oggetto con valori specificati al momento della creazione dell'istanza. Nel nostro caso creiamo un oggetto `Auto` con marca e modello specificato al momento della costruzione.\n",
    "\n",
    "##### Metodi\n",
    "I metodi sono funzioni definite all'interno di una classe. Possono operare sugli attributi degli oggetti. Il primo parametro di un metodo è `self`, che rappresenta l'istanza dell'oggetto che utilizzerà il metodo.\n",
    "\n",
    "```python\n",
    "class Auto:\n",
    "    def __init__(self, marca, modello):\n",
    "        self.marca = marca\n",
    "        self.modello = modello\n",
    "    \n",
    "    def visualizza_info(self):  # Metodo\n",
    "        return f\"Marca: {self.marca}, Modello: {self.modello}\"\n",
    "```\n",
    "\n",
    "Ogni istanza di `Auto` può restituire una sua descrizione in formato stringa mediante il metodo `visualizza_info`."
   ]
  },
  {
   "cell_type": "code",
   "execution_count": null,
   "metadata": {
    "cell_id": "82110f539cd744f1926657b15f1a6598",
    "deepnote_cell_type": "code"
   },
   "outputs": [],
   "source": [
    "class Auto:\n",
    "    ruote = 4\n",
    "    \n",
    "    def __init__(self,marca, modello):\n",
    "        self.marca = marca\n",
    "        self.modello = modello\n",
    "        \n",
    "    def visualizza_auto(self):\n",
    "        return f'Marca: {self.marca} - Modello: {self.modello} - Numero di ruote: {self.__class__.ruote}'"
   ]
  },
  {
   "cell_type": "markdown",
   "metadata": {
    "cell_id": "83f2cb21f85347218308526c1c2a104c",
    "deepnote_cell_type": "markdown"
   },
   "source": [
    "Nella definizione del metodo `visualizza_auto` per poter accedere all'informazione associata all'attributo di classe `ruote` ho applicato la seconda delle strategie per accedere agli attributi di classe:\n",
    "\n",
    "- `<nome_classe>.<nome_attributo>`:\n",
    "  ``` python\n",
    "  Auto.ruote \n",
    "  ```\n",
    "- accedere all'attributo `__class__` che ogni oggetto creato possiede e che fa riferimento alla classe che lo ha generato ed accedere successivamente all'attributo `ruote`\n",
    "  ``` python\n",
    "  self.__clas__.ruote\n",
    "  ```"
   ]
  },
  {
   "cell_type": "code",
   "execution_count": null,
   "metadata": {
    "cell_id": "efa32c18cd63438cb7233030f43b2e55",
    "deepnote_cell_type": "code"
   },
   "outputs": [],
   "source": [
    "mia_auto = Auto('Opel','GranlandX')\n",
    "mia_auto.visualizza_auto()"
   ]
  },
  {
   "cell_type": "markdown",
   "metadata": {
    "cell_id": "619e8140b4db463299134614a25259a4",
    "deepnote_cell_type": "markdown"
   },
   "source": [
    "Quando invochiamo il metodo non è necessario definire il parametro `self` visto che esso corrisponde all'oggetto che sta invocando il metodo. Possiamo pensare che venga assegnato l'oggetto referenziato dalla variabile `mia_auto` al parametro `self`."
   ]
  },
  {
   "cell_type": "markdown",
   "metadata": {
    "cell_id": "0351f72e91fd401bae901f05846e8688",
    "deepnote_cell_type": "markdown"
   },
   "source": [
    "Questa breve introduzione dovrebbe darti un'idea di base su come definire e utilizzare classi in Python. Con le classi, puoi organizzare il tuo codice in modo più modulare e riutilizzabile, sfruttando i principi della programmazione orientata agli oggetti."
   ]
  },
  {
   "cell_type": "markdown",
   "metadata": {
    "cell_id": "d1c284994b184bf7af55f3702e9d6e06",
    "deepnote_cell_type": "markdown"
   },
   "source": [
    "#### Implementare il crawler in OOP"
   ]
  },
  {
   "cell_type": "markdown",
   "metadata": {
    "cell_id": "87a4c4b6e3c646eeac5fff2bc265b4b5",
    "deepnote_cell_type": "markdown"
   },
   "source": [
    "Utilizzando i concetti appena introdotti circa la programmazione ad oggetti in Python, ora implementeremo un semplice crawler basato sulla visita in ampiezza precedentemente definita. Il crawler è specifico per le API di OpenAlex ma può essere facilmente adattato per altre API."
   ]
  },
  {
   "cell_type": "markdown",
   "metadata": {
    "cell_id": "221d4240c0264b0ca8fa3ece0cdad54e",
    "deepnote_cell_type": "markdown"
   },
   "source": [
    "##### Definire il costruttore del crawler\n",
    "Solitamente nel metodo di inizializzazione di un oggetto vengono definiti degli attributi essenziali per caratterizzare un oggetto. Nel caso del crawler questi attributi sono:\n",
    "- **queue**: la coda che contiene inizialmente il nodo di partenza `seed` (<img src=\"sid.jpeg\" width=\"75\" height=\"auto\">)\n",
    "- **visited**: un `set` - insieme - che contiente i nodi visitati dal crawler. Inizialmente vuoto.\n",
    "- **threshold**: un intero che definisce quanto mi devo espandere dal/i nodo/i iniziale/i, ossia a che distanza dal nodo devo fermare la mia visita\n",
    "- **base_url**: un URL - stringa - che definisce il percorso delle API della piattaforma che fornisce le API. Questo è un **attributo di classe**.\n",
    "\n",
    "I parametri richiesti dal costruttore sono:\n",
    "- una stringa corrispondente all'`ID` del nodo `seed` in OpenAlex - un autore di partenza\n",
    "- il valore di soglia per troncare la visita in ampiezza.\n",
    "\n",
    "Nello specifico `queue` - la coda - è una lista che inizialmente contiene la tupla `(seed,0)`, mentre `visited` è un set che contiene solo il nodo `seed`.\n",
    "\n",
    "Date queste informazioni definiamo classe `OpenAlexSurfer` e il costruttore `__init__`."
   ]
  },
  {
   "cell_type": "code",
   "execution_count": null,
   "metadata": {
    "cell_id": "2be1002cf6224ecf82f21ae6dc685afe",
    "deepnote_cell_type": "code",
    "deepnote_to_be_reexecuted": false,
    "execution_millis": 9,
    "execution_start": 1681317620213,
    "source_hash": null
   },
   "outputs": [],
   "source": [
    "class OpenAlexSurfer():\n",
    "    # TODO"
   ]
  },
  {
   "cell_type": "markdown",
   "metadata": {
    "cell_id": "fde03d93a8af4515aef5716161278661",
    "deepnote_cell_type": "markdown"
   },
   "source": [
    "##### Metodo di supporto per ottenere i collaboratori\n",
    "Introduciamo il primo metodo nella classe `OpenAlexSurfer`: `_get_collaborators`. L'implementazione del metodo è sostanzialmente la stessa della funzione **get_collaborators** che abbiamo implementato in precedenza. Dobbiamo però renderla un metodo di un oggetto e non più una funzione a se stante.\n",
    "\n",
    "Le principali modifiche riguardano:\n",
    "- la creazione dell'url per la richiesta alle API\n",
    "- l'introduzione di una breve pausa in modo da non sovracaricare il server delle API, e.g.\n",
    "  ``` python\n",
    "  time.sleep(0.5)\n",
    "  ```\n",
    "- la gestione di possibili errori di rete o di accesso alle informazioni mancanti, e.g. alcuni campi/chiavi potrebbero non esistere.\n",
    "\n",
    "Per affrontare l'ultimo punto è utile sapere che Python ha un costrutto specifico per la gestione degli errori/eccezioni molto simile a Java:\n",
    "``` python\n",
    "try:\n",
    "    <blocco di codice generante eccezioni>\n",
    "except:\n",
    "    <codice di gestione delle eccezioni>\n",
    "```\n",
    "\n",
    "Il template precedente è la maniera più dozzinale per gestire le eccezioni, ma è sufficiente la precedente struttura per evitare terminazione del codice a causa di eccezioni.\n",
    "\n",
    "Implementiamo il metodo `_get_collaborators` tenendo in considerazione le precedenti indicazioni. Si deve modificare la cella di codice precedente visto che il metodo deve essere inserito nel blocco di codice della classe relativa."
   ]
  },
  {
   "cell_type": "markdown",
   "metadata": {
    "cell_id": "a3b3c68c089541fea2c55dacd1e81b87",
    "deepnote_cell_type": "markdown"
   },
   "source": [
    "##### Implementazione della visita\n",
    "Come ultimo metodo da implementare ci rimane solo la codifica della visita in ampiezza. Il metodo che implementa la visita lo nominiamo `visit`. Sostanzialmente è la traduzione in Python dello pseudo-codice della visita in ampiezza con l'aggiunta del controllo della distanza del nodo prelevato dalla coda dalla sorgente. Se la distanza è maggiore della soglia allora non procedo con l'ispezione del vicinato del nodo.\n",
    "\n",
    "Nella prima versione dell'implementazione il metodo `visit` restituisce una lista di archi rappresentati come tuple `(id_nodo_sorgente, id_nodo_destinazione)`. Poi vedremo che non farci restituire una lista ma **emettere** un arco non appena lo visitiamo.\n",
    "\n",
    "<span style=\"color:red;font-weight:bold;\">Suggerimento</span>: la parte di pseudocodice `vertice.adiacenti` va sostituita con il metodo che restituisce i collaboratori di un nodo-autore."
   ]
  },
  {
   "cell_type": "markdown",
   "metadata": {
    "cell_id": "b511b82c4b7f4afea06e8aec6e4f4c8f",
    "deepnote_cell_type": "markdown"
   },
   "source": [
    "#### Costruzione della rete delle collaborazione mediante il crawler implementato"
   ]
  },
  {
   "cell_type": "markdown",
   "metadata": {
    "cell_id": "0113dea763b34efdb5dd53f870b46086",
    "deepnote_cell_type": "markdown"
   },
   "source": [
    "Una volta definita la classe `OpenAlexSurfer`, ed in generale la classe che implementa il crawler della piattaforma da cui ho la necessità di costruire una rete di relazioni, è sufficiente costruire l'oggetto ed eseguire il metodo `visit`.\n",
    "\n",
    "Eseguire la visita della rete di collaborazioni, utilizzando il nodo `seed_author_id` come seed e un valore di soglia pari a `2`. Una volta terminata la visita, possiamo costruire il grafo utilizzando `networkx`, eliminare i nodi con grado pari a 1 ed esportare la rete ottenuta nel formato GEXF per una visualizzazione migliore."
   ]
  },
  {
   "cell_type": "code",
   "execution_count": null,
   "metadata": {
    "cell_id": "e8a3a6862170426ea3d19bfc0758e2b4",
    "deepnote_cell_type": "code",
    "deepnote_to_be_reexecuted": false,
    "execution_millis": 25186,
    "execution_start": 1681318385806,
    "source_hash": null
   },
   "outputs": [],
   "source": [
    "# TODO"
   ]
  },
  {
   "cell_type": "markdown",
   "metadata": {
    "cell_id": "3ece8badea74427abce104eaf7e04232",
    "deepnote_cell_type": "markdown"
   },
   "source": [
    "### Persistenza dello stato della visita \n",
    "**Importante per il progetto ma opzionale per il laboratorio**"
   ]
  },
  {
   "cell_type": "markdown",
   "metadata": {
    "cell_id": "331a1f1b85ee4d108b33073f0987cc9d",
    "deepnote_cell_type": "markdown"
   },
   "source": [
    "La soluzione implementata non garantisce la persistenza delle informazioni/relazioni ottenute mediante il processo di visita. Banalmente, se durante il processo avviene un errore/evento che determina l'interruzione del codice, tutte le informazioni o parte di esse vengono perse, ed è necessario ripetere la visita dall'inizio (perdita di tempo e risorse). \n",
    "\n",
    "Per ovviare a questo problema, di seguito mostreremo una seconda soluzione che impiega un database relazionale SQL al fine di garantire la persistenza dei dati associati al processo di visita. \n",
    "\n",
    "In Python possiamo utilizzare nativamente `SQLite`, un semplice DB relazionale che è utilizzabile nativamente, senza richiedere ulteriori installazioni o DB terzi. L'interazione con questo DB è supportata dal modulo `sqlite3` - default nella distribuzione Python, non necessita di essere installato.\n",
    "\n",
    "Mediante il modulo possiamo aprire una connessione ad un DB relazionale e utilizzare il linguaggio SQL per creare ed interrogare le tabelle che verranno utilizzate per supportare:\n",
    "- l'insieme dei nodi visitati\n",
    "- la coda dei nodi da esplorare\n",
    "\n",
    "Una rappresentazione grafica del contesto e della soluzione è presentata nella seguente figura."
   ]
  },
  {
   "cell_type": "markdown",
   "metadata": {
    "cell_id": "e3c57ed7459b42f2b650127a8f6463b0",
    "deepnote_cell_type": "markdown"
   },
   "source": [
    "![](persistency.jpg)"
   ]
  },
  {
   "cell_type": "markdown",
   "metadata": {
    "cell_id": "4327ffc46789490ea46239e9ca3d348a",
    "deepnote_cell_type": "markdown"
   },
   "source": [
    "Sfruttando il paradigma OOP, non è necessario conoscere SQL per interagire con gli oggetti che garantiscono la persistenza dei dati, bensi è utile sapere solo i metodi che mettono a disposizione gli oggetti `SQLiteSet` - un insieme implementato mediante una tabella di un DB relazionale - e `SQLiteQueue` - una coda implementata mediante un DB relazionale.\n",
    "\n",
    "Nel secondo caso possiamo utilizzare la classe `persistqueue.SQLiteQueue` rilasciata nella libreria `persistqueue` che dobbiamo installare mediante\n",
    "``` bash\n",
    "pip install persist-queue\n",
    "```\n",
    "mentre per la classe `SQLiteSet` utilizzeremo la seguente implementazione."
   ]
  },
  {
   "cell_type": "code",
   "execution_count": null,
   "metadata": {
    "cell_id": "1cb6029e09d3463fafdceea4a607170b",
    "deepnote_cell_type": "code",
    "deepnote_to_be_reexecuted": false,
    "execution_millis": 136,
    "execution_start": 1682534867844,
    "source_hash": null
   },
   "outputs": [],
   "source": [
    "class SQLiteSet(object):\n",
    "    _TABLE_NAME = 'member'\n",
    "    _SQL_CREATE = (\n",
    "        'CREATE TABLE IF NOT EXISTS {table_name} ('\n",
    "        'element TEXT PRIMARY KEY)'\n",
    "    )\n",
    "    # SQL to insert a record\n",
    "    _SQL_INSERT = 'INSERT INTO {table_name} (element) VALUES (?)'\n",
    "    # SQL to select a record\n",
    "    _SQL_SELECT_ID = (\n",
    "        'SELECT element FROM {table_name} WHERE'\n",
    "        ' element = \"{node_id}\"'\n",
    "    )\n",
    "    _SQL_DELETE = 'DELETE FROM {table_name}'\n",
    "    def __init__(self,path):\n",
    "        self.db_connect = sqlite3.connect(path) \n",
    "        self.db_connect.execute(self._SQL_CREATE.format(table_name = self._TABLE_NAME))\n",
    "\n",
    "    def clear(self):\n",
    "        with self.db_connect:\n",
    "            self.db_connect.execute(self._SQL_DELETE.format(table_name = self._TABLE_NAME))\n",
    "\n",
    "    def add(self, node_id):\n",
    "        with self.db_connect:\n",
    "            try:\n",
    "                self.db_connect.execute(self._SQL_INSERT.format(table_name = self._TABLE_NAME),(node_id,))\n",
    "            except:\n",
    "                return None\n",
    "\n",
    "    def contains(self,node_id):\n",
    "        with self.db_connect:\n",
    "            res = list(self.db_connect.execute(self._SQL_SELECT_ID.format(table_name = self._TABLE_NAME, node_id = node_id)))\n",
    "            return len(res) > 0\n"
   ]
  },
  {
   "cell_type": "markdown",
   "metadata": {
    "cell_id": "706361105ab640ad9c7d30d86e6e7f39",
    "deepnote_cell_type": "markdown"
   },
   "source": [
    "Notiamo che i metodi delle precedenti classi sono molto simili ai metodi di data-type che abbiamo utilizzato nell'implementazione non persistente:\n",
    "- `queue.pop` <--> `SQLiteQueue.get`\n",
    "- `queue.append` <--> `SQLiteQueue.put`\n",
    "- `visited.add` <--> `SQLiteSet.add`\n",
    "\n",
    "Mentre dovremo modificare in modo più evidente l'inizializzazione della classe. \n",
    "\n",
    "Di seguito trovate l'implementazione del crawler per OpenAlex che utilizza strutture dati persistenti. Questa funzionalità ci permette di interrompere il processo di visita e riprenderlo in seguito partendo dallo stato della visita al momento dell'interruzione. "
   ]
  },
  {
   "cell_type": "code",
   "execution_count": null,
   "metadata": {
    "cell_id": "deafaf5899e0450fb6668a3cb17ac50b",
    "deepnote_cell_type": "code",
    "deepnote_to_be_reexecuted": false,
    "execution_millis": 3,
    "execution_start": 1681959296447,
    "source_hash": null
   },
   "outputs": [],
   "source": [
    "class OpenAlexSurferPersistent():\n",
    "\n",
    "    base_url = 'https://api.openalex.org/'\n",
    "    \n",
    "    def __init__(self, seed, threshold = 2, reset=True):\n",
    "        self.queue = persistqueue.SQLiteQueue('.', auto_commit=True, db_file_name='surfer.db')\n",
    "        self.visited = SQLiteSet('surfer.db')\n",
    "        if reset:\n",
    "            self.visited.clear()\n",
    "            self.empty_queue()\n",
    "            self.queue.put((seed,0))\n",
    "        self.threshold = threshold\n",
    "        self.base_url = '\n",
    "\n",
    "    def empty_queue(self):\n",
    "        while not self.queue.empty():\n",
    "            self.queue.get()\n",
    "\n",
    "    def _get_collaborators(self,author_id):\n",
    "        url = self.base_url + f'works?filter=author.id:{author_id}'\n",
    "        api_response = requests.get(url)\n",
    "        time.sleep(0.5)\n",
    "        try:\n",
    "            api_response = api_response.json()\n",
    "            collaborators = set()\n",
    "            for pub in api_response.get('results',[]):\n",
    "                for author in pub['authorships']:\n",
    "                    collaborators.add(author['author']['id'].split('/')[-1])\n",
    "            return collaborators\n",
    "        except:\n",
    "            print(api_response.text)\n",
    "            return []\n",
    "\n",
    "    def visit(self):\n",
    "        while self.queue:\n",
    "            n, l = self.queue.get()\n",
    "            if l + 1 <= self.threshold:\n",
    "                for neigh in self._get_collaborators(n):\n",
    "                    if not self.visited.contains(neigh):\n",
    "                        self.visited.add(neigh)\n",
    "                        self.queue.put((neigh,l+1))\n",
    "                    yield (n,neigh)"
   ]
  },
  {
   "cell_type": "code",
   "execution_count": null,
   "metadata": {
    "cell_id": "ec5c720ce4ab4394a2be512cf3dffec1",
    "deepnote_cell_type": "code",
    "deepnote_to_be_reexecuted": false,
    "execution_millis": 532,
    "execution_start": 1681966093792,
    "source_hash": null
   },
   "outputs": [
    {
     "data": {
      "application/vnd.deepnote.dataframe.v3+json": {
       "column_count": 1,
       "columns": [
        {
         "dtype": "object",
         "name": "element"
        },
        {
         "dtype": "int64",
         "name": "_deepnote_index_column"
        }
       ],
       "row_count": 144132,
       "rows": [
        {
         "_deepnote_index_column": "0",
         "element": "A4353458796"
        },
        {
         "_deepnote_index_column": "1",
         "element": "A4356943237"
        },
        {
         "_deepnote_index_column": "2",
         "element": "A2282660682"
        },
        {
         "_deepnote_index_column": "3",
         "element": "A4354219362"
        },
        {
         "_deepnote_index_column": "4",
         "element": "A4359152682"
        },
        {
         "_deepnote_index_column": "5",
         "element": "A4341543034"
        },
        {
         "_deepnote_index_column": "6",
         "element": "A2968867898"
        },
        {
         "_deepnote_index_column": "7",
         "element": "A2954977071"
        },
        {
         "_deepnote_index_column": "8",
         "element": "A4349253125"
        },
        {
         "_deepnote_index_column": "9",
         "element": "A4355029741"
        }
       ]
      },
      "text/html": [
       "<div>\n",
       "<style scoped>\n",
       "    .dataframe tbody tr th:only-of-type {\n",
       "        vertical-align: middle;\n",
       "    }\n",
       "\n",
       "    .dataframe tbody tr th {\n",
       "        vertical-align: top;\n",
       "    }\n",
       "\n",
       "    .dataframe thead th {\n",
       "        text-align: right;\n",
       "    }\n",
       "</style>\n",
       "<table border=\"1\" class=\"dataframe\">\n",
       "  <thead>\n",
       "    <tr style=\"text-align: right;\">\n",
       "      <th></th>\n",
       "      <th>element</th>\n",
       "    </tr>\n",
       "  </thead>\n",
       "  <tbody>\n",
       "    <tr>\n",
       "      <th>0</th>\n",
       "      <td>A4353458796</td>\n",
       "    </tr>\n",
       "    <tr>\n",
       "      <th>1</th>\n",
       "      <td>A4356943237</td>\n",
       "    </tr>\n",
       "    <tr>\n",
       "      <th>2</th>\n",
       "      <td>A2282660682</td>\n",
       "    </tr>\n",
       "    <tr>\n",
       "      <th>3</th>\n",
       "      <td>A4354219362</td>\n",
       "    </tr>\n",
       "    <tr>\n",
       "      <th>4</th>\n",
       "      <td>A4359152682</td>\n",
       "    </tr>\n",
       "    <tr>\n",
       "      <th>...</th>\n",
       "      <td>...</td>\n",
       "    </tr>\n",
       "    <tr>\n",
       "      <th>144127</th>\n",
       "      <td>A4357400176</td>\n",
       "    </tr>\n",
       "    <tr>\n",
       "      <th>144128</th>\n",
       "      <td>A4344481941</td>\n",
       "    </tr>\n",
       "    <tr>\n",
       "      <th>144129</th>\n",
       "      <td>A2664751679</td>\n",
       "    </tr>\n",
       "    <tr>\n",
       "      <th>144130</th>\n",
       "      <td>A4355570054</td>\n",
       "    </tr>\n",
       "    <tr>\n",
       "      <th>144131</th>\n",
       "      <td>A4357273848</td>\n",
       "    </tr>\n",
       "  </tbody>\n",
       "</table>\n",
       "<p>144132 rows × 1 columns</p>\n",
       "</div>"
      ],
      "text/plain": [
       "            element\n",
       "0       A4353458796\n",
       "1       A4356943237\n",
       "2       A2282660682\n",
       "3       A4354219362\n",
       "4       A4359152682\n",
       "...             ...\n",
       "144127  A4357400176\n",
       "144128  A4344481941\n",
       "144129  A2664751679\n",
       "144130  A4355570054\n",
       "144131  A4357273848\n",
       "\n",
       "[144132 rows x 1 columns]"
      ]
     },
     "execution_count": 8,
     "metadata": {},
     "output_type": "execute_result"
    }
   ],
   "source": [
    "con = sqlite3.connect('surfer.db')\n",
    "df = pd.read_sql_query(\"SELECT * FROM member\", con)\n",
    "df"
   ]
  },
  {
   "cell_type": "code",
   "execution_count": null,
   "metadata": {
    "cell_id": "c89fc8f2f8c44ce2bc1b1efcb7bc4ed6",
    "deepnote_cell_type": "code",
    "deepnote_to_be_reexecuted": false,
    "execution_millis": 101572,
    "execution_start": 1681377513487,
    "source_hash": null
   },
   "outputs": [],
   "source": [
    "surfer = OpenAlexSurferPersistent(seed_author_id)\n",
    "g = nx.Graph()\n",
    "for a,b in surfer.visit():\n",
    "    g.add_edge(a,b)"
   ]
  },
  {
   "cell_type": "code",
   "execution_count": null,
   "metadata": {
    "cell_id": "39200177294c4ba38be2e73f66b7e95c",
    "deepnote_cell_type": "code",
    "deepnote_to_be_reexecuted": false,
    "execution_millis": 10,
    "execution_start": 1681377629556,
    "source_hash": null
   },
   "outputs": [
    {
     "data": {
      "text/plain": [
       "(225, 626)"
      ]
     },
     "execution_count": 58,
     "metadata": {},
     "output_type": "execute_result"
    }
   ],
   "source": [
    "g.order(), g.size()"
   ]
  },
  {
   "cell_type": "markdown",
   "metadata": {
    "created_in_deepnote_cell": true,
    "deepnote_cell_type": "markdown"
   },
   "source": [
    "<a style='text-decoration:none;line-height:16px;display:flex;color:#5B5B62;padding:10px;justify-content:end;' href='https://deepnote.com?utm_source=created-in-deepnote-cell&projectId=d10d146a-731d-4690-9842-1c8eb3a54533' target=\"_blank\">\n",
    "<img alt='Created in deepnote.com' style='display:inline;max-height:16px;margin:0px;margin-right:7.5px;' src='data:image/svg+xml;base64,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' > </img>\n",
    "Created in <span style='font-weight:600;margin-left:4px;'>Deepnote</span></a>"
   ]
  }
 ],
 "metadata": {
  "deepnote_execution_queue": [],
  "deepnote_full_width": true,
  "deepnote_notebook_id": "aa9f4843bc054969a5901e4a42b21931",
  "kernelspec": {
   "display_name": "Python 3 (ipykernel)",
   "language": "python",
   "name": "python3"
  },
  "language_info": {
   "codemirror_mode": {
    "name": "ipython",
    "version": 3
   },
   "file_extension": ".py",
   "mimetype": "text/x-python",
   "name": "python",
   "nbconvert_exporter": "python",
   "pygments_lexer": "ipython3",
   "version": "3.11.5"
  }
 },
 "nbformat": 4,
 "nbformat_minor": 4
}
