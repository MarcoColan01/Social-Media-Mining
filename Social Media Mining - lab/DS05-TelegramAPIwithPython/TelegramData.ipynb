{
 "cells": [
  {
   "cell_type": "code",
   "execution_count": null,
   "metadata": {
    "cell_id": "18a4ffedb0a94ab4975984d8ac91029f",
    "deepnote_cell_type": "code",
    "deepnote_to_be_reexecuted": false,
    "execution_millis": 145,
    "execution_start": 1711090156387,
    "source_hash": null
   },
   "outputs": [],
   "source": [
    "from telethon.sync import TelegramClient as TC\n",
    "from telethon import TelegramClient\n",
    "import json\n",
    "from PIL import Image\n",
    "import os"
   ]
  },
  {
   "cell_type": "markdown",
   "metadata": {
    "cell_id": "88cb0c856a384ddcbfce4af3882f6a1d",
    "deepnote_cell_type": "markdown"
   },
   "source": [
    "## Data gathering da Telegram in Python\n",
    "La piattaforma Telegram rilascia due tipi di API per gli sviluppatori:\n",
    "- **Bot API**: permette di connettere un bot alla piattaforma Telegram. I Bot non richiedono numero di telefono per il setup. La comunicazione avviene tra bot e la piattaforma avviene mediante HTTPs che offre una versione semplificata delle **Telegram API**\n",
    "- **Telegram API**: API per creazione di un client Telegram customizzato. Per questo motivo è stata rilasciata la libreria **Telegram Database Library - TDLib**, che facilita l'implementazione di applicazione Telegram-based. La libreria si occupa della codifica/decodifica dei messaggi e della gestione dello storage locale, facilitando l'interazione con Telegram API.\n",
    "\n",
    "In questa esperienza utilizzeremo Telegram API interfacciandosi mediante la libreria `telethon` in Python. Tale libreria ha come principale obiettivo facilitare la creazione di applicazione che possano interagire con Telegram.\n",
    "\n",
    "#### Installazione\n",
    "``` bash\n",
    "pip install telethon\n",
    "```"
   ]
  },
  {
   "cell_type": "markdown",
   "metadata": {
    "cell_id": "e679fec7e401491c83385fb93022e65a",
    "deepnote_cell_type": "markdown"
   },
   "source": [
    "Per poter interagire con le Telegram API è necessario creare un'applicazione utilizzando API Development tools:\n",
    "- Aprire la [pagina](https://my.telegram.org/) e loggarsi utilizzando il numero di telefono associato al vostro account in Telegram\n",
    "- Selezionare _API Development tools_\n",
    "- Creare una nuova applicazione specificando le informazioni essenziali (non è necessario completare i campi che richiedono un URL)\n",
    "\n",
    "Il processo di creazione dell'applicazione vi restituisce due informazioni essenziali che utilizzeremo in seguito:\n",
    "- **app_api_id**: id dell'applicazione creata\n",
    "- **app_api_hash**: informazione confidenziale che corrisponde al `client secret` in OAuth2.0.\n",
    "\n",
    "[Queste informazioni sono state salvate in un file JSON `telegram_api.json`]"
   ]
  },
  {
   "cell_type": "markdown",
   "metadata": {
    "cell_id": "f993ebe488244aad95c8434803616349",
    "deepnote_cell_type": "markdown"
   },
   "source": [
    "Carichiamo le credenziali ricevute e salvate nel file `telegram_api.json`."
   ]
  },
  {
   "cell_type": "code",
   "execution_count": null,
   "metadata": {
    "cell_id": "de727798f90a49fbb2c0f047621610c4",
    "deepnote_cell_type": "code"
   },
   "outputs": [],
   "source": [
    "credentials = json.load(open('telegram_api.json'))\n",
    "client_id = credentials['app_api_id']\n",
    "client_secret = credentials['app_api_hash']"
   ]
  },
  {
   "cell_type": "code",
   "execution_count": null,
   "metadata": {
    "cell_id": "814833b264b1433380d818d17db10eea",
    "deepnote_cell_type": "code",
    "deepnote_to_be_reexecuted": false,
    "execution_millis": 40,
    "execution_start": 1711090193091,
    "source_hash": null
   },
   "outputs": [],
   "source": [
    "client_id = os.environ[\"APP_API_ID\"]\n",
    "client_secret = os.environ[\"APP_API_HASH\"]"
   ]
  },
  {
   "cell_type": "markdown",
   "metadata": {
    "cell_id": "d01b62123e494946b142fe98a1742fd6",
    "deepnote_cell_type": "markdown"
   },
   "source": [
    "La classe principale per interfacciarsi con Telegram API è `TelegramClient`. Il costruttore richiede tre parametri:\n",
    "- `session`: database file (SQLite) per salvare le informazioni di sessione.\n",
    "- `api id`: identificativo dell'applicazione\n",
    "- 'api hash': secret associato all'applicazione\n",
    "\n",
    "Il primo parametro è importante in quanto consente di memorizzare le informazioni di sessione ed evita il continuo inserimento di codici temporanei di verifica dell'identità.\n",
    "\n",
    "E' importante sottolineare il fatto che **solo una** sessione può essere aperta. In caso di richiesta di apertura di una seconda sessione sullo stesso DB si ottiene un errore. Per evitare questo inconveniente è consigliato definire l'oggetto `TelegramClient` in un context manager in modo che venga automaticamente chiusa la sessione, una volta terminato il blocco di codice contenuto nel context manager.\n",
    "\n",
    "Un secondo elemento, molto importante, da tenere in considerazione è che la libreria utilizza richieste asincrone, quindi dovremmo utilizzare le keyword `async` e `await` per indicare che un metodo/oggetto è asincrono e che devo attendere l'esecuzione di un metodo asincrono - **coroutine**. Per approfondimenti sul tema AsyncIO in Python, clicca [qui](https://realpython.com/async-io-python/).\n",
    "\n",
    "Nella pratica questo si traduce nell'utilizzo di `await` prima di invocare un metodo asincrono, la cui definizione è `async def`."
   ]
  },
  {
   "cell_type": "markdown",
   "metadata": {
    "cell_id": "6e79219b2e724f1f8e6f7883aaa42c0d",
    "deepnote_cell_type": "markdown"
   },
   "source": [
    "Costruiamo un oggetto `TelegramClient`. Se il client non è stato verificato, viene richiesto il numero di telefono associato al vostro account Telegram, sul quale, poi, riceverete un codice di validazione, anch'esso da inserire."
   ]
  },
  {
   "cell_type": "code",
   "execution_count": null,
   "metadata": {
    "cell_id": "ff3305c371594c0bb4da2c2cddbc815d",
    "deepnote_cell_type": "code",
    "deepnote_to_be_reexecuted": false,
    "execution_millis": 3220,
    "execution_start": 1711090204071,
    "source_hash": null
   },
   "outputs": [],
   "source": [
    "client = TelegramClient('anon',client_id, client_secret)"
   ]
  },
  {
   "cell_type": "markdown",
   "metadata": {
    "cell_id": "697850ba25e54b8e8da14e5983f5319b",
    "deepnote_cell_type": "markdown"
   },
   "source": [
    "All'interno di un context manager utilizziamo il metodo asincrono `get_me()` che restituisce un oggetto `User` corrispondente all'account Telegram associato all'applicazione in uso.\n",
    "\n",
    "Lo username dell'account è associato all'attributo `username` dell'oggetto `User`\n",
    "\n",
    "**Memo e suggerimento**: in questo caso definisco un context manager che gestisce un oggetto/metodo asincrono. La sintassi, in questo caso, è:\n",
    "``` python\n",
    "async with <identificatore oggetto>:\n",
    "    <blocco codice>\n",
    "```"
   ]
  },
  {
   "cell_type": "code",
   "execution_count": null,
   "metadata": {
    "cell_id": "f5244364b1504454897088c830f32614",
    "deepnote_cell_type": "code",
    "deepnote_to_be_reexecuted": false,
    "execution_millis": 2224,
    "execution_start": 1711090296847,
    "source_hash": null
   },
   "outputs": [
    {
     "name": "stdout",
     "output_type": "stream",
     "text": [
      "matzigno\n"
     ]
    }
   ],
   "source": [
    "async with client:\n",
    "    print((await client.get_me()).username)"
   ]
  },
  {
   "cell_type": "markdown",
   "metadata": {
    "cell_id": "8cf38cd512f24db9a2119b49955f1ab5",
    "deepnote_cell_type": "markdown"
   },
   "source": [
    "La classe `TelegramClient` rappresenta il principale punto di accesso per interagire con Telegram API mediante l'esecuzione dei metodi mostrati nelle API.\n",
    "\n",
    "Per ottenere un elenco di tutti i metodi possiamo invocare il metodo\n",
    "``` python\n",
    "help(client)\n",
    "```"
   ]
  },
  {
   "cell_type": "code",
   "execution_count": null,
   "metadata": {
    "cell_id": "b028639326d24fc39e947c80e208cc5b",
    "collapsed": true,
    "deepnote_cell_type": "code",
    "jupyter": {
     "outputs_hidden": true
    }
   },
   "outputs": [],
   "source": [
    "help(client)"
   ]
  },
  {
   "cell_type": "markdown",
   "metadata": {
    "cell_id": "d5b363298f2544a28ce5280a0adb3869",
    "deepnote_cell_type": "markdown"
   },
   "source": [
    "Telethon utilizza il concetto di **entity** che si raggruppa un qualsiasi oggetto `User`, `Chat` or `Channel`. \n",
    "\n",
    "Se un metodo richiede un oggetto **entity_like** si deve fornire un elemento che può essere risolto in un'entità -> username, titolo esatto, oggetti User, Chat o Channel, numero di telefono.\n",
    "\n",
    "Per ottenere un ID di un entità si devono utilizzare le stesse modalità per la ricerca dell'ID nell'applicazione mobile o web di Telegram. Una volta che la libreria \"incontra“ per la prima volta un ID, lo salva nel DB - `SessionFiles`.\n",
    "\n",
    "Per effettuare la ricerca di un'entita si utilizza il metodo `get_entity`.\n",
    "\n",
    "Per esempio possiamo ottenere l'entità associata all'invito a partecipare al gruppo Telegram  che utilizzeremo durante questa esperienza - [https://t.me/+FG3x1SOuhJVhZTI0](https://t.me/+FG3x1SOuhJVhZTI0)"
   ]
  },
  {
   "cell_type": "code",
   "execution_count": null,
   "metadata": {
    "cell_id": "e403417c1abb4387a36da6c7f6b02ffe",
    "deepnote_cell_type": "code",
    "deepnote_to_be_reexecuted": false,
    "execution_millis": 1389,
    "execution_start": 1711090345263,
    "source_hash": null
   },
   "outputs": [
    {
     "name": "stdout",
     "output_type": "stream",
     "text": [
      "Channel(\n",
      "\tid=2066577343,\n",
      "\ttitle='Someni Test Group',\n",
      "\tphoto=ChatPhotoEmpty(\n",
      "\t),\n",
      "\tdate=datetime.datetime(2024, 3, 19, 20, 43, 25, tzinfo=datetime.timezone.utc),\n",
      "\tcreator=True,\n",
      "\tleft=False,\n",
      "\tbroadcast=False,\n",
      "\tverified=False,\n",
      "\tmegagroup=True,\n",
      "\trestricted=False,\n",
      "\tsignatures=False,\n",
      "\tmin=False,\n",
      "\tscam=False,\n",
      "\thas_link=False,\n",
      "\thas_geo=False,\n",
      "\tslowmode_enabled=False,\n",
      "\tcall_active=False,\n",
      "\tcall_not_empty=False,\n",
      "\tfake=False,\n",
      "\tgigagroup=False,\n",
      "\tnoforwards=False,\n",
      "\tjoin_to_send=False,\n",
      "\tjoin_request=False,\n",
      "\tforum=False,\n",
      "\tstories_hidden=False,\n",
      "\tstories_hidden_min=False,\n",
      "\tstories_unavailable=True,\n",
      "\taccess_hash=5073239891230037431,\n",
      "\tusername=None,\n",
      "\trestriction_reason=[\n",
      "\t],\n",
      "\tadmin_rights=ChatAdminRights(\n",
      "\t\tchange_info=True,\n",
      "\t\tpost_messages=True,\n",
      "\t\tedit_messages=True,\n",
      "\t\tdelete_messages=True,\n",
      "\t\tban_users=True,\n",
      "\t\tinvite_users=True,\n",
      "\t\tpin_messages=True,\n",
      "\t\tadd_admins=True,\n",
      "\t\tanonymous=False,\n",
      "\t\tmanage_call=True,\n",
      "\t\tother=True,\n",
      "\t\tmanage_topics=True,\n",
      "\t\tpost_stories=True,\n",
      "\t\tedit_stories=True,\n",
      "\t\tdelete_stories=True\n",
      "\t),\n",
      "\tbanned_rights=None,\n",
      "\tdefault_banned_rights=ChatBannedRights(\n",
      "\t\tuntil_date=datetime.datetime(2038, 1, 19, 3, 14, 7, tzinfo=datetime.timezone.utc),\n",
      "\t\tview_messages=False,\n",
      "\t\tsend_messages=False,\n",
      "\t\tsend_media=False,\n",
      "\t\tsend_stickers=False,\n",
      "\t\tsend_gifs=False,\n",
      "\t\tsend_games=False,\n",
      "\t\tsend_inline=False,\n",
      "\t\tembed_links=False,\n",
      "\t\tsend_polls=False,\n",
      "\t\tchange_info=False,\n",
      "\t\tinvite_users=False,\n",
      "\t\tpin_messages=False,\n",
      "\t\tmanage_topics=False,\n",
      "\t\tsend_photos=False,\n",
      "\t\tsend_videos=False,\n",
      "\t\tsend_roundvideos=False,\n",
      "\t\tsend_audios=False,\n",
      "\t\tsend_voices=False,\n",
      "\t\tsend_docs=False,\n",
      "\t\tsend_plain=False\n",
      "\t),\n",
      "\tparticipants_count=None,\n",
      "\tusernames=[\n",
      "\t],\n",
      "\tstories_max_id=None,\n",
      "\tcolor=None,\n",
      "\tprofile_color=None,\n",
      "\temoji_status=None,\n",
      "\tlevel=None\n",
      ")\n"
     ]
    }
   ],
   "source": [
    "async with client:\n",
    "    group_test = await client.get_entity('https://t.me/+FG3x1SOuhJVhZTI0')\n",
    "print(group_test.stringify())"
   ]
  },
  {
   "cell_type": "markdown",
   "metadata": {
    "cell_id": "1528783b58c74c90a719da185102ba44",
    "deepnote_cell_type": "markdown"
   },
   "source": [
    "Abbiamo ottenuto un oggetto Channel utilizzando il link del gruppo di test.\n",
    "\n",
    "Possiamo anche **partecipare ad un gruppo/canale pubblico**, utilizzando un oggetto `JoinChannelRequest` nel modulo `telethon.tl.functions.channels` e fornendo l'entity channel.\n",
    "\n",
    "Per esempio, per iscriversi a`jakidale`, prima verifichiamo che tipo di entity sia: `Chat` o `Channel`, poi chiediamo la partecipazione."
   ]
  },
  {
   "cell_type": "code",
   "execution_count": null,
   "metadata": {
    "cell_id": "f59de16514c84eee87fb32fba90d5758",
    "deepnote_cell_type": "code"
   },
   "outputs": [
    {
     "name": "stdout",
     "output_type": "stream",
     "text": [
      "1038653661\n"
     ]
    }
   ],
   "source": [
    "async with client:\n",
    "    #"
   ]
  },
  {
   "cell_type": "code",
   "execution_count": null,
   "metadata": {
    "cell_id": "d0cc55097b2d45eca30450f92dfd0a1f",
    "deepnote_cell_type": "code"
   },
   "outputs": [],
   "source": [
    "from telethon.tl.functions.channels import JoinChannelRequest"
   ]
  },
  {
   "cell_type": "code",
   "execution_count": null,
   "metadata": {
    "cell_id": "2d4ff76aa4274693986b29d7bfa03a2e",
    "deepnote_cell_type": "code"
   },
   "outputs": [],
   "source": [
    "async with client:\n",
    "    #"
   ]
  },
  {
   "cell_type": "markdown",
   "metadata": {
    "cell_id": "bd92ca25ead14589b60b3edc1f4cb143",
    "deepnote_cell_type": "markdown"
   },
   "source": [
    "Possiamo verificare se ora il canale/gruppo è nella lista delle conversazioni mediante il metodo `get_dialogs`."
   ]
  },
  {
   "cell_type": "code",
   "execution_count": null,
   "metadata": {
    "cell_id": "9b28767e81e644d29a8797a984868c0e",
    "deepnote_cell_type": "code"
   },
   "outputs": [],
   "source": [
    "async with client:\n",
    "    #"
   ]
  },
  {
   "cell_type": "markdown",
   "metadata": {
    "cell_id": "48fb6371346f41709fca692ff624c727",
    "deepnote_cell_type": "markdown"
   },
   "source": [
    "Per ogni conversazioni possiamo farci restituire il titolo (attributo `title`) e l'Id (attributo `id`), se il titolo del dialogo è `Jakidale`"
   ]
  },
  {
   "cell_type": "code",
   "execution_count": null,
   "metadata": {
    "cell_id": "46c9d955d72044bcbd9f7c9ac310bff9",
    "deepnote_cell_type": "code"
   },
   "outputs": [
    {
     "name": "stdout",
     "output_type": "stream",
     "text": [
      "-1001038653661 Jakidale\n"
     ]
    }
   ],
   "source": [
    "#"
   ]
  },
  {
   "cell_type": "markdown",
   "metadata": {
    "cell_id": "1153aebf9b71491395ecfd1f62349ee3",
    "deepnote_cell_type": "markdown"
   },
   "source": [
    "Una volta diventati membri del canale/gruppo possiamo richiedere i messaggi di una chat/canale mediante il metodo [`iter_messages`](https://docs.telethon.dev/en/stable/modules/client.html#telethon.client.messages.MessageMethods.iter_messages). Il metodo restituisce i messaggi dal più recente al meno recente.\n",
    "\n",
    "Se non viene specificato il parametro `limit` si ottiene l'intero lista dei messaggi di una chat."
   ]
  },
  {
   "cell_type": "markdown",
   "metadata": {
    "cell_id": "fb4aa093e6fe4809bf97733bcd6b1073",
    "deepnote_cell_type": "markdown"
   },
   "source": [
    "Ottiamo tutti i messaggi nel gruppo di test."
   ]
  },
  {
   "cell_type": "code",
   "execution_count": null,
   "metadata": {
    "cell_id": "7413d37f7f6741ffa49f2af310d87df6",
    "deepnote_cell_type": "code"
   },
   "outputs": [],
   "source": [
    "async with client:\n",
    "#"
   ]
  },
  {
   "cell_type": "markdown",
   "metadata": {
    "created_in_deepnote_cell": true,
    "deepnote_cell_type": "markdown"
   },
   "source": [
    "<a style='text-decoration:none;line-height:16px;display:flex;color:#5B5B62;padding:10px;justify-content:end;' href='https://deepnote.com?utm_source=created-in-deepnote-cell&projectId=f5fb509f-e59d-42ff-944e-a00f1bbf0efe' target=\"_blank\">\n",
    "<img alt='Created in deepnote.com' style='display:inline;max-height:16px;margin:0px;margin-right:7.5px;' src='data:image/svg+xml;base64,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' > </img>\n",
    "Created in <span style='font-weight:600;margin-left:4px;'>Deepnote</span></a>"
   ]
  }
 ],
 "metadata": {
  "deepnote_execution_queue": [],
  "deepnote_notebook_id": "89f5d66b66fc4a1a95e15fced9fa9a90",
  "kernelspec": {
   "display_name": "Python 3 (ipykernel)",
   "language": "python",
   "name": "python3"
  },
  "language_info": {
   "codemirror_mode": {
    "name": "ipython",
    "version": 3
   },
   "file_extension": ".py",
   "mimetype": "text/x-python",
   "name": "python",
   "nbconvert_exporter": "python",
   "pygments_lexer": "ipython3",
   "version": "3.11.5"
  }
 },
 "nbformat": 4,
 "nbformat_minor": 4
}
