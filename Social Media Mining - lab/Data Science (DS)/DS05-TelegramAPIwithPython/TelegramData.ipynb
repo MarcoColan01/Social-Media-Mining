{
 "cells": [
  {
   "cell_type": "code",
   "execution_count": 7,
   "metadata": {
    "cell_id": "18a4ffedb0a94ab4975984d8ac91029f",
    "deepnote_cell_type": "code",
    "deepnote_to_be_reexecuted": false,
    "execution_millis": 145,
    "execution_start": 1711090156387,
    "source_hash": null
   },
   "outputs": [],
   "source": [
    "from telethon.sync import TelegramClient as TC\n",
    "from telethon import TelegramClient\n",
    "import json\n",
    "from PIL import Image\n",
    "import os\n",
    "from telethon.tl.functions.channels import JoinChannelRequest"
   ]
  },
  {
   "cell_type": "markdown",
   "metadata": {
    "cell_id": "88cb0c856a384ddcbfce4af3882f6a1d",
    "deepnote_cell_type": "markdown"
   },
   "source": [
    "## Data gathering da Telegram in Python\n",
    "La piattaforma Telegram rilascia due tipi di API per gli sviluppatori:\n",
    "- **Bot API**: permette di connettere un bot alla piattaforma Telegram. I Bot non richiedono numero di telefono per il setup. La comunicazione avviene tra bot e la piattaforma avviene mediante HTTPs che offre una versione semplificata delle **Telegram API**\n",
    "- **Telegram API**: API per creazione di un client Telegram customizzato. Per questo motivo è stata rilasciata la libreria **Telegram Database Library - TDLib**, che facilita l'implementazione di applicazione Telegram-based. La libreria si occupa della codifica/decodifica dei messaggi e della gestione dello storage locale, facilitando l'interazione con Telegram API.\n",
    "\n",
    "In questa esperienza utilizzeremo Telegram API interfacciandosi mediante la libreria `telethon` in Python. Tale libreria ha come principale obiettivo facilitare la creazione di applicazione che possano interagire con Telegram.\n",
    "\n",
    "#### Installazione\n",
    "``` bash\n",
    "pip install telethon\n",
    "```"
   ]
  },
  {
   "cell_type": "code",
   "execution_count": 3,
   "metadata": {},
   "outputs": [],
   "source": [
    "#!pip install telethon"
   ]
  },
  {
   "cell_type": "markdown",
   "metadata": {
    "cell_id": "e679fec7e401491c83385fb93022e65a",
    "deepnote_cell_type": "markdown"
   },
   "source": [
    "Per poter interagire con le Telegram API è necessario creare un'applicazione utilizzando API Development tools:\n",
    "- Aprire la [pagina](https://my.telegram.org/) e loggarsi utilizzando il numero di telefono associato al vostro account in Telegram\n",
    "- Selezionare _API Development tools_\n",
    "- Creare una nuova applicazione specificando le informazioni essenziali (non è necessario completare i campi che richiedono un URL)\n",
    "\n",
    "Il processo di creazione dell'applicazione vi restituisce due informazioni essenziali che utilizzeremo in seguito:\n",
    "- **app_api_id**: id dell'applicazione creata\n",
    "- **app_api_hash**: informazione confidenziale che corrisponde al `client secret` in OAuth2.0.\n",
    "\n",
    "[Queste informazioni sono state salvate in un file JSON `telegram_api.json`]"
   ]
  },
  {
   "cell_type": "markdown",
   "metadata": {
    "cell_id": "f993ebe488244aad95c8434803616349",
    "deepnote_cell_type": "markdown"
   },
   "source": [
    "Carichiamo le credenziali ricevute e salvate nel file `telegram_api.json`."
   ]
  },
  {
   "cell_type": "code",
   "execution_count": 8,
   "metadata": {
    "cell_id": "de727798f90a49fbb2c0f047621610c4",
    "deepnote_cell_type": "code"
   },
   "outputs": [
    {
     "data": {
      "text/plain": [
       "('22680329', 'e60092b5e184517c4eee04675fa19429')"
      ]
     },
     "execution_count": 8,
     "metadata": {},
     "output_type": "execute_result"
    }
   ],
   "source": [
    "credentials = json.load(open('telegram_api.json'))\n",
    "client_id = credentials['app_api_id']\n",
    "client_secret = credentials['app_api_hash']\n",
    "client_id, client_secret"
   ]
  },
  {
   "cell_type": "code",
   "execution_count": 8,
   "metadata": {
    "cell_id": "814833b264b1433380d818d17db10eea",
    "deepnote_cell_type": "code",
    "deepnote_to_be_reexecuted": false,
    "execution_millis": 40,
    "execution_start": 1711090193091,
    "source_hash": null
   },
   "outputs": [],
   "source": [
    "#client_id = os.environ[\"app_api_id\"]\n",
    "#client_secret = os.environ[\"APP_API_HASH\"]"
   ]
  },
  {
   "cell_type": "markdown",
   "metadata": {
    "cell_id": "d01b62123e494946b142fe98a1742fd6",
    "deepnote_cell_type": "markdown"
   },
   "source": [
    "La classe principale per interfacciarsi con Telegram API è `TelegramClient`. Il costruttore richiede tre parametri:\n",
    "- `session`: database file (SQLite) per salvare le informazioni di sessione.\n",
    "- `api id`: identificativo dell'applicazione\n",
    "- 'api hash': secret associato all'applicazione\n",
    "\n",
    "Il primo parametro è importante in quanto consente di memorizzare le informazioni di sessione ed evita il continuo inserimento di codici temporanei di verifica dell'identità.\n",
    "\n",
    "E' importante sottolineare il fatto che **solo una** sessione può essere aperta. In caso di richiesta di apertura di una seconda sessione sullo stesso DB si ottiene un errore. Per evitare questo inconveniente è consigliato definire l'oggetto `TelegramClient` in un context manager in modo che venga automaticamente chiusa la sessione, una volta terminato il blocco di codice contenuto nel context manager.\n",
    "\n",
    "Un secondo elemento, molto importante, da tenere in considerazione è che la libreria utilizza richieste asincrone, quindi dovremmo utilizzare le keyword `async` e `await` per indicare che un metodo/oggetto è asincrono e che devo attendere l'esecuzione di un metodo asincrono - **coroutine**. Per approfondimenti sul tema AsyncIO in Python, clicca [qui](https://realpython.com/async-io-python/).\n",
    "\n",
    "Nella pratica questo si traduce nell'utilizzo di `await` prima di invocare un metodo asincrono, la cui definizione è `async def`."
   ]
  },
  {
   "cell_type": "markdown",
   "metadata": {
    "cell_id": "6e79219b2e724f1f8e6f7883aaa42c0d",
    "deepnote_cell_type": "markdown"
   },
   "source": [
    "Costruiamo un oggetto `TelegramClient`. Se il client non è stato verificato, viene richiesto il numero di telefono associato al vostro account Telegram, sul quale, poi, riceverete un codice di validazione, anch'esso da inserire."
   ]
  },
  {
   "cell_type": "code",
   "execution_count": 9,
   "metadata": {
    "cell_id": "ff3305c371594c0bb4da2c2cddbc815d",
    "deepnote_cell_type": "code",
    "deepnote_to_be_reexecuted": false,
    "execution_millis": 3220,
    "execution_start": 1711090204071,
    "source_hash": null
   },
   "outputs": [],
   "source": [
    "client = TelegramClient('anon',client_id, client_secret)\n",
    "#type(client)"
   ]
  },
  {
   "cell_type": "markdown",
   "metadata": {
    "cell_id": "697850ba25e54b8e8da14e5983f5319b",
    "deepnote_cell_type": "markdown"
   },
   "source": [
    "All'interno di un context manager utilizziamo il metodo asincrono `get_me()` che restituisce un oggetto `User` corrispondente all'account Telegram associato all'applicazione in uso.\n",
    "\n",
    "Lo username dell'account è associato all'attributo `username` dell'oggetto `User`\n",
    "\n",
    "**Memo e suggerimento**: in questo caso definisco un context manager che gestisce un oggetto/metodo asincrono. La sintassi, in questo caso, è:\n",
    "``` python\n",
    "async with <identificatore oggetto>:\n",
    "    <blocco codice>\n",
    "```"
   ]
  },
  {
   "cell_type": "code",
   "execution_count": 10,
   "metadata": {
    "cell_id": "f5244364b1504454897088c830f32614",
    "deepnote_cell_type": "code",
    "deepnote_to_be_reexecuted": false,
    "execution_millis": 2224,
    "execution_start": 1711090296847,
    "source_hash": null
   },
   "outputs": [
    {
     "name": "stdout",
     "output_type": "stream",
     "text": [
      "marcocolangelo\n"
     ]
    }
   ],
   "source": [
    "async with client:\n",
    "    print((await client.get_me()).username)"
   ]
  },
  {
   "cell_type": "markdown",
   "metadata": {
    "cell_id": "8cf38cd512f24db9a2119b49955f1ab5",
    "deepnote_cell_type": "markdown"
   },
   "source": [
    "La classe `TelegramClient` rappresenta il principale punto di accesso per interagire con Telegram API mediante l'esecuzione dei metodi mostrati nelle API.\n",
    "\n",
    "Per ottenere un elenco di tutti i metodi possiamo invocare il metodo\n",
    "``` python\n",
    "help(client)\n",
    "```"
   ]
  },
  {
   "cell_type": "code",
   "execution_count": 9,
   "metadata": {
    "cell_id": "b028639326d24fc39e947c80e208cc5b",
    "deepnote_cell_type": "code"
   },
   "outputs": [],
   "source": [
    "#help(client)"
   ]
  },
  {
   "cell_type": "markdown",
   "metadata": {
    "cell_id": "d5b363298f2544a28ce5280a0adb3869",
    "deepnote_cell_type": "markdown"
   },
   "source": [
    "Telethon utilizza il concetto di **entity** che si raggruppa un qualsiasi oggetto `User`, `Chat` or `Channel`. \n",
    "\n",
    "Se un metodo richiede un oggetto **entity_like** si deve fornire un elemento che può essere risolto in un'entità -> username, titolo esatto, oggetti User, Chat o Channel, numero di telefono.\n",
    "\n",
    "Per ottenere un ID di un entità si devono utilizzare le stesse modalità per la ricerca dell'ID nell'applicazione mobile o web di Telegram. Una volta che la libreria \"incontra“ per la prima volta un ID, lo salva nel DB - `SessionFiles`.\n",
    "\n",
    "Per effettuare la ricerca di un'entita si utilizza il metodo `get_entity`.\n",
    "\n",
    "Per esempio possiamo ottenere l'entità associata all'invito a partecipare al gruppo Telegram  che utilizzeremo durante questa esperienza - [https://t.me/+FG3x1SOuhJVhZTI0](https://t.me/+FG3x1SOuhJVhZTI0)"
   ]
  },
  {
   "cell_type": "code",
   "execution_count": 7,
   "metadata": {
    "cell_id": "e403417c1abb4387a36da6c7f6b02ffe",
    "deepnote_cell_type": "code",
    "deepnote_to_be_reexecuted": false,
    "execution_millis": 1389,
    "execution_start": 1711090345263,
    "source_hash": null
   },
   "outputs": [
    {
     "name": "stdout",
     "output_type": "stream",
     "text": [
      "Channel(\n",
      "\tid=2066577343,\n",
      "\ttitle='Someni Test Group',\n",
      "\tphoto=ChatPhotoEmpty(\n",
      "\t),\n",
      "\tdate=datetime.datetime(2024, 3, 22, 11, 8, 58, tzinfo=datetime.timezone.utc),\n",
      "\tcreator=False,\n",
      "\tleft=False,\n",
      "\tbroadcast=False,\n",
      "\tverified=False,\n",
      "\tmegagroup=True,\n",
      "\trestricted=False,\n",
      "\tsignatures=False,\n",
      "\tmin=False,\n",
      "\tscam=False,\n",
      "\thas_link=False,\n",
      "\thas_geo=False,\n",
      "\tslowmode_enabled=False,\n",
      "\tcall_active=False,\n",
      "\tcall_not_empty=False,\n",
      "\tfake=False,\n",
      "\tgigagroup=False,\n",
      "\tnoforwards=False,\n",
      "\tjoin_to_send=False,\n",
      "\tjoin_request=False,\n",
      "\tforum=False,\n",
      "\tstories_hidden=False,\n",
      "\tstories_hidden_min=False,\n",
      "\tstories_unavailable=True,\n",
      "\taccess_hash=1258295784596119940,\n",
      "\tusername=None,\n",
      "\trestriction_reason=[\n",
      "\t],\n",
      "\tadmin_rights=None,\n",
      "\tbanned_rights=None,\n",
      "\tdefault_banned_rights=ChatBannedRights(\n",
      "\t\tuntil_date=datetime.datetime(2038, 1, 19, 3, 14, 7, tzinfo=datetime.timezone.utc),\n",
      "\t\tview_messages=False,\n",
      "\t\tsend_messages=False,\n",
      "\t\tsend_media=False,\n",
      "\t\tsend_stickers=False,\n",
      "\t\tsend_gifs=False,\n",
      "\t\tsend_games=False,\n",
      "\t\tsend_inline=False,\n",
      "\t\tembed_links=False,\n",
      "\t\tsend_polls=False,\n",
      "\t\tchange_info=False,\n",
      "\t\tinvite_users=False,\n",
      "\t\tpin_messages=False,\n",
      "\t\tmanage_topics=False,\n",
      "\t\tsend_photos=False,\n",
      "\t\tsend_videos=False,\n",
      "\t\tsend_roundvideos=False,\n",
      "\t\tsend_audios=False,\n",
      "\t\tsend_voices=False,\n",
      "\t\tsend_docs=False,\n",
      "\t\tsend_plain=False\n",
      "\t),\n",
      "\tparticipants_count=None,\n",
      "\tusernames=[\n",
      "\t],\n",
      "\tstories_max_id=None,\n",
      "\tcolor=None,\n",
      "\tprofile_color=None,\n",
      "\temoji_status=None,\n",
      "\tlevel=None\n",
      ")\n"
     ]
    }
   ],
   "source": [
    "async with client:\n",
    "    group_test = await client.get_entity('https://t.me/+FG3x1SOuhJVhZTI0')\n",
    "print(group_test.stringify())"
   ]
  },
  {
   "cell_type": "code",
   "execution_count": 11,
   "metadata": {},
   "outputs": [
    {
     "ename": "ValueError",
     "evalue": "Could not find the input entity for PeerUser(user_id=1163643200) (PeerUser). Please read https://docs.telethon.dev/en/stable/concepts/entities.html to find out more details.",
     "output_type": "error",
     "traceback": [
      "\u001b[1;31m---------------------------------------------------------------------------\u001b[0m",
      "\u001b[1;31mValueError\u001b[0m                                Traceback (most recent call last)",
      "Cell \u001b[1;32mIn[11], line 3\u001b[0m\n\u001b[0;32m      1\u001b[0m \u001b[38;5;66;03m#proviamo col canale di prodigeek\u001b[39;00m\n\u001b[0;32m      2\u001b[0m \u001b[38;5;28;01masync\u001b[39;00m \u001b[38;5;28;01mwith\u001b[39;00m client:\n\u001b[1;32m----> 3\u001b[0m     prodigeek \u001b[38;5;241m=\u001b[39m \u001b[38;5;28;01mawait\u001b[39;00m client\u001b[38;5;241m.\u001b[39mget_entity(\u001b[38;5;241m1163643200\u001b[39m)\n\u001b[0;32m      4\u001b[0m \u001b[38;5;28mprint\u001b[39m(\u001b[38;5;28mtype\u001b[39m(prodigeek))\n\u001b[0;32m      5\u001b[0m \u001b[38;5;28mprint\u001b[39m(prodigeek\u001b[38;5;241m.\u001b[39mstringify())\n",
      "File \u001b[1;32m~\\Desktop\\PyEnv\\SoMeNi\\Lib\\site-packages\\telethon\\client\\users.py:292\u001b[0m, in \u001b[0;36mUserMethods.get_entity\u001b[1;34m(self, entity)\u001b[0m\n\u001b[0;32m    290\u001b[0m         inputs\u001b[38;5;241m.\u001b[39mappend(x)\n\u001b[0;32m    291\u001b[0m     \u001b[38;5;28;01melse\u001b[39;00m:\n\u001b[1;32m--> 292\u001b[0m         inputs\u001b[38;5;241m.\u001b[39mappend(\u001b[38;5;28;01mawait\u001b[39;00m \u001b[38;5;28mself\u001b[39m\u001b[38;5;241m.\u001b[39mget_input_entity(x))\n\u001b[0;32m    294\u001b[0m lists \u001b[38;5;241m=\u001b[39m {\n\u001b[0;32m    295\u001b[0m     helpers\u001b[38;5;241m.\u001b[39m_EntityType\u001b[38;5;241m.\u001b[39mUSER: [],\n\u001b[0;32m    296\u001b[0m     helpers\u001b[38;5;241m.\u001b[39m_EntityType\u001b[38;5;241m.\u001b[39mCHAT: [],\n\u001b[0;32m    297\u001b[0m     helpers\u001b[38;5;241m.\u001b[39m_EntityType\u001b[38;5;241m.\u001b[39mCHANNEL: [],\n\u001b[0;32m    298\u001b[0m }\n\u001b[0;32m    299\u001b[0m \u001b[38;5;28;01mfor\u001b[39;00m x \u001b[38;5;129;01min\u001b[39;00m inputs:\n",
      "File \u001b[1;32m~\\Desktop\\PyEnv\\SoMeNi\\Lib\\site-packages\\telethon\\client\\users.py:468\u001b[0m, in \u001b[0;36mUserMethods.get_input_entity\u001b[1;34m(self, peer)\u001b[0m\n\u001b[0;32m    465\u001b[0m     \u001b[38;5;28;01mexcept\u001b[39;00m errors\u001b[38;5;241m.\u001b[39mChannelInvalidError:\n\u001b[0;32m    466\u001b[0m         \u001b[38;5;28;01mpass\u001b[39;00m\n\u001b[1;32m--> 468\u001b[0m \u001b[38;5;28;01mraise\u001b[39;00m \u001b[38;5;167;01mValueError\u001b[39;00m(\n\u001b[0;32m    469\u001b[0m     \u001b[38;5;124m'\u001b[39m\u001b[38;5;124mCould not find the input entity for \u001b[39m\u001b[38;5;132;01m{}\u001b[39;00m\u001b[38;5;124m (\u001b[39m\u001b[38;5;132;01m{}\u001b[39;00m\u001b[38;5;124m). Please read https://\u001b[39m\u001b[38;5;124m'\u001b[39m\n\u001b[0;32m    470\u001b[0m     \u001b[38;5;124m'\u001b[39m\u001b[38;5;124mdocs.telethon.dev/en/stable/concepts/entities.html to\u001b[39m\u001b[38;5;124m'\u001b[39m\n\u001b[0;32m    471\u001b[0m     \u001b[38;5;124m'\u001b[39m\u001b[38;5;124m find out more details.\u001b[39m\u001b[38;5;124m'\u001b[39m\n\u001b[0;32m    472\u001b[0m     \u001b[38;5;241m.\u001b[39mformat(peer, \u001b[38;5;28mtype\u001b[39m(peer)\u001b[38;5;241m.\u001b[39m\u001b[38;5;18m__name__\u001b[39m)\n\u001b[0;32m    473\u001b[0m )\n",
      "\u001b[1;31mValueError\u001b[0m: Could not find the input entity for PeerUser(user_id=1163643200) (PeerUser). Please read https://docs.telethon.dev/en/stable/concepts/entities.html to find out more details."
     ]
    }
   ],
   "source": [
    "#proviamo col canale di prodigeek\n",
    "async with client:\n",
    "    prodigeek = await client.get_entity('')\n",
    "print(type(prodigeek))\n",
    "print(prodigeek.stringify())"
   ]
  },
  {
   "cell_type": "markdown",
   "metadata": {
    "cell_id": "1528783b58c74c90a719da185102ba44",
    "deepnote_cell_type": "markdown"
   },
   "source": [
    "Abbiamo ottenuto un oggetto Channel utilizzando il link del gruppo di test.\n",
    "\n",
    "Possiamo anche **partecipare ad un gruppo/canale pubblico**, utilizzando un oggetto `JoinChannelRequest` nel modulo `telethon.tl.functions.channels` e fornendo l'entity channel.\n",
    "\n",
    "Per esempio, per iscriversi a`jakidale`, prima verifichiamo che tipo di entity sia: `Chat` o `Channel`, poi chiediamo la partecipazione."
   ]
  },
  {
   "cell_type": "code",
   "execution_count": 8,
   "metadata": {
    "cell_id": "f59de16514c84eee87fb32fba90d5758",
    "deepnote_cell_type": "code"
   },
   "outputs": [
    {
     "name": "stdout",
     "output_type": "stream",
     "text": [
      "<class 'telethon.tl.types.Channel'>\n"
     ]
    }
   ],
   "source": [
    "async with client:\n",
    "    jakidale = await client.get_entity('@jakidale')\n",
    "print(type(jakidale))"
   ]
  },
  {
   "cell_type": "code",
   "execution_count": 11,
   "metadata": {
    "cell_id": "2d4ff76aa4274693986b29d7bfa03a2e",
    "deepnote_cell_type": "code"
   },
   "outputs": [],
   "source": [
    "async with client:\n",
    "    await client(JoinChannelRequest(jakidale.id))"
   ]
  },
  {
   "cell_type": "markdown",
   "metadata": {
    "cell_id": "bd92ca25ead14589b60b3edc1f4cb143",
    "deepnote_cell_type": "markdown"
   },
   "source": [
    "Possiamo verificare se ora il canale/gruppo è nella lista delle conversazioni mediante il metodo `get_dialogs`."
   ]
  },
  {
   "cell_type": "code",
   "execution_count": 12,
   "metadata": {
    "cell_id": "9b28767e81e644d29a8797a984868c0e",
    "deepnote_cell_type": "code"
   },
   "outputs": [],
   "source": [
    "async with client:\n",
    "    dialogs = await client.get_dialogs()"
   ]
  },
  {
   "cell_type": "markdown",
   "metadata": {
    "cell_id": "48fb6371346f41709fca692ff624c727",
    "deepnote_cell_type": "markdown"
   },
   "source": [
    "Per ogni conversazioni possiamo farci restituire il titolo (attributo `title`) e l'Id (attributo `id`), se il titolo del dialogo è `Jakidale`"
   ]
  },
  {
   "cell_type": "code",
   "execution_count": 13,
   "metadata": {
    "cell_id": "46c9d955d72044bcbd9f7c9ac310bff9",
    "deepnote_cell_type": "code"
   },
   "outputs": [
    {
     "name": "stdout",
     "output_type": "stream",
     "text": [
      "Someni Test Group -1002066577343\n"
     ]
    }
   ],
   "source": [
    "for dialog in dialogs:\n",
    "    if dialog.title == \"Someni Test Group\":\n",
    "        print(dialog.title, dialog.id)"
   ]
  },
  {
   "cell_type": "code",
   "execution_count": 16,
   "metadata": {},
   "outputs": [],
   "source": [
    "test_string='''\n",
    "E grazie grazie grazie grazie grazie grazie tutto voi!\n",
    "Il singolo è ancora il numero uno dei numeri uno grazie a voi\n",
    "Ma vai a....\n",
    "'''\n"
   ]
  },
  {
   "cell_type": "code",
   "execution_count": 17,
   "metadata": {},
   "outputs": [],
   "source": [
    "async with client:\n",
    "    await client.send_message(-1002066577343, test_string)"
   ]
  },
  {
   "cell_type": "code",
   "execution_count": 15,
   "metadata": {},
   "outputs": [],
   "source": []
  },
  {
   "cell_type": "markdown",
   "metadata": {
    "cell_id": "1153aebf9b71491395ecfd1f62349ee3",
    "deepnote_cell_type": "markdown"
   },
   "source": [
    "Una volta diventati membri del canale/gruppo possiamo richiedere i messaggi di una chat/canale mediante il metodo [`iter_messages`](https://docs.telethon.dev/en/stable/modules/client.html#telethon.client.messages.MessageMethods.iter_messages). Il metodo restituisce i messaggi dal più recente al meno recente.\n",
    "\n",
    "Se non viene specificato il parametro `limit` si ottiene l'intero lista dei messaggi di una chat."
   ]
  },
  {
   "cell_type": "markdown",
   "metadata": {
    "cell_id": "fb4aa093e6fe4809bf97733bcd6b1073",
    "deepnote_cell_type": "markdown"
   },
   "source": [
    "Ottiamo tutti i messaggi nel gruppo di test."
   ]
  },
  {
   "cell_type": "code",
   "execution_count": 12,
   "metadata": {
    "cell_id": "7413d37f7f6741ffa49f2af310d87df6",
    "deepnote_cell_type": "code"
   },
   "outputs": [],
   "source": [
    "group_messages = []\n",
    "async with client:\n",
    "    async for message in client.iter_messages(-1002066577343):\n",
    "        group_messages.append(message)"
   ]
  },
  {
   "cell_type": "code",
   "execution_count": 19,
   "metadata": {},
   "outputs": [
    {
     "data": {
      "text/plain": [
       "int"
      ]
     },
     "execution_count": 19,
     "metadata": {},
     "output_type": "execute_result"
    }
   ],
   "source": [
    "type(group_messages[2].id)"
   ]
  },
  {
   "cell_type": "code",
   "execution_count": 14,
   "metadata": {},
   "outputs": [
    {
     "ename": "ValueError",
     "evalue": "Could not find the input entity for PeerChannel(channel_id=1163643200) (PeerChannel). Please read https://docs.telethon.dev/en/stable/concepts/entities.html to find out more details.",
     "output_type": "error",
     "traceback": [
      "\u001b[1;31m---------------------------------------------------------------------------\u001b[0m",
      "\u001b[1;31mValueError\u001b[0m                                Traceback (most recent call last)",
      "Cell \u001b[1;32mIn[14], line 3\u001b[0m\n\u001b[0;32m      1\u001b[0m group_messages_prodigeek \u001b[38;5;241m=\u001b[39m []\n\u001b[0;32m      2\u001b[0m \u001b[38;5;28;01masync\u001b[39;00m \u001b[38;5;28;01mwith\u001b[39;00m client:\n\u001b[1;32m----> 3\u001b[0m     \u001b[38;5;28;01masync\u001b[39;00m \u001b[38;5;28;01mfor\u001b[39;00m message \u001b[38;5;129;01min\u001b[39;00m client\u001b[38;5;241m.\u001b[39miter_messages(\u001b[38;5;241m-\u001b[39m\u001b[38;5;241m1001163643200\u001b[39m, limit \u001b[38;5;241m=\u001b[39m \u001b[38;5;241m6000\u001b[39m):\n\u001b[0;32m      4\u001b[0m         group_messages_prodigeek\u001b[38;5;241m.\u001b[39mappend(message)\n\u001b[0;32m      5\u001b[0m \u001b[38;5;28mlen\u001b[39m(group_messages_prodigeek)\n",
      "File \u001b[1;32m~\\Desktop\\PyEnv\\SoMeNi\\Lib\\site-packages\\telethon\\requestiter.py:58\u001b[0m, in \u001b[0;36mRequestIter.__anext__\u001b[1;34m(self)\u001b[0m\n\u001b[0;32m     56\u001b[0m \u001b[38;5;28;01mif\u001b[39;00m \u001b[38;5;28mself\u001b[39m\u001b[38;5;241m.\u001b[39mbuffer \u001b[38;5;129;01mis\u001b[39;00m \u001b[38;5;28;01mNone\u001b[39;00m:\n\u001b[0;32m     57\u001b[0m     \u001b[38;5;28mself\u001b[39m\u001b[38;5;241m.\u001b[39mbuffer \u001b[38;5;241m=\u001b[39m []\n\u001b[1;32m---> 58\u001b[0m     \u001b[38;5;28;01mif\u001b[39;00m \u001b[38;5;28;01mawait\u001b[39;00m \u001b[38;5;28mself\u001b[39m\u001b[38;5;241m.\u001b[39m_init(\u001b[38;5;241m*\u001b[39m\u001b[38;5;241m*\u001b[39m\u001b[38;5;28mself\u001b[39m\u001b[38;5;241m.\u001b[39mkwargs):\n\u001b[0;32m     59\u001b[0m         \u001b[38;5;28mself\u001b[39m\u001b[38;5;241m.\u001b[39mleft \u001b[38;5;241m=\u001b[39m \u001b[38;5;28mlen\u001b[39m(\u001b[38;5;28mself\u001b[39m\u001b[38;5;241m.\u001b[39mbuffer)\n\u001b[0;32m     61\u001b[0m \u001b[38;5;28;01mif\u001b[39;00m \u001b[38;5;28mself\u001b[39m\u001b[38;5;241m.\u001b[39mleft \u001b[38;5;241m<\u001b[39m\u001b[38;5;241m=\u001b[39m \u001b[38;5;241m0\u001b[39m:  \u001b[38;5;66;03m# <= 0 because subclasses may change it\u001b[39;00m\n",
      "File \u001b[1;32m~\\Desktop\\PyEnv\\SoMeNi\\Lib\\site-packages\\telethon\\client\\messages.py:27\u001b[0m, in \u001b[0;36m_MessagesIter._init\u001b[1;34m(self, entity, offset_id, min_id, max_id, from_user, offset_date, add_offset, filter, search, reply_to, scheduled)\u001b[0m\n\u001b[0;32m     20\u001b[0m \u001b[38;5;28;01masync\u001b[39;00m \u001b[38;5;28;01mdef\u001b[39;00m \u001b[38;5;21m_init\u001b[39m(\n\u001b[0;32m     21\u001b[0m         \u001b[38;5;28mself\u001b[39m, entity, offset_id, min_id, max_id,\n\u001b[0;32m     22\u001b[0m         from_user, offset_date, add_offset, \u001b[38;5;28mfilter\u001b[39m, search, reply_to,\n\u001b[0;32m     23\u001b[0m         scheduled\n\u001b[0;32m     24\u001b[0m ):\n\u001b[0;32m     25\u001b[0m     \u001b[38;5;66;03m# Note that entity being `None` will perform a global search.\u001b[39;00m\n\u001b[0;32m     26\u001b[0m     \u001b[38;5;28;01mif\u001b[39;00m entity:\n\u001b[1;32m---> 27\u001b[0m         \u001b[38;5;28mself\u001b[39m\u001b[38;5;241m.\u001b[39mentity \u001b[38;5;241m=\u001b[39m \u001b[38;5;28;01mawait\u001b[39;00m \u001b[38;5;28mself\u001b[39m\u001b[38;5;241m.\u001b[39mclient\u001b[38;5;241m.\u001b[39mget_input_entity(entity)\n\u001b[0;32m     28\u001b[0m     \u001b[38;5;28;01melse\u001b[39;00m:\n\u001b[0;32m     29\u001b[0m         \u001b[38;5;28mself\u001b[39m\u001b[38;5;241m.\u001b[39mentity \u001b[38;5;241m=\u001b[39m \u001b[38;5;28;01mNone\u001b[39;00m\n",
      "File \u001b[1;32m~\\Desktop\\PyEnv\\SoMeNi\\Lib\\site-packages\\telethon\\client\\users.py:468\u001b[0m, in \u001b[0;36mUserMethods.get_input_entity\u001b[1;34m(self, peer)\u001b[0m\n\u001b[0;32m    465\u001b[0m     \u001b[38;5;28;01mexcept\u001b[39;00m errors\u001b[38;5;241m.\u001b[39mChannelInvalidError:\n\u001b[0;32m    466\u001b[0m         \u001b[38;5;28;01mpass\u001b[39;00m\n\u001b[1;32m--> 468\u001b[0m \u001b[38;5;28;01mraise\u001b[39;00m \u001b[38;5;167;01mValueError\u001b[39;00m(\n\u001b[0;32m    469\u001b[0m     \u001b[38;5;124m'\u001b[39m\u001b[38;5;124mCould not find the input entity for \u001b[39m\u001b[38;5;132;01m{}\u001b[39;00m\u001b[38;5;124m (\u001b[39m\u001b[38;5;132;01m{}\u001b[39;00m\u001b[38;5;124m). Please read https://\u001b[39m\u001b[38;5;124m'\u001b[39m\n\u001b[0;32m    470\u001b[0m     \u001b[38;5;124m'\u001b[39m\u001b[38;5;124mdocs.telethon.dev/en/stable/concepts/entities.html to\u001b[39m\u001b[38;5;124m'\u001b[39m\n\u001b[0;32m    471\u001b[0m     \u001b[38;5;124m'\u001b[39m\u001b[38;5;124m find out more details.\u001b[39m\u001b[38;5;124m'\u001b[39m\n\u001b[0;32m    472\u001b[0m     \u001b[38;5;241m.\u001b[39mformat(peer, \u001b[38;5;28mtype\u001b[39m(peer)\u001b[38;5;241m.\u001b[39m\u001b[38;5;18m__name__\u001b[39m)\n\u001b[0;32m    473\u001b[0m )\n",
      "\u001b[1;31mValueError\u001b[0m: Could not find the input entity for PeerChannel(channel_id=1163643200) (PeerChannel). Please read https://docs.telethon.dev/en/stable/concepts/entities.html to find out more details."
     ]
    }
   ],
   "source": [
    "group_messages_prodigeek = []\n",
    "async with client:\n",
    "    async for message in client.iter_messages(-1001163643200, limit = 6000):\n",
    "        group_messages_prodigeek.append(message)\n",
    "len(group_messages_prodigeek)"
   ]
  },
  {
   "cell_type": "code",
   "execution_count": 20,
   "metadata": {},
   "outputs": [],
   "source": [
    "def get_message_by_id(message,id):\n",
    "    for m in message:\n",
    "        if int(m.id) == id:\n",
    "            return f'testo restituito: {m.text}'\n",
    "    return \"not found\""
   ]
  },
  {
   "cell_type": "code",
   "execution_count": 22,
   "metadata": {},
   "outputs": [
    {
     "data": {
      "text/plain": [
       "'testo restituito: E grazie grazie grazie grazie grazie grazie tutto voi!\\nIl singolo è ancora il numero uno dei numeri uno grazie a voi\\nMa vai a....'"
      ]
     },
     "execution_count": 22,
     "metadata": {},
     "output_type": "execute_result"
    }
   ],
   "source": [
    "get_message_by_id(group_messages, 213)"
   ]
  },
  {
   "cell_type": "markdown",
   "metadata": {
    "created_in_deepnote_cell": true,
    "deepnote_cell_type": "markdown"
   },
   "source": [
    "<a style='text-decoration:none;line-height:16px;display:flex;color:#5B5B62;padding:10px;justify-content:end;' href='https://deepnote.com?utm_source=created-in-deepnote-cell&projectId=f5fb509f-e59d-42ff-944e-a00f1bbf0efe' target=\"_blank\">\n",
    "<img alt='Created in deepnote.com' style='display:inline;max-height:16px;margin:0px;margin-right:7.5px;' src='data:image/svg+xml;base64,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' > </img>\n",
    "Created in <span style='font-weight:600;margin-left:4px;'>Deepnote</span></a>"
   ]
  }
 ],
 "metadata": {
  "deepnote_execution_queue": [],
  "deepnote_notebook_id": "89f5d66b66fc4a1a95e15fced9fa9a90",
  "kernelspec": {
   "display_name": "Python 3 (ipykernel)",
   "language": "python",
   "name": "python3"
  },
  "language_info": {
   "codemirror_mode": {
    "name": "ipython",
    "version": 3
   },
   "file_extension": ".py",
   "mimetype": "text/x-python",
   "name": "python",
   "nbconvert_exporter": "python",
   "pygments_lexer": "ipython3",
   "version": "3.11.5"
  }
 },
 "nbformat": 4,
 "nbformat_minor": 4
}
