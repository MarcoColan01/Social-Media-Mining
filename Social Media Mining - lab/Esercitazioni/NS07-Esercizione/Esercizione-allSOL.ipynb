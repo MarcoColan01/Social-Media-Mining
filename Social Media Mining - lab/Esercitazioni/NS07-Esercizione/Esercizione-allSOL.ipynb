{
 "cells": [
  {
   "cell_type": "code",
   "execution_count": 1,
   "metadata": {
    "cell_id": "5c33ce93d49941228f49bc7145bdacc9",
    "deepnote_cell_type": "code",
    "deepnote_to_be_reexecuted": false,
    "execution_millis": 1202,
    "execution_start": 1715693481071,
    "source_hash": "66003578"
   },
   "outputs": [],
   "source": [
    "import networkx as nx\n",
    "import matplotlib.pyplot as plt\n",
    "import pickle\n",
    "from collections import defaultdict, Counter\n",
    "import numpy as np\n",
    "from statsmodels.distributions.empirical_distribution import ECDF\n",
    "from networkx.algorithms import bipartite"
   ]
  },
  {
   "cell_type": "markdown",
   "metadata": {
    "cell_id": "11580152d78245fc9dfecd8f6474cc39",
    "deepnote_cell_type": "markdown"
   },
   "source": [
    "## FASE 1: COSTRUZIONE\n",
    "* creare un grafo bipartito dalla edge list in ```./data/crime/out.moreno_crime_crime```\n",
    "    __ATTENZIONE!!__ bisogna dividere i nodi people dai nodi crime perchè l'edge (1,1) non è un self loop ma indica che il primo nodo persona è legato al primo nodo crime, serve un mapping dei nodi!\n",
    "* aggiungere ai nodi l'attributo 'name' dal file ```./data/crime/ent.moreno_crime_crime.person.name```\n",
    " aggiungere agli archi l'attributo 'crime-role' dal file ```./data/crime/rel.moreno_crime_crime.person.role```\n",
    "* fare una proiezione sul piano delle persone: esiste un link tra due persone sse sono stati coinvolti in almeno un caso insieme. Mettere come peso il numero di crimini in comune. (potrebbe esistere una soluzione facile da nx)\n",
    "<br>\n"
   ]
  },
  {
   "cell_type": "code",
   "execution_count": 2,
   "metadata": {
    "cell_id": "5e67cdcf4d644523a3fd510cfcb21822",
    "deepnote_cell_type": "code",
    "deepnote_to_be_reexecuted": false,
    "execution_millis": 191,
    "execution_start": 1715693482275,
    "source_hash": "bbf2d3b8"
   },
   "outputs": [
    {
     "data": {
      "text/plain": [
       "['% bip unweighted\\n',\n",
       " '% 1476 829 551\\n',\n",
       " '1 1 \\n',\n",
       " '1 2 \\n',\n",
       " '1 3 \\n',\n",
       " '1 4 \\n',\n",
       " '2 5 \\n',\n",
       " '2 6 \\n',\n",
       " '2 7 \\n',\n",
       " '2 8 \\n']"
      ]
     },
     "execution_count": 2,
     "metadata": {},
     "output_type": "execute_result"
    }
   ],
   "source": [
    "edges = list(open('./crime/out.moreno_crime_crime','r'))\n",
    "edges[:10]"
   ]
  },
  {
   "cell_type": "code",
   "execution_count": 3,
   "metadata": {
    "cell_id": "70a36aac85254848bbf036bcfccd602b",
    "deepnote_cell_type": "code",
    "deepnote_to_be_reexecuted": false,
    "execution_millis": 190,
    "execution_start": 1715693482468,
    "source_hash": "5cbf43b6"
   },
   "outputs": [],
   "source": [
    "edges_plus = []\n",
    "for line in edges[2:]:\n",
    "    lineplus = line.strip().split()\n",
    "    edges_plus.append((int(lineplus[0]), int(lineplus[1])))\n",
    "#[[int(x) for x in line.strip().split()] for line in edges[2:]]"
   ]
  },
  {
   "cell_type": "code",
   "execution_count": 5,
   "metadata": {
    "cell_id": "bda48dee63ac4aa898abb5098290523c",
    "deepnote_cell_type": "code",
    "deepnote_to_be_reexecuted": false,
    "execution_millis": 382,
    "execution_start": 1715693482477,
    "source_hash": "10213c1c"
   },
   "outputs": [],
   "source": [
    "people = set()\n",
    "for x in edges_plus:\n",
    "    people.add(x[0])\n",
    "#set([x[0] for x in edges])\n",
    "crimes = set([x[1] for x in edges_plus])"
   ]
  },
  {
   "cell_type": "code",
   "execution_count": 6,
   "metadata": {
    "cell_id": "545ca60516e14a3a9de8c13b281407d5",
    "deepnote_cell_type": "code",
    "deepnote_to_be_reexecuted": false,
    "execution_millis": 348,
    "execution_start": 1715693482511,
    "source_hash": "487ee8b2"
   },
   "outputs": [
    {
     "name": "stdout",
     "output_type": "stream",
     "text": [
      "829 1 829\n",
      "551 1 551\n"
     ]
    }
   ],
   "source": [
    "print(len(people), min(people), max(people))\n",
    "print(len(crimes),min(crimes), max(crimes))"
   ]
  },
  {
   "cell_type": "code",
   "execution_count": 6,
   "metadata": {
    "cell_id": "9c201a02736e466ca2dcd4bcdd741084",
    "deepnote_cell_type": "code",
    "deepnote_to_be_reexecuted": false,
    "execution_millis": 349,
    "execution_start": 1715693482511,
    "source_hash": "d02f047f"
   },
   "outputs": [],
   "source": [
    "mapped_crimes = [x+829 for x in crimes]\n",
    "mapped_edges = []\n",
    "for person,crime in edges_plus:\n",
    "    edge = (person, crime+829)\n",
    "    mapped_edges.append(edge)\n",
    "#[(person, crime+829) for person,crime in edges]"
   ]
  },
  {
   "cell_type": "code",
   "execution_count": 7,
   "metadata": {
    "cell_id": "0ce43a31614f414bb52f728f9aa93e96",
    "deepnote_cell_type": "code",
    "deepnote_to_be_reexecuted": false,
    "execution_millis": 348,
    "execution_start": 1715693482512,
    "source_hash": "5c6a43ea"
   },
   "outputs": [
    {
     "data": {
      "text/plain": [
       "1476"
      ]
     },
     "execution_count": 7,
     "metadata": {},
     "output_type": "execute_result"
    }
   ],
   "source": [
    "len(mapped_edges)"
   ]
  },
  {
   "cell_type": "code",
   "execution_count": 8,
   "metadata": {
    "cell_id": "250ff6039e4d4f479ef1328f4b772dbb",
    "deepnote_cell_type": "code",
    "deepnote_to_be_reexecuted": false,
    "execution_millis": 330,
    "execution_start": 1715693482530,
    "source_hash": "dcb2cb56"
   },
   "outputs": [],
   "source": [
    "B = nx.Graph()\n",
    "\n",
    "B.add_nodes_from(people, bipartite=0)\n",
    "\n",
    "B.add_nodes_from(mapped_crimes, bipartite=1)\n",
    "\n",
    "B.add_edges_from(mapped_edges)\n",
    "\n"
   ]
  },
  {
   "cell_type": "code",
   "execution_count": 9,
   "metadata": {
    "cell_id": "74ea6f78ef08429297fe41b20b1ee9dc",
    "deepnote_cell_type": "code",
    "deepnote_to_be_reexecuted": false,
    "execution_millis": 331,
    "execution_start": 1715693482530,
    "source_hash": "8bef22ab"
   },
   "outputs": [
    {
     "name": "stdout",
     "output_type": "stream",
     "text": [
      "Graph with 1380 nodes and 1476 edges\n"
     ]
    }
   ],
   "source": [
    "print(B)"
   ]
  },
  {
   "cell_type": "code",
   "execution_count": 10,
   "metadata": {
    "cell_id": "a0c0185523214f6b879e0e6e977d0010",
    "deepnote_cell_type": "code",
    "deepnote_to_be_reexecuted": false,
    "execution_millis": 322,
    "execution_start": 1715693482539,
    "source_hash": "807742bf"
   },
   "outputs": [],
   "source": [
    "name = list(open('./crime/ent.moreno_crime_crime.person.name','r'))\n"
   ]
  },
  {
   "cell_type": "code",
   "execution_count": 11,
   "metadata": {
    "cell_id": "58ec5babb73142ccaf471ff25b5a7a66",
    "deepnote_cell_type": "code",
    "deepnote_to_be_reexecuted": false,
    "execution_millis": 332,
    "execution_start": 1715693482695,
    "source_hash": "dabf6682"
   },
   "outputs": [
    {
     "data": {
      "text/plain": [
       "829"
      ]
     },
     "execution_count": 11,
     "metadata": {},
     "output_type": "execute_result"
    }
   ],
   "source": [
    "len(name)"
   ]
  },
  {
   "cell_type": "code",
   "execution_count": 12,
   "metadata": {
    "cell_id": "41136305b4eb4eefbbb4a58b0300ba5a",
    "deepnote_cell_type": "code",
    "deepnote_to_be_reexecuted": false,
    "execution_millis": 305,
    "execution_start": 1715693482723,
    "source_hash": "1b28edf7"
   },
   "outputs": [],
   "source": [
    "name_dictionary = {}\n",
    "for i,line in enumerate(name):\n",
    "    name_dictionary[i+1] = line.strip() \n",
    "    \n",
    "#{i+1:line.strip() for i,line in enumerate(name)}"
   ]
  },
  {
   "cell_type": "code",
   "execution_count": 13,
   "metadata": {
    "cell_id": "fa510822015e4838be7c735d64c26eeb",
    "deepnote_cell_type": "code",
    "deepnote_to_be_reexecuted": false,
    "execution_millis": 305,
    "execution_start": 1715693482723,
    "source_hash": "968bbfda"
   },
   "outputs": [],
   "source": [
    "nx.set_node_attributes(B, name_dictionary,'name')"
   ]
  },
  {
   "cell_type": "code",
   "execution_count": 14,
   "metadata": {
    "cell_id": "abaa11eee6e64e5385d7e89d7dafd6f6",
    "deepnote_cell_type": "code",
    "deepnote_to_be_reexecuted": false,
    "execution_millis": 305,
    "execution_start": 1715693482724,
    "source_hash": "d81909b4"
   },
   "outputs": [],
   "source": [
    "role = list(open('./crime/rel.moreno_crime_crime.person.role','r'))"
   ]
  },
  {
   "cell_type": "code",
   "execution_count": 15,
   "metadata": {
    "cell_id": "5302114c9c6e4862bd1ff3492980e2e0",
    "deepnote_cell_type": "code",
    "deepnote_to_be_reexecuted": false,
    "execution_millis": 172,
    "execution_start": 1715693482857,
    "source_hash": "9be2e405"
   },
   "outputs": [
    {
     "data": {
      "text/plain": [
       "['Suspect\\n',\n",
       " 'Victim\\n',\n",
       " 'Victim\\n',\n",
       " 'Suspect\\n',\n",
       " 'Victim\\n',\n",
       " 'Suspect\\n',\n",
       " 'Victim\\n',\n",
       " 'Suspect\\n',\n",
       " 'Suspect\\n',\n",
       " 'Suspect\\n']"
      ]
     },
     "execution_count": 15,
     "metadata": {},
     "output_type": "execute_result"
    }
   ],
   "source": [
    "role[:10]"
   ]
  },
  {
   "cell_type": "code",
   "execution_count": 16,
   "metadata": {
    "cell_id": "a4d0f795fdb941e9bfa973df9adadad2",
    "deepnote_cell_type": "code",
    "deepnote_to_be_reexecuted": false,
    "execution_millis": 173,
    "execution_start": 1715693482857,
    "source_hash": "edc00f16"
   },
   "outputs": [],
   "source": [
    "role_dictionary = {}\n",
    "for i,line in enumerate(role):\n",
    "    role_dictionary[mapped_edges[i]] = line.strip()\n",
    "#{mapped_edges[i]:line.strip() for i,line in enumerate(role)}"
   ]
  },
  {
   "cell_type": "code",
   "execution_count": 17,
   "metadata": {
    "cell_id": "ac19ccacde664e2ab97f71541549c9b0",
    "deepnote_cell_type": "code",
    "deepnote_to_be_reexecuted": false,
    "execution_millis": 172,
    "execution_start": 1715693482858,
    "source_hash": "f5fa252"
   },
   "outputs": [],
   "source": [
    "nx.set_edge_attributes(B, role_dictionary,'crime-role')"
   ]
  },
  {
   "cell_type": "markdown",
   "metadata": {
    "cell_id": "03ee49093b014b64b7a355c6e0d4f03c",
    "deepnote_cell_type": "markdown"
   },
   "source": [
    "\n",
    "## FASE 2: ANALISI BIPARTITO\n",
    "* Quante persone includono i crimini in media?\n",
    "* In quanti crimini sono incluse le persone in media?\n",
    "* In quanti crimini sono incluse le persone in media essendo witness?\n",
    "* In media, quanti ruoli hanno le persone?\n",
    "* Quanto spesso le persone hanno un ruolo solo? ( oppure, più difficile, il ruolo ricoperto più spesso dalle singole persone che percentule copre?) \n",
    "\n"
   ]
  },
  {
   "cell_type": "code",
   "execution_count": 18,
   "metadata": {
    "cell_id": "34cd2669590c40e4ba51461bc742cfc9",
    "deepnote_cell_type": "code",
    "deepnote_to_be_reexecuted": false,
    "execution_millis": 400,
    "execution_start": 1715693482870,
    "source_hash": "7e97d242"
   },
   "outputs": [
    {
     "data": {
      "text/plain": [
       "1.8330308529945554"
      ]
     },
     "execution_count": 18,
     "metadata": {},
     "output_type": "execute_result"
    }
   ],
   "source": [
    "crimes_degree = dict(nx.degree(B, crimes))\n",
    "np.mean(list(crimes_degree.values()))"
   ]
  },
  {
   "cell_type": "code",
   "execution_count": 19,
   "metadata": {
    "cell_id": "f085da2bee934b54b7315ed121b08edd",
    "deepnote_cell_type": "code",
    "deepnote_to_be_reexecuted": false,
    "execution_millis": 367,
    "execution_start": 1715693482903,
    "source_hash": "4c4a1755"
   },
   "outputs": [
    {
     "data": {
      "text/plain": [
       "1.7804583835946923"
      ]
     },
     "execution_count": 19,
     "metadata": {},
     "output_type": "execute_result"
    }
   ],
   "source": [
    "people_degree = dict(nx.degree(B, people))\n",
    "np.mean(list(people_degree.values()))"
   ]
  },
  {
   "cell_type": "code",
   "execution_count": 20,
   "metadata": {
    "cell_id": "1b002b437cd84f099342585dc4beb1c9",
    "deepnote_cell_type": "code",
    "deepnote_to_be_reexecuted": false,
    "execution_millis": 367,
    "execution_start": 1715693482904,
    "source_hash": "d1d89748"
   },
   "outputs": [
    {
     "data": {
      "text/plain": [
       "1.0317460317460319"
      ]
     },
     "execution_count": 20,
     "metadata": {},
     "output_type": "execute_result"
    }
   ],
   "source": [
    "witness_degree = defaultdict(int)\n",
    "for u,v,data in B.edges(data = True):\n",
    "    role = data['crime-role']\n",
    "    if role == 'Witness': witness_degree[u] += 1\n",
    "np.mean(list(witness_degree.values()))"
   ]
  },
  {
   "cell_type": "code",
   "execution_count": 21,
   "metadata": {
    "cell_id": "7628678fff6a491799ccb87a404c1065",
    "deepnote_cell_type": "code",
    "deepnote_to_be_reexecuted": false,
    "execution_millis": 367,
    "execution_start": 1715693482904,
    "source_hash": "fe5212cc"
   },
   "outputs": [],
   "source": [
    "roles_for_nodes = defaultdict(list)\n",
    "for person, crime, info in B.edges(data = True):\n",
    "    role = info['crime-role']\n",
    "    roles_for_nodes[person].append(role)"
   ]
  },
  {
   "cell_type": "code",
   "execution_count": 22,
   "metadata": {
    "cell_id": "97c75e3833874494bdc3f9e0a4aa0b71",
    "deepnote_cell_type": "code",
    "deepnote_to_be_reexecuted": false,
    "execution_millis": 367,
    "execution_start": 1715693482905,
    "source_hash": "9c2d3598"
   },
   "outputs": [
    {
     "data": {
      "text/plain": [
       "1.218335343787696"
      ]
     },
     "execution_count": 22,
     "metadata": {},
     "output_type": "execute_result"
    }
   ],
   "source": [
    "howmanyroles = []\n",
    "for person, roles in roles_for_nodes.items():\n",
    "    howmanyroles.append(len(set(roles))) \n",
    "np.mean(howmanyroles)"
   ]
  },
  {
   "cell_type": "code",
   "execution_count": 23,
   "metadata": {
    "cell_id": "2ecd8244325a478798c4280f962943b3",
    "deepnote_cell_type": "code",
    "deepnote_to_be_reexecuted": false,
    "execution_millis": 356,
    "execution_start": 1715693482916,
    "source_hash": "d7ead7a6"
   },
   "outputs": [
    {
     "data": {
      "text/plain": [
       "682"
      ]
     },
     "execution_count": 23,
     "metadata": {},
     "output_type": "execute_result"
    }
   ],
   "source": [
    "Counter(howmanyroles)[1]"
   ]
  },
  {
   "cell_type": "code",
   "execution_count": 24,
   "metadata": {
    "cell_id": "c7e4a85f6f424328ad0e0cc48654c226",
    "deepnote_cell_type": "code",
    "deepnote_to_be_reexecuted": false,
    "execution_millis": 347,
    "execution_start": 1715693482925,
    "source_hash": "e5a0b890"
   },
   "outputs": [],
   "source": [
    "roles_for_nodes_majority = {}\n",
    "roles_for_nodes_percmajority = {}\n",
    "for node, roles in roles_for_nodes.items():\n",
    "    nroles = B.degree(node) \n",
    "    #if nroles>1:\n",
    "    c = Counter(roles)\n",
    "    max_role = c.most_common(1)[0]\n",
    "    roles_for_nodes_majority[node] = max_role[0]\n",
    "    roles_for_nodes_percmajority[node] = round(max_role[1]/nroles, 1)"
   ]
  },
  {
   "cell_type": "code",
   "execution_count": 25,
   "metadata": {
    "cell_id": "f53cf182168b430fa8b5f158b6c1a6af",
    "deepnote_cell_type": "code",
    "deepnote_to_be_reexecuted": false,
    "execution_millis": 332,
    "execution_start": 1715693482941,
    "source_hash": "5093d73"
   },
   "outputs": [
    {
     "data": {
      "image/png": "[encoded data removed]",
      "text/plain": [
       "<Figure size 1000x400 with 1 Axes>"
      ]
     },
     "metadata": {
      "image/png": {
       "height": 371,
       "width": 841
      }
     },
     "output_type": "display_data"
    }
   ],
   "source": [
    "plt.figure(figsize = (10,4))\n",
    "counter_roles_maj = dict(Counter([v for n,v in roles_for_nodes_percmajority.items() if B.degree(n)>1 ]))\n",
    "for i in range(1,11):\n",
    "    if i/10 in counter_roles_maj.keys():\n",
    "        plt.bar(i, counter_roles_maj[i/10], color = 'navy')\n",
    "        \n",
    "plt.xticks([i for i in range(1,11) if i/10 in counter_roles_maj.keys()],\n",
    "           [i/10 for i in range(1,11) if i/10 in counter_roles_maj.keys()])\n",
    "plt.xlabel('percentuale del majority role')\n",
    "plt.ylabel('Numero persone')\n",
    "plt.show()"
   ]
  },
  {
   "cell_type": "markdown",
   "metadata": {
    "cell_id": "1452ef696ce14343a5cd1e4cebeed47f",
    "deepnote_cell_type": "markdown"
   },
   "source": [
    "## FASE 3: ANALISI PROJECTED\n",
    "\n",
    "* qual è la densità del grafo?\n",
    "* il grafo è connesso?\n",
    "* assegnando come ruole ad ogni nodo quello che assume più frequentemente, che ruole hanna maggiormente i 100 top nodi per degree centrality?\n"
   ]
  },
  {
   "cell_type": "code",
   "execution_count": 26,
   "metadata": {
    "cell_id": "489c8615e46346bab9ffe90fd199a5d5",
    "deepnote_cell_type": "code",
    "deepnote_to_be_reexecuted": false,
    "execution_millis": 270,
    "execution_start": 1715693483245,
    "source_hash": "31795727"
   },
   "outputs": [],
   "source": [
    "Bproj = bipartite.weighted_projected_graph(B, people)"
   ]
  },
  {
   "cell_type": "code",
   "execution_count": 27,
   "metadata": {
    "cell_id": "ec645e285e3341d4ac14399c9a679319",
    "deepnote_cell_type": "code",
    "deepnote_to_be_reexecuted": false,
    "execution_millis": 270,
    "execution_start": 1715693483246,
    "source_hash": "93854374"
   },
   "outputs": [],
   "source": [
    "nx.set_node_attributes(Bproj, {n:roles_for_nodes_majority[n] for n in Bproj}, 'role')"
   ]
  },
  {
   "cell_type": "code",
   "execution_count": 28,
   "metadata": {
    "cell_id": "c768b6e61de24de89abbe00604970b11",
    "deepnote_cell_type": "code",
    "deepnote_to_be_reexecuted": false,
    "execution_millis": 270,
    "execution_start": 1715693483246,
    "source_hash": "dc1892bd"
   },
   "outputs": [],
   "source": [
    "#Bproj.nodes(data = True)"
   ]
  },
  {
   "cell_type": "code",
   "execution_count": 29,
   "metadata": {
    "cell_id": "550666e326b9424b81e795873aff8a9f",
    "deepnote_cell_type": "code",
    "deepnote_to_be_reexecuted": false,
    "execution_millis": 402,
    "execution_start": 1715693483247,
    "source_hash": "5b1d955a"
   },
   "outputs": [],
   "source": [
    "nx.write_gexf(Bproj, 'projected_users_roles.gexf')"
   ]
  },
  {
   "cell_type": "code",
   "execution_count": 30,
   "metadata": {
    "cell_id": "4ad66877cd8742d6a300372b2aa8edf9",
    "deepnote_cell_type": "code",
    "deepnote_to_be_reexecuted": false,
    "execution_millis": 222,
    "execution_start": 1715693483651,
    "source_hash": "9b71b5ad"
   },
   "outputs": [
    {
     "name": "stdout",
     "output_type": "stream",
     "text": [
      "Graph with 829 nodes and 2253 edges\n"
     ]
    }
   ],
   "source": [
    "print(Bproj)"
   ]
  },
  {
   "cell_type": "code",
   "execution_count": 31,
   "metadata": {
    "cell_id": "1d5af3606db34299a7fffebedeb5a125",
    "deepnote_cell_type": "code",
    "deepnote_to_be_reexecuted": false,
    "execution_millis": 457,
    "execution_start": 1715693483667,
    "source_hash": "3ba39dc9"
   },
   "outputs": [
    {
     "data": {
      "text/plain": [
       "0.0065645705494659186"
      ]
     },
     "execution_count": 31,
     "metadata": {},
     "output_type": "execute_result"
    }
   ],
   "source": [
    "nx.density(Bproj)"
   ]
  },
  {
   "cell_type": "code",
   "execution_count": 32,
   "metadata": {
    "cell_id": "b5474e74c42c454fa568716f7877b443",
    "deepnote_cell_type": "code",
    "deepnote_to_be_reexecuted": false,
    "execution_millis": 456,
    "execution_start": 1715693483669,
    "source_hash": "e95da34d"
   },
   "outputs": [
    {
     "data": {
      "text/plain": [
       "False"
      ]
     },
     "execution_count": 32,
     "metadata": {},
     "output_type": "execute_result"
    }
   ],
   "source": [
    "nx.is_connected(Bproj)"
   ]
  },
  {
   "cell_type": "code",
   "execution_count": 33,
   "metadata": {
    "cell_id": "861e90bfeead4cb58ca51c50b6e9aea4",
    "deepnote_cell_type": "code",
    "deepnote_to_be_reexecuted": false,
    "execution_millis": 454,
    "execution_start": 1715693483671,
    "source_hash": "8bb37ca3"
   },
   "outputs": [
    {
     "data": {
      "text/plain": [
       "20"
      ]
     },
     "execution_count": 33,
     "metadata": {},
     "output_type": "execute_result"
    }
   ],
   "source": [
    "len(list(nx.connected_components(Bproj)))"
   ]
  },
  {
   "cell_type": "code",
   "execution_count": 34,
   "metadata": {
    "cell_id": "916590d8d06f493eabd0e4f5c0ff6f64",
    "deepnote_cell_type": "code",
    "deepnote_to_be_reexecuted": false,
    "execution_millis": 445,
    "execution_start": 1715693483680,
    "source_hash": "7a6ac9b7"
   },
   "outputs": [],
   "source": [
    "#d = [(n,c) for n,c in nx.degree_centrality(Bproj).items()]\n",
    "d = []\n",
    "for n,c in nx.degree_centrality(Bproj).items():\n",
    "    d.append((n,c))\n",
    "max_degree = sorted(d, key = lambda x:x[1], reverse = True)[:100]"
   ]
  },
  {
   "cell_type": "code",
   "execution_count": 35,
   "metadata": {
    "cell_id": "80951f6ce1234e2e96f3438cb79cfc7a",
    "deepnote_cell_type": "code",
    "deepnote_to_be_reexecuted": false,
    "execution_millis": 425,
    "execution_start": 1715693483701,
    "source_hash": "ec5a8dc"
   },
   "outputs": [
    {
     "data": {
      "text/plain": [
       "Counter({'Suspect': 50, 'Victim': 41, 'Witness': 9})"
      ]
     },
     "execution_count": 35,
     "metadata": {},
     "output_type": "execute_result"
    }
   ],
   "source": [
    "roles_top100 = []\n",
    "for n,c in max_degree:\n",
    "    roles_top100.append(roles_for_nodes_majority[n])\n",
    "Counter(roles_top100)"
   ]
  },
  {
   "cell_type": "code",
   "execution_count": 36,
   "metadata": {
    "cell_id": "85d3b3e64c0b4be0ad6990eb673afe56",
    "deepnote_cell_type": "code",
    "deepnote_to_be_reexecuted": false,
    "execution_millis": 425,
    "execution_start": 1715693483701,
    "source_hash": "7cea032f"
   },
   "outputs": [
    {
     "data": {
      "text/plain": [
       "Counter({'Suspect': 50, 'Victim': 41, 'Witness': 9})"
      ]
     },
     "execution_count": 36,
     "metadata": {},
     "output_type": "execute_result"
    }
   ],
   "source": [
    "Counter([roles_for_nodes_majority[n] for n,c in max_degree])"
   ]
  },
  {
   "cell_type": "markdown",
   "metadata": {
    "cell_id": "1d98a2e1ef4b46c5bcd51b6e50ee5f35",
    "deepnote_cell_type": "markdown"
   },
   "source": [
    "## FASE 4: ASSORTATIVITY\n",
    "* (sul grafo proiettato) i nodi con lo stesso 'role' tendono a connettersi di più tra di loro? POCHISSIMO\n",
    "* (sul grafo proiettato) i nodi con alto degree tendono a connettersi con nodi ad alto degree? POCHISSIMO"
   ]
  },
  {
   "cell_type": "code",
   "execution_count": 37,
   "metadata": {
    "cell_id": "5c976e9fc77940dd8901cdb0598709ff",
    "deepnote_cell_type": "code",
    "deepnote_to_be_reexecuted": false,
    "execution_millis": 408,
    "execution_start": 1715693483719,
    "source_hash": "994415db"
   },
   "outputs": [
    {
     "data": {
      "text/plain": [
       "0.18638009648071435"
      ]
     },
     "execution_count": 37,
     "metadata": {},
     "output_type": "execute_result"
    }
   ],
   "source": [
    "nx.attribute_assortativity_coefficient(Bproj, 'role')"
   ]
  },
  {
   "cell_type": "code",
   "execution_count": 38,
   "metadata": {
    "cell_id": "95c8d07d8c8a455cb36cd263276dfa75",
    "deepnote_cell_type": "code",
    "deepnote_to_be_reexecuted": false,
    "execution_millis": 395,
    "execution_start": 1715693483732,
    "source_hash": "147c5000"
   },
   "outputs": [
    {
     "data": {
      "text/plain": [
       "0.14880029587966767"
      ]
     },
     "execution_count": 38,
     "metadata": {},
     "output_type": "execute_result"
    }
   ],
   "source": [
    "nx.degree_assortativity_coefficient(Bproj)"
   ]
  },
  {
   "cell_type": "markdown",
   "metadata": {
    "cell_id": "b7aea9539aa94a0fb74203517c508cdf",
    "deepnote_cell_type": "markdown"
   },
   "source": [
    "## FASE 5: COMMUNITY\n",
    "* trova le community con l'algoritmo di Louvain\n",
    "* crea un plot che mostra la distribuzione dei nodi nelle community\n",
    "* Calcola coverage e performance della partizione trovata\n",
    "* assegna l'attributo \"community\" al grafo e salvalo in .gexf\n"
   ]
  },
  {
   "cell_type": "code",
   "execution_count": 39,
   "metadata": {
    "cell_id": "e771241c4c7949a49dfcdeb7080eea32",
    "deepnote_cell_type": "code",
    "deepnote_to_be_reexecuted": false,
    "execution_millis": 395,
    "execution_start": 1715693483732,
    "source_hash": "8b52fb72"
   },
   "outputs": [],
   "source": [
    "#! pip install python_louvain"
   ]
  },
  {
   "cell_type": "code",
   "execution_count": 40,
   "metadata": {
    "cell_id": "247e306b298748e4b0a16bd95667b041",
    "deepnote_cell_type": "code",
    "deepnote_to_be_reexecuted": false,
    "execution_millis": 332,
    "execution_start": 1715693483796,
    "source_hash": "6b94ae55"
   },
   "outputs": [],
   "source": [
    "from community import community_louvain"
   ]
  },
  {
   "cell_type": "code",
   "execution_count": 41,
   "metadata": {
    "cell_id": "795e929ffb8f40e59ea019f304bd6c60",
    "deepnote_cell_type": "code",
    "deepnote_to_be_reexecuted": false,
    "execution_millis": 320,
    "execution_start": 1715693483808,
    "source_hash": "2642fa49"
   },
   "outputs": [],
   "source": [
    "partition_louvain = community_louvain.best_partition(Bproj)"
   ]
  },
  {
   "cell_type": "code",
   "execution_count": 42,
   "metadata": {
    "cell_id": "439467ea248d42da9efbb0a77eb5f9aa",
    "deepnote_cell_type": "code",
    "deepnote_to_be_reexecuted": false,
    "execution_millis": 460,
    "execution_start": 1715693483911,
    "source_hash": "88e42e24"
   },
   "outputs": [],
   "source": [
    "comms = defaultdict(set)\n",
    "for n,c in partition_louvain.items():\n",
    "    comms[c].add(n)"
   ]
  },
  {
   "cell_type": "code",
   "execution_count": 43,
   "metadata": {
    "cell_id": "e7bf134948074c178b1b5b61b6e1391d",
    "deepnote_cell_type": "code",
    "deepnote_to_be_reexecuted": false,
    "execution_millis": 461,
    "execution_start": 1715693483911,
    "source_hash": "59c7ac48"
   },
   "outputs": [],
   "source": [
    "comm_len = []\n",
    "for c,nodes in comms.items():\n",
    "    comm_len.append((c, len(nodes)))\n",
    "#comm_len = [(c, len(nodes)) for c,nodes in comms.items()]\n",
    "comm_len.sort(key = lambda x: x[1],reverse = True)"
   ]
  },
  {
   "cell_type": "code",
   "execution_count": 44,
   "metadata": {
    "cell_id": "e46391a33247421fa9bc1c798b5fcfde",
    "deepnote_cell_type": "code",
    "deepnote_to_be_reexecuted": false,
    "execution_millis": 451,
    "execution_start": 1715693483921,
    "source_hash": "866cd257"
   },
   "outputs": [
    {
     "data": {
      "text/plain": [
       "[(2, 57), (9, 56), (3, 52), (1, 51)]"
      ]
     },
     "execution_count": 44,
     "metadata": {},
     "output_type": "execute_result"
    }
   ],
   "source": [
    "comm_len[:4]"
   ]
  },
  {
   "cell_type": "code",
   "execution_count": 45,
   "metadata": {
    "cell_id": "3276c6b8bcc844e7b7092ed67f56c1be",
    "deepnote_cell_type": "code",
    "deepnote_to_be_reexecuted": false,
    "execution_millis": 434,
    "execution_start": 1715693483939,
    "source_hash": "58b2771d"
   },
   "outputs": [
    {
     "data": {
      "image/png": "[encoded data removed]",
      "text/plain": [
       "<Figure size 700x400 with 1 Axes>"
      ]
     },
     "metadata": {
      "image/png": {
       "height": 375,
       "width": 613
      }
     },
     "output_type": "display_data"
    }
   ],
   "source": [
    "plt.figure(figsize = (7,4))\n",
    "plt.bar(range(len(comm_len)), [x[1] for x in comm_len],width = 0.5, color = 'navy')\n",
    "plt.xlabel('community',size = 12, weight = 'bold')\n",
    "plt.ylabel('Nodes',size = 12, weight = 'bold')\n",
    "plt.show()"
   ]
  },
  {
   "cell_type": "code",
   "execution_count": 46,
   "metadata": {
    "cell_id": "4d8f6784c6414637a954a03a42d731c4",
    "deepnote_cell_type": "code",
    "deepnote_to_be_reexecuted": false,
    "execution_millis": 293,
    "execution_start": 1715693484291,
    "source_hash": "9ac212f6"
   },
   "outputs": [
    {
     "data": {
      "text/plain": [
       "(0.9414114513981359, 0.9632407358845708)"
      ]
     },
     "execution_count": 46,
     "metadata": {},
     "output_type": "execute_result"
    }
   ],
   "source": [
    "cov, perf = nx.algorithms.community.partition_quality(Bproj, comms.values())\n",
    "cov, perf  "
   ]
  },
  {
   "cell_type": "code",
   "execution_count": 47,
   "metadata": {
    "cell_id": "7aa403c2eccb4dbf9177a9ddeb507010",
    "deepnote_cell_type": "code",
    "deepnote_to_be_reexecuted": false,
    "execution_millis": 292,
    "execution_start": 1715693484292,
    "source_hash": "fd956267"
   },
   "outputs": [],
   "source": [
    "nx.set_node_attributes(Bproj, partition_louvain, 'community')"
   ]
  },
  {
   "cell_type": "code",
   "execution_count": 48,
   "metadata": {
    "cell_id": "539ad8601c9d477bab275ad48629999b",
    "deepnote_cell_type": "code",
    "deepnote_to_be_reexecuted": false,
    "execution_millis": 292,
    "execution_start": 1715693484293,
    "source_hash": "167720bb"
   },
   "outputs": [],
   "source": [
    "nx.write_gexf(Bproj, \"Bproj_withcomm.gexf\")"
   ]
  },
  {
   "cell_type": "code",
   "execution_count": 49,
   "metadata": {
    "cell_id": "5e97e3add3ec4a38bce78f6280264eb7",
    "deepnote_cell_type": "code",
    "deepnote_to_be_reexecuted": false,
    "execution_millis": 136,
    "execution_start": 1715693484511,
    "source_hash": "b623e53d"
   },
   "outputs": [],
   "source": []
  },
  {
   "cell_type": "markdown",
   "metadata": {
    "created_in_deepnote_cell": true,
    "deepnote_cell_type": "markdown"
   },
   "source": [
    "<a style='text-decoration:none;line-height:16px;display:flex;color:#5B5B62;padding:10px;justify-content:end;' href='https://deepnote.com?utm_source=created-in-deepnote-cell&projectId=f42b5eda-db29-4143-a06b-c175ac508ba9' target=\"_blank\">\n",
    "<img alt='Created in deepnote.com' style='display:inline;max-height:16px;margin:0px;margin-right:7.5px;' src='data:image/svg+xml;base64,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' > </img>\n",
    "Created in <span style='font-weight:600;margin-left:4px;'>Deepnote</span></a>"
   ]
  }
 ],
 "metadata": {
  "deepnote_execution_queue": [],
  "deepnote_notebook_id": "7b2f77bbb4b14d66a65b0cc13aaa3d0c",
  "kernelspec": {
   "display_name": "Python 3 (ipykernel)",
   "language": "python",
   "name": "python3"
  },
  "language_info": {
   "codemirror_mode": {
    "name": "ipython",
    "version": 3
   },
   "file_extension": ".py",
   "mimetype": "text/x-python",
   "name": "python",
   "nbconvert_exporter": "python",
   "pygments_lexer": "ipython3",
   "version": "3.11.5"
  }
 },
 "nbformat": 4,
 "nbformat_minor": 4
}
