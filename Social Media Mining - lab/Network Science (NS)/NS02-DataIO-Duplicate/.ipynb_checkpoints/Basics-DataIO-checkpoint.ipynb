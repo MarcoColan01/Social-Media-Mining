{
 "cells": [
  {
   "cell_type": "code",
   "execution_count": 1,
   "metadata": {
    "cell_id": "d103f14eee494060a691d0c043e9d817",
    "deepnote_cell_type": "code",
    "deepnote_to_be_reexecuted": false,
    "execution_millis": 2356,
    "execution_start": 1710411138913,
    "source_hash": null
   },
   "outputs": [],
   "source": [
    "import networkx as nx\n",
    "import matplotlib.pyplot as plt\n",
    "import pickle\n",
    "import numpy as np\n",
    "import pandas as pd\n",
    "from collections import Counter"
   ]
  },
  {
   "cell_type": "markdown",
   "metadata": {
    "cell_id": "21b86171cc0541ce818900b5bdd06ccc",
    "deepnote_cell_type": "markdown"
   },
   "source": [
    "# Caricare un grafo da file"
   ]
  },
  {
   "cell_type": "markdown",
   "metadata": {
    "cell_id": "3527fe781701480d886dbcc7cc699c2b",
    "deepnote_cell_type": "markdown"
   },
   "source": [
    "esempio con un edge list scaricata da network repository\n",
    "* scaricare lo zip da https://networkrepository.com/fb-pages-tvshow.php: una rete dove i nodi sono le pagine facebook di serie tv e c'è un edge tra due pagine se hanno almeno un like in comune\n",
    "* unzip i file\n",
    "* upload files in jupyter"
   ]
  },
  {
   "cell_type": "markdown",
   "metadata": {
    "cell_id": "0fd0de3477314d76ab596ffc957682ad",
    "deepnote_cell_type": "markdown",
    "tags": []
   },
   "source": [
    "#### 1. carico l'edgelist"
   ]
  },
  {
   "cell_type": "code",
   "execution_count": 2,
   "metadata": {
    "cell_id": "00baaea31a064fa8a9a3e4988ca21597",
    "deepnote_cell_type": "code",
    "deepnote_to_be_reexecuted": false,
    "execution_millis": 200,
    "execution_start": 1710428232635,
    "source_hash": "dbdc8d42"
   },
   "outputs": [],
   "source": [
    "edges = list(open('./data/fb-pages-tvshow.edges'))"
   ]
  },
  {
   "cell_type": "markdown",
   "metadata": {
    "cell_id": "2ddccf4de98642a085b2f90f6c5a069d",
    "deepnote_cell_type": "markdown"
   },
   "source": [
    "#### 2. stampo un subset dell'edges list \n",
    "Intuitivamente, ogni riga è strutturata: ```'source, destination\\n'```"
   ]
  },
  {
   "cell_type": "code",
   "execution_count": 3,
   "metadata": {
    "cell_id": "7cae47cc1ff844deb740becdbde03cb7",
    "deepnote_cell_type": "code",
    "deepnote_to_be_reexecuted": false,
    "execution_millis": 52,
    "execution_start": 1710428232532,
    "source_hash": "4692ef1c"
   },
   "outputs": [
    {
     "data": {
      "text/plain": [
       "['0,1838\\n',\n",
       " '0,1744\\n',\n",
       " '0,14\\n',\n",
       " '0,2543\\n',\n",
       " '1,1009\\n',\n",
       " '1,1171\\n',\n",
       " '1,1465\\n',\n",
       " '1,2069\\n',\n",
       " '1,2080\\n',\n",
       " '1,1856\\n']"
      ]
     },
     "execution_count": 3,
     "metadata": {},
     "output_type": "execute_result"
    }
   ],
   "source": [
    "edges[:10]"
   ]
  },
  {
   "cell_type": "markdown",
   "metadata": {
    "cell_id": "311f8e604f4a46d0a9a5c8a4414a52df",
    "deepnote_cell_type": "markdown",
    "tags": []
   },
   "source": [
    "#### 3. creo edgelist"
   ]
  },
  {
   "cell_type": "code",
   "execution_count": 4,
   "metadata": {
    "cell_id": "eb4e82123f8249fcbf01e8c6a518497a",
    "deepnote_cell_type": "code",
    "deepnote_to_be_reexecuted": false,
    "execution_millis": 44,
    "execution_start": 1710428237557,
    "source_hash": "8f3c8cf0"
   },
   "outputs": [
    {
     "data": {
      "text/plain": [
       "[['0', '1838'], ['0', '1744']]"
      ]
     },
     "execution_count": 4,
     "metadata": {},
     "output_type": "execute_result"
    }
   ],
   "source": [
    "#step 1: list di archi dove gli id dei nodi sono stringhe \n",
    "edge_list = [edge.strip().split(',') for edge in edges]\n",
    "edge_list[:2]\n"
   ]
  },
  {
   "cell_type": "code",
   "execution_count": 5,
   "metadata": {
    "cell_id": "5142d017c2244325b46faccc6dd7ea32",
    "deepnote_cell_type": "code",
    "deepnote_to_be_reexecuted": false,
    "execution_millis": 448,
    "execution_start": 1710428241122,
    "source_hash": "6eb98c01"
   },
   "outputs": [
    {
     "data": {
      "text/plain": [
       "[(0, 1838), (0, 1744)]"
      ]
     },
     "execution_count": 5,
     "metadata": {},
     "output_type": "execute_result"
    }
   ],
   "source": [
    "#step 2: lista di archi dove gli id dei nodi sono interi (occupano meno spazio, più agevoli)\n",
    "edge_list = [(int(e[0]), int(e[1])) for e in edge_list]\n",
    "edge_list[:2]"
   ]
  },
  {
   "cell_type": "markdown",
   "metadata": {
    "cell_id": "a119d19c0e874c599ac275cc0257d941",
    "deepnote_cell_type": "markdown",
    "tags": []
   },
   "source": [
    "#### 4. creo dictionary con gli attributi sui nodi"
   ]
  },
  {
   "cell_type": "code",
   "execution_count": 6,
   "metadata": {
    "cell_id": "e6b9354153ca49169549d13ed39a30e0",
    "deepnote_cell_type": "code",
    "deepnote_to_be_reexecuted": false,
    "execution_millis": 451,
    "execution_start": 1710428244592,
    "source_hash": "d6309f35"
   },
   "outputs": [
    {
     "ename": "UnicodeDecodeError",
     "evalue": "'charmap' codec can't decode byte 0x9d in position 3764: character maps to <undefined>",
     "output_type": "error",
     "traceback": [
      "\u001b[1;31m---------------------------------------------------------------------------\u001b[0m",
      "\u001b[1;31mUnicodeDecodeError\u001b[0m                        Traceback (most recent call last)",
      "Cell \u001b[1;32mIn[6], line 1\u001b[0m\n\u001b[1;32m----> 1\u001b[0m nodes \u001b[38;5;241m=\u001b[39m \u001b[38;5;28;43mlist\u001b[39;49m\u001b[43m(\u001b[49m\u001b[38;5;28;43mopen\u001b[39;49m\u001b[43m(\u001b[49m\u001b[38;5;124;43m'\u001b[39;49m\u001b[38;5;124;43m./data/fb-pages-tvshow.nodes\u001b[39;49m\u001b[38;5;124;43m'\u001b[39;49m\u001b[43m)\u001b[49m\u001b[43m)\u001b[49m\n",
      "File \u001b[1;32mC:\\Python311\\Lib\\encodings\\cp1252.py:23\u001b[0m, in \u001b[0;36mIncrementalDecoder.decode\u001b[1;34m(self, input, final)\u001b[0m\n\u001b[0;32m     22\u001b[0m \u001b[38;5;28;01mdef\u001b[39;00m \u001b[38;5;21mdecode\u001b[39m(\u001b[38;5;28mself\u001b[39m, \u001b[38;5;28minput\u001b[39m, final\u001b[38;5;241m=\u001b[39m\u001b[38;5;28;01mFalse\u001b[39;00m):\n\u001b[1;32m---> 23\u001b[0m     \u001b[38;5;28;01mreturn\u001b[39;00m codecs\u001b[38;5;241m.\u001b[39mcharmap_decode(\u001b[38;5;28minput\u001b[39m,\u001b[38;5;28mself\u001b[39m\u001b[38;5;241m.\u001b[39merrors,decoding_table)[\u001b[38;5;241m0\u001b[39m]\n",
      "\u001b[1;31mUnicodeDecodeError\u001b[0m: 'charmap' codec can't decode byte 0x9d in position 3764: character maps to <undefined>"
     ]
    }
   ],
   "source": [
    "nodes = list(open('./data/fb-pages-tvshow.nodes'))"
   ]
  },
  {
   "cell_type": "code",
   "execution_count": null,
   "metadata": {
    "cell_id": "fdeb9fe599164dfa9fac58b160ea9ad4",
    "deepnote_cell_type": "code",
    "deepnote_to_be_reexecuted": false,
    "execution_millis": 92,
    "execution_start": 1710411142029,
    "source_hash": null
   },
   "outputs": [],
   "source": [
    "nodes[:10]"
   ]
  },
  {
   "cell_type": "markdown",
   "metadata": {
    "cell_id": "fcb2eab99a2042fbbf6a9a317ca0ba76",
    "deepnote_cell_type": "markdown"
   },
   "source": [
    "* Ogni linea è composta da:__ ```'longid, label-of-tvseries,graphid\\n'``` \n",
    "* Quello che fa match con gli id della edge list è il campo ```new_id```, quindi il campo ```id``` è inutile\n",
    "* Quindi, possiamo creare un dictionary con  ```{id:name}```, iniziamo creando la lista di elementi separati"
   ]
  },
  {
   "cell_type": "code",
   "execution_count": null,
   "metadata": {
    "cell_id": "0ac5c5f935df452387d0af69ebe54338",
    "deepnote_cell_type": "code",
    "deepnote_to_be_reexecuted": false,
    "execution_millis": 203,
    "execution_start": 1710411142036,
    "source_hash": null
   },
   "outputs": [],
   "source": [
    "nodes_list = [node.split(',') for node in nodes]"
   ]
  },
  {
   "cell_type": "markdown",
   "metadata": {
    "cell_id": "583cab1595654fc9a4c9b7dc35adfdae",
    "deepnote_cell_type": "markdown"
   },
   "source": [
    "ora dovremmo creare un dictionary dove le chiavi sono gli id dei nodi e i valori sono i nomi delle pagine..."
   ]
  },
  {
   "cell_type": "code",
   "execution_count": null,
   "metadata": {
    "cell_id": "37f93e16b168413fb29c7a65d5159fb9",
    "deepnote_cell_type": "code",
    "deepnote_to_be_reexecuted": false,
    "execution_millis": 552,
    "execution_start": 1710411142085,
    "source_hash": null
   },
   "outputs": [],
   "source": [
    "{int(node[2]):node[1] for node in nodes_list[1:]}"
   ]
  },
  {
   "cell_type": "markdown",
   "metadata": {
    "cell_id": "2bdcbf19d3044362931da371173e3c6b",
    "deepnote_cell_type": "markdown"
   },
   "source": [
    "⚠️⚠️⚠️ __in un qualche punto, in posizione 2, invece di avere id ho una stringa!__ ⚠️⚠️⚠️"
   ]
  },
  {
   "cell_type": "code",
   "execution_count": null,
   "metadata": {
    "cell_id": "23f1284c88ba4eef9ce9c7829226fe4e",
    "deepnote_cell_type": "code",
    "deepnote_to_be_reexecuted": false,
    "execution_millis": 53,
    "execution_start": 1710411216834,
    "source_hash": null
   },
   "outputs": [],
   "source": [
    "for i,node in enumerate(nodes_list):\n",
    "    if len(node)>3:\n",
    "        print(node, nodes[i])\n",
    "        break"
   ]
  },
  {
   "cell_type": "markdown",
   "metadata": {
    "cell_id": "01c1e6bc636f4286b87cf1316c3b0553",
    "deepnote_cell_type": "markdown"
   },
   "source": [
    "__il problema è la virgola all'interno del nome, che viene confuso per il separatore di elementi!__\n",
    "### le stringhe spesso nascondono inganni!\n",
    "__dobbiamo scrivere una funzione che riesca a catturare la stringa tra i simboli \" \"__"
   ]
  },
  {
   "cell_type": "code",
   "execution_count": null,
   "metadata": {
    "cell_id": "078697e0083548deb023b07000184148",
    "deepnote_cell_type": "code",
    "deepnote_to_be_reexecuted": false,
    "execution_millis": 54,
    "execution_start": 1710411216834,
    "source_hash": null
   },
   "outputs": [],
   "source": [
    "#this detects the string in ```text``` between ```char``` and ```char```\n",
    "def get_text_between_chars(text, char, replace = True):\n",
    "    import re\n",
    "    m = re.search(f'{char}(.+?){char}', text)\n",
    "    if m: found = m.group(1)\n",
    "    if replace: found = found.replace(',','')\n",
    "    return found\n",
    "\n",
    "#example: get the string between the two ```!``` \n",
    "get_text_between_chars('text outside left !*,text inside! text outside right','!')"
   ]
  },
  {
   "cell_type": "code",
   "execution_count": null,
   "metadata": {
    "cell_id": "221bdb1251ec41caa95c19f6a6a1fea2",
    "deepnote_cell_type": "code",
    "deepnote_to_be_reexecuted": false,
    "execution_millis": 53,
    "execution_start": 1710411216835,
    "source_hash": null
   },
   "outputs": [],
   "source": [
    "nodes_attr = {}\n",
    "for line in nodes[1:]:\n",
    "    splitting = line.split(',')\n",
    "    if len(splitting) == 3: \n",
    "        #in this case everything is normal, we can just take the argument in pos 2 as key and the one is pos 1 as value\n",
    "        nodes_attr[int(splitting[2])] = splitting[1]\n",
    "    else:\n",
    "        #in this case we need to extract the name and then assign it to the id \n",
    "        # the id is still the last element of the splitting list\n",
    "        name = get_text_between_chars(line, '\"')\n",
    "        nodes_attr[int(splitting[-1])] = name"
   ]
  },
  {
   "cell_type": "code",
   "execution_count": null,
   "metadata": {
    "cell_id": "a1f289c99a8e4c52849284b8964a76e7",
    "deepnote_cell_type": "code",
    "deepnote_to_be_reexecuted": false,
    "execution_millis": 36,
    "execution_start": 1710411216877,
    "source_hash": null
   },
   "outputs": [],
   "source": [
    "nodes_attr[814]"
   ]
  },
  {
   "cell_type": "code",
   "execution_count": null,
   "metadata": {
    "cell_id": "1b3e3900df1c4283bc3901775cc13640",
    "deepnote_cell_type": "code",
    "deepnote_to_be_reexecuted": false,
    "execution_millis": 35,
    "execution_start": 1710411216878,
    "source_hash": null
   },
   "outputs": [],
   "source": [
    "G = nx.DiGraph(edge_list)\n",
    "print(G)\n",
    "nx.set_node_attributes(G, nodes_attr, \"name\")"
   ]
  },
  {
   "cell_type": "markdown",
   "metadata": {
    "cell_id": "da5e50de5849401aa14d1b012de0915f",
    "deepnote_cell_type": "markdown",
    "tags": []
   },
   "source": [
    "## input csv pulito"
   ]
  },
  {
   "cell_type": "code",
   "execution_count": null,
   "metadata": {
    "cell_id": "04ac49759aef4d53849ed612628a4ea0",
    "deepnote_cell_type": "code",
    "deepnote_to_be_reexecuted": false,
    "execution_millis": 298,
    "execution_start": 1710411943762,
    "source_hash": null
   },
   "outputs": [],
   "source": [
    "df = pd.read_csv('./data/fb-pages-tvshow-edges2.csv', delimiter=',')\n"
   ]
  },
  {
   "cell_type": "code",
   "execution_count": null,
   "metadata": {
    "cell_id": "2440908cfaff4265972f4d6057afa479",
    "deepnote_cell_type": "code",
    "deepnote_to_be_reexecuted": false,
    "execution_millis": 96,
    "execution_start": 1710411962637,
    "source_hash": null
   },
   "outputs": [],
   "source": [
    "df.columns"
   ]
  },
  {
   "cell_type": "code",
   "execution_count": null,
   "metadata": {
    "cell_id": "b6982fcee76b474ca2415a05baa8b1c9",
    "deepnote_cell_type": "code",
    "deepnote_to_be_reexecuted": false,
    "execution_millis": 58,
    "execution_start": 1710411964380,
    "source_hash": null
   },
   "outputs": [],
   "source": [
    "G = nx.from_pandas_edgelist(df, source = 'source', target=' target',\n",
    "                            edge_attr=None, create_using= nx.DiGraph())"
   ]
  },
  {
   "cell_type": "code",
   "execution_count": null,
   "metadata": {
    "cell_id": "cd679d06eddb40f7a1b7f13ffbe8d07b",
    "deepnote_cell_type": "code",
    "deepnote_to_be_reexecuted": false,
    "execution_millis": 348,
    "execution_start": 1710411577427,
    "source_hash": null
   },
   "outputs": [],
   "source": [
    "df_nodes = pd.read_csv('./data/fb-pages-tvshow-nodes.csv', delimiter=',')"
   ]
  },
  {
   "cell_type": "code",
   "execution_count": null,
   "metadata": {
    "cell_id": "53555846788b46859a546f5115d35903",
    "deepnote_cell_type": "code",
    "deepnote_to_be_reexecuted": false,
    "execution_millis": 210,
    "execution_start": 1710411975440,
    "source_hash": null
   },
   "outputs": [],
   "source": [
    "for index, row in df_nodes.iterrows():\n",
    "    G.nodes[row['id']]['name'] = row[' name']\n",
    "    "
   ]
  },
  {
   "cell_type": "markdown",
   "metadata": {
    "cell_id": "e7a0fc1ea12544a1826bf851d752c27a",
    "deepnote_cell_type": "markdown"
   },
   "source": [
    "# Scrivere un file grafo"
   ]
  },
  {
   "cell_type": "markdown",
   "metadata": {
    "cell_id": "d687072478c5456cb30bc38896d5d3fc",
    "deepnote_cell_type": "markdown"
   },
   "source": [
    "Ci sono varie situazioni in cui serve salvare il grafo che abbiamo creato, che sia per esportarlo in un tool di visualizzazione come gephi, oppure semplicemente per salvare l'oggetto una volta creato (perchè quando è grande ci può voler tanto, quindi meglio salvarlo che ricrearlo ogni volta che serve lavorarci) <br>\n",
    "__Se devo visualizzare il grafo su gephi:__\n",
    "* opzione 1: salvo l'edge list e il node file come csv e li carico separatamente in gephi\n",
    "* opzione 2: salvo il grafo nel formato ```.graphml``` o ```.gexf```, carico quello e il file degli attributi separatamente in gephi\n",
    "* opzione 3: salvo il grafo con gli attributi in ```.graphml``` o ```.gexf``` e carico solo quello in gephi\n"
   ]
  },
  {
   "cell_type": "code",
   "execution_count": null,
   "metadata": {
    "cell_id": "b24df99beaf946be87ae14dce2252d07",
    "deepnote_cell_type": "code",
    "deepnote_to_be_reexecuted": false,
    "execution_millis": 573,
    "execution_start": 1710411983786,
    "source_hash": null
   },
   "outputs": [],
   "source": [
    "# opzione 1\n",
    "\n",
    "with open('./data/fb-pages-tvshow-cleaned-edges.csv','w') as f:\n",
    "    f.writelines(['source,target\\n'])\n",
    "    for (s,d) in edge_list:\n",
    "        f.writelines([f\"{s}, {d}\\n\"])\n",
    "        \n",
    "with open('./data/fb-pages-tvshow-cleaned-nodes.csv','w') as f:\n",
    "    f.writelines(['id, name\\n'])\n",
    "    for k,v in nodes_attr.items():\n",
    "        f.writelines([f\"{k}, {v}\\n\"])"
   ]
  },
  {
   "cell_type": "code",
   "execution_count": null,
   "metadata": {
    "cell_id": "2748971ec5a34d1795cccfaa31cee304",
    "deepnote_cell_type": "code",
    "deepnote_to_be_reexecuted": false,
    "execution_millis": 1362,
    "execution_start": 1710411987981,
    "source_hash": null
   },
   "outputs": [],
   "source": [
    "# opzione 2/3\n",
    "\n",
    "nx.write_graphml(G,path=\"./data/fb-pages-tvshows.graphml\")\n",
    "nx.write_gexf(G,path = './data/fb-pages-tvshows.gexf')"
   ]
  },
  {
   "cell_type": "markdown",
   "metadata": {
    "cell_id": "77aa9bc258034f98bdeb526e923f44bb",
    "deepnote_cell_type": "markdown"
   },
   "source": [
    "__Se devo salvare l'oggetto grafo__, posso usare il metodo `dump` di pickle"
   ]
  },
  {
   "cell_type": "code",
   "execution_count": null,
   "metadata": {
    "cell_id": "84465180f22a40c4b49eadf6a107e473",
    "deepnote_cell_type": "code",
    "deepnote_to_be_reexecuted": false,
    "execution_millis": 580,
    "execution_start": 1710412057725,
    "source_hash": null
   },
   "outputs": [],
   "source": [
    "pickle.dump(G, open('./data/fb-pages-tvshows.gpickle','wb') )\n"
   ]
  },
  {
   "cell_type": "markdown",
   "metadata": {
    "cell_id": "da1a23ff22174e669a17ccff55b98451",
    "deepnote_cell_type": "markdown"
   },
   "source": [
    "# leggere un oggetto grafo"
   ]
  },
  {
   "cell_type": "markdown",
   "metadata": {
    "cell_id": "090bd91e5b67478abaa7b227652cb4e6",
    "deepnote_cell_type": "markdown"
   },
   "source": [
    "uso i corrispettivi read dei metodi che ho usato per fare write.\n"
   ]
  },
  {
   "cell_type": "code",
   "execution_count": null,
   "metadata": {
    "cell_id": "4de27c0ac1f94a36b196e5cf0bf11325",
    "deepnote_cell_type": "code",
    "deepnote_to_be_reexecuted": false,
    "execution_millis": 1706,
    "execution_start": 1710412081855,
    "source_hash": null
   },
   "outputs": [],
   "source": [
    "G = pickle.load(open('./data/fb-pages-tvshows.gpickle','rb') )\n",
    "G = nx.read_graphml('./data/fb-pages-tvshows.graphml' )\n",
    "G = nx.read_gexf('./data/fb-pages-tvshows.gexf' )"
   ]
  },
  {
   "cell_type": "markdown",
   "metadata": {
    "cell_id": "1e6f448208cb43e68205bfc3f9045dd6",
    "deepnote_cell_type": "markdown"
   },
   "source": [
    "# Esercizio\n",
    "\n",
    "1. scaricare i dati sugli edge da http://www.konect.cc/networks/dolphins/ \n",
    "2. creare un grafo (capite voi se diretto o no) con gli edge dati\n",
    "3. stampare numero di edge e di nodi\n",
    "4. aggiungere l'attributo ```age``` ai nodi con i dati presi dal file ```./data/dolphins-nodes-age.csv```\n",
    "5. salvare il file in formato ```.gexf```\n",
    "6. fare il plot della distribuzione del grado della rete di delfini\n"
   ]
  },
  {
   "cell_type": "code",
   "execution_count": null,
   "metadata": {
    "cell_id": "ff28425c985c4dfe82559b54d894a0f7",
    "deepnote_cell_type": "code",
    "deepnote_to_be_reexecuted": false,
    "execution_millis": 30,
    "execution_start": 1710412127797,
    "source_hash": null
   },
   "outputs": [],
   "source": [
    "# risolvi qui\n"
   ]
  },
  {
   "cell_type": "code",
   "execution_count": null,
   "metadata": {
    "cell_id": "ba4b21207184434289bcfefc71061d5e",
    "deepnote_cell_type": "code"
   },
   "outputs": [],
   "source": []
  },
  {
   "cell_type": "markdown",
   "metadata": {
    "created_in_deepnote_cell": true,
    "deepnote_cell_type": "markdown"
   },
   "source": [
    "<a style='text-decoration:none;line-height:16px;display:flex;color:#5B5B62;padding:10px;justify-content:end;' href='https://deepnote.com?utm_source=created-in-deepnote-cell&projectId=29426a90-102c-4488-a161-9bc77a0f11df' target=\"_blank\">\n",
    "<img alt='Created in deepnote.com' style='display:inline;max-height:16px;margin:0px;margin-right:7.5px;' src='data:image/svg+xml;base64,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' > </img>\n",
    "Created in <span style='font-weight:600;margin-left:4px;'>Deepnote</span></a>"
   ]
  }
 ],
 "metadata": {
  "deepnote_execution_queue": [],
  "deepnote_notebook_id": "cd3a16d0c3774f52a228373fd8c532b2",
  "deepnote_persisted_session": {
   "createdAt": "2024-03-14T10:45:45.688Z"
  },
  "kernelspec": {
   "display_name": "Python 3 (ipykernel)",
   "language": "python",
   "name": "python3"
  },
  "language_info": {
   "codemirror_mode": {
    "name": "ipython",
    "version": 3
   },
   "file_extension": ".py",
   "mimetype": "text/x-python",
   "name": "python",
   "nbconvert_exporter": "python",
   "pygments_lexer": "ipython3",
   "version": "3.11.5"
  }
 },
 "nbformat": 4,
 "nbformat_minor": 4
}
