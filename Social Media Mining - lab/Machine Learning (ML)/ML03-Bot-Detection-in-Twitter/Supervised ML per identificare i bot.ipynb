{
 "cells": [
  {
   "cell_type": "code",
   "execution_count": 1,
   "metadata": {
    "cell_id": "8c5e3d09b5c6446eb7e9092d4f420ce7",
    "deepnote_cell_type": "code",
    "deepnote_to_be_reexecuted": false,
    "execution_millis": 3715,
    "execution_start": 1653482745020,
    "is_code_hidden": true,
    "output_cleared": true,
    "source_hash": null,
    "tags": []
   },
   "outputs": [
    {
     "name": "stdout",
     "output_type": "stream",
     "text": [
      "Collecting editdistance (from -r requirements.txt (line 1))\n",
      "  Obtaining dependency information for editdistance from https://files.pythonhosted.org/packages/52/a1/778af8590b8b12f03f62eacc3c8744407ade9e3d69be6dabe38d0afbf2dd/editdistance-0.8.1-cp311-cp311-win_amd64.whl.metadata\n",
      "  Downloading editdistance-0.8.1-cp311-cp311-win_amd64.whl.metadata (3.9 kB)\n",
      "Downloading editdistance-0.8.1-cp311-cp311-win_amd64.whl (79 kB)\n",
      "   ---------------------------------------- 0.0/79.7 kB ? eta -:--:--\n",
      "   ----- ---------------------------------- 10.2/79.7 kB ? eta -:--:--\n",
      "   ----------------------------------- ---- 71.7/79.7 kB 975.2 kB/s eta 0:00:01\n",
      "   ---------------------------------------- 79.7/79.7 kB 637.2 kB/s eta 0:00:00\n",
      "Installing collected packages: editdistance\n",
      "Successfully installed editdistance-0.8.1\n"
     ]
    },
    {
     "name": "stderr",
     "output_type": "stream",
     "text": [
      "\n",
      "[notice] A new release of pip is available: 23.2.1 -> 24.0\n",
      "[notice] To update, run: python.exe -m pip install --upgrade pip\n"
     ]
    }
   ],
   "source": [
    "!pip install -r requirements.txt"
   ]
  },
  {
   "cell_type": "code",
   "execution_count": 15,
   "metadata": {
    "cell_id": "54809587524e4612a609488bb70c993d",
    "deepnote_cell_type": "code",
    "deepnote_to_be_reexecuted": false,
    "execution_millis": 64,
    "execution_start": 1714714241970,
    "source_hash": null,
    "tags": []
   },
   "outputs": [],
   "source": [
    "import json\n",
    "import pickle\n",
    "from collections import Counter\n",
    "import os\n",
    "import editdistance\n",
    "import pandas as pd\n",
    "from datetime import datetime\n",
    "import numpy as np\n",
    "\n",
    "from sklearn.compose import ColumnTransformer\n",
    "from sklearn.pipeline import Pipeline\n",
    "from sklearn.linear_model import LogisticRegression\n",
    "from sklearn.preprocessing import StandardScaler, MinMaxScaler, PowerTransformer\n",
    "from sklearn.model_selection import train_test_split, cross_val_score, cross_val_predict\n",
    "from sklearn.metrics import f1_score, precision_score, recall_score, accuracy_score, confusion_matrix, precision_recall_curve, roc_curve, roc_auc_score\n",
    "from sklearn.datasets import make_classification\n",
    "from sklearn import set_config\n",
    "\n",
    "set_config(display=\"diagram\")"
   ]
  },
  {
   "cell_type": "markdown",
   "metadata": {
    "cell_id": "7690e92cc06e44dc83b5d97968eaa6b9",
    "deepnote_cell_type": "markdown"
   },
   "source": [
    "# Supervised Learning\n",
    "![](slides/superL_3.png)\n",
    "![](slides/superL_4.png)\n",
    "![](slides/superL_5.png)\n",
    "\n",
    "Prima di applicare i diversi algoritmi di apprendimento finora introdotti ci concentriamo su una questione fondamentale nell'ambito dell'apprendimento supervisionato. Infatti, nella maggior parte dei casi, abbiamo a nostra disposizione solo un singolo insieme di dati $\\mathcal{D}$ che possiamo utilizzare per addestrare il nostro modello mediante un algoritmo di apprendimento. Tuttavia, se addestriamo il modello sull'intero dataset, non siamo in grado di valutare la capacità di generalizzazione del modello e le sue prestazioni su dati non visti.\n",
    "\n",
    "Per riprodurre una situazione più realistica basandoci solo sui dati che abbiamo, **dividiamo il dataset in due insiemi disgiunti**:\n",
    "- **training set** - insieme di addestramento\n",
    "- **test o validation set** - insieme di test\n",
    "\n",
    "![](slides/superL_6.png)\n",
    "![](slides/superL_7.png)\n",
    "\n",
    "Appliciamo il precedente metodo ad un dataset sintetico generato mediante la funzione `datasets.make_classification`."
   ]
  },
  {
   "cell_type": "code",
   "execution_count": 16,
   "metadata": {
    "cell_id": "ff33908387cd4f20ba846a23b55d463e",
    "deepnote_cell_type": "code",
    "deepnote_to_be_reexecuted": false,
    "execution_millis": 80,
    "execution_start": 1714677463933,
    "source_hash": null
   },
   "outputs": [],
   "source": [
    "X_synth, y_synth = make_classification(n_samples = 1000, weights=[.1, .9])\n",
    "X_train, X_test, y_train, y_test = train_test_split(X_synth,y_synth, stratify = y_synth, test_size=0.2)"
   ]
  },
  {
   "cell_type": "markdown",
   "metadata": {
    "cell_id": "2f2144c502ef4681a222f1e882436f5d",
    "deepnote_cell_type": "markdown"
   },
   "source": [
    "**Importante**. E' buona prassi applicare un partizionamento tra training e test set in modo da mantenere la **stratificazione** delle classi in entrambi gli insiemi. Ciò significa che sia nel training set sia nel test set il rapporto tra istanze positive ed instanze negative è lo stesso.\n",
    "\n",
    "Possiamo valutare se questa proprietà vale anche nel nostro caso."
   ]
  },
  {
   "cell_type": "code",
   "execution_count": 17,
   "metadata": {
    "cell_id": "e7f60092edc54f109ffd4ca5e7e6d0b9",
    "deepnote_cell_type": "code",
    "deepnote_to_be_reexecuted": false,
    "execution_millis": 94,
    "execution_start": 1714677466443,
    "source_hash": null
   },
   "outputs": [
    {
     "data": {
      "text/plain": [
       "(0.12201963534361851, 0.12359550561797752)"
      ]
     },
     "execution_count": 17,
     "metadata": {},
     "output_type": "execute_result"
    }
   ],
   "source": [
    "np.sum(y_train == 0) / np.sum(y_train == 1), np.sum(y_test == 0) / np.sum(y_test == 1)"
   ]
  },
  {
   "cell_type": "markdown",
   "metadata": {
    "cell_id": "8a8cb959745c4dfe94a97592e83c9192",
    "deepnote_cell_height": 134,
    "deepnote_cell_type": "markdown",
    "tags": []
   },
   "source": [
    "# Identificazione di bot in Twitter mediante classificazione binaria"
   ]
  },
  {
   "cell_type": "markdown",
   "metadata": {
    "cell_id": "29d11cd18f274cdda8f6fee96ebbcd5a",
    "deepnote_cell_height": 326.984375,
    "deepnote_cell_type": "markdown",
    "tags": []
   },
   "source": [
    "In questa esperienza di laboratorio affronteremo il **problema dell'identificazione automatica di bot in un social media** - nello specifico Twitter - mediante un approccio basato sulla **classificazione binaria**. Abbiamo quindi a disposizione un insieme di dati che ci fornisce un'etichetta **bot/non-bot** per ogni account, istanza del nostro problema. \n",
    "\n",
    "In questa situazione le entità da classificare sono gli account su Twitter, che verranno trasformate in un vettore di caratteristiche - feature -  derivate sia dalle informazioni associate al profilo dell'account sia dalle informazioni derivate dai contenuti prodotti e consumati (ritwittati).\n",
    "\n",
    "Una volta descritta l'entità account mediante un vettore, procederemo ad addestrare un **classificatore binario**, utilizzando come dataset di training un insieme di **account etichettati** come *human* o *bot*.\n",
    "\n",
    "Il dataset e le relative etichette sono contenute nella cartella *data*:\n",
    "- `cresci-rtbust-2019.tsv` contiene le etichette\n",
    "- `cresci-rtbust-2019_tweets.json` contiene le informazioni associate ai profili degli account.\n"
   ]
  },
  {
   "cell_type": "markdown",
   "metadata": {
    "cell_id": "1960800a199048d5b59add6eb5cdac27",
    "deepnote_cell_height": 70,
    "deepnote_cell_type": "markdown",
    "tags": []
   },
   "source": [
    "## Creazione del dataset di training"
   ]
  },
  {
   "cell_type": "code",
   "execution_count": 18,
   "metadata": {
    "cell_id": "1b56e580525041398a9f0b2030409883",
    "deepnote_cell_type": "code",
    "deepnote_to_be_reexecuted": false,
    "execution_millis": 714,
    "execution_start": 1714714345238,
    "source_hash": null,
    "tags": []
   },
   "outputs": [],
   "source": [
    "accounts = json.load(open('data/cresci-rtbust-2019_tweets.json'))\n",
    "accountsID = [a['user']['id_str'] for a in accounts]\n",
    "account2profile ={a['user']['id_str']:a['user'] for a in accounts}\n",
    "account2label = {}\n",
    "with open('data/cresci-rtbust-2019.tsv') as f:\n",
    "    for line in f:\n",
    "        ID, label = line.strip().split('\\t')\n",
    "        if ID in accountsID:\n",
    "            account2label[ID] = 0 if label == 'human' else 1"
   ]
  },
  {
   "cell_type": "markdown",
   "metadata": {
    "cell_id": "5d4adabe14da4a599a31e84e8f696f20",
    "deepnote_cell_type": "markdown"
   },
   "source": [
    "**Task**: Contare il numero di account disponibili e descrivere la struttura del dictionary `account2profile`."
   ]
  },
  {
   "cell_type": "code",
   "execution_count": 19,
   "metadata": {
    "cell_id": "ffd6a4d9593f40e1b548f08b649a7840",
    "deepnote_cell_type": "code",
    "deepnote_to_be_reexecuted": false,
    "execution_millis": 56,
    "execution_start": 1714675088215,
    "output_cleared": false,
    "source_hash": null,
    "tags": []
   },
   "outputs": [
    {
     "data": {
      "text/plain": [
       "693"
      ]
     },
     "execution_count": 19,
     "metadata": {},
     "output_type": "execute_result"
    }
   ],
   "source": [
    "len(account2profile)"
   ]
  },
  {
   "cell_type": "code",
   "execution_count": 20,
   "metadata": {
    "cell_id": "73421b532cf54422a667e5d90dd3c5bf",
    "deepnote_cell_type": "code",
    "deepnote_to_be_reexecuted": false,
    "execution_millis": 93,
    "execution_start": 1714675092093,
    "source_hash": null
   },
   "outputs": [],
   "source": [
    "ID_account_test = '734396807745286145'"
   ]
  },
  {
   "cell_type": "code",
   "execution_count": 21,
   "metadata": {
    "cell_id": "6f054cb69f324e58bab710f49c776a5f",
    "deepnote_cell_type": "code",
    "deepnote_to_be_reexecuted": false,
    "execution_millis": 190,
    "execution_start": 1714675097624,
    "source_hash": null
   },
   "outputs": [
    {
     "data": {
      "text/plain": [
       "0"
      ]
     },
     "execution_count": 21,
     "metadata": {},
     "output_type": "execute_result"
    }
   ],
   "source": [
    "#TODO come è strutturato l'oggetto associato alla variabile account2label ?\n",
    "account2label[ID_account_test]"
   ]
  },
  {
   "cell_type": "markdown",
   "metadata": {
    "cell_id": "bc23464f1ddf464a92a88545b87672f2",
    "deepnote_cell_height": 62,
    "deepnote_cell_type": "markdown",
    "tags": []
   },
   "source": [
    "## Integrazione con contenuti testuali prodotti e consumati"
   ]
  },
  {
   "cell_type": "markdown",
   "metadata": {
    "cell_id": "00b8e5b767924fb5afa3308d1e14133c",
    "deepnote_cell_height": 97.1875,
    "deepnote_cell_type": "markdown",
    "tags": []
   },
   "source": [
    "Prima di procedere alla fase di estrazione delle feature, dovremmo ottenere dal social media da cui stiamo prelevando i dati necessari all'addestramento i contenuti testuali originali e/o condivisi (tweet e retweet nel nostro caso). Possiamo associare ad ogni account un vettore che descrive il profilo semantico dell'utente. Questo vettore integra le caratteristiche che possiamo estrarre dal profilo dell'account."
   ]
  },
  {
   "cell_type": "markdown",
   "metadata": {
    "cell_id": "e676b773556a41a9b0d49ce26d1b88be",
    "deepnote_cell_height": 52.390625,
    "deepnote_cell_type": "markdown",
    "tags": []
   },
   "source": [
    "Per ogni account, ottieniamo i primi 100 tweet/retweet mediante Twitter API."
   ]
  },
  {
   "cell_type": "code",
   "execution_count": 22,
   "metadata": {
    "cell_id": "92cd02b6cdb24882935a7b7dd2b22ebe",
    "deepnote_cell_type": "code",
    "deepnote_to_be_reexecuted": false,
    "execution_millis": 6244,
    "execution_start": 1653681887456,
    "is_output_hidden": true,
    "source_hash": null,
    "tags": []
   },
   "outputs": [
    {
     "ename": "NameError",
     "evalue": "name 'twitter' is not defined",
     "output_type": "error",
     "traceback": [
      "\u001b[1;31m---------------------------------------------------------------------------\u001b[0m",
      "\u001b[1;31mNameError\u001b[0m                                 Traceback (most recent call last)",
      "Cell \u001b[1;32mIn[22], line 3\u001b[0m\n\u001b[0;32m      1\u001b[0m account2timeline \u001b[38;5;241m=\u001b[39m {}\n\u001b[0;32m      2\u001b[0m \u001b[38;5;28;01mfor\u001b[39;00m i, a \u001b[38;5;129;01min\u001b[39;00m \u001b[38;5;28menumerate\u001b[39m(accountsID):\n\u001b[1;32m----> 3\u001b[0m     data_timeline \u001b[38;5;241m=\u001b[39m \u001b[43mtwitter\u001b[49m\u001b[38;5;241m.\u001b[39mget_users_tweets(\u001b[38;5;28mid\u001b[39m \u001b[38;5;241m=\u001b[39m a,\n\u001b[0;32m      4\u001b[0m         max_results\u001b[38;5;241m=\u001b[39m\u001b[38;5;241m100\u001b[39m,\n\u001b[0;32m      5\u001b[0m         exclude\u001b[38;5;241m=\u001b[39m\u001b[38;5;124m'\u001b[39m\u001b[38;5;124mreplies\u001b[39m\u001b[38;5;124m'\u001b[39m, \n\u001b[0;32m      6\u001b[0m         tweet_fields\u001b[38;5;241m=\u001b[39m\u001b[38;5;124m'\u001b[39m\u001b[38;5;124mentities\u001b[39m\u001b[38;5;124m'\u001b[39m\n\u001b[0;32m      7\u001b[0m     )\n\u001b[0;32m      8\u001b[0m     \u001b[38;5;28;01mif\u001b[39;00m \u001b[38;5;129;01mnot\u001b[39;00m data_timeline\u001b[38;5;241m.\u001b[39merrors:\n\u001b[0;32m      9\u001b[0m         account2timeline[a] \u001b[38;5;241m=\u001b[39m [t\u001b[38;5;241m.\u001b[39mdata \u001b[38;5;28;01mfor\u001b[39;00m t \u001b[38;5;129;01min\u001b[39;00m data_timeline\u001b[38;5;241m.\u001b[39mdata]\n",
      "\u001b[1;31mNameError\u001b[0m: name 'twitter' is not defined"
     ]
    }
   ],
   "source": [
    "account2timeline = {}\n",
    "for i, a in enumerate(accountsID):\n",
    "    data_timeline = twitter.get_users_tweets(id = a,\n",
    "        max_results=100,\n",
    "        exclude='replies', \n",
    "        tweet_fields='entities'\n",
    "    )\n",
    "    if not data_timeline.errors:\n",
    "        account2timeline[a] = [t.data for t in data_timeline.data]\n",
    "    print(i, end=' ')"
   ]
  },
  {
   "cell_type": "markdown",
   "metadata": {
    "cell_id": "30e39cc4ae4f4a82b03f5cba2487f980",
    "deepnote_cell_height": 52.390625,
    "deepnote_cell_type": "markdown",
    "tags": []
   },
   "source": [
    "Le timeline degli account sono state salvate nel file pickle *data/account_timeline.pkl*."
   ]
  },
  {
   "cell_type": "code",
   "execution_count": null,
   "metadata": {
    "cell_id": "1d88f0c9c016464d88540a7b81a2494a",
    "deepnote_cell_type": "code",
    "deepnote_to_be_reexecuted": false,
    "execution_millis": 515,
    "execution_start": 1653587582117,
    "source_hash": null,
    "tags": []
   },
   "outputs": [],
   "source": [
    "pickle.dump(account2timeline,open('data/account_timeline.pkl','wb'))"
   ]
  },
  {
   "cell_type": "markdown",
   "metadata": {
    "cell_id": "7f1c6af908e3433d9567a6503b3ee11a",
    "deepnote_cell_type": "markdown"
   },
   "source": [
    "**Task**: I dati relativi alla timeline di ogni account in Twitter sono stati salvato nel file `data/account_timeline.pkl`. Caricare i dati utilizzando il modulo `pickle` e associarli all'identificatore `account2timeline`."
   ]
  },
  {
   "cell_type": "code",
   "execution_count": null,
   "metadata": {
    "cell_id": "0b361d82ab3749df92ce228062cc29cf",
    "deepnote_cell_type": "code",
    "deepnote_to_be_reexecuted": false,
    "execution_millis": 1141,
    "execution_start": 1714714423419,
    "source_hash": null,
    "tags": []
   },
   "outputs": [],
   "source": [
    "account2timeline = pickle.load(open('data/account_timeline.pkl','rb'))"
   ]
  },
  {
   "cell_type": "markdown",
   "metadata": {
    "cell_id": "739f8d18eac14d88abef206825d7bb9a",
    "deepnote_cell_type": "markdown"
   },
   "source": [
    "Vediamo come è strutturato l'informazione associata ad ogni account da analizzare."
   ]
  },
  {
   "cell_type": "code",
   "execution_count": null,
   "metadata": {
    "cell_id": "0b67b28f3d044ae783ec869012b59f1f",
    "deepnote_cell_type": "code",
    "deepnote_to_be_reexecuted": false,
    "execution_millis": 72,
    "execution_start": 1714675112249,
    "source_hash": null
   },
   "outputs": [
    {
     "data": {
      "text/plain": [
       "{'text': 'Quanto dobbiamo ancora attendere ? @Valerio_Scanu  #SCANUALLEIENE',\n",
       " 'entities': {'hashtags': [{'start': 51, 'end': 65, 'tag': 'SCANUALLEIENE'}],\n",
       "  'mentions': [{'start': 35,\n",
       "    'end': 49,\n",
       "    'username': 'Valerio_Scanu',\n",
       "    'id': '196985837'}]},\n",
       " 'id': '1496602774808809483'}"
      ]
     },
     "execution_count": 7,
     "metadata": {},
     "output_type": "execute_result"
    }
   ],
   "source": [
    "account2timeline['825436422609969152'][0]"
   ]
  },
  {
   "cell_type": "markdown",
   "metadata": {
    "cell_id": "2e34b6b5cf0740f3b01ab698b51d15a8",
    "deepnote_cell_height": 74.796875,
    "deepnote_cell_type": "markdown",
    "tags": []
   },
   "source": [
    "Valutiamo la porzione di account per i quali abbiamo a disposizione del contenuto testuale. In alcuni casi gli account potrebbero essere stati sospesi oppure non hanno eseguito alcuna attività legata alla produzione o al consumo dei tweet."
   ]
  },
  {
   "cell_type": "code",
   "execution_count": null,
   "metadata": {
    "cell_id": "5bfec1a0904c4fc7b8f70e41decdacea",
    "deepnote_cell_type": "code",
    "deepnote_to_be_reexecuted": false,
    "execution_millis": 56,
    "execution_start": 1714678030543,
    "source_hash": null,
    "tags": []
   },
   "outputs": [],
   "source": [
    "len([k for k, v in account2timeline.items() if len(v) > 0])"
   ]
  },
  {
   "cell_type": "markdown",
   "metadata": {
    "cell_id": "e8c6724e79cd487d96584c7c13a15844",
    "deepnote_cell_height": 62,
    "deepnote_cell_type": "markdown",
    "tags": []
   },
   "source": [
    "## Feature dal profilo dell'account"
   ]
  },
  {
   "cell_type": "markdown",
   "metadata": {
    "cell_id": "b3b8eb6e79ac410299bfbd6deda72cab",
    "deepnote_cell_type": "markdown"
   },
   "source": [
    "Procediamo nella trasformazione dei dati grezzi associati agli account. Per ogni account creiamo un vettore di proprietà numeriche a partire dalle informazioni associate all'account.\n",
    "\n",
    "Inizialmente definiamo un `DataFrame` vuoto che raccoglierà le rappresentazioni numeriche dei diversi account da classificare."
   ]
  },
  {
   "cell_type": "code",
   "execution_count": 9,
   "metadata": {
    "cell_id": "61b790b20e8646fca9c825eeda3ca3be",
    "deepnote_cell_type": "code",
    "deepnote_to_be_reexecuted": false,
    "execution_millis": 69,
    "execution_start": 1714675122345,
    "source_hash": null,
    "tags": []
   },
   "outputs": [],
   "source": [
    "accounts_matrix = pd.DataFrame()"
   ]
  },
  {
   "cell_type": "markdown",
   "metadata": {
    "cell_id": "626544d6d85148f5bce9b139ba528136",
    "deepnote_cell_height": 350.78125,
    "deepnote_cell_type": "markdown",
    "tags": []
   },
   "source": [
    "Dal dict che modella uno `User` contenuto in `account2profile` deriviamo una serie di proprietà:\n",
    "- lunghezza dello username e del name dell'account\n",
    "- distanza tra username e name mediante la **distanza di Levenshtein**, la quale restituisce il numero di operazione di aggiunta/rimozione caratterre per ottenere lo username partendo dallo screen name. **Suggerimento**: Per calcolare la distanza di Levenshtein utilizzare il codice `editdistance.eval(string1,string2)`\n",
    "- verifichiamo la presenza della descrizione del profilo - campo intero 0 o 1\n",
    "- verifichiamo la presenza della location del profilo - campo intero 0 o 1\n",
    "- l'età del profilo rispetto alla data di collezione dei dati (2019)\n",
    "- il numero di follower e friends\n",
    "- il rapporto tra il numero di follower e il numero di friend\n",
    "- il numero medio di like all'anno\n",
    "- il numero medio di tweet creati all'anno\n",
    "\n",
    "**Suggerimento**: Per calcolare l'età del profilo è possibile utilizzare il codice `2019 - datetime.strptime(<account_dict>['created_at'],'%a %b %d %H:%M:%S %z %Y').year`\n",
    "\n",
    "Tutte queste feature sono di tipo **numerico**."
   ]
  },
  {
   "cell_type": "markdown",
   "metadata": {
    "cell_id": "dc9b3410c2a24307b06183b9a258adba",
    "deepnote_cell_type": "markdown"
   },
   "source": [
    "**Task**: Completare le feature non definite"
   ]
  },
  {
   "cell_type": "code",
   "execution_count": null,
   "metadata": {},
   "outputs": [],
   "source": [
    "[account2profile[a]['statuses_count']/(2019 - datetime.strptime(account2profile[a]['created_at'],'%a %b %d %H:%M:%S %z %Y').year) for a in accountsID][:3]"
   ]
  },
  {
   "cell_type": "code",
   "execution_count": null,
   "metadata": {
    "cell_id": "a58a9bf495054e1c97c3ec8b6148fec1",
    "deepnote_cell_type": "code",
    "deepnote_to_be_reexecuted": false,
    "execution_millis": 98,
    "execution_start": 1714680695423,
    "source_hash": null,
    "tags": []
   },
   "outputs": [],
   "source": [
    "accounts_matrix['name_length'] = [len(account2profile[a]['name']) for a in accountsID]\n",
    "accounts_matrix['screen_name_length'] = [len(account2profile[a]['screen_name']) for a in accountsID]\n",
    "accounts_matrix['distance_name_screename'] = [editdistance.eval(account2profile[a]['name'],account2profile[a]['screen_name']) for a in accountsID]\n",
    "accounts_matrix['has_location'] = [1 if len(account2profile[a]['location']) > 0 else 0 for a in accountsID]\n",
    "accounts_matrix['has_description'] = [1 if account2profile[a]['description'] else 0 for a in accountsID]\n",
    "accounts_matrix['age'] = [2019 - datetime.strptime(account2profile[a]['created_at'],'%a %b %d %H:%M:%S %z %Y').year for a in accountsID]\n",
    "accounts_matrix['#_follow'] = [account2profile[a]['followers_count'] for a in accountsID]\n",
    "accounts_matrix['#_friend'] = [account2profile[a]['friends_count'] for a in accountsID]\n",
    "accounts_matrix['ratio_follow_friend'] = [account2profile[a]['followers_count']/(account2profile[a]['friends_count']+1) for a in accountsID]\n",
    "accounts_matrix['freq_favorite'] = [account2profile[a]['favourites_count']/(2019 - datetime.strptime(account2profile[a]['created_at'],'%a %b %d %H:%M:%S %z %Y').year) for a in accountsID]\n",
    "accounts_matrix['freq_production'] = [account2profile[a]['statuses_count']/(2019 - datetime.strptime(account2profile[a]['created_at'],'%a %b %d %H:%M:%S %z %Y').year) for a in accountsID]"
   ]
  },
  {
   "cell_type": "code",
   "execution_count": 14,
   "metadata": {
    "cell_id": "0096a4d4729b49b289a81c2926bfc135",
    "deepnote_cell_type": "code",
    "deepnote_to_be_reexecuted": false,
    "execution_millis": 121,
    "execution_start": 1683280471372,
    "source_hash": null
   },
   "outputs": [
    {
     "data": {
      "text/html": [
       "<div>\n",
       "<style scoped>\n",
       "    .dataframe tbody tr th:only-of-type {\n",
       "        vertical-align: middle;\n",
       "    }\n",
       "\n",
       "    .dataframe tbody tr th {\n",
       "        vertical-align: top;\n",
       "    }\n",
       "\n",
       "    .dataframe thead th {\n",
       "        text-align: right;\n",
       "    }\n",
       "</style>\n",
       "<table border=\"1\" class=\"dataframe\">\n",
       "  <thead>\n",
       "    <tr style=\"text-align: right;\">\n",
       "      <th></th>\n",
       "    </tr>\n",
       "  </thead>\n",
       "  <tbody>\n",
       "  </tbody>\n",
       "</table>\n",
       "</div>"
      ],
      "text/plain": [
       "Empty DataFrame\n",
       "Columns: []\n",
       "Index: []"
      ]
     },
     "execution_count": 14,
     "metadata": {},
     "output_type": "execute_result"
    }
   ],
   "source": [
    "accounts_matrix"
   ]
  },
  {
   "cell_type": "markdown",
   "metadata": {
    "cell_id": "6204676b0d034890b22940e56e29049f",
    "deepnote_cell_height": 62,
    "deepnote_cell_type": "markdown",
    "tags": []
   },
   "source": [
    "### Feature dalla timeline dell'account"
   ]
  },
  {
   "cell_type": "markdown",
   "metadata": {
    "cell_id": "27578f7e46d6412da9a83739df58d0ed",
    "deepnote_cell_height": 234.78125,
    "deepnote_cell_type": "markdown",
    "tags": []
   },
   "source": [
    "Creazione delle feature sfruttando i contenuti consumati e prodotti.\n",
    "\n",
    "In particolare vediamo come inizialmente aggiungere al DataFrame una colonna di tipo non numerico che contiene una stringa:\n",
    "- per ogni account abbiamo estratto una lista di oggetti Tweet con le relative **entities**;\n",
    "- da ogni tweet estraiamo gli hashtag utilizzati - gli hashtag sono un caso specifico di **entity**.\n",
    "- per ogni utente creiamo una stringa concatenando tutti gli hashtag utilizzati - separati da whitespace.\n",
    "\n",
    "Nel caso di account senza tweet o di account sospeso, restituiremo una stringa vuota."
   ]
  },
  {
   "cell_type": "code",
   "execution_count": null,
   "metadata": {},
   "outputs": [],
   "source": [
    "'-'.join(['ciao','bello','come','stai'])"
   ]
  },
  {
   "cell_type": "code",
   "execution_count": null,
   "metadata": {
    "cell_id": "fcb147c075b74cd7bf5ac1ac754ef9c4",
    "deepnote_cell_type": "code",
    "deepnote_to_be_reexecuted": false,
    "execution_millis": 14,
    "execution_start": 1714675137568,
    "source_hash": null,
    "tags": []
   },
   "outputs": [
    {
     "ename": "IndentationError",
     "evalue": "expected an indented block (2016181290.py, line 6)",
     "output_type": "error",
     "traceback": [
      "\u001b[0;36m  File \u001b[0;32m\"/tmp/ipykernel_84/2016181290.py\"\u001b[0;36m, line \u001b[0;32m6\u001b[0m\n\u001b[0;31m    return #TODO\u001b[0m\n\u001b[0m    ^\u001b[0m\n\u001b[0;31mIndentationError\u001b[0m\u001b[0;31m:\u001b[0m expected an indented block\n"
     ]
    }
   ],
   "source": [
    "def doc_from_content(tweets):\n",
    "    hashtags = []\n",
    "    for tweet in tweets:\n",
    "        for hashtag_obj in tweet.get('entities',{}).get('hashtags',[]):\n",
    "            hashtags.append(hashtag_obj['tag'])\n",
    "    return ' '.join(hashtags)"
   ]
  },
  {
   "cell_type": "code",
   "execution_count": null,
   "metadata": {},
   "outputs": [],
   "source": [
    "doc_from_content(account2timeline[ID_account_test])"
   ]
  },
  {
   "cell_type": "code",
   "execution_count": null,
   "metadata": {
    "cell_id": "366574cdc8514fef8bea2bb276650093",
    "deepnote_cell_type": "code",
    "deepnote_to_be_reexecuted": false,
    "execution_millis": 163,
    "execution_start": 1653681997675,
    "source_hash": null,
    "tags": []
   },
   "outputs": [],
   "source": [
    "accounts_matrix['doc'] = [doc_from_content(account2timeline[a]) if a in account2timeline else '' for a in accountsID]"
   ]
  },
  {
   "cell_type": "markdown",
   "metadata": {
    "cell_id": "16f5f48e0e33422a8f8fd9b98be02e6a",
    "deepnote_cell_height": 52.390625,
    "deepnote_cell_type": "markdown",
    "tags": []
   },
   "source": [
    "Infine inseriamo una colonna delle etichette."
   ]
  },
  {
   "cell_type": "code",
   "execution_count": null,
   "metadata": {
    "cell_id": "622d029143384ad5bd193696de8c96b7",
    "deepnote_cell_type": "code",
    "deepnote_to_be_reexecuted": false,
    "execution_millis": 2,
    "execution_start": 1683280661952,
    "source_hash": null,
    "tags": []
   },
   "outputs": [],
   "source": [
    "accounts_matrix['label'] = [account2label[a] for a in accountsID]"
   ]
  },
  {
   "cell_type": "code",
   "execution_count": null,
   "metadata": {
    "cell_id": "3e8506013f074d37a4dea8aeecd3afe1",
    "deepnote_cell_type": "code",
    "deepnote_to_be_reexecuted": false,
    "execution_millis": 61,
    "execution_start": 1653638972576,
    "source_hash": null,
    "tags": []
   },
   "outputs": [],
   "source": [
    "accounts_matrix"
   ]
  },
  {
   "cell_type": "markdown",
   "metadata": {
    "cell_id": "b19fd87d98c94db891f99d56939a109e",
    "deepnote_cell_height": 52.390625,
    "deepnote_cell_type": "markdown",
    "tags": []
   },
   "source": [
    "Dimensione della feature matrix originale."
   ]
  },
  {
   "cell_type": "code",
   "execution_count": null,
   "metadata": {
    "cell_id": "572b41c94b77415fb845b55e5b6ccec6",
    "deepnote_cell_type": "code",
    "deepnote_to_be_reexecuted": false,
    "execution_millis": 0,
    "execution_start": 1683280604499,
    "source_hash": null,
    "tags": []
   },
   "outputs": [
    {
     "data": {
      "text/plain": [
       "(693, 11)"
      ]
     },
     "execution_count": 7,
     "metadata": {},
     "output_type": "execute_result"
    }
   ],
   "source": [
    "accounts_matrix.shape"
   ]
  },
  {
   "cell_type": "markdown",
   "metadata": {
    "cell_id": "8b868038f7554221b307ccb60791c0bd",
    "deepnote_cell_height": 88.796875,
    "deepnote_cell_type": "markdown",
    "tags": []
   },
   "source": [
    "Dobbiamo, però eliminare le righe corrispondenti ad account caratterizzati dal campo 'doc' vuoto.\n",
    "\n",
    "In questo caso selezioniamo le righe che hanno il campo 'doc' diverso dalla stringa vuota."
   ]
  },
  {
   "cell_type": "code",
   "execution_count": null,
   "metadata": {
    "cell_id": "4d4cb82b52ee4d69b07f9ae3c1fed5b3",
    "deepnote_cell_type": "code",
    "deepnote_to_be_reexecuted": false,
    "execution_millis": 0,
    "execution_start": 1653682014404,
    "source_hash": null,
    "tags": []
   },
   "outputs": [],
   "source": [
    "accounts_matrix = accounts_matrix[accounts_matrix['doc'] != '']"
   ]
  },
  {
   "cell_type": "code",
   "execution_count": null,
   "metadata": {
    "cell_id": "9f749e21e379425da606061104f84d99",
    "deepnote_cell_type": "code",
    "deepnote_to_be_reexecuted": false,
    "execution_millis": 641,
    "execution_start": 1653639329617,
    "source_hash": null,
    "tags": []
   },
   "outputs": [
    {
     "data": {
      "text/plain": [
       "(584, 13)"
      ]
     },
     "execution_count": 16,
     "metadata": {},
     "output_type": "execute_result"
    }
   ],
   "source": [
    "accounts_matrix.shape"
   ]
  },
  {
   "cell_type": "markdown",
   "metadata": {
    "cell_id": "eeb094e9585a4cddbf275a9e1dff848f",
    "deepnote_cell_height": 74.796875,
    "deepnote_cell_type": "markdown",
    "tags": []
   },
   "source": [
    "Infine, prima di eseguire la fase di classificazione, estraiamo la colonna delle etichette e rimuoviamo la colonna dal dataframe che utilizzeremo per addestrare il classificatore."
   ]
  },
  {
   "cell_type": "code",
   "execution_count": null,
   "metadata": {
    "cell_id": "13692080e25c4cada8f2a6d44d871da8",
    "deepnote_cell_type": "code",
    "deepnote_to_be_reexecuted": false,
    "execution_millis": 1,
    "execution_start": 1683280738418,
    "source_hash": null,
    "tags": []
   },
   "outputs": [],
   "source": [
    "labels = accounts_matrix['label']\n",
    "accounts_matrix.drop('label', axis=1, inplace=True)"
   ]
  },
  {
   "cell_type": "code",
   "execution_count": null,
   "metadata": {
    "cell_id": "bdd6120d5b94454ea2987cc684132016",
    "deepnote_cell_type": "code",
    "deepnote_to_be_reexecuted": false,
    "execution_millis": 5,
    "execution_start": 1683280757063,
    "source_hash": null
   },
   "outputs": [
    {
     "data": {
      "text/plain": [
       "((693,), (693, 11))"
      ]
     },
     "execution_count": 10,
     "metadata": {},
     "output_type": "execute_result"
    }
   ],
   "source": [
    "labels.shape, accounts_matrix.shape"
   ]
  },
  {
   "cell_type": "markdown",
   "metadata": {
    "cell_id": "e2437c90d8104a7299e1410ca528336b",
    "deepnote_cell_height": 70,
    "deepnote_cell_type": "markdown",
    "tags": []
   },
   "source": [
    "## Pre-processing per la classificazione\n"
   ]
  },
  {
   "cell_type": "markdown",
   "metadata": {
    "cell_id": "9558e978e3ce4714b246b17aaf413c9a",
    "deepnote_cell_height": 338.375,
    "deepnote_cell_type": "markdown",
    "tags": []
   },
   "source": [
    "Riportando il problema della bot detection in una problema di classificazione binaria, stiamo cercando di apprendere una funzione $f:\\mathcal{R}^n \\rightarrow [0,1]$ tale per cui se un account è un bot viene restituito 1, altrimenti 0.\n",
    "\n",
    "Prima di procedere alla fase di training, dobbiamo applicare una serie di trasformazioni alle colonne del DataFrame in modo da 'facilitare' il processo di training da un lato, e trasformare le informazioni non numeriche - colonna 'doc' - in informazioni numeriche, dall'altro lato. \n",
    "\n",
    "Per raggiungere questo obiettivo, utilizziamo un oggetto di tipo **ColumnTransformer**. Questo oggetto permette di descrivere le trasformazioni che devono essere applicate a ciascuna colonna, mediante una sintassi dichiarativa."
   ]
  },
  {
   "cell_type": "markdown",
   "metadata": {
    "cell_id": "c8992887b1df40e9b7fb5975ad6e6f0e",
    "deepnote_cell_height": 97.1875,
    "deepnote_cell_type": "markdown",
    "tags": []
   },
   "source": [
    "Per ragioni prettamente dimostrative applichiamo alle feature numeriche due tipi diversi di standardizzazione, mentre per la colonna testuale, applichiamo una pipeline di trasformazioni in modo da ottenere una descrizione vettoriale dell'insieme dei documenti derivati dai tweet."
   ]
  },
  {
   "cell_type": "code",
   "execution_count": null,
   "metadata": {
    "cell_id": "86d5e13a994a4ed880771638883234d1",
    "deepnote_cell_type": "code",
    "deepnote_to_be_reexecuted": false,
    "execution_millis": 1,
    "execution_start": 1683281664816,
    "source_hash": null,
    "tags": []
   },
   "outputs": [],
   "source": [
    "dataframe_tf = ColumnTransformer([\n",
    "        ('numerical_minmax', MinMaxScaler(), ['age','distance_name_screename']),\n",
    "        ('numerical_standard', StandardScaler(), ['name_length','screen_name_length','ratio_follow_friend']),\n",
    "        ('numerical_change_distro', PowerTransformer(), ['freq_favorite','freq_production','#_follow','#_friend'])\n",
    "    ],\n",
    "    remainder='passthrough'\n",
    ")"
   ]
  },
  {
   "cell_type": "markdown",
   "metadata": {
    "cell_id": "95e4098495b9429b802f70534b180142",
    "deepnote_cell_height": 52.390625,
    "deepnote_cell_type": "markdown",
    "tags": []
   },
   "source": [
    "Di seguito possiamo vedere la struttura dell'intera fase di pre-processing."
   ]
  },
  {
   "cell_type": "code",
   "execution_count": null,
   "metadata": {
    "cell_id": "70e0c4f4cc5e4c869c9096f3d0f9afd8",
    "deepnote_cell_type": "code",
    "deepnote_to_be_reexecuted": false,
    "execution_millis": 10,
    "execution_start": 1683281671979,
    "source_hash": null,
    "tags": []
   },
   "outputs": [
    {
     "data": {
      "text/html": [
       "<style>#sk-8b406dfc-2b3c-431c-8d38-80340cf95025 {color: black;background-color: white;}#sk-8b406dfc-2b3c-431c-8d38-80340cf95025 pre{padding: 0;}#sk-8b406dfc-2b3c-431c-8d38-80340cf95025 div.sk-toggleable {background-color: white;}#sk-8b406dfc-2b3c-431c-8d38-80340cf95025 label.sk-toggleable__label {cursor: pointer;display: block;width: 100%;margin-bottom: 0;padding: 0.3em;box-sizing: border-box;text-align: center;}#sk-8b406dfc-2b3c-431c-8d38-80340cf95025 label.sk-toggleable__label-arrow:before {content: \"▸\";float: left;margin-right: 0.25em;color: #696969;}#sk-8b406dfc-2b3c-431c-8d38-80340cf95025 label.sk-toggleable__label-arrow:hover:before {color: black;}#sk-8b406dfc-2b3c-431c-8d38-80340cf95025 div.sk-estimator:hover label.sk-toggleable__label-arrow:before {color: black;}#sk-8b406dfc-2b3c-431c-8d38-80340cf95025 div.sk-toggleable__content {max-height: 0;max-width: 0;overflow: hidden;text-align: left;background-color: #f0f8ff;}#sk-8b406dfc-2b3c-431c-8d38-80340cf95025 div.sk-toggleable__content pre {margin: 0.2em;color: black;border-radius: 0.25em;background-color: #f0f8ff;}#sk-8b406dfc-2b3c-431c-8d38-80340cf95025 input.sk-toggleable__control:checked~div.sk-toggleable__content {max-height: 200px;max-width: 100%;overflow: auto;}#sk-8b406dfc-2b3c-431c-8d38-80340cf95025 input.sk-toggleable__control:checked~label.sk-toggleable__label-arrow:before {content: \"▾\";}#sk-8b406dfc-2b3c-431c-8d38-80340cf95025 div.sk-estimator input.sk-toggleable__control:checked~label.sk-toggleable__label {background-color: #d4ebff;}#sk-8b406dfc-2b3c-431c-8d38-80340cf95025 div.sk-label input.sk-toggleable__control:checked~label.sk-toggleable__label {background-color: #d4ebff;}#sk-8b406dfc-2b3c-431c-8d38-80340cf95025 input.sk-hidden--visually {border: 0;clip: rect(1px 1px 1px 1px);clip: rect(1px, 1px, 1px, 1px);height: 1px;margin: -1px;overflow: hidden;padding: 0;position: absolute;width: 1px;}#sk-8b406dfc-2b3c-431c-8d38-80340cf95025 div.sk-estimator {font-family: monospace;background-color: #f0f8ff;border: 1px dotted black;border-radius: 0.25em;box-sizing: border-box;margin-bottom: 0.5em;}#sk-8b406dfc-2b3c-431c-8d38-80340cf95025 div.sk-estimator:hover {background-color: #d4ebff;}#sk-8b406dfc-2b3c-431c-8d38-80340cf95025 div.sk-parallel-item::after {content: \"\";width: 100%;border-bottom: 1px solid gray;flex-grow: 1;}#sk-8b406dfc-2b3c-431c-8d38-80340cf95025 div.sk-label:hover label.sk-toggleable__label {background-color: #d4ebff;}#sk-8b406dfc-2b3c-431c-8d38-80340cf95025 div.sk-serial::before {content: \"\";position: absolute;border-left: 1px solid gray;box-sizing: border-box;top: 2em;bottom: 0;left: 50%;}#sk-8b406dfc-2b3c-431c-8d38-80340cf95025 div.sk-serial {display: flex;flex-direction: column;align-items: center;background-color: white;padding-right: 0.2em;padding-left: 0.2em;}#sk-8b406dfc-2b3c-431c-8d38-80340cf95025 div.sk-item {z-index: 1;}#sk-8b406dfc-2b3c-431c-8d38-80340cf95025 div.sk-parallel {display: flex;align-items: stretch;justify-content: center;background-color: white;}#sk-8b406dfc-2b3c-431c-8d38-80340cf95025 div.sk-parallel::before {content: \"\";position: absolute;border-left: 1px solid gray;box-sizing: border-box;top: 2em;bottom: 0;left: 50%;}#sk-8b406dfc-2b3c-431c-8d38-80340cf95025 div.sk-parallel-item {display: flex;flex-direction: column;position: relative;background-color: white;}#sk-8b406dfc-2b3c-431c-8d38-80340cf95025 div.sk-parallel-item:first-child::after {align-self: flex-end;width: 50%;}#sk-8b406dfc-2b3c-431c-8d38-80340cf95025 div.sk-parallel-item:last-child::after {align-self: flex-start;width: 50%;}#sk-8b406dfc-2b3c-431c-8d38-80340cf95025 div.sk-parallel-item:only-child::after {width: 0;}#sk-8b406dfc-2b3c-431c-8d38-80340cf95025 div.sk-dashed-wrapped {border: 1px dashed gray;margin: 0 0.4em 0.5em 0.4em;box-sizing: border-box;padding-bottom: 0.4em;background-color: white;position: relative;}#sk-8b406dfc-2b3c-431c-8d38-80340cf95025 div.sk-label label {font-family: monospace;font-weight: bold;background-color: white;display: inline-block;line-height: 1.2em;}#sk-8b406dfc-2b3c-431c-8d38-80340cf95025 div.sk-label-container {position: relative;z-index: 2;text-align: center;}#sk-8b406dfc-2b3c-431c-8d38-80340cf95025 div.sk-container {/* jupyter's `normalize.less` sets `[hidden] { display: none; }` but bootstrap.min.css set `[hidden] { display: none !important; }` so we also need the `!important` here to be able to override the default hidden behavior on the sphinx rendered scikit-learn.org. See: https://github.com/scikit-learn/scikit-learn/issues/21755 */display: inline-block !important;position: relative;}#sk-8b406dfc-2b3c-431c-8d38-80340cf95025 div.sk-text-repr-fallback {display: none;}</style><div id=\"sk-8b406dfc-2b3c-431c-8d38-80340cf95025\" class=\"sk-top-container\"><div class=\"sk-text-repr-fallback\"><pre>ColumnTransformer(remainder=&#x27;passthrough&#x27;,\n",
       "                  transformers=[(&#x27;numerical_minmax&#x27;, MinMaxScaler(),\n",
       "                                 [&#x27;age&#x27;, &#x27;distance_name_screename&#x27;]),\n",
       "                                (&#x27;numerical_standard&#x27;, StandardScaler(),\n",
       "                                 [&#x27;name_length&#x27;, &#x27;screen_name_length&#x27;,\n",
       "                                  &#x27;ratio_follow_friend&#x27;]),\n",
       "                                (&#x27;numerical_change_distro&#x27;, PowerTransformer(),\n",
       "                                 [&#x27;freq_favorite&#x27;, &#x27;freq_production&#x27;,\n",
       "                                  &#x27;#_follow&#x27;, &#x27;#_friend&#x27;])])</pre><b>Please rerun this cell to show the HTML repr or trust the notebook.</b></div><div class=\"sk-container\" hidden><div class=\"sk-item sk-dashed-wrapped\"><div class=\"sk-label-container\"><div class=\"sk-label sk-toggleable\"><input class=\"sk-toggleable__control sk-hidden--visually\" id=\"d40c7a7e-6a60-4424-920d-3b43c2bd2551\" type=\"checkbox\" ><label for=\"d40c7a7e-6a60-4424-920d-3b43c2bd2551\" class=\"sk-toggleable__label sk-toggleable__label-arrow\">ColumnTransformer</label><div class=\"sk-toggleable__content\"><pre>ColumnTransformer(remainder=&#x27;passthrough&#x27;,\n",
       "                  transformers=[(&#x27;numerical_minmax&#x27;, MinMaxScaler(),\n",
       "                                 [&#x27;age&#x27;, &#x27;distance_name_screename&#x27;]),\n",
       "                                (&#x27;numerical_standard&#x27;, StandardScaler(),\n",
       "                                 [&#x27;name_length&#x27;, &#x27;screen_name_length&#x27;,\n",
       "                                  &#x27;ratio_follow_friend&#x27;]),\n",
       "                                (&#x27;numerical_change_distro&#x27;, PowerTransformer(),\n",
       "                                 [&#x27;freq_favorite&#x27;, &#x27;freq_production&#x27;,\n",
       "                                  &#x27;#_follow&#x27;, &#x27;#_friend&#x27;])])</pre></div></div></div><div class=\"sk-parallel\"><div class=\"sk-parallel-item\"><div class=\"sk-item\"><div class=\"sk-label-container\"><div class=\"sk-label sk-toggleable\"><input class=\"sk-toggleable__control sk-hidden--visually\" id=\"df448b8a-7e2b-4507-b230-ea2a914fe41d\" type=\"checkbox\" ><label for=\"df448b8a-7e2b-4507-b230-ea2a914fe41d\" class=\"sk-toggleable__label sk-toggleable__label-arrow\">numerical_minmax</label><div class=\"sk-toggleable__content\"><pre>[&#x27;age&#x27;, &#x27;distance_name_screename&#x27;]</pre></div></div></div><div class=\"sk-serial\"><div class=\"sk-item\"><div class=\"sk-estimator sk-toggleable\"><input class=\"sk-toggleable__control sk-hidden--visually\" id=\"8e51de56-e9c6-420b-9d66-9e14341fe821\" type=\"checkbox\" ><label for=\"8e51de56-e9c6-420b-9d66-9e14341fe821\" class=\"sk-toggleable__label sk-toggleable__label-arrow\">MinMaxScaler</label><div class=\"sk-toggleable__content\"><pre>MinMaxScaler()</pre></div></div></div></div></div></div><div class=\"sk-parallel-item\"><div class=\"sk-item\"><div class=\"sk-label-container\"><div class=\"sk-label sk-toggleable\"><input class=\"sk-toggleable__control sk-hidden--visually\" id=\"9f91db6a-f1aa-4a1e-8677-1ce193a49f08\" type=\"checkbox\" ><label for=\"9f91db6a-f1aa-4a1e-8677-1ce193a49f08\" class=\"sk-toggleable__label sk-toggleable__label-arrow\">numerical_standard</label><div class=\"sk-toggleable__content\"><pre>[&#x27;name_length&#x27;, &#x27;screen_name_length&#x27;, &#x27;ratio_follow_friend&#x27;]</pre></div></div></div><div class=\"sk-serial\"><div class=\"sk-item\"><div class=\"sk-estimator sk-toggleable\"><input class=\"sk-toggleable__control sk-hidden--visually\" id=\"03462625-c107-41cc-a38d-7cd7f4a66c20\" type=\"checkbox\" ><label for=\"03462625-c107-41cc-a38d-7cd7f4a66c20\" class=\"sk-toggleable__label sk-toggleable__label-arrow\">StandardScaler</label><div class=\"sk-toggleable__content\"><pre>StandardScaler()</pre></div></div></div></div></div></div><div class=\"sk-parallel-item\"><div class=\"sk-item\"><div class=\"sk-label-container\"><div class=\"sk-label sk-toggleable\"><input class=\"sk-toggleable__control sk-hidden--visually\" id=\"1faea321-522f-435f-a150-b6f5655f9022\" type=\"checkbox\" ><label for=\"1faea321-522f-435f-a150-b6f5655f9022\" class=\"sk-toggleable__label sk-toggleable__label-arrow\">numerical_change_distro</label><div class=\"sk-toggleable__content\"><pre>[&#x27;freq_favorite&#x27;, &#x27;freq_production&#x27;, &#x27;#_follow&#x27;, &#x27;#_friend&#x27;]</pre></div></div></div><div class=\"sk-serial\"><div class=\"sk-item\"><div class=\"sk-estimator sk-toggleable\"><input class=\"sk-toggleable__control sk-hidden--visually\" id=\"45e16633-3ad8-4259-8e48-b497e75758ef\" type=\"checkbox\" ><label for=\"45e16633-3ad8-4259-8e48-b497e75758ef\" class=\"sk-toggleable__label sk-toggleable__label-arrow\">PowerTransformer</label><div class=\"sk-toggleable__content\"><pre>PowerTransformer()</pre></div></div></div></div></div></div><div class=\"sk-parallel-item\"><div class=\"sk-item\"><div class=\"sk-label-container\"><div class=\"sk-label sk-toggleable\"><input class=\"sk-toggleable__control sk-hidden--visually\" id=\"aca4b1e1-f3da-4747-a37a-2d2de355ea96\" type=\"checkbox\" ><label for=\"aca4b1e1-f3da-4747-a37a-2d2de355ea96\" class=\"sk-toggleable__label sk-toggleable__label-arrow\">remainder</label><div class=\"sk-toggleable__content\"><pre></pre></div></div></div><div class=\"sk-serial\"><div class=\"sk-item\"><div class=\"sk-estimator sk-toggleable\"><input class=\"sk-toggleable__control sk-hidden--visually\" id=\"7187fa1a-97db-4335-ac43-304d9b736741\" type=\"checkbox\" ><label for=\"7187fa1a-97db-4335-ac43-304d9b736741\" class=\"sk-toggleable__label sk-toggleable__label-arrow\">passthrough</label><div class=\"sk-toggleable__content\"><pre>passthrough</pre></div></div></div></div></div></div></div></div></div></div>"
      ],
      "text/plain": [
       "ColumnTransformer(remainder='passthrough',\n",
       "                  transformers=[('numerical_minmax', MinMaxScaler(),\n",
       "                                 ['age', 'distance_name_screename']),\n",
       "                                ('numerical_standard', StandardScaler(),\n",
       "                                 ['name_length', 'screen_name_length',\n",
       "                                  'ratio_follow_friend']),\n",
       "                                ('numerical_change_distro', PowerTransformer(),\n",
       "                                 ['freq_favorite', 'freq_production',\n",
       "                                  '#_follow', '#_friend'])])"
      ]
     },
     "execution_count": 12,
     "metadata": {},
     "output_type": "execute_result"
    }
   ],
   "source": [
    "dataframe_tf"
   ]
  },
  {
   "cell_type": "code",
   "execution_count": null,
   "metadata": {
    "cell_id": "ab246dd3a3314ba0aed65ead6446e2c6",
    "deepnote_cell_type": "code",
    "deepnote_to_be_reexecuted": false,
    "execution_millis": 32,
    "execution_start": 1683281848720,
    "source_hash": null,
    "tags": []
   },
   "outputs": [
    {
     "data": {
      "text/plain": [
       "(693, 11)"
      ]
     },
     "execution_count": 14,
     "metadata": {},
     "output_type": "execute_result"
    }
   ],
   "source": [
    "dataframe_tf.fit_transform(accounts_matrix).shape"
   ]
  },
  {
   "cell_type": "markdown",
   "metadata": {
    "cell_id": "598a639393204fa98514fa81797b19d4",
    "deepnote_cell_height": 70,
    "deepnote_cell_type": "markdown",
    "tags": []
   },
   "source": [
    "## Classificazione"
   ]
  },
  {
   "cell_type": "markdown",
   "metadata": {
    "cell_id": "c45119492f7c4571ae50eb7d70fe2180",
    "deepnote_cell_height": 97.1875,
    "deepnote_cell_type": "markdown",
    "tags": []
   },
   "source": [
    "Possiamo procedere ora con la fase di training, introducendo un ulteriore elemento dato dall'oggetto **Pipeline** che ci permette di integrare la fase di training insieme alla fase di pre-processing, in modo tale da avere un unico oggetto che descrive l'intero processo utilizzato per apprendere la funzione $f$ partendo dalla matrice delle feature originale."
   ]
  },
  {
   "cell_type": "markdown",
   "metadata": {
    "cell_id": "02ef1e2b8ec743d891edc3f426e74d11",
    "deepnote_cell_height": 52.390625,
    "deepnote_cell_type": "markdown",
    "tags": []
   },
   "source": [
    "Definiamo per prima cosa sempre il training e test set, ponendo nel test set circa il 20% delle istanze."
   ]
  },
  {
   "cell_type": "code",
   "execution_count": null,
   "metadata": {
    "cell_id": "03d616d6f9eb4a2ea40a95cb41df7f00",
    "deepnote_cell_type": "code",
    "deepnote_to_be_reexecuted": false,
    "execution_millis": 6,
    "execution_start": 1683283227680,
    "source_hash": null,
    "tags": []
   },
   "outputs": [],
   "source": [
    "X_train,X_test,y_train,y_test = # TODO"
   ]
  },
  {
   "cell_type": "markdown",
   "metadata": {
    "cell_id": "d72d81f8b113442897a832fa059b3dd6",
    "deepnote_cell_height": 52.390625,
    "deepnote_cell_type": "markdown",
    "tags": []
   },
   "source": [
    "Notiamo come in questo caso, `X_train` e `X_test` siano `DataFrame`."
   ]
  },
  {
   "cell_type": "markdown",
   "metadata": {
    "cell_id": "68a48be132a641a29eec2e5a6f775a9e",
    "deepnote_cell_height": 74.796875,
    "deepnote_cell_type": "markdown",
    "tags": []
   },
   "source": [
    "Mediante l'oggetto Pipeline possiamo mettere in sequenza la fase di pre-processing e il training del classificatore. Anche in questo caso viene utilizzato una sintassi dichiarativa in cui si specificano il nome della fase e l'oggetto che è destinato a gestire la fase."
   ]
  },
  {
   "cell_type": "code",
   "execution_count": null,
   "metadata": {
    "cell_id": "d359a657375f4a619d48248b3967582c",
    "deepnote_cell_type": "code",
    "deepnote_to_be_reexecuted": false,
    "execution_millis": 4,
    "execution_start": 1683282351356,
    "source_hash": null,
    "tags": []
   },
   "outputs": [],
   "source": [
    "bot_detector = Pipeline([\n",
    "    ('preprocessing', dataframe_tf),\n",
    "    ('classifier', LogisticRegression(penalty='none'))\n",
    "])"
   ]
  },
  {
   "cell_type": "code",
   "execution_count": null,
   "metadata": {
    "cell_id": "d184a6badc5f4d2c949507fbbe825a3f",
    "deepnote_cell_type": "code",
    "deepnote_to_be_reexecuted": false,
    "execution_millis": 5,
    "execution_start": 1683282374037,
    "source_hash": null,
    "tags": []
   },
   "outputs": [
    {
     "data": {
      "text/html": [
       "<style>#sk-e3907ad6-49d9-4f16-ac01-83adaab31e85 {color: black;background-color: white;}#sk-e3907ad6-49d9-4f16-ac01-83adaab31e85 pre{padding: 0;}#sk-e3907ad6-49d9-4f16-ac01-83adaab31e85 div.sk-toggleable {background-color: white;}#sk-e3907ad6-49d9-4f16-ac01-83adaab31e85 label.sk-toggleable__label {cursor: pointer;display: block;width: 100%;margin-bottom: 0;padding: 0.3em;box-sizing: border-box;text-align: center;}#sk-e3907ad6-49d9-4f16-ac01-83adaab31e85 label.sk-toggleable__label-arrow:before {content: \"▸\";float: left;margin-right: 0.25em;color: #696969;}#sk-e3907ad6-49d9-4f16-ac01-83adaab31e85 label.sk-toggleable__label-arrow:hover:before {color: black;}#sk-e3907ad6-49d9-4f16-ac01-83adaab31e85 div.sk-estimator:hover label.sk-toggleable__label-arrow:before {color: black;}#sk-e3907ad6-49d9-4f16-ac01-83adaab31e85 div.sk-toggleable__content {max-height: 0;max-width: 0;overflow: hidden;text-align: left;background-color: #f0f8ff;}#sk-e3907ad6-49d9-4f16-ac01-83adaab31e85 div.sk-toggleable__content pre {margin: 0.2em;color: black;border-radius: 0.25em;background-color: #f0f8ff;}#sk-e3907ad6-49d9-4f16-ac01-83adaab31e85 input.sk-toggleable__control:checked~div.sk-toggleable__content {max-height: 200px;max-width: 100%;overflow: auto;}#sk-e3907ad6-49d9-4f16-ac01-83adaab31e85 input.sk-toggleable__control:checked~label.sk-toggleable__label-arrow:before {content: \"▾\";}#sk-e3907ad6-49d9-4f16-ac01-83adaab31e85 div.sk-estimator input.sk-toggleable__control:checked~label.sk-toggleable__label {background-color: #d4ebff;}#sk-e3907ad6-49d9-4f16-ac01-83adaab31e85 div.sk-label input.sk-toggleable__control:checked~label.sk-toggleable__label {background-color: #d4ebff;}#sk-e3907ad6-49d9-4f16-ac01-83adaab31e85 input.sk-hidden--visually {border: 0;clip: rect(1px 1px 1px 1px);clip: rect(1px, 1px, 1px, 1px);height: 1px;margin: -1px;overflow: hidden;padding: 0;position: absolute;width: 1px;}#sk-e3907ad6-49d9-4f16-ac01-83adaab31e85 div.sk-estimator {font-family: monospace;background-color: #f0f8ff;border: 1px dotted black;border-radius: 0.25em;box-sizing: border-box;margin-bottom: 0.5em;}#sk-e3907ad6-49d9-4f16-ac01-83adaab31e85 div.sk-estimator:hover {background-color: #d4ebff;}#sk-e3907ad6-49d9-4f16-ac01-83adaab31e85 div.sk-parallel-item::after {content: \"\";width: 100%;border-bottom: 1px solid gray;flex-grow: 1;}#sk-e3907ad6-49d9-4f16-ac01-83adaab31e85 div.sk-label:hover label.sk-toggleable__label {background-color: #d4ebff;}#sk-e3907ad6-49d9-4f16-ac01-83adaab31e85 div.sk-serial::before {content: \"\";position: absolute;border-left: 1px solid gray;box-sizing: border-box;top: 2em;bottom: 0;left: 50%;}#sk-e3907ad6-49d9-4f16-ac01-83adaab31e85 div.sk-serial {display: flex;flex-direction: column;align-items: center;background-color: white;padding-right: 0.2em;padding-left: 0.2em;}#sk-e3907ad6-49d9-4f16-ac01-83adaab31e85 div.sk-item {z-index: 1;}#sk-e3907ad6-49d9-4f16-ac01-83adaab31e85 div.sk-parallel {display: flex;align-items: stretch;justify-content: center;background-color: white;}#sk-e3907ad6-49d9-4f16-ac01-83adaab31e85 div.sk-parallel::before {content: \"\";position: absolute;border-left: 1px solid gray;box-sizing: border-box;top: 2em;bottom: 0;left: 50%;}#sk-e3907ad6-49d9-4f16-ac01-83adaab31e85 div.sk-parallel-item {display: flex;flex-direction: column;position: relative;background-color: white;}#sk-e3907ad6-49d9-4f16-ac01-83adaab31e85 div.sk-parallel-item:first-child::after {align-self: flex-end;width: 50%;}#sk-e3907ad6-49d9-4f16-ac01-83adaab31e85 div.sk-parallel-item:last-child::after {align-self: flex-start;width: 50%;}#sk-e3907ad6-49d9-4f16-ac01-83adaab31e85 div.sk-parallel-item:only-child::after {width: 0;}#sk-e3907ad6-49d9-4f16-ac01-83adaab31e85 div.sk-dashed-wrapped {border: 1px dashed gray;margin: 0 0.4em 0.5em 0.4em;box-sizing: border-box;padding-bottom: 0.4em;background-color: white;position: relative;}#sk-e3907ad6-49d9-4f16-ac01-83adaab31e85 div.sk-label label {font-family: monospace;font-weight: bold;background-color: white;display: inline-block;line-height: 1.2em;}#sk-e3907ad6-49d9-4f16-ac01-83adaab31e85 div.sk-label-container {position: relative;z-index: 2;text-align: center;}#sk-e3907ad6-49d9-4f16-ac01-83adaab31e85 div.sk-container {/* jupyter's `normalize.less` sets `[hidden] { display: none; }` but bootstrap.min.css set `[hidden] { display: none !important; }` so we also need the `!important` here to be able to override the default hidden behavior on the sphinx rendered scikit-learn.org. See: https://github.com/scikit-learn/scikit-learn/issues/21755 */display: inline-block !important;position: relative;}#sk-e3907ad6-49d9-4f16-ac01-83adaab31e85 div.sk-text-repr-fallback {display: none;}</style><div id=\"sk-e3907ad6-49d9-4f16-ac01-83adaab31e85\" class=\"sk-top-container\"><div class=\"sk-text-repr-fallback\"><pre>Pipeline(steps=[(&#x27;preprocessing&#x27;,\n",
       "                 ColumnTransformer(remainder=&#x27;passthrough&#x27;,\n",
       "                                   transformers=[(&#x27;numerical_minmax&#x27;,\n",
       "                                                  MinMaxScaler(),\n",
       "                                                  [&#x27;age&#x27;,\n",
       "                                                   &#x27;distance_name_screename&#x27;]),\n",
       "                                                 (&#x27;numerical_standard&#x27;,\n",
       "                                                  StandardScaler(),\n",
       "                                                  [&#x27;name_length&#x27;,\n",
       "                                                   &#x27;screen_name_length&#x27;,\n",
       "                                                   &#x27;ratio_follow_friend&#x27;]),\n",
       "                                                 (&#x27;numerical_change_distro&#x27;,\n",
       "                                                  PowerTransformer(),\n",
       "                                                  [&#x27;freq_favorite&#x27;,\n",
       "                                                   &#x27;freq_production&#x27;,\n",
       "                                                   &#x27;#_follow&#x27;, &#x27;#_friend&#x27;])])),\n",
       "                (&#x27;classifier&#x27;, LogisticRegression(penalty=&#x27;none&#x27;))])</pre><b>Please rerun this cell to show the HTML repr or trust the notebook.</b></div><div class=\"sk-container\" hidden><div class=\"sk-item sk-dashed-wrapped\"><div class=\"sk-label-container\"><div class=\"sk-label sk-toggleable\"><input class=\"sk-toggleable__control sk-hidden--visually\" id=\"d4d5eeac-878f-482a-9495-a56875387f06\" type=\"checkbox\" ><label for=\"d4d5eeac-878f-482a-9495-a56875387f06\" class=\"sk-toggleable__label sk-toggleable__label-arrow\">Pipeline</label><div class=\"sk-toggleable__content\"><pre>Pipeline(steps=[(&#x27;preprocessing&#x27;,\n",
       "                 ColumnTransformer(remainder=&#x27;passthrough&#x27;,\n",
       "                                   transformers=[(&#x27;numerical_minmax&#x27;,\n",
       "                                                  MinMaxScaler(),\n",
       "                                                  [&#x27;age&#x27;,\n",
       "                                                   &#x27;distance_name_screename&#x27;]),\n",
       "                                                 (&#x27;numerical_standard&#x27;,\n",
       "                                                  StandardScaler(),\n",
       "                                                  [&#x27;name_length&#x27;,\n",
       "                                                   &#x27;screen_name_length&#x27;,\n",
       "                                                   &#x27;ratio_follow_friend&#x27;]),\n",
       "                                                 (&#x27;numerical_change_distro&#x27;,\n",
       "                                                  PowerTransformer(),\n",
       "                                                  [&#x27;freq_favorite&#x27;,\n",
       "                                                   &#x27;freq_production&#x27;,\n",
       "                                                   &#x27;#_follow&#x27;, &#x27;#_friend&#x27;])])),\n",
       "                (&#x27;classifier&#x27;, LogisticRegression(penalty=&#x27;none&#x27;))])</pre></div></div></div><div class=\"sk-serial\"><div class=\"sk-item sk-dashed-wrapped\"><div class=\"sk-label-container\"><div class=\"sk-label sk-toggleable\"><input class=\"sk-toggleable__control sk-hidden--visually\" id=\"3e9f4834-de74-4c17-9f34-d7d2bcd1892f\" type=\"checkbox\" ><label for=\"3e9f4834-de74-4c17-9f34-d7d2bcd1892f\" class=\"sk-toggleable__label sk-toggleable__label-arrow\">preprocessing: ColumnTransformer</label><div class=\"sk-toggleable__content\"><pre>ColumnTransformer(remainder=&#x27;passthrough&#x27;,\n",
       "                  transformers=[(&#x27;numerical_minmax&#x27;, MinMaxScaler(),\n",
       "                                 [&#x27;age&#x27;, &#x27;distance_name_screename&#x27;]),\n",
       "                                (&#x27;numerical_standard&#x27;, StandardScaler(),\n",
       "                                 [&#x27;name_length&#x27;, &#x27;screen_name_length&#x27;,\n",
       "                                  &#x27;ratio_follow_friend&#x27;]),\n",
       "                                (&#x27;numerical_change_distro&#x27;, PowerTransformer(),\n",
       "                                 [&#x27;freq_favorite&#x27;, &#x27;freq_production&#x27;,\n",
       "                                  &#x27;#_follow&#x27;, &#x27;#_friend&#x27;])])</pre></div></div></div><div class=\"sk-parallel\"><div class=\"sk-parallel-item\"><div class=\"sk-item\"><div class=\"sk-label-container\"><div class=\"sk-label sk-toggleable\"><input class=\"sk-toggleable__control sk-hidden--visually\" id=\"6289b4c7-cc68-4f4c-9ab3-adf8b31b5ee4\" type=\"checkbox\" ><label for=\"6289b4c7-cc68-4f4c-9ab3-adf8b31b5ee4\" class=\"sk-toggleable__label sk-toggleable__label-arrow\">numerical_minmax</label><div class=\"sk-toggleable__content\"><pre>[&#x27;age&#x27;, &#x27;distance_name_screename&#x27;]</pre></div></div></div><div class=\"sk-serial\"><div class=\"sk-item\"><div class=\"sk-estimator sk-toggleable\"><input class=\"sk-toggleable__control sk-hidden--visually\" id=\"ba36ce29-d2b9-487f-aaf8-6cb9d863fe5c\" type=\"checkbox\" ><label for=\"ba36ce29-d2b9-487f-aaf8-6cb9d863fe5c\" class=\"sk-toggleable__label sk-toggleable__label-arrow\">MinMaxScaler</label><div class=\"sk-toggleable__content\"><pre>MinMaxScaler()</pre></div></div></div></div></div></div><div class=\"sk-parallel-item\"><div class=\"sk-item\"><div class=\"sk-label-container\"><div class=\"sk-label sk-toggleable\"><input class=\"sk-toggleable__control sk-hidden--visually\" id=\"c5b4f2ff-f223-4671-bd00-fd924b3d322b\" type=\"checkbox\" ><label for=\"c5b4f2ff-f223-4671-bd00-fd924b3d322b\" class=\"sk-toggleable__label sk-toggleable__label-arrow\">numerical_standard</label><div class=\"sk-toggleable__content\"><pre>[&#x27;name_length&#x27;, &#x27;screen_name_length&#x27;, &#x27;ratio_follow_friend&#x27;]</pre></div></div></div><div class=\"sk-serial\"><div class=\"sk-item\"><div class=\"sk-estimator sk-toggleable\"><input class=\"sk-toggleable__control sk-hidden--visually\" id=\"189707c8-7191-4f06-a912-e6bb0740fd2a\" type=\"checkbox\" ><label for=\"189707c8-7191-4f06-a912-e6bb0740fd2a\" class=\"sk-toggleable__label sk-toggleable__label-arrow\">StandardScaler</label><div class=\"sk-toggleable__content\"><pre>StandardScaler()</pre></div></div></div></div></div></div><div class=\"sk-parallel-item\"><div class=\"sk-item\"><div class=\"sk-label-container\"><div class=\"sk-label sk-toggleable\"><input class=\"sk-toggleable__control sk-hidden--visually\" id=\"4eb7d4e7-0f7a-44da-b2a7-e6b776cec80e\" type=\"checkbox\" ><label for=\"4eb7d4e7-0f7a-44da-b2a7-e6b776cec80e\" class=\"sk-toggleable__label sk-toggleable__label-arrow\">numerical_change_distro</label><div class=\"sk-toggleable__content\"><pre>[&#x27;freq_favorite&#x27;, &#x27;freq_production&#x27;, &#x27;#_follow&#x27;, &#x27;#_friend&#x27;]</pre></div></div></div><div class=\"sk-serial\"><div class=\"sk-item\"><div class=\"sk-estimator sk-toggleable\"><input class=\"sk-toggleable__control sk-hidden--visually\" id=\"16323be1-0d29-46ae-a454-802035c82856\" type=\"checkbox\" ><label for=\"16323be1-0d29-46ae-a454-802035c82856\" class=\"sk-toggleable__label sk-toggleable__label-arrow\">PowerTransformer</label><div class=\"sk-toggleable__content\"><pre>PowerTransformer()</pre></div></div></div></div></div></div><div class=\"sk-parallel-item\"><div class=\"sk-item\"><div class=\"sk-label-container\"><div class=\"sk-label sk-toggleable\"><input class=\"sk-toggleable__control sk-hidden--visually\" id=\"5f837234-352c-4853-bca0-ecc16539d942\" type=\"checkbox\" ><label for=\"5f837234-352c-4853-bca0-ecc16539d942\" class=\"sk-toggleable__label sk-toggleable__label-arrow\">remainder</label><div class=\"sk-toggleable__content\"><pre>[&#x27;has_location&#x27;, &#x27;has_description&#x27;]</pre></div></div></div><div class=\"sk-serial\"><div class=\"sk-item\"><div class=\"sk-estimator sk-toggleable\"><input class=\"sk-toggleable__control sk-hidden--visually\" id=\"64910efb-b6f6-40a1-b361-b49f2dcbb573\" type=\"checkbox\" ><label for=\"64910efb-b6f6-40a1-b361-b49f2dcbb573\" class=\"sk-toggleable__label sk-toggleable__label-arrow\">passthrough</label><div class=\"sk-toggleable__content\"><pre>passthrough</pre></div></div></div></div></div></div></div></div><div class=\"sk-item\"><div class=\"sk-estimator sk-toggleable\"><input class=\"sk-toggleable__control sk-hidden--visually\" id=\"6a177cb3-bacc-4870-83a6-2854edbda93e\" type=\"checkbox\" ><label for=\"6a177cb3-bacc-4870-83a6-2854edbda93e\" class=\"sk-toggleable__label sk-toggleable__label-arrow\">LogisticRegression</label><div class=\"sk-toggleable__content\"><pre>LogisticRegression(penalty=&#x27;none&#x27;)</pre></div></div></div></div></div></div></div>"
      ],
      "text/plain": [
       "Pipeline(steps=[('preprocessing',\n",
       "                 ColumnTransformer(remainder='passthrough',\n",
       "                                   transformers=[('numerical_minmax',\n",
       "                                                  MinMaxScaler(),\n",
       "                                                  ['age',\n",
       "                                                   'distance_name_screename']),\n",
       "                                                 ('numerical_standard',\n",
       "                                                  StandardScaler(),\n",
       "                                                  ['name_length',\n",
       "                                                   'screen_name_length',\n",
       "                                                   'ratio_follow_friend']),\n",
       "                                                 ('numerical_change_distro',\n",
       "                                                  PowerTransformer(),\n",
       "                                                  ['freq_favorite',\n",
       "                                                   'freq_production',\n",
       "                                                   '#_follow', '#_friend'])])),\n",
       "                ('classifier', LogisticRegression(penalty='none'))])"
      ]
     },
     "execution_count": 20,
     "metadata": {},
     "output_type": "execute_result"
    }
   ],
   "source": [
    "bot_detector"
   ]
  },
  {
   "cell_type": "markdown",
   "metadata": {
    "cell_id": "56084fbc92944500a9adde2017211e03",
    "deepnote_cell_height": 111.1875,
    "deepnote_cell_type": "markdown",
    "tags": []
   },
   "source": [
    "Possiamo quindi procedere alla fase di \"fitting\" che prevede sia il processo di fit e trasform di ogni *Transformer* all'interno del ColumnTransformer di preprocessing, sia la fase di training applicata alla matrice di training preprocessata. \n",
    "\n",
    "Tutti i fitting vengono eseguiti una volta invocato il metodo **fit**."
   ]
  },
  {
   "cell_type": "code",
   "execution_count": null,
   "metadata": {
    "cell_id": "71da5931023c442494cb98a697308abf",
    "deepnote_cell_type": "code",
    "deepnote_to_be_reexecuted": false,
    "execution_millis": 46,
    "execution_start": 1683283233462,
    "source_hash": null,
    "tags": []
   },
   "outputs": [
    {
     "data": {
      "text/html": [
       "<style>#sk-3878ac49-c795-409d-845b-ffadfff2a460 {color: black;background-color: white;}#sk-3878ac49-c795-409d-845b-ffadfff2a460 pre{padding: 0;}#sk-3878ac49-c795-409d-845b-ffadfff2a460 div.sk-toggleable {background-color: white;}#sk-3878ac49-c795-409d-845b-ffadfff2a460 label.sk-toggleable__label {cursor: pointer;display: block;width: 100%;margin-bottom: 0;padding: 0.3em;box-sizing: border-box;text-align: center;}#sk-3878ac49-c795-409d-845b-ffadfff2a460 label.sk-toggleable__label-arrow:before {content: \"▸\";float: left;margin-right: 0.25em;color: #696969;}#sk-3878ac49-c795-409d-845b-ffadfff2a460 label.sk-toggleable__label-arrow:hover:before {color: black;}#sk-3878ac49-c795-409d-845b-ffadfff2a460 div.sk-estimator:hover label.sk-toggleable__label-arrow:before {color: black;}#sk-3878ac49-c795-409d-845b-ffadfff2a460 div.sk-toggleable__content {max-height: 0;max-width: 0;overflow: hidden;text-align: left;background-color: #f0f8ff;}#sk-3878ac49-c795-409d-845b-ffadfff2a460 div.sk-toggleable__content pre {margin: 0.2em;color: black;border-radius: 0.25em;background-color: #f0f8ff;}#sk-3878ac49-c795-409d-845b-ffadfff2a460 input.sk-toggleable__control:checked~div.sk-toggleable__content {max-height: 200px;max-width: 100%;overflow: auto;}#sk-3878ac49-c795-409d-845b-ffadfff2a460 input.sk-toggleable__control:checked~label.sk-toggleable__label-arrow:before {content: \"▾\";}#sk-3878ac49-c795-409d-845b-ffadfff2a460 div.sk-estimator input.sk-toggleable__control:checked~label.sk-toggleable__label {background-color: #d4ebff;}#sk-3878ac49-c795-409d-845b-ffadfff2a460 div.sk-label input.sk-toggleable__control:checked~label.sk-toggleable__label {background-color: #d4ebff;}#sk-3878ac49-c795-409d-845b-ffadfff2a460 input.sk-hidden--visually {border: 0;clip: rect(1px 1px 1px 1px);clip: rect(1px, 1px, 1px, 1px);height: 1px;margin: -1px;overflow: hidden;padding: 0;position: absolute;width: 1px;}#sk-3878ac49-c795-409d-845b-ffadfff2a460 div.sk-estimator {font-family: monospace;background-color: #f0f8ff;border: 1px dotted black;border-radius: 0.25em;box-sizing: border-box;margin-bottom: 0.5em;}#sk-3878ac49-c795-409d-845b-ffadfff2a460 div.sk-estimator:hover {background-color: #d4ebff;}#sk-3878ac49-c795-409d-845b-ffadfff2a460 div.sk-parallel-item::after {content: \"\";width: 100%;border-bottom: 1px solid gray;flex-grow: 1;}#sk-3878ac49-c795-409d-845b-ffadfff2a460 div.sk-label:hover label.sk-toggleable__label {background-color: #d4ebff;}#sk-3878ac49-c795-409d-845b-ffadfff2a460 div.sk-serial::before {content: \"\";position: absolute;border-left: 1px solid gray;box-sizing: border-box;top: 2em;bottom: 0;left: 50%;}#sk-3878ac49-c795-409d-845b-ffadfff2a460 div.sk-serial {display: flex;flex-direction: column;align-items: center;background-color: white;padding-right: 0.2em;padding-left: 0.2em;}#sk-3878ac49-c795-409d-845b-ffadfff2a460 div.sk-item {z-index: 1;}#sk-3878ac49-c795-409d-845b-ffadfff2a460 div.sk-parallel {display: flex;align-items: stretch;justify-content: center;background-color: white;}#sk-3878ac49-c795-409d-845b-ffadfff2a460 div.sk-parallel::before {content: \"\";position: absolute;border-left: 1px solid gray;box-sizing: border-box;top: 2em;bottom: 0;left: 50%;}#sk-3878ac49-c795-409d-845b-ffadfff2a460 div.sk-parallel-item {display: flex;flex-direction: column;position: relative;background-color: white;}#sk-3878ac49-c795-409d-845b-ffadfff2a460 div.sk-parallel-item:first-child::after {align-self: flex-end;width: 50%;}#sk-3878ac49-c795-409d-845b-ffadfff2a460 div.sk-parallel-item:last-child::after {align-self: flex-start;width: 50%;}#sk-3878ac49-c795-409d-845b-ffadfff2a460 div.sk-parallel-item:only-child::after {width: 0;}#sk-3878ac49-c795-409d-845b-ffadfff2a460 div.sk-dashed-wrapped {border: 1px dashed gray;margin: 0 0.4em 0.5em 0.4em;box-sizing: border-box;padding-bottom: 0.4em;background-color: white;position: relative;}#sk-3878ac49-c795-409d-845b-ffadfff2a460 div.sk-label label {font-family: monospace;font-weight: bold;background-color: white;display: inline-block;line-height: 1.2em;}#sk-3878ac49-c795-409d-845b-ffadfff2a460 div.sk-label-container {position: relative;z-index: 2;text-align: center;}#sk-3878ac49-c795-409d-845b-ffadfff2a460 div.sk-container {/* jupyter's `normalize.less` sets `[hidden] { display: none; }` but bootstrap.min.css set `[hidden] { display: none !important; }` so we also need the `!important` here to be able to override the default hidden behavior on the sphinx rendered scikit-learn.org. See: https://github.com/scikit-learn/scikit-learn/issues/21755 */display: inline-block !important;position: relative;}#sk-3878ac49-c795-409d-845b-ffadfff2a460 div.sk-text-repr-fallback {display: none;}</style><div id=\"sk-3878ac49-c795-409d-845b-ffadfff2a460\" class=\"sk-top-container\"><div class=\"sk-text-repr-fallback\"><pre>Pipeline(steps=[(&#x27;preprocessing&#x27;,\n",
       "                 ColumnTransformer(remainder=&#x27;passthrough&#x27;,\n",
       "                                   transformers=[(&#x27;numerical_minmax&#x27;,\n",
       "                                                  MinMaxScaler(),\n",
       "                                                  [&#x27;age&#x27;,\n",
       "                                                   &#x27;distance_name_screename&#x27;]),\n",
       "                                                 (&#x27;numerical_standard&#x27;,\n",
       "                                                  StandardScaler(),\n",
       "                                                  [&#x27;name_length&#x27;,\n",
       "                                                   &#x27;screen_name_length&#x27;,\n",
       "                                                   &#x27;ratio_follow_friend&#x27;]),\n",
       "                                                 (&#x27;numerical_change_distro&#x27;,\n",
       "                                                  PowerTransformer(),\n",
       "                                                  [&#x27;freq_favorite&#x27;,\n",
       "                                                   &#x27;freq_production&#x27;,\n",
       "                                                   &#x27;#_follow&#x27;, &#x27;#_friend&#x27;])])),\n",
       "                (&#x27;classifier&#x27;, LogisticRegression(penalty=&#x27;none&#x27;))])</pre><b>Please rerun this cell to show the HTML repr or trust the notebook.</b></div><div class=\"sk-container\" hidden><div class=\"sk-item sk-dashed-wrapped\"><div class=\"sk-label-container\"><div class=\"sk-label sk-toggleable\"><input class=\"sk-toggleable__control sk-hidden--visually\" id=\"753117dc-a2d9-4861-bf68-c03a8e68c60c\" type=\"checkbox\" ><label for=\"753117dc-a2d9-4861-bf68-c03a8e68c60c\" class=\"sk-toggleable__label sk-toggleable__label-arrow\">Pipeline</label><div class=\"sk-toggleable__content\"><pre>Pipeline(steps=[(&#x27;preprocessing&#x27;,\n",
       "                 ColumnTransformer(remainder=&#x27;passthrough&#x27;,\n",
       "                                   transformers=[(&#x27;numerical_minmax&#x27;,\n",
       "                                                  MinMaxScaler(),\n",
       "                                                  [&#x27;age&#x27;,\n",
       "                                                   &#x27;distance_name_screename&#x27;]),\n",
       "                                                 (&#x27;numerical_standard&#x27;,\n",
       "                                                  StandardScaler(),\n",
       "                                                  [&#x27;name_length&#x27;,\n",
       "                                                   &#x27;screen_name_length&#x27;,\n",
       "                                                   &#x27;ratio_follow_friend&#x27;]),\n",
       "                                                 (&#x27;numerical_change_distro&#x27;,\n",
       "                                                  PowerTransformer(),\n",
       "                                                  [&#x27;freq_favorite&#x27;,\n",
       "                                                   &#x27;freq_production&#x27;,\n",
       "                                                   &#x27;#_follow&#x27;, &#x27;#_friend&#x27;])])),\n",
       "                (&#x27;classifier&#x27;, LogisticRegression(penalty=&#x27;none&#x27;))])</pre></div></div></div><div class=\"sk-serial\"><div class=\"sk-item sk-dashed-wrapped\"><div class=\"sk-label-container\"><div class=\"sk-label sk-toggleable\"><input class=\"sk-toggleable__control sk-hidden--visually\" id=\"ad8c4d73-da82-4743-8711-ddd6d29895a6\" type=\"checkbox\" ><label for=\"ad8c4d73-da82-4743-8711-ddd6d29895a6\" class=\"sk-toggleable__label sk-toggleable__label-arrow\">preprocessing: ColumnTransformer</label><div class=\"sk-toggleable__content\"><pre>ColumnTransformer(remainder=&#x27;passthrough&#x27;,\n",
       "                  transformers=[(&#x27;numerical_minmax&#x27;, MinMaxScaler(),\n",
       "                                 [&#x27;age&#x27;, &#x27;distance_name_screename&#x27;]),\n",
       "                                (&#x27;numerical_standard&#x27;, StandardScaler(),\n",
       "                                 [&#x27;name_length&#x27;, &#x27;screen_name_length&#x27;,\n",
       "                                  &#x27;ratio_follow_friend&#x27;]),\n",
       "                                (&#x27;numerical_change_distro&#x27;, PowerTransformer(),\n",
       "                                 [&#x27;freq_favorite&#x27;, &#x27;freq_production&#x27;,\n",
       "                                  &#x27;#_follow&#x27;, &#x27;#_friend&#x27;])])</pre></div></div></div><div class=\"sk-parallel\"><div class=\"sk-parallel-item\"><div class=\"sk-item\"><div class=\"sk-label-container\"><div class=\"sk-label sk-toggleable\"><input class=\"sk-toggleable__control sk-hidden--visually\" id=\"451bac01-bd54-43c0-83fa-2a082dd2536e\" type=\"checkbox\" ><label for=\"451bac01-bd54-43c0-83fa-2a082dd2536e\" class=\"sk-toggleable__label sk-toggleable__label-arrow\">numerical_minmax</label><div class=\"sk-toggleable__content\"><pre>[&#x27;age&#x27;, &#x27;distance_name_screename&#x27;]</pre></div></div></div><div class=\"sk-serial\"><div class=\"sk-item\"><div class=\"sk-estimator sk-toggleable\"><input class=\"sk-toggleable__control sk-hidden--visually\" id=\"e64e5489-d07a-4a93-8733-c7c8b8d5da9e\" type=\"checkbox\" ><label for=\"e64e5489-d07a-4a93-8733-c7c8b8d5da9e\" class=\"sk-toggleable__label sk-toggleable__label-arrow\">MinMaxScaler</label><div class=\"sk-toggleable__content\"><pre>MinMaxScaler()</pre></div></div></div></div></div></div><div class=\"sk-parallel-item\"><div class=\"sk-item\"><div class=\"sk-label-container\"><div class=\"sk-label sk-toggleable\"><input class=\"sk-toggleable__control sk-hidden--visually\" id=\"019ed015-eccd-4c66-aa60-45b682afb6ca\" type=\"checkbox\" ><label for=\"019ed015-eccd-4c66-aa60-45b682afb6ca\" class=\"sk-toggleable__label sk-toggleable__label-arrow\">numerical_standard</label><div class=\"sk-toggleable__content\"><pre>[&#x27;name_length&#x27;, &#x27;screen_name_length&#x27;, &#x27;ratio_follow_friend&#x27;]</pre></div></div></div><div class=\"sk-serial\"><div class=\"sk-item\"><div class=\"sk-estimator sk-toggleable\"><input class=\"sk-toggleable__control sk-hidden--visually\" id=\"395e701d-c9a8-41d3-bb92-823fce1effcc\" type=\"checkbox\" ><label for=\"395e701d-c9a8-41d3-bb92-823fce1effcc\" class=\"sk-toggleable__label sk-toggleable__label-arrow\">StandardScaler</label><div class=\"sk-toggleable__content\"><pre>StandardScaler()</pre></div></div></div></div></div></div><div class=\"sk-parallel-item\"><div class=\"sk-item\"><div class=\"sk-label-container\"><div class=\"sk-label sk-toggleable\"><input class=\"sk-toggleable__control sk-hidden--visually\" id=\"af39d765-955f-4fa6-ac75-dc04cc6dbd5e\" type=\"checkbox\" ><label for=\"af39d765-955f-4fa6-ac75-dc04cc6dbd5e\" class=\"sk-toggleable__label sk-toggleable__label-arrow\">numerical_change_distro</label><div class=\"sk-toggleable__content\"><pre>[&#x27;freq_favorite&#x27;, &#x27;freq_production&#x27;, &#x27;#_follow&#x27;, &#x27;#_friend&#x27;]</pre></div></div></div><div class=\"sk-serial\"><div class=\"sk-item\"><div class=\"sk-estimator sk-toggleable\"><input class=\"sk-toggleable__control sk-hidden--visually\" id=\"f9642542-b21f-4690-aee7-8e421bb95fe0\" type=\"checkbox\" ><label for=\"f9642542-b21f-4690-aee7-8e421bb95fe0\" class=\"sk-toggleable__label sk-toggleable__label-arrow\">PowerTransformer</label><div class=\"sk-toggleable__content\"><pre>PowerTransformer()</pre></div></div></div></div></div></div><div class=\"sk-parallel-item\"><div class=\"sk-item\"><div class=\"sk-label-container\"><div class=\"sk-label sk-toggleable\"><input class=\"sk-toggleable__control sk-hidden--visually\" id=\"fa217d84-12e4-44d3-aca1-18bffeddc394\" type=\"checkbox\" ><label for=\"fa217d84-12e4-44d3-aca1-18bffeddc394\" class=\"sk-toggleable__label sk-toggleable__label-arrow\">remainder</label><div class=\"sk-toggleable__content\"><pre>[&#x27;has_location&#x27;, &#x27;has_description&#x27;]</pre></div></div></div><div class=\"sk-serial\"><div class=\"sk-item\"><div class=\"sk-estimator sk-toggleable\"><input class=\"sk-toggleable__control sk-hidden--visually\" id=\"75cc7687-f74d-404a-8f58-4151c6781744\" type=\"checkbox\" ><label for=\"75cc7687-f74d-404a-8f58-4151c6781744\" class=\"sk-toggleable__label sk-toggleable__label-arrow\">passthrough</label><div class=\"sk-toggleable__content\"><pre>passthrough</pre></div></div></div></div></div></div></div></div><div class=\"sk-item\"><div class=\"sk-estimator sk-toggleable\"><input class=\"sk-toggleable__control sk-hidden--visually\" id=\"693e919d-7066-4e0e-814f-756e73549fda\" type=\"checkbox\" ><label for=\"693e919d-7066-4e0e-814f-756e73549fda\" class=\"sk-toggleable__label sk-toggleable__label-arrow\">LogisticRegression</label><div class=\"sk-toggleable__content\"><pre>LogisticRegression(penalty=&#x27;none&#x27;)</pre></div></div></div></div></div></div></div>"
      ],
      "text/plain": [
       "Pipeline(steps=[('preprocessing',\n",
       "                 ColumnTransformer(remainder='passthrough',\n",
       "                                   transformers=[('numerical_minmax',\n",
       "                                                  MinMaxScaler(),\n",
       "                                                  ['age',\n",
       "                                                   'distance_name_screename']),\n",
       "                                                 ('numerical_standard',\n",
       "                                                  StandardScaler(),\n",
       "                                                  ['name_length',\n",
       "                                                   'screen_name_length',\n",
       "                                                   'ratio_follow_friend']),\n",
       "                                                 ('numerical_change_distro',\n",
       "                                                  PowerTransformer(),\n",
       "                                                  ['freq_favorite',\n",
       "                                                   'freq_production',\n",
       "                                                   '#_follow', '#_friend'])])),\n",
       "                ('classifier', LogisticRegression(penalty='none'))])"
      ]
     },
     "execution_count": 29,
     "metadata": {},
     "output_type": "execute_result"
    }
   ],
   "source": [
    "bot_detector.fit(X_train, y_train)"
   ]
  },
  {
   "cell_type": "markdown",
   "metadata": {
    "cell_id": "928c1fff24314c84beb3bf62ae67c197",
    "deepnote_cell_height": 133.59375,
    "deepnote_cell_type": "markdown",
    "tags": []
   },
   "source": [
    "Una volta addestrato il classificatore e stimati i parametri dei vari transformer possiamo invocare il metodo `predict` sul test set per valutare poi le performance della pipeline. \n",
    "\n",
    "Va notato come il test originale venga automaticamente trasformato dall'oggetto deputato al pre-processing con i parametri stimati nella fase di fitting."
   ]
  },
  {
   "cell_type": "code",
   "execution_count": null,
   "metadata": {
    "cell_id": "330d0404a21e43609d2146bb045b3f2e",
    "deepnote_cell_type": "code",
    "deepnote_to_be_reexecuted": false,
    "execution_millis": 6,
    "execution_start": 1683283237039,
    "source_hash": null,
    "tags": []
   },
   "outputs": [],
   "source": [
    "y_predicted = bot_detector.predict(X_test)"
   ]
  },
  {
   "cell_type": "code",
   "execution_count": null,
   "metadata": {
    "cell_id": "563fa24f8d8648c3a67f65977b224b33",
    "deepnote_cell_type": "code",
    "deepnote_to_be_reexecuted": false,
    "execution_millis": 3,
    "execution_start": 1683282538447,
    "source_hash": null
   },
   "outputs": [
    {
     "data": {
      "text/plain": [
       "array([0, 0, 0, 1, 1, 0, 0, 0, 1, 1])"
      ]
     },
     "execution_count": 23,
     "metadata": {},
     "output_type": "execute_result"
    }
   ],
   "source": [
    "y_predicted[:10]"
   ]
  },
  {
   "cell_type": "markdown",
   "metadata": {
    "cell_id": "5cf46081496d4583b10f13416d7c7454",
    "deepnote_cell_type": "markdown"
   },
   "source": [
    "## Valutazione delle performance del classificatore appreso"
   ]
  },
  {
   "cell_type": "markdown",
   "metadata": {
    "cell_id": "481dc285f5dd4d8390201cc721ad3206",
    "deepnote_cell_height": 150.59375,
    "deepnote_cell_type": "markdown",
    "tags": []
   },
   "source": [
    "Una volta che un modello o alcuni modelli sono stati addestrati, come possiamo valutarne le prestazioni? Introduciamo alcune misure di performance, valutando quanto sia buono il nostro modello nel risolvere il compito.\n",
    "\n",
    "![](slides/perf_1.png)\n",
    "![](slides/perf_2.png)\n",
    "![](slides/perf_3.png)\n",
    "![](slides/perf_4.png)\n",
    "![](slides/perf_5.png)\n",
    "![](slides/perf_6.png)\n",
    "![](slides/perf_7.png)"
   ]
  },
  {
   "cell_type": "markdown",
   "metadata": {
    "cell_id": "2e40b8b477844e15943014e921f1daa9",
    "deepnote_cell_type": "markdown"
   },
   "source": [
    "### Confusion matrix"
   ]
  },
  {
   "cell_type": "code",
   "execution_count": null,
   "metadata": {
    "cell_id": "b9d33a9859c14f50af4881642ad6221e",
    "deepnote_cell_type": "code"
   },
   "outputs": [],
   "source": [
    "conf_matrix = confusion_matrix(y_train, y_train_predicted)\n",
    "ConfusionMatrixDisplay.from_predictions(y_train, y_train_predicted, cmap=plt.cm.Blues)"
   ]
  },
  {
   "cell_type": "markdown",
   "metadata": {
    "cell_id": "1bd236be94d446de8b620cf747a6a548",
    "deepnote_cell_type": "markdown"
   },
   "source": [
    "### Accuracy"
   ]
  },
  {
   "cell_type": "code",
   "execution_count": null,
   "metadata": {
    "cell_id": "84a74436c1df401d9c8d938fec0136f5",
    "deepnote_cell_type": "code",
    "deepnote_to_be_reexecuted": false,
    "execution_millis": 5,
    "execution_start": 1683283241083,
    "source_hash": null,
    "tags": []
   },
   "outputs": [
    {
     "data": {
      "text/plain": [
       "(0.7913669064748201,\n",
       " 0.7123287671232876,\n",
       " 0.8666666666666667,\n",
       " 0.7819548872180451)"
      ]
     },
     "execution_count": 31,
     "metadata": {},
     "output_type": "execute_result"
    }
   ],
   "source": [
    "accuracy_score(y_test, y_predicted), recall_score(y_test, y_predicted), precision_score(y_test, y_predicted), f1_score(y_test, y_predicted)"
   ]
  },
  {
   "cell_type": "markdown",
   "metadata": {
    "cell_id": "e1005b3d76fe4b54b069c18f0381ad9b",
    "deepnote_cell_type": "markdown"
   },
   "source": [
    "### Recall"
   ]
  },
  {
   "cell_type": "code",
   "execution_count": null,
   "metadata": {
    "cell_id": "eabfcc5fb23c427fa27a9fd7816d6795",
    "deepnote_cell_type": "code"
   },
   "outputs": [],
   "source": []
  },
  {
   "cell_type": "markdown",
   "metadata": {
    "cell_id": "eb3e4d21c00d477983a7703ef1774202",
    "deepnote_cell_type": "markdown"
   },
   "source": [
    "### Precision"
   ]
  },
  {
   "cell_type": "code",
   "execution_count": null,
   "metadata": {
    "cell_id": "aa788d0f196e44a5878dbb1c28315039",
    "deepnote_cell_type": "code"
   },
   "outputs": [],
   "source": []
  },
  {
   "cell_type": "markdown",
   "metadata": {
    "cell_id": "940862a6253540359aa9e94d1dce774e",
    "deepnote_cell_type": "markdown"
   },
   "source": [
    "### F1-score"
   ]
  },
  {
   "cell_type": "code",
   "execution_count": null,
   "metadata": {
    "cell_id": "4086d6ff0c0b4ae9b04295df2548e80f",
    "deepnote_cell_type": "code"
   },
   "outputs": [],
   "source": []
  },
  {
   "cell_type": "markdown",
   "metadata": {
    "cell_id": "3a66f92235424e36bb6663e428b14bb8",
    "deepnote_cell_type": "markdown"
   },
   "source": [
    "### Trade-off Precision/Recall\n",
    "In gran parte degli algoritmi di apprendimento per compiti di classificazione, lo step di predizione si ottiene applicando una funzione di soglia o **decision function** a valori continui - allo **score**. Pertanto, se lo score è maggiore di una soglia,si assegna l'istanza alla classe positiva, viceversa se è al di sotto della soglia l'istanza viene assegnata alla classe negativa.\n",
    "\n",
    "![](slides/perf_8.png)\n",
    "\n",
    "Ora, anziché chiamare il solito metodo `predict`, vorremmo accedere allo score. In SKLearn, il punteggio viene restituito dal metodo `decision_function`. Accedere allo score è l'unico modo in SKLearn per giocare con la soglia, poiché la sua impostazione non è consentita."
   ]
  },
  {
   "cell_type": "markdown",
   "metadata": {
    "cell_id": "a9404d8a717647d9aa070724101256f0",
    "deepnote_cell_type": "markdown"
   },
   "source": [
    "Possiamo ottenere tutti gli score delle istanze del training set"
   ]
  },
  {
   "cell_type": "code",
   "execution_count": null,
   "metadata": {
    "cell_id": "a866c6b964394550a29aaf3697a28afa",
    "deepnote_cell_type": "code"
   },
   "outputs": [],
   "source": [
    "# TODO"
   ]
  },
  {
   "cell_type": "markdown",
   "metadata": {
    "cell_id": "66fa843f3e9f4949a240dc22e3d929c8",
    "deepnote_cell_type": "markdown"
   },
   "source": [
    "Dati gli score, possiamo cambiare la soglia e ottenere diverse previsioni rispetto al comportamento predefinito in SKLearn.\n",
    "\n",
    "Ad esempio, spostiamo la soglia da 0 a 3 e verifichiamo quante istanze positive vengono restituite dopo averla cambiata."
   ]
  },
  {
   "cell_type": "code",
   "execution_count": null,
   "metadata": {
    "cell_id": "7b3061e9f82f45a391467ad172762435",
    "deepnote_cell_type": "code"
   },
   "outputs": [],
   "source": []
  },
  {
   "cell_type": "markdown",
   "metadata": {
    "cell_id": "be6adbbe5c6f421f8e8d8d887ac2e615",
    "deepnote_cell_type": "markdown"
   },
   "source": [
    "Per decidere quale soglia utilizzare, otteniamo gli score e utilizziamo la funzione `precision_recall_curve` per calcolare la precision e la recall per tutte le soglie possibili. Il metodo calcola automaticamente la precision e la recall variando il valore della soglia. Per ciascun valore della soglia, restituisce la sua precision e recall. La funzione **richiede le etichette** e **gli score** per calcolare la matrice di confusione per ciascun valore della soglia."
   ]
  },
  {
   "cell_type": "code",
   "execution_count": null,
   "metadata": {
    "cell_id": "0450fbf1e180400784f4b4ea75410419",
    "deepnote_cell_type": "code"
   },
   "outputs": [],
   "source": []
  },
  {
   "cell_type": "markdown",
   "metadata": {
    "cell_id": "ead9024068d94c618fbdaef5bc8a284d",
    "deepnote_cell_type": "markdown"
   },
   "source": [
    "Ora possiamo visualizzare il grafico delle due misure in funzione della soglia."
   ]
  },
  {
   "cell_type": "code",
   "execution_count": null,
   "metadata": {
    "cell_id": "d2d4b3c29b7b4c018881422d4d1021a7",
    "deepnote_cell_type": "code"
   },
   "outputs": [],
   "source": [
    "fig = plt.figure(figsize=(10, 4))\n",
    "ax = fig.add_subplot()\n",
    "ax.plot(thresholds, precisions[:-1], \"b--\", label=\"Precision\", lw=2)\n",
    "ax.plot(thresholds, recalls[:-1], \"g-\", label=\"Recall\", lw=2)\n",
    "ax.vlines(threshold, 0, 1.0, \"k\", \"dotted\", label=\"threshold\")\n",
    "\n",
    "idx = (thresholds >= threshold).argmax()  # first index ≥ threshold\n",
    "plt.plot(thresholds[idx], precisions[idx], \"bo\")\n",
    "plt.plot(thresholds[idx], recalls[idx], \"go\")\n",
    "plt.grid()\n",
    "ax.set_xlabel(\"Threshold\")\n",
    "ax.set_xlim((-30,15))\n",
    "plt.legend(loc=\"center right\")\n",
    "plt.show()"
   ]
  },
  {
   "cell_type": "markdown",
   "metadata": {
    "cell_id": "5bd9554bf1604edeb16c9f083f31b4c4",
    "deepnote_cell_type": "markdown"
   },
   "source": [
    "Un altro modo per selezionare un buon compromesso tra precisione e richiamo è tracciare direttamente la precisione rispetto al richiamo.\n",
    "\n",
    "In pratica, abbiamo tutti gli elementi per tracciare questo grafico."
   ]
  },
  {
   "cell_type": "code",
   "execution_count": null,
   "metadata": {
    "cell_id": "5e0aa5ea81e24ed9b3eafac2cb4aada2",
    "deepnote_cell_type": "code"
   },
   "outputs": [],
   "source": [
    "fig = plt.figure(figsize=(6, 6))\n",
    "ax = fig.add_subplot()\n",
    "ax.plot(recalls, precisions, lw=2, label=\"Precision/Recall curve\")\n",
    "# Print the precision,recall point corresponding to the threshold we selected\n",
    "ax.plot([recalls[idx], recalls[idx]], [0., precisions[idx]], \"k:\")\n",
    "ax.plot([0.0, recalls[idx]], [precisions[idx], precisions[idx]], \"k:\")\n",
    "ax.plot([recalls[idx]], [precisions[idx]], \"ko\",\n",
    "         label=\"Point at threshold 3\")\n",
    "ax.set_xlabel(\"Recall\")\n",
    "ax.set_ylabel(\"Precision\")\n",
    "ax.axis([0, 1, 0, 1])\n",
    "ax.legend(loc=\"lower left\")"
   ]
  },
  {
   "cell_type": "markdown",
   "metadata": {
    "cell_id": "a231574a9c9b43e0adfd3de64f426668",
    "deepnote_cell_type": "markdown"
   },
   "source": [
    "Possiamo sfruttare la curva precision/recall per cercare il valore più basso della soglia che garantisce una precisione uguale a un valore obiettivo.\n",
    "\n",
    "Proviamo con una precision pari a 0,9."
   ]
  },
  {
   "cell_type": "code",
   "execution_count": null,
   "metadata": {
    "cell_id": "54f807604c144b49afb213683d75fb61",
    "deepnote_cell_type": "code"
   },
   "outputs": [],
   "source": []
  },
  {
   "cell_type": "markdown",
   "metadata": {
    "cell_id": "fbf3f955b2ac462bb516b967411e4678",
    "deepnote_cell_type": "markdown"
   },
   "source": [
    "### ROC - receiver operating curve - e AuC - area under the ROC\n",
    "\n",
    "**ROC** (Receiver Operating Characteristic) è uno strumento comune per la classificazione binaria. Traccia la recall in funzione del tasso di falsi positivi **FPR** - false positive rate.\n",
    "\n",
    "In SKLearn ottenere la ROC è semplice poiché abbiamo la funzione `roc_curve`, che agisce in modo simile alla funzione `precision_recall_curve`."
   ]
  },
  {
   "cell_type": "code",
   "execution_count": null,
   "metadata": {
    "cell_id": "f252f72c96164f7dae43ff4ee9374012",
    "deepnote_cell_type": "code"
   },
   "outputs": [],
   "source": []
  },
  {
   "cell_type": "markdown",
   "metadata": {
    "cell_id": "c7f05ccea39c4801bb4736690dd779fe",
    "deepnote_cell_type": "markdown"
   },
   "source": [
    "Come fatto in precedenza possiamo generare il grafico relativo dove la recall è funzione di FPR."
   ]
  },
  {
   "cell_type": "code",
   "execution_count": null,
   "metadata": {
    "cell_id": "a2477e29d95142578cafb0de85eafd45",
    "deepnote_cell_type": "code"
   },
   "outputs": [],
   "source": [
    "fig = plt.figure(figsize=(6, 5))  # extra code – not needed, just formatting\n",
    "ax = fig.add_subplot()\n",
    "ax.plot(fprs, recalls, linewidth=2, label=\"ROC curve\")\n",
    "ax.plot([0, 1], [0, 1], 'k:', label=\"Random classifier's ROC curve\")\n",
    "ax.set_xlabel('False Positive Rate - FPR')\n",
    "ax.set_ylabel('Recall')\n",
    "ax.axis([0, 1, 0, 1])\n",
    "ax.legend(loc=\"lower right\", fontsize=13)"
   ]
  },
  {
   "cell_type": "markdown",
   "metadata": {
    "cell_id": "97a56718318a474291df8cbf7a660c5b",
    "deepnote_cell_type": "markdown"
   },
   "source": [
    "Possiamo sfruttare ulteriormente le misure precedenti. Infatti, un classificatore perfetto è caratterizzato da una curva ROC simile a una funzione a gradino vicino all'angolo in alto a sinistra. L'area sotto questa specifica curva è 1. Al contrario, come mostrato nella figura, un classificatore casuale è caratterizzato da una curva ROC simile a una linea retta da (0,0) a (1,1), la cui area è 0.5. Questo suggerisce che l'area della regione sotto la curva ROC possa riassumere la bontà di un classificatore.\n",
    "\n",
    "Questo è ciò che misura l'**area sotto la curva ROC** - **AuC**. Quindi i valori prossimi a 1 indicano prestazioni eccellenti, mentre i valori al di sotto di 0.5 indicano delle pessime performance in classificazione.\n",
    "\n",
    "In SKLearn l'AuC è calcolata dal metodo `roc_auc_score` nel modulo `sklearn.metric`."
   ]
  },
  {
   "cell_type": "markdown",
   "metadata": {
    "cell_id": "940fcb827df74ba1b29a5ee24287a1f7",
    "deepnote_cell_height": 97.1875,
    "deepnote_cell_type": "markdown",
    "tags": []
   },
   "source": [
    "In questo caso siamo in presenza di overfitting, infatti il classificatore mostra alcuni problemi di generalizzabilità del modello appreso. Nel caso del training set, il modello è perfetto in quanto in grado di discriminare perfettamente tra bot e human account, mentre applicando lo stesso modello al test set otteniamo delle performance decisamente inferiori."
   ]
  },
  {
   "cell_type": "markdown",
   "metadata": {
    "created_in_deepnote_cell": true,
    "deepnote_cell_type": "markdown"
   },
   "source": [
    "<a style='text-decoration:none;line-height:16px;display:flex;color:#5B5B62;padding:10px;justify-content:end;' href='https://deepnote.com?utm_source=created-in-deepnote-cell&projectId=620f7614-b68e-4f43-81d6-031f9c883b1e' target=\"_blank\">\n",
    "<img alt='Created in deepnote.com' style='display:inline;max-height:16px;margin:0px;margin-right:7.5px;' src='data:image/svg+xml;base64,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' > </img>\n",
    "Created in <span style='font-weight:600;margin-left:4px;'>Deepnote</span></a>"
   ]
  }
 ],
 "metadata": {
  "deepnote_execution_queue": [],
  "deepnote_full_width": true,
  "deepnote_notebook_id": "550135d747e34b3ca0ac9eb5c02f9613",
  "kernelspec": {
   "display_name": "Python 3 (ipykernel)",
   "language": "python",
   "name": "python3"
  },
  "language_info": {
   "codemirror_mode": {
    "name": "ipython",
    "version": 3
   },
   "file_extension": ".py",
   "mimetype": "text/x-python",
   "name": "python",
   "nbconvert_exporter": "python",
   "pygments_lexer": "ipython3",
   "version": "3.11.5"
  }
 },
 "nbformat": 4,
 "nbformat_minor": 4
}
