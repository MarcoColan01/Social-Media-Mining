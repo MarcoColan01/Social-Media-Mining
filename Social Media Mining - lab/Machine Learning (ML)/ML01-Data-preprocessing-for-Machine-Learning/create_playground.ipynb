{
 "cells": [
  {
   "cell_type": "code",
   "execution_count": 2,
   "metadata": {
    "cell_id": "2ec2aa4a8a624b36b91822310d326a47",
    "deepnote_cell_type": "code",
    "deepnote_to_be_reexecuted": false,
    "execution_millis": 5,
    "execution_start": 1671637338544,
    "source_hash": "22894257",
    "tags": []
   },
   "outputs": [],
   "source": [
    "import pandas as pd\n",
    "import numpy as np\n",
    "import random"
   ]
  },
  {
   "cell_type": "code",
   "execution_count": 30,
   "metadata": {
    "cell_id": "969c6665b61b4dcaab5eb181eba083e4",
    "deepnote_cell_type": "code",
    "deepnote_to_be_reexecuted": false,
    "execution_millis": 5,
    "execution_start": 1665565146784,
    "source_hash": "16f9467b",
    "tags": []
   },
   "outputs": [
    {
     "data": {
      "text/plain": [
       "'1.2.5'"
      ]
     },
     "execution_count": 30,
     "metadata": {},
     "output_type": "execute_result"
    }
   ],
   "source": [
    "pd.__version__"
   ]
  },
  {
   "cell_type": "code",
   "execution_count": 12,
   "metadata": {
    "cell_id": "0c0de0c97a824f30968419b10d9e4b4f",
    "deepnote_cell_type": "code",
    "deepnote_to_be_reexecuted": false,
    "execution_millis": 19,
    "execution_start": 1671637518542,
    "source_hash": "4f1cd15",
    "tags": []
   },
   "outputs": [
    {
     "name": "stdout",
     "output_type": "stream",
     "text": [
      "[2817 6796 8930 3819 7099 1083 8493 1599 7235  112]\n"
     ]
    }
   ],
   "source": [
    "size = 10000\n",
    "age = np.random.randint(18,99,size)\n",
    "feat2 = np.random.normal(30,20,size)\n",
    "feat2[np.random.choice(size,20,replace=False)] = np.nan\n",
    "feat3 = np.random.normal(2,40,size)\n",
    "feat4 = np.random.normal(3,2,size)\n",
    "feat4[np.random.choice(size,5000,replace=False)] = np.nan\n",
    "feat5 = .3 * feat2 + 2.5 * feat3 + np.random.normal(2,10,size)\n",
    "rank = np.random.choice(['perfect','good','medium','bad'],size,replace = True)\n",
    "t_shirt = np.random.choice(['S','M','L','XL','XXL'],size,replace = True)\n",
    "t_shirt[np.random.choice(size,40,replace=False)] = np.nan\n",
    "country = np.random.choice(['Italy','France','Germany','Spain','Austria','Denmark','Canada'],size,replace = True)\n",
    "\n",
    "playground = pd.DataFrame({\n",
    "    'age' : age,\n",
    "    'length_screw' :feat2,\n",
    "    'diameter': feat3,\n",
    "    'middle_diameter': feat4,\n",
    "    'hammer_strength': feat5,\n",
    "    'rank': rank,\n",
    "    'size': t_shirt,\n",
    "    'country': country\n",
    "})\n",
    "missing_row = np.empty((8,))\n",
    "missing_row.fill(np.nan)\n",
    "playground.iloc[np.random.choice(size,10,replace=True)] = missing_row\n",
    "playground.loc[np.random.choice(size,1000,replace=False),'age'] = np.nan\n",
    "print(np.random.choice(size,10,replace=False))"
   ]
  },
  {
   "cell_type": "code",
   "execution_count": 10,
   "metadata": {
    "cell_id": "38df0f35dba947babbfc12bf49bb3c7f",
    "deepnote_cell_type": "code",
    "deepnote_to_be_reexecuted": false,
    "execution_millis": 85,
    "execution_start": 1671637491928,
    "source_hash": "774d3db8",
    "tags": []
   },
   "outputs": [
    {
     "data": {
      "application/vnd.deepnote.dataframe.v3+json": {
       "column_count": 8,
       "columns": [
        {
         "dtype": "float64",
         "name": "age",
         "stats": {
          "histogram": [
           {
            "bin_end": 26,
            "bin_start": 18,
            "count": 897
           },
           {
            "bin_end": 34,
            "bin_start": 26,
            "count": 840
           },
           {
            "bin_end": 42,
            "bin_start": 34,
            "count": 903
           },
           {
            "bin_end": 50,
            "bin_start": 42,
            "count": 894
           },
           {
            "bin_end": 58,
            "bin_start": 50,
            "count": 900
           },
           {
            "bin_end": 66,
            "bin_start": 58,
            "count": 893
           },
           {
            "bin_end": 74,
            "bin_start": 66,
            "count": 884
           },
           {
            "bin_end": 82,
            "bin_start": 74,
            "count": 894
           },
           {
            "bin_end": 90,
            "bin_start": 82,
            "count": 867
           },
           {
            "bin_end": 98,
            "bin_start": 90,
            "count": 1020
           }
          ],
          "max": "98.0",
          "min": "18.0",
          "nan_count": 1008,
          "unique_count": 81
         }
        },
        {
         "dtype": "float64",
         "name": "length_screw",
         "stats": {
          "histogram": [
           {
            "bin_end": -37.09604552723905,
            "bin_start": -53.49424531534311,
            "count": 4
           },
           {
            "bin_end": -20.69784573913499,
            "bin_start": -37.09604552723905,
            "count": 44
           },
           {
            "bin_end": -4.299645951030932,
            "bin_start": -20.69784573913499,
            "count": 376
           },
           {
            "bin_end": 12.098553837073126,
            "bin_start": -4.299645951030932,
            "count": 1402
           },
           {
            "bin_end": 28.496753625177178,
            "bin_start": 12.098553837073126,
            "count": 2736
           },
           {
            "bin_end": 44.89495341328124,
            "bin_start": 28.496753625177178,
            "count": 3080
           },
           {
            "bin_end": 61.29315320138531,
            "bin_start": 44.89495341328124,
            "count": 1763
           },
           {
            "bin_end": 77.69135298948936,
            "bin_start": 61.29315320138531,
            "count": 489
           },
           {
            "bin_end": 94.08955277759341,
            "bin_start": 77.69135298948936,
            "count": 70
           },
           {
            "bin_end": 110.48775256569748,
            "bin_start": 94.08955277759341,
            "count": 6
           }
          ],
          "max": "110.48775256569748",
          "min": "-53.49424531534311",
          "nan_count": 30,
          "unique_count": 9970
         }
        },
        {
         "dtype": "float64",
         "name": "diameter",
         "stats": {
          "histogram": [
           {
            "bin_end": -121.29078030477055,
            "bin_start": -153.377701796966,
            "count": 5
           },
           {
            "bin_end": -89.2038588125751,
            "bin_start": -121.29078030477055,
            "count": 103
           },
           {
            "bin_end": -57.11693732037966,
            "bin_start": -89.2038588125751,
            "count": 551
           },
           {
            "bin_end": -25.03001582818422,
            "bin_start": -57.11693732037966,
            "count": 1837
           },
           {
            "bin_end": 7.056905664011225,
            "bin_start": -25.03001582818422,
            "count": 2973
           },
           {
            "bin_end": 39.14382715620667,
            "bin_start": 7.056905664011225,
            "count": 2764
           },
           {
            "bin_end": 71.23074864840211,
            "bin_start": 39.14382715620667,
            "count": 1368
           },
           {
            "bin_end": 103.31767014059756,
            "bin_start": 71.23074864840211,
            "count": 339
           },
           {
            "bin_end": 135.40459163279297,
            "bin_start": 103.31767014059756,
            "count": 48
           },
           {
            "bin_end": 167.49151312498844,
            "bin_start": 135.40459163279297,
            "count": 2
           }
          ],
          "max": "167.49151312498844",
          "min": "-153.377701796966",
          "nan_count": 10,
          "unique_count": 9990
         }
        },
        {
         "dtype": "float64",
         "name": "middle_diameter",
         "stats": {
          "histogram": [
           {
            "bin_end": -2.437793855961933,
            "bin_start": -3.818275490722602,
            "count": 20
           },
           {
            "bin_end": -1.057312221201264,
            "bin_start": -2.437793855961933,
            "count": 97
           },
           {
            "bin_end": 0.3231694135594054,
            "bin_start": -1.057312221201264,
            "count": 346
           },
           {
            "bin_end": 1.703651048320074,
            "bin_start": 0.3231694135594054,
            "count": 827
           },
           {
            "bin_end": 3.0841326830807425,
            "bin_start": 1.703651048320074,
            "count": 1273
           },
           {
            "bin_end": 4.464614317841413,
            "bin_start": 3.0841326830807425,
            "count": 1235
           },
           {
            "bin_end": 5.845095952602081,
            "bin_start": 4.464614317841413,
            "count": 815
           },
           {
            "bin_end": 7.22557758736275,
            "bin_start": 5.845095952602081,
            "count": 291
           },
           {
            "bin_end": 8.606059222123418,
            "bin_start": 7.22557758736275,
            "count": 70
           },
           {
            "bin_end": 9.986540856884089,
            "bin_start": 8.606059222123418,
            "count": 19
           }
          ],
          "max": "9.986540856884089",
          "min": "-3.818275490722602",
          "nan_count": 5007,
          "unique_count": 4993
         }
        },
        {
         "dtype": "float64",
         "name": "hammer_strength",
         "stats": {
          "histogram": [
           {
            "bin_end": -287.4225635716745,
            "bin_start": -367.5012663678543,
            "count": 6
           },
           {
            "bin_end": -207.34386077549473,
            "bin_start": -287.4225635716745,
            "count": 108
           },
           {
            "bin_end": -127.26515797931495,
            "bin_start": -207.34386077549473,
            "count": 619
           },
           {
            "bin_end": -47.18645518313514,
            "bin_start": -127.26515797931495,
            "count": 1918
           },
           {
            "bin_end": 32.892247613044674,
            "bin_start": -47.18645518313514,
            "count": 2973
           },
           {
            "bin_end": 112.97095040922443,
            "bin_start": 32.892247613044674,
            "count": 2684
           },
           {
            "bin_end": 193.0496532054043,
            "bin_start": 112.97095040922443,
            "count": 1289
           },
           {
            "bin_end": 273.12835600158405,
            "bin_start": 193.0496532054043,
            "count": 324
           },
           {
            "bin_end": 353.2070587977638,
            "bin_start": 273.12835600158405,
            "count": 47
           },
           {
            "bin_end": 433.28576159394373,
            "bin_start": 353.2070587977638,
            "count": 2
           }
          ],
          "max": "433.28576159394373",
          "min": "-367.5012663678543",
          "nan_count": 30,
          "unique_count": 9970
         }
        },
        {
         "dtype": "object",
         "name": "rank",
         "stats": {
          "categories": [
           {
            "count": 2551,
            "name": "perfect"
           },
           {
            "count": 7439,
            "name": "3 others"
           },
           {
            "count": 10,
            "name": "Missing"
           }
          ],
          "nan_count": 10,
          "unique_count": 4
         }
        },
        {
         "dtype": "object",
         "name": "size",
         "stats": {
          "categories": [
           {
            "count": 2028,
            "name": "XXL"
           },
           {
            "count": 7962,
            "name": "5 others"
           },
           {
            "count": 10,
            "name": "Missing"
           }
          ],
          "nan_count": 10,
          "unique_count": 6
         }
        },
        {
         "dtype": "object",
         "name": "country",
         "stats": {
          "categories": [
           {
            "count": 1459,
            "name": "Germany"
           },
           {
            "count": 8531,
            "name": "6 others"
           },
           {
            "count": 10,
            "name": "Missing"
           }
          ],
          "nan_count": 10,
          "unique_count": 7
         }
        },
        {
         "dtype": "int64",
         "name": "_deepnote_index_column"
        }
       ],
       "row_count": 10000,
       "rows": [
        {
         "_deepnote_index_column": "0",
         "age": "50.0",
         "country": "France",
         "diameter": "-20.104196234813273",
         "hammer_strength": "-37.713070456872714",
         "length_screw": "51.350739269411534",
         "middle_diameter": "5.108141583708456",
         "rank": "bad",
         "size": "XXL"
        },
        {
         "_deepnote_index_column": "1",
         "age": "92.0",
         "country": "Canada",
         "diameter": "-62.677944895450125",
         "hammer_strength": "-159.12825352250368",
         "length_screw": "15.076844631588207",
         "middle_diameter": "3.114180888967341",
         "rank": "medium",
         "size": "L"
        },
        {
         "_deepnote_index_column": "2",
         "age": "19.0",
         "country": "France",
         "diameter": "58.76705973230311",
         "hammer_strength": "161.1078085558628",
         "length_screw": "6.528645550386653",
         "middle_diameter": "nan",
         "rank": "perfect",
         "size": "M"
        },
        {
         "_deepnote_index_column": "3",
         "age": "89.0",
         "country": "Austria",
         "diameter": "5.123059711710175",
         "hammer_strength": "25.975439220807807",
         "length_screw": "13.99850299129158",
         "middle_diameter": "nan",
         "rank": "bad",
         "size": "M"
        },
        {
         "_deepnote_index_column": "4",
         "age": "24.0",
         "country": "France",
         "diameter": "-54.26982341802487",
         "hammer_strength": "-115.88928747982816",
         "length_screw": "46.847822976341604",
         "middle_diameter": "nan",
         "rank": "perfect",
         "size": "S"
        },
        {
         "_deepnote_index_column": "5",
         "age": "74.0",
         "country": "Austria",
         "diameter": "-23.160797296753984",
         "hammer_strength": "-50.233809642645895",
         "length_screw": "-10.293367586293229",
         "middle_diameter": "5.219935769137875",
         "rank": "medium",
         "size": "M"
        },
        {
         "_deepnote_index_column": "6",
         "age": "80.0",
         "country": "France",
         "diameter": "31.851035537412464",
         "hammer_strength": "73.79017585830795",
         "length_screw": "-20.33902193874917",
         "middle_diameter": "4.577682645164839",
         "rank": "good",
         "size": "XXL"
        },
        {
         "_deepnote_index_column": "7",
         "age": "84.0",
         "country": "Denmark",
         "diameter": "-20.793769912900913",
         "hammer_strength": "-22.169030821736385",
         "length_screw": "43.77722218329054",
         "middle_diameter": "3.70525064028089",
         "rank": "good",
         "size": "M"
        },
        {
         "_deepnote_index_column": "8",
         "age": "nan",
         "country": "France",
         "diameter": "79.23938459227519",
         "hammer_strength": "203.48780370439832",
         "length_screw": "41.594601563069844",
         "middle_diameter": "3.1301595180258377",
         "rank": "bad",
         "size": "XXL"
        },
        {
         "_deepnote_index_column": "9",
         "age": "57.0",
         "country": "Austria",
         "diameter": "-48.851251378643724",
         "hammer_strength": "-109.63132216501278",
         "length_screw": "34.79340663803178",
         "middle_diameter": "nan",
         "rank": "medium",
         "size": "M"
        }
       ]
      },
      "text/html": [
       "<div>\n",
       "<style scoped>\n",
       "    .dataframe tbody tr th:only-of-type {\n",
       "        vertical-align: middle;\n",
       "    }\n",
       "\n",
       "    .dataframe tbody tr th {\n",
       "        vertical-align: top;\n",
       "    }\n",
       "\n",
       "    .dataframe thead th {\n",
       "        text-align: right;\n",
       "    }\n",
       "</style>\n",
       "<table border=\"1\" class=\"dataframe\">\n",
       "  <thead>\n",
       "    <tr style=\"text-align: right;\">\n",
       "      <th></th>\n",
       "      <th>age</th>\n",
       "      <th>length_screw</th>\n",
       "      <th>diameter</th>\n",
       "      <th>middle_diameter</th>\n",
       "      <th>hammer_strength</th>\n",
       "      <th>rank</th>\n",
       "      <th>size</th>\n",
       "      <th>country</th>\n",
       "    </tr>\n",
       "  </thead>\n",
       "  <tbody>\n",
       "    <tr>\n",
       "      <th>0</th>\n",
       "      <td>50.0</td>\n",
       "      <td>51.350739</td>\n",
       "      <td>-20.104196</td>\n",
       "      <td>5.108142</td>\n",
       "      <td>-37.713070</td>\n",
       "      <td>bad</td>\n",
       "      <td>XXL</td>\n",
       "      <td>France</td>\n",
       "    </tr>\n",
       "    <tr>\n",
       "      <th>1</th>\n",
       "      <td>92.0</td>\n",
       "      <td>15.076845</td>\n",
       "      <td>-62.677945</td>\n",
       "      <td>3.114181</td>\n",
       "      <td>-159.128254</td>\n",
       "      <td>medium</td>\n",
       "      <td>L</td>\n",
       "      <td>Canada</td>\n",
       "    </tr>\n",
       "    <tr>\n",
       "      <th>2</th>\n",
       "      <td>19.0</td>\n",
       "      <td>6.528646</td>\n",
       "      <td>58.767060</td>\n",
       "      <td>NaN</td>\n",
       "      <td>161.107809</td>\n",
       "      <td>perfect</td>\n",
       "      <td>M</td>\n",
       "      <td>France</td>\n",
       "    </tr>\n",
       "    <tr>\n",
       "      <th>3</th>\n",
       "      <td>89.0</td>\n",
       "      <td>13.998503</td>\n",
       "      <td>5.123060</td>\n",
       "      <td>NaN</td>\n",
       "      <td>25.975439</td>\n",
       "      <td>bad</td>\n",
       "      <td>M</td>\n",
       "      <td>Austria</td>\n",
       "    </tr>\n",
       "    <tr>\n",
       "      <th>4</th>\n",
       "      <td>24.0</td>\n",
       "      <td>46.847823</td>\n",
       "      <td>-54.269823</td>\n",
       "      <td>NaN</td>\n",
       "      <td>-115.889287</td>\n",
       "      <td>perfect</td>\n",
       "      <td>S</td>\n",
       "      <td>France</td>\n",
       "    </tr>\n",
       "    <tr>\n",
       "      <th>...</th>\n",
       "      <td>...</td>\n",
       "      <td>...</td>\n",
       "      <td>...</td>\n",
       "      <td>...</td>\n",
       "      <td>...</td>\n",
       "      <td>...</td>\n",
       "      <td>...</td>\n",
       "      <td>...</td>\n",
       "    </tr>\n",
       "    <tr>\n",
       "      <th>9995</th>\n",
       "      <td>28.0</td>\n",
       "      <td>64.883638</td>\n",
       "      <td>3.670061</td>\n",
       "      <td>NaN</td>\n",
       "      <td>40.199133</td>\n",
       "      <td>medium</td>\n",
       "      <td>S</td>\n",
       "      <td>Denmark</td>\n",
       "    </tr>\n",
       "    <tr>\n",
       "      <th>9996</th>\n",
       "      <td>87.0</td>\n",
       "      <td>41.682318</td>\n",
       "      <td>-48.214246</td>\n",
       "      <td>NaN</td>\n",
       "      <td>-98.060717</td>\n",
       "      <td>good</td>\n",
       "      <td>XL</td>\n",
       "      <td>Austria</td>\n",
       "    </tr>\n",
       "    <tr>\n",
       "      <th>9997</th>\n",
       "      <td>NaN</td>\n",
       "      <td>39.241920</td>\n",
       "      <td>-107.341166</td>\n",
       "      <td>4.837145</td>\n",
       "      <td>-249.186353</td>\n",
       "      <td>perfect</td>\n",
       "      <td>XL</td>\n",
       "      <td>Spain</td>\n",
       "    </tr>\n",
       "    <tr>\n",
       "      <th>9998</th>\n",
       "      <td>45.0</td>\n",
       "      <td>37.064043</td>\n",
       "      <td>-33.643705</td>\n",
       "      <td>4.584381</td>\n",
       "      <td>-84.917093</td>\n",
       "      <td>medium</td>\n",
       "      <td>XL</td>\n",
       "      <td>Austria</td>\n",
       "    </tr>\n",
       "    <tr>\n",
       "      <th>9999</th>\n",
       "      <td>36.0</td>\n",
       "      <td>-16.093221</td>\n",
       "      <td>23.719086</td>\n",
       "      <td>3.752687</td>\n",
       "      <td>45.303090</td>\n",
       "      <td>good</td>\n",
       "      <td>XXL</td>\n",
       "      <td>Italy</td>\n",
       "    </tr>\n",
       "  </tbody>\n",
       "</table>\n",
       "<p>10000 rows × 8 columns</p>\n",
       "</div>"
      ],
      "text/plain": [
       "       age  length_screw    diameter  middle_diameter  hammer_strength  \\\n",
       "0     50.0     51.350739  -20.104196         5.108142       -37.713070   \n",
       "1     92.0     15.076845  -62.677945         3.114181      -159.128254   \n",
       "2     19.0      6.528646   58.767060              NaN       161.107809   \n",
       "3     89.0     13.998503    5.123060              NaN        25.975439   \n",
       "4     24.0     46.847823  -54.269823              NaN      -115.889287   \n",
       "...    ...           ...         ...              ...              ...   \n",
       "9995  28.0     64.883638    3.670061              NaN        40.199133   \n",
       "9996  87.0     41.682318  -48.214246              NaN       -98.060717   \n",
       "9997   NaN     39.241920 -107.341166         4.837145      -249.186353   \n",
       "9998  45.0     37.064043  -33.643705         4.584381       -84.917093   \n",
       "9999  36.0    -16.093221   23.719086         3.752687        45.303090   \n",
       "\n",
       "         rank size  country  \n",
       "0         bad  XXL   France  \n",
       "1      medium    L   Canada  \n",
       "2     perfect    M   France  \n",
       "3         bad    M  Austria  \n",
       "4     perfect    S   France  \n",
       "...       ...  ...      ...  \n",
       "9995   medium    S  Denmark  \n",
       "9996     good   XL  Austria  \n",
       "9997  perfect   XL    Spain  \n",
       "9998   medium   XL  Austria  \n",
       "9999     good  XXL    Italy  \n",
       "\n",
       "[10000 rows x 8 columns]"
      ]
     },
     "execution_count": 10,
     "metadata": {},
     "output_type": "execute_result"
    }
   ],
   "source": [
    "playground"
   ]
  },
  {
   "cell_type": "code",
   "execution_count": 34,
   "metadata": {
    "cell_id": "6c7fd3c2b30f44ec9ca3ebeba0876666",
    "deepnote_cell_type": "code",
    "deepnote_to_be_reexecuted": false,
    "execution_millis": 57,
    "execution_start": 1665565191249,
    "source_hash": "7cbb71c7",
    "tags": []
   },
   "outputs": [],
   "source": [
    "playground.to_csv('data/playground.csv', index = False)"
   ]
  },
  {
   "cell_type": "code",
   "execution_count": 35,
   "metadata": {
    "cell_id": "04120411a691442db73cb16b9b1286fe",
    "deepnote_cell_type": "code",
    "deepnote_to_be_reexecuted": false,
    "execution_millis": 38,
    "execution_start": 1665565196513,
    "source_hash": "215d6777",
    "tags": []
   },
   "outputs": [
    {
     "data": {
      "text/plain": [
       "L      2034\n",
       "XXL    2011\n",
       "M      1989\n",
       "S      1976\n",
       "XL     1940\n",
       "nan      40\n",
       "Name: size, dtype: int64"
      ]
     },
     "execution_count": 35,
     "metadata": {},
     "output_type": "execute_result"
    }
   ],
   "source": [
    "playground['size'].value_counts()"
   ]
  },
  {
   "cell_type": "code",
   "execution_count": 36,
   "metadata": {
    "cell_id": "0a0a68899de94604aa76b087a0207ed2",
    "deepnote_cell_type": "code",
    "deepnote_to_be_reexecuted": false,
    "execution_millis": 64,
    "execution_start": 1665565214978,
    "source_hash": "d426bd90",
    "tags": []
   },
   "outputs": [
    {
     "name": "stdout",
     "output_type": "stream",
     "text": [
      "<class 'pandas.core.frame.DataFrame'>\n",
      "RangeIndex: 10000 entries, 0 to 9999\n",
      "Data columns (total 8 columns):\n",
      " #   Column           Non-Null Count  Dtype  \n",
      "---  ------           --------------  -----  \n",
      " 0   age              9990 non-null   float64\n",
      " 1   length_screw     9970 non-null   float64\n",
      " 2   diameter         9990 non-null   float64\n",
      " 3   middle_diameter  4994 non-null   float64\n",
      " 4   hammer_strength  9970 non-null   float64\n",
      " 5   rank             9990 non-null   object \n",
      " 6   size             9990 non-null   object \n",
      " 7   country          9990 non-null   object \n",
      "dtypes: float64(5), object(3)\n",
      "memory usage: 625.1+ KB\n"
     ]
    }
   ],
   "source": [
    "playground.info()"
   ]
  },
  {
   "cell_type": "code",
   "execution_count": null,
   "metadata": {
    "cell_id": "e97bcafe9a2a442f9c58a20a38209734",
    "deepnote_cell_type": "code",
    "tags": []
   },
   "outputs": [],
   "source": []
  },
  {
   "cell_type": "markdown",
   "metadata": {
    "created_in_deepnote_cell": true,
    "deepnote_cell_type": "markdown"
   },
   "source": [
    "<a style='text-decoration:none;line-height:16px;display:flex;color:#5B5B62;padding:10px;justify-content:end;' href='https://deepnote.com?utm_source=created-in-deepnote-cell&projectId=6ee4087b-eb51-48aa-a70e-4a2bd2d4632f' target=\"_blank\">\n",
    "<img alt='Created in deepnote.com' style='display:inline;max-height:16px;margin:0px;margin-right:7.5px;' src='data:image/svg+xml;base64,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' > </img>\n",
    "Created in <span style='font-weight:600;margin-left:4px;'>Deepnote</span></a>"
   ]
  }
 ],
 "metadata": {
  "deepnote_execution_queue": [],
  "deepnote_notebook_id": "377b87a2951d45d3a57c17b09a50ba2e",
  "deepnote_persisted_session": {
   "createdAt": "2022-12-21T16:18:56.877Z"
  },
  "kernelspec": {
   "display_name": "Python 3 (ipykernel)",
   "language": "python",
   "name": "python3"
  },
  "language_info": {
   "codemirror_mode": {
    "name": "ipython",
    "version": 3
   },
   "file_extension": ".py",
   "mimetype": "text/x-python",
   "name": "python",
   "nbconvert_exporter": "python",
   "pygments_lexer": "ipython3",
   "version": "3.11.5"
  }
 },
 "nbformat": 4,
 "nbformat_minor": 4
}
