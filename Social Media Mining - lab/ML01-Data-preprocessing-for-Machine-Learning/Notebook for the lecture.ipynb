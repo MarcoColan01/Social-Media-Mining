{
 "cells": [
  {
   "cell_type": "markdown",
   "metadata": {
    "cell_id": "3c06c6defb064e8890d8b7cf995ff644",
    "deepnote_cell_type": "markdown",
    "tags": []
   },
   "source": [
    "Throughout the first part of the course (\"traditional machine learning\") we will mainly use the following Python packages or modules:\n",
    "\n",
    "- **numpy**: for storing and manipulating multidimensional arrays \n",
    "- **pandas**: library built on top of Numpy providing higher-level data manipulation tools\n",
    "- **scikit-learn**: main machine learning library for traditional algorithms - `pip install scikit-learn`\n",
    "- **matplotlib**: the most used library for data visualization\n",
    "\n",
    "We import them and check their version number by printing the <code>\\_\\_version\\_\\_</code> attribute. It's just a check that all have the same version of the libraries.\n",
    "\n",
    "By importing modules, we can use methods, classes and functions defined in the libraries."
   ]
  },
  {
   "cell_type": "code",
   "execution_count": 9,
   "metadata": {
    "cell_id": "20c0bd983b0d4245991e5f5c2fafd86e",
    "deepnote_cell_type": "code",
    "deepnote_to_be_reexecuted": false,
    "execution_millis": 1257,
    "execution_start": 1713508474422,
    "source_hash": "764a5e0a",
    "tags": []
   },
   "outputs": [],
   "source": [
    "import sklearn\n",
    "import numpy as np\n",
    "import pandas as pd\n",
    "import matplotlib as mpl\n",
    "import scipy as sp\n",
    "from sklearn.impute import SimpleImputer\n",
    "from sklearn.preprocessing import StandardScaler, MinMaxScaler, OrdinalEncoder, OneHotEncoder\n",
    "from sklearn.compose import ColumnTransformer\n",
    "from sklearn.pipeline import Pipeline"
   ]
  },
  {
   "cell_type": "code",
   "execution_count": 10,
   "metadata": {
    "cell_id": "1b40378784f04844b44ac76b32c1adcd",
    "deepnote_cell_type": "code",
    "deepnote_to_be_reexecuted": false,
    "execution_millis": 0,
    "execution_start": 1677517771979,
    "source_hash": "bbf75fcd",
    "tags": []
   },
   "outputs": [
    {
     "name": "stdout",
     "output_type": "stream",
     "text": [
      "1.26.4 1.12.0 1.4.2 3.8.3 2.2.1\n"
     ]
    }
   ],
   "source": [
    "print(np.__version__, sp.__version__, sklearn.__version__, mpl.__version__, pd.__version__)"
   ]
  },
  {
   "cell_type": "markdown",
   "metadata": {
    "cell_id": "c55fa313da05447081979c136c82c0c2",
    "deepnote_cell_type": "markdown",
    "tags": []
   },
   "source": [
    "The most important library for machine learning is **scikit-learn**, a de-facto standard for developing ML-oriented projects. \n",
    "Here we introduced some characteristics of the library which are helpful for the data preprocessing phase in a ML project. Moreover, we also introduce two other important modules: **pandas** and **numpy**. The former plays an important role in data preprocessing, too.\n",
    "![](slides/Slide3.png)\n",
    "![](slides/Slide4.png)\n",
    "\n",
    "# Class Hierarchy in Scikit-Learn\n",
    "\n",
    "![](slides/Slide5.png)\n",
    "![](slides/Slide6.png)\n",
    "\n",
    "# Data Preprocessing Pipeline\n",
    "\n",
    "![](slides/Slide8.png)\n"
   ]
  },
  {
   "cell_type": "markdown",
   "metadata": {
    "cell_id": "83c11301a7a84c9cb87cf1737a2d286c",
    "deepnote_cell_type": "markdown",
    "tags": []
   },
   "source": [
    "Before facing the different steps in data preprocessing, we get the data from a data source, a CSV file, organized as a table.\n",
    "\n",
    "### Loading data\n",
    "\n",
    "We use the module pandas - renamed **pd** - to get the data and transform the CSV file into a table, namely a **DataFrame** object. A DataFrame is an object modeling tabular data. It's made by rows and each row is described by a set of columns. Each column has a name.\n",
    "\n",
    "**Task**: Read a CSV file and transform the data in a DataFrame. To accomplish the task we use the class method [**read_csv**](https://pandas.pydata.org/docs/reference/api/pandas.read_csv.html). The file is in the folder *data* and it's called *playground.csv*."
   ]
  },
  {
   "cell_type": "code",
   "execution_count": 11,
   "metadata": {
    "cell_id": "f9e7817d708d4cd6baac94cfb045b1a1",
    "deepnote_cell_type": "code",
    "deepnote_to_be_reexecuted": false,
    "execution_millis": 29,
    "execution_start": 1677688401179,
    "output_cleared": false,
    "source_hash": "1ef5de4d",
    "tags": []
   },
   "outputs": [],
   "source": [
    "playground = pd.read_csv('data/playground.csv')"
   ]
  },
  {
   "cell_type": "markdown",
   "metadata": {
    "cell_id": "8c0756ae27734ea6919db327075a390e",
    "deepnote_cell_type": "markdown",
    "tags": []
   },
   "source": [
    "### Preliminary inspection\n",
    "\n",
    "In DeepNote, we can visualize the DataFrame by writing its name."
   ]
  },
  {
   "cell_type": "code",
   "execution_count": 12,
   "metadata": {
    "cell_id": "be831c50584f427cbf92440ec5766649",
    "deepnote_cell_type": "code",
    "deepnote_table_loading": false,
    "deepnote_table_state": {
     "filters": [],
     "pageIndex": 0,
     "pageSize": 10,
     "sortBy": []
    },
    "deepnote_to_be_reexecuted": false,
    "execution_millis": 142,
    "execution_start": 1677518647476,
    "source_hash": "774d3db8",
    "tags": []
   },
   "outputs": [
    {
     "data": {
      "text/html": [
       "<div>\n",
       "<style scoped>\n",
       "    .dataframe tbody tr th:only-of-type {\n",
       "        vertical-align: middle;\n",
       "    }\n",
       "\n",
       "    .dataframe tbody tr th {\n",
       "        vertical-align: top;\n",
       "    }\n",
       "\n",
       "    .dataframe thead th {\n",
       "        text-align: right;\n",
       "    }\n",
       "</style>\n",
       "<table border=\"1\" class=\"dataframe\">\n",
       "  <thead>\n",
       "    <tr style=\"text-align: right;\">\n",
       "      <th></th>\n",
       "      <th>age</th>\n",
       "      <th>length_screw</th>\n",
       "      <th>diameter</th>\n",
       "      <th>middle_diameter</th>\n",
       "      <th>hammer_strength</th>\n",
       "      <th>rank</th>\n",
       "      <th>size</th>\n",
       "      <th>country</th>\n",
       "    </tr>\n",
       "  </thead>\n",
       "  <tbody>\n",
       "    <tr>\n",
       "      <th>0</th>\n",
       "      <td>47.0</td>\n",
       "      <td>39.537837</td>\n",
       "      <td>17.053504</td>\n",
       "      <td>4.301665</td>\n",
       "      <td>46.389102</td>\n",
       "      <td>medium</td>\n",
       "      <td>L</td>\n",
       "      <td>Denmark</td>\n",
       "    </tr>\n",
       "    <tr>\n",
       "      <th>1</th>\n",
       "      <td>20.0</td>\n",
       "      <td>-1.034592</td>\n",
       "      <td>-67.283321</td>\n",
       "      <td>NaN</td>\n",
       "      <td>-167.451060</td>\n",
       "      <td>good</td>\n",
       "      <td>XXL</td>\n",
       "      <td>Denmark</td>\n",
       "    </tr>\n",
       "    <tr>\n",
       "      <th>2</th>\n",
       "      <td>72.0</td>\n",
       "      <td>40.686959</td>\n",
       "      <td>-21.411874</td>\n",
       "      <td>2.578786</td>\n",
       "      <td>-34.345003</td>\n",
       "      <td>medium</td>\n",
       "      <td>L</td>\n",
       "      <td>Austria</td>\n",
       "    </tr>\n",
       "    <tr>\n",
       "      <th>3</th>\n",
       "      <td>23.0</td>\n",
       "      <td>60.179331</td>\n",
       "      <td>39.712469</td>\n",
       "      <td>3.065198</td>\n",
       "      <td>118.023664</td>\n",
       "      <td>perfect</td>\n",
       "      <td>XL</td>\n",
       "      <td>Austria</td>\n",
       "    </tr>\n",
       "    <tr>\n",
       "      <th>4</th>\n",
       "      <td>93.0</td>\n",
       "      <td>2.862281</td>\n",
       "      <td>33.059898</td>\n",
       "      <td>NaN</td>\n",
       "      <td>99.476390</td>\n",
       "      <td>perfect</td>\n",
       "      <td>XL</td>\n",
       "      <td>Germany</td>\n",
       "    </tr>\n",
       "    <tr>\n",
       "      <th>...</th>\n",
       "      <td>...</td>\n",
       "      <td>...</td>\n",
       "      <td>...</td>\n",
       "      <td>...</td>\n",
       "      <td>...</td>\n",
       "      <td>...</td>\n",
       "      <td>...</td>\n",
       "      <td>...</td>\n",
       "    </tr>\n",
       "    <tr>\n",
       "      <th>9995</th>\n",
       "      <td>80.0</td>\n",
       "      <td>29.688847</td>\n",
       "      <td>-8.900835</td>\n",
       "      <td>5.830887</td>\n",
       "      <td>-15.037037</td>\n",
       "      <td>good</td>\n",
       "      <td>XXL</td>\n",
       "      <td>Denmark</td>\n",
       "    </tr>\n",
       "    <tr>\n",
       "      <th>9996</th>\n",
       "      <td>35.0</td>\n",
       "      <td>23.757652</td>\n",
       "      <td>54.140757</td>\n",
       "      <td>3.128091</td>\n",
       "      <td>124.841787</td>\n",
       "      <td>medium</td>\n",
       "      <td>L</td>\n",
       "      <td>Germany</td>\n",
       "    </tr>\n",
       "    <tr>\n",
       "      <th>9997</th>\n",
       "      <td>31.0</td>\n",
       "      <td>7.493367</td>\n",
       "      <td>-32.458441</td>\n",
       "      <td>2.022378</td>\n",
       "      <td>-83.878678</td>\n",
       "      <td>perfect</td>\n",
       "      <td>L</td>\n",
       "      <td>France</td>\n",
       "    </tr>\n",
       "    <tr>\n",
       "      <th>9998</th>\n",
       "      <td>33.0</td>\n",
       "      <td>33.341941</td>\n",
       "      <td>-36.872158</td>\n",
       "      <td>NaN</td>\n",
       "      <td>-84.604433</td>\n",
       "      <td>good</td>\n",
       "      <td>M</td>\n",
       "      <td>Austria</td>\n",
       "    </tr>\n",
       "    <tr>\n",
       "      <th>9999</th>\n",
       "      <td>76.0</td>\n",
       "      <td>28.463501</td>\n",
       "      <td>22.295653</td>\n",
       "      <td>4.978659</td>\n",
       "      <td>55.307215</td>\n",
       "      <td>perfect</td>\n",
       "      <td>XXL</td>\n",
       "      <td>Italy</td>\n",
       "    </tr>\n",
       "  </tbody>\n",
       "</table>\n",
       "<p>10000 rows × 8 columns</p>\n",
       "</div>"
      ],
      "text/plain": [
       "       age  length_screw   diameter  middle_diameter  hammer_strength  \\\n",
       "0     47.0     39.537837  17.053504         4.301665        46.389102   \n",
       "1     20.0     -1.034592 -67.283321              NaN      -167.451060   \n",
       "2     72.0     40.686959 -21.411874         2.578786       -34.345003   \n",
       "3     23.0     60.179331  39.712469         3.065198       118.023664   \n",
       "4     93.0      2.862281  33.059898              NaN        99.476390   \n",
       "...    ...           ...        ...              ...              ...   \n",
       "9995  80.0     29.688847  -8.900835         5.830887       -15.037037   \n",
       "9996  35.0     23.757652  54.140757         3.128091       124.841787   \n",
       "9997  31.0      7.493367 -32.458441         2.022378       -83.878678   \n",
       "9998  33.0     33.341941 -36.872158              NaN       -84.604433   \n",
       "9999  76.0     28.463501  22.295653         4.978659        55.307215   \n",
       "\n",
       "         rank size  country  \n",
       "0      medium    L  Denmark  \n",
       "1        good  XXL  Denmark  \n",
       "2      medium    L  Austria  \n",
       "3     perfect   XL  Austria  \n",
       "4     perfect   XL  Germany  \n",
       "...       ...  ...      ...  \n",
       "9995     good  XXL  Denmark  \n",
       "9996   medium    L  Germany  \n",
       "9997  perfect    L   France  \n",
       "9998     good    M  Austria  \n",
       "9999  perfect  XXL    Italy  \n",
       "\n",
       "[10000 rows x 8 columns]"
      ]
     },
     "execution_count": 12,
     "metadata": {},
     "output_type": "execute_result"
    }
   ],
   "source": [
    "playground"
   ]
  },
  {
   "cell_type": "markdown",
   "metadata": {
    "cell_id": "0bedc85258554e8b87d8e40e787081b2",
    "deepnote_cell_type": "markdown",
    "tags": []
   },
   "source": [
    "As we can see the header of the table reports a detailed overview of the columns, comprehensive of missing values and data distribution. Similar information can be returned by functions: **info()** and **describe()**."
   ]
  },
  {
   "cell_type": "code",
   "execution_count": 13,
   "metadata": {
    "cell_id": "1f74d7b6579a46dbb1666b0a3be03721",
    "deepnote_cell_type": "code",
    "deepnote_to_be_reexecuted": false,
    "execution_millis": 16,
    "execution_start": 1677519508014,
    "is_output_hidden": false,
    "output_cleared": false,
    "source_hash": "d426bd90",
    "tags": []
   },
   "outputs": [
    {
     "name": "stdout",
     "output_type": "stream",
     "text": [
      "<class 'pandas.core.frame.DataFrame'>\n",
      "RangeIndex: 10000 entries, 0 to 9999\n",
      "Data columns (total 8 columns):\n",
      " #   Column           Non-Null Count  Dtype  \n",
      "---  ------           --------------  -----  \n",
      " 0   age              9990 non-null   float64\n",
      " 1   length_screw     9970 non-null   float64\n",
      " 2   diameter         9990 non-null   float64\n",
      " 3   middle_diameter  4994 non-null   float64\n",
      " 4   hammer_strength  9970 non-null   float64\n",
      " 5   rank             9990 non-null   object \n",
      " 6   size             9950 non-null   object \n",
      " 7   country          9990 non-null   object \n",
      "dtypes: float64(5), object(3)\n",
      "memory usage: 625.1+ KB\n"
     ]
    }
   ],
   "source": [
    "playground.info()"
   ]
  },
  {
   "cell_type": "code",
   "execution_count": 14,
   "metadata": {
    "cell_id": "d2b9abfec2a7465c8a9733701c00ff8d",
    "deepnote_cell_type": "code",
    "deepnote_table_loading": false,
    "deepnote_table_state": {
     "filters": [],
     "pageIndex": 0,
     "pageSize": 25,
     "sortBy": []
    },
    "deepnote_to_be_reexecuted": false,
    "execution_millis": 99,
    "execution_start": 1677518901730,
    "is_output_hidden": false,
    "output_cleared": false,
    "source_hash": "4203844d",
    "tags": []
   },
   "outputs": [
    {
     "data": {
      "text/html": [
       "<div>\n",
       "<style scoped>\n",
       "    .dataframe tbody tr th:only-of-type {\n",
       "        vertical-align: middle;\n",
       "    }\n",
       "\n",
       "    .dataframe tbody tr th {\n",
       "        vertical-align: top;\n",
       "    }\n",
       "\n",
       "    .dataframe thead th {\n",
       "        text-align: right;\n",
       "    }\n",
       "</style>\n",
       "<table border=\"1\" class=\"dataframe\">\n",
       "  <thead>\n",
       "    <tr style=\"text-align: right;\">\n",
       "      <th></th>\n",
       "      <th>age</th>\n",
       "      <th>length_screw</th>\n",
       "      <th>diameter</th>\n",
       "      <th>middle_diameter</th>\n",
       "      <th>hammer_strength</th>\n",
       "      <th>rank</th>\n",
       "      <th>size</th>\n",
       "      <th>country</th>\n",
       "    </tr>\n",
       "  </thead>\n",
       "  <tbody>\n",
       "    <tr>\n",
       "      <th>count</th>\n",
       "      <td>9990.000000</td>\n",
       "      <td>9970.000000</td>\n",
       "      <td>9990.000000</td>\n",
       "      <td>4994.000000</td>\n",
       "      <td>9970.000000</td>\n",
       "      <td>9990</td>\n",
       "      <td>9950</td>\n",
       "      <td>9990</td>\n",
       "    </tr>\n",
       "    <tr>\n",
       "      <th>unique</th>\n",
       "      <td>NaN</td>\n",
       "      <td>NaN</td>\n",
       "      <td>NaN</td>\n",
       "      <td>NaN</td>\n",
       "      <td>NaN</td>\n",
       "      <td>4</td>\n",
       "      <td>5</td>\n",
       "      <td>7</td>\n",
       "    </tr>\n",
       "    <tr>\n",
       "      <th>top</th>\n",
       "      <td>NaN</td>\n",
       "      <td>NaN</td>\n",
       "      <td>NaN</td>\n",
       "      <td>NaN</td>\n",
       "      <td>NaN</td>\n",
       "      <td>perfect</td>\n",
       "      <td>L</td>\n",
       "      <td>Canada</td>\n",
       "    </tr>\n",
       "    <tr>\n",
       "      <th>freq</th>\n",
       "      <td>NaN</td>\n",
       "      <td>NaN</td>\n",
       "      <td>NaN</td>\n",
       "      <td>NaN</td>\n",
       "      <td>NaN</td>\n",
       "      <td>2553</td>\n",
       "      <td>2034</td>\n",
       "      <td>1459</td>\n",
       "    </tr>\n",
       "    <tr>\n",
       "      <th>mean</th>\n",
       "      <td>57.820420</td>\n",
       "      <td>29.885444</td>\n",
       "      <td>1.462067</td>\n",
       "      <td>3.006871</td>\n",
       "      <td>14.701874</td>\n",
       "      <td>NaN</td>\n",
       "      <td>NaN</td>\n",
       "      <td>NaN</td>\n",
       "    </tr>\n",
       "    <tr>\n",
       "      <th>std</th>\n",
       "      <td>23.368789</td>\n",
       "      <td>20.103509</td>\n",
       "      <td>40.196593</td>\n",
       "      <td>1.996277</td>\n",
       "      <td>101.184493</td>\n",
       "      <td>NaN</td>\n",
       "      <td>NaN</td>\n",
       "      <td>NaN</td>\n",
       "    </tr>\n",
       "    <tr>\n",
       "      <th>min</th>\n",
       "      <td>18.000000</td>\n",
       "      <td>-45.443865</td>\n",
       "      <td>-154.473963</td>\n",
       "      <td>-4.079200</td>\n",
       "      <td>-376.367170</td>\n",
       "      <td>NaN</td>\n",
       "      <td>NaN</td>\n",
       "      <td>NaN</td>\n",
       "    </tr>\n",
       "    <tr>\n",
       "      <th>25%</th>\n",
       "      <td>37.000000</td>\n",
       "      <td>16.177003</td>\n",
       "      <td>-25.098778</td>\n",
       "      <td>1.684077</td>\n",
       "      <td>-52.087874</td>\n",
       "      <td>NaN</td>\n",
       "      <td>NaN</td>\n",
       "      <td>NaN</td>\n",
       "    </tr>\n",
       "    <tr>\n",
       "      <th>50%</th>\n",
       "      <td>58.000000</td>\n",
       "      <td>29.801311</td>\n",
       "      <td>1.209477</td>\n",
       "      <td>2.995461</td>\n",
       "      <td>14.201412</td>\n",
       "      <td>NaN</td>\n",
       "      <td>NaN</td>\n",
       "      <td>NaN</td>\n",
       "    </tr>\n",
       "    <tr>\n",
       "      <th>75%</th>\n",
       "      <td>78.000000</td>\n",
       "      <td>43.547181</td>\n",
       "      <td>28.115844</td>\n",
       "      <td>4.344913</td>\n",
       "      <td>81.566187</td>\n",
       "      <td>NaN</td>\n",
       "      <td>NaN</td>\n",
       "      <td>NaN</td>\n",
       "    </tr>\n",
       "    <tr>\n",
       "      <th>max</th>\n",
       "      <td>98.000000</td>\n",
       "      <td>99.756118</td>\n",
       "      <td>142.606375</td>\n",
       "      <td>9.735810</td>\n",
       "      <td>344.912921</td>\n",
       "      <td>NaN</td>\n",
       "      <td>NaN</td>\n",
       "      <td>NaN</td>\n",
       "    </tr>\n",
       "  </tbody>\n",
       "</table>\n",
       "</div>"
      ],
      "text/plain": [
       "                age  length_screw     diameter  middle_diameter  \\\n",
       "count   9990.000000   9970.000000  9990.000000      4994.000000   \n",
       "unique          NaN           NaN          NaN              NaN   \n",
       "top             NaN           NaN          NaN              NaN   \n",
       "freq            NaN           NaN          NaN              NaN   \n",
       "mean      57.820420     29.885444     1.462067         3.006871   \n",
       "std       23.368789     20.103509    40.196593         1.996277   \n",
       "min       18.000000    -45.443865  -154.473963        -4.079200   \n",
       "25%       37.000000     16.177003   -25.098778         1.684077   \n",
       "50%       58.000000     29.801311     1.209477         2.995461   \n",
       "75%       78.000000     43.547181    28.115844         4.344913   \n",
       "max       98.000000     99.756118   142.606375         9.735810   \n",
       "\n",
       "        hammer_strength     rank  size country  \n",
       "count       9970.000000     9990  9950    9990  \n",
       "unique              NaN        4     5       7  \n",
       "top                 NaN  perfect     L  Canada  \n",
       "freq                NaN     2553  2034    1459  \n",
       "mean          14.701874      NaN   NaN     NaN  \n",
       "std          101.184493      NaN   NaN     NaN  \n",
       "min         -376.367170      NaN   NaN     NaN  \n",
       "25%          -52.087874      NaN   NaN     NaN  \n",
       "50%           14.201412      NaN   NaN     NaN  \n",
       "75%           81.566187      NaN   NaN     NaN  \n",
       "max          344.912921      NaN   NaN     NaN  "
      ]
     },
     "execution_count": 14,
     "metadata": {},
     "output_type": "execute_result"
    }
   ],
   "source": [
    "playground.describe(include='all')"
   ]
  },
  {
   "cell_type": "markdown",
   "metadata": {
    "cell_id": "892bd038b18a4b53bf2f98694b718632",
    "deepnote_cell_type": "markdown",
    "tags": []
   },
   "source": [
    "While for numerical colums we get a quite complete overview of the features, for categorical columns we get less information. To obtain a distribution of the unique values in a specific column, we use the **value_counts()** method. It returns the frequency of each category in a column."
   ]
  },
  {
   "cell_type": "code",
   "execution_count": 15,
   "metadata": {
    "cell_id": "1f5fb82a90234705a17fc9c86b69e1f4",
    "deepnote_cell_type": "code",
    "deepnote_to_be_reexecuted": false,
    "execution_millis": 2,
    "execution_start": 1677519012895,
    "source_hash": "215d6777",
    "tags": []
   },
   "outputs": [
    {
     "data": {
      "text/plain": [
       "size\n",
       "L      2034\n",
       "XXL    2011\n",
       "M      1989\n",
       "S      1976\n",
       "XL     1940\n",
       "Name: count, dtype: int64"
      ]
     },
     "execution_count": 15,
     "metadata": {},
     "output_type": "execute_result"
    }
   ],
   "source": [
    "playground['size'].value_counts()"
   ]
  },
  {
   "cell_type": "markdown",
   "metadata": {
    "cell_id": "5159f14e0fef4dcdbf5fbef6f71138cf",
    "deepnote_cell_type": "markdown",
    "tags": []
   },
   "source": [
    "Here we select a specific column or a subset of columns using the indexing syntax\n",
    "```python\n",
    "df['column name']\n",
    "```\n",
    "or\n",
    "```python\n",
    "df[['col_name_1',...,'col_name_k']]\n",
    "```"
   ]
  },
  {
   "cell_type": "markdown",
   "metadata": {
    "cell_id": "5334a5885b1d41f0a3949a3d70c19328",
    "deepnote_cell_type": "markdown",
    "tags": []
   },
   "source": [
    "### Missing data: removal and imputation\n",
    "![](slides/Slide9.png)"
   ]
  },
  {
   "cell_type": "markdown",
   "metadata": {
    "cell_id": "6ad778ce0fb042fea0e621cac7a46d1d",
    "deepnote_cell_type": "markdown",
    "tags": []
   },
   "source": [
    "**Task**: Get the boolean DataFrame indicating where the missing value are, and visualize the first ten rows using the method [**head**](https://pandas.pydata.org/docs/reference/api/pandas.DataFrame.head.html). "
   ]
  },
  {
   "cell_type": "code",
   "execution_count": 16,
   "metadata": {
    "cell_id": "18560e16f7074ea9acd3afad07c151cf",
    "deepnote_cell_type": "code",
    "deepnote_to_be_reexecuted": false,
    "execution_millis": 86,
    "execution_start": 1677519514627,
    "source_hash": "5d828dac",
    "tags": []
   },
   "outputs": [
    {
     "data": {
      "text/html": [
       "<div>\n",
       "<style scoped>\n",
       "    .dataframe tbody tr th:only-of-type {\n",
       "        vertical-align: middle;\n",
       "    }\n",
       "\n",
       "    .dataframe tbody tr th {\n",
       "        vertical-align: top;\n",
       "    }\n",
       "\n",
       "    .dataframe thead th {\n",
       "        text-align: right;\n",
       "    }\n",
       "</style>\n",
       "<table border=\"1\" class=\"dataframe\">\n",
       "  <thead>\n",
       "    <tr style=\"text-align: right;\">\n",
       "      <th></th>\n",
       "      <th>age</th>\n",
       "      <th>length_screw</th>\n",
       "      <th>diameter</th>\n",
       "      <th>middle_diameter</th>\n",
       "      <th>hammer_strength</th>\n",
       "      <th>rank</th>\n",
       "      <th>size</th>\n",
       "      <th>country</th>\n",
       "    </tr>\n",
       "  </thead>\n",
       "  <tbody>\n",
       "    <tr>\n",
       "      <th>0</th>\n",
       "      <td>False</td>\n",
       "      <td>False</td>\n",
       "      <td>False</td>\n",
       "      <td>False</td>\n",
       "      <td>False</td>\n",
       "      <td>False</td>\n",
       "      <td>False</td>\n",
       "      <td>False</td>\n",
       "    </tr>\n",
       "    <tr>\n",
       "      <th>1</th>\n",
       "      <td>False</td>\n",
       "      <td>False</td>\n",
       "      <td>False</td>\n",
       "      <td>True</td>\n",
       "      <td>False</td>\n",
       "      <td>False</td>\n",
       "      <td>False</td>\n",
       "      <td>False</td>\n",
       "    </tr>\n",
       "    <tr>\n",
       "      <th>2</th>\n",
       "      <td>False</td>\n",
       "      <td>False</td>\n",
       "      <td>False</td>\n",
       "      <td>False</td>\n",
       "      <td>False</td>\n",
       "      <td>False</td>\n",
       "      <td>False</td>\n",
       "      <td>False</td>\n",
       "    </tr>\n",
       "    <tr>\n",
       "      <th>3</th>\n",
       "      <td>False</td>\n",
       "      <td>False</td>\n",
       "      <td>False</td>\n",
       "      <td>False</td>\n",
       "      <td>False</td>\n",
       "      <td>False</td>\n",
       "      <td>False</td>\n",
       "      <td>False</td>\n",
       "    </tr>\n",
       "    <tr>\n",
       "      <th>4</th>\n",
       "      <td>False</td>\n",
       "      <td>False</td>\n",
       "      <td>False</td>\n",
       "      <td>True</td>\n",
       "      <td>False</td>\n",
       "      <td>False</td>\n",
       "      <td>False</td>\n",
       "      <td>False</td>\n",
       "    </tr>\n",
       "    <tr>\n",
       "      <th>5</th>\n",
       "      <td>False</td>\n",
       "      <td>False</td>\n",
       "      <td>False</td>\n",
       "      <td>False</td>\n",
       "      <td>False</td>\n",
       "      <td>False</td>\n",
       "      <td>False</td>\n",
       "      <td>False</td>\n",
       "    </tr>\n",
       "    <tr>\n",
       "      <th>6</th>\n",
       "      <td>False</td>\n",
       "      <td>False</td>\n",
       "      <td>False</td>\n",
       "      <td>True</td>\n",
       "      <td>False</td>\n",
       "      <td>False</td>\n",
       "      <td>False</td>\n",
       "      <td>False</td>\n",
       "    </tr>\n",
       "    <tr>\n",
       "      <th>7</th>\n",
       "      <td>False</td>\n",
       "      <td>False</td>\n",
       "      <td>False</td>\n",
       "      <td>True</td>\n",
       "      <td>False</td>\n",
       "      <td>False</td>\n",
       "      <td>False</td>\n",
       "      <td>False</td>\n",
       "    </tr>\n",
       "    <tr>\n",
       "      <th>8</th>\n",
       "      <td>False</td>\n",
       "      <td>False</td>\n",
       "      <td>False</td>\n",
       "      <td>False</td>\n",
       "      <td>False</td>\n",
       "      <td>False</td>\n",
       "      <td>False</td>\n",
       "      <td>False</td>\n",
       "    </tr>\n",
       "    <tr>\n",
       "      <th>9</th>\n",
       "      <td>False</td>\n",
       "      <td>False</td>\n",
       "      <td>False</td>\n",
       "      <td>False</td>\n",
       "      <td>False</td>\n",
       "      <td>False</td>\n",
       "      <td>False</td>\n",
       "      <td>False</td>\n",
       "    </tr>\n",
       "  </tbody>\n",
       "</table>\n",
       "</div>"
      ],
      "text/plain": [
       "     age  length_screw  diameter  middle_diameter  hammer_strength   rank  \\\n",
       "0  False         False     False            False            False  False   \n",
       "1  False         False     False             True            False  False   \n",
       "2  False         False     False            False            False  False   \n",
       "3  False         False     False            False            False  False   \n",
       "4  False         False     False             True            False  False   \n",
       "5  False         False     False            False            False  False   \n",
       "6  False         False     False             True            False  False   \n",
       "7  False         False     False             True            False  False   \n",
       "8  False         False     False            False            False  False   \n",
       "9  False         False     False            False            False  False   \n",
       "\n",
       "    size  country  \n",
       "0  False    False  \n",
       "1  False    False  \n",
       "2  False    False  \n",
       "3  False    False  \n",
       "4  False    False  \n",
       "5  False    False  \n",
       "6  False    False  \n",
       "7  False    False  \n",
       "8  False    False  \n",
       "9  False    False  "
      ]
     },
     "execution_count": 16,
     "metadata": {},
     "output_type": "execute_result"
    }
   ],
   "source": [
    "playground.isnull().head(10)"
   ]
  },
  {
   "cell_type": "markdown",
   "metadata": {
    "cell_id": "70f4507dff3243978db54c49084138e4",
    "deepnote_cell_type": "markdown",
    "tags": []
   },
   "source": [
    "If you have a boolean DataFrame, you can count the number of missing values per column by the method [**sum**](https://pandas.pydata.org/docs/reference/api/pandas.DataFrame.sum.html).\n",
    "\n",
    "In Python, <code>True = 1</code> and <code>False = 0</code>.\n",
    "\n",
    "**Task**: Count the missing values per column."
   ]
  },
  {
   "cell_type": "code",
   "execution_count": 17,
   "metadata": {
    "cell_id": "0921bea8984d41aa8cbc0f56a30db327",
    "deepnote_cell_type": "code",
    "deepnote_to_be_reexecuted": false,
    "execution_millis": 10,
    "execution_start": 1677519520300,
    "source_hash": "4124dee7",
    "tags": []
   },
   "outputs": [
    {
     "data": {
      "text/plain": [
       "age                  10\n",
       "length_screw         30\n",
       "diameter             10\n",
       "middle_diameter    5006\n",
       "hammer_strength      30\n",
       "rank                 10\n",
       "size                 50\n",
       "country              10\n",
       "dtype: int64"
      ]
     },
     "execution_count": 17,
     "metadata": {},
     "output_type": "execute_result"
    }
   ],
   "source": [
    "playground.isnull().sum(axis=0)"
   ]
  },
  {
   "cell_type": "markdown",
   "metadata": {
    "cell_id": "d1a3c4f095d44cf78fce85d2774deac4",
    "deepnote_cell_type": "markdown",
    "tags": []
   },
   "source": [
    "**Task (Intermediate)**: Inspect the documentation of <code>sum</code>, how can you get the number of rows containing at least one mssing value?\n",
    "\n",
    "*Hint:* If we evaluate a comparison operator like <code>df > value</code>, we get a boolean DataFrame. The same holds for **Series** - pandas.Series, aka a single column or row."
   ]
  },
  {
   "cell_type": "code",
   "execution_count": 18,
   "metadata": {
    "cell_id": "3e7e097c0f1e4e68bf1223bf3cf0fef1",
    "deepnote_cell_type": "code",
    "deepnote_to_be_reexecuted": false,
    "execution_millis": 15,
    "execution_start": 1677519639661,
    "output_cleared": false,
    "source_hash": "97cce564",
    "tags": []
   },
   "outputs": [
    {
     "data": {
      "text/plain": [
       "5039"
      ]
     },
     "execution_count": 18,
     "metadata": {},
     "output_type": "execute_result"
    }
   ],
   "source": [
    "(playground.isnull().sum(axis=1) > 0).sum()"
   ]
  },
  {
   "cell_type": "markdown",
   "metadata": {
    "cell_id": "67797ca0167e4c60bf71add75813972a",
    "deepnote_cell_type": "markdown",
    "tags": []
   },
   "source": [
    "![](slides/Slide10.png)"
   ]
  },
  {
   "cell_type": "markdown",
   "metadata": {
    "cell_id": "d9b069b91bca46c3b572c0799da6340e",
    "deepnote_cell_type": "markdown",
    "tags": []
   },
   "source": [
    "Documentation for [**dropna**](https://pandas.pydata.org/pandas-docs/version/1.2/reference/api/pandas.DataFrame.dropna.html)."
   ]
  },
  {
   "cell_type": "markdown",
   "metadata": {
    "cell_id": "1854924fd7e54b318639f2a83a1432b3",
    "deepnote_cell_type": "markdown",
    "tags": []
   },
   "source": [
    "**Task:** Remove all rows containing at least one missing value. Is it a good idea? Why?"
   ]
  },
  {
   "cell_type": "code",
   "execution_count": 19,
   "metadata": {
    "cell_id": "045a4f966be44000a600904231ea85fe",
    "deepnote_cell_type": "code",
    "deepnote_to_be_reexecuted": false,
    "execution_millis": 13,
    "execution_start": 1677520111019,
    "source_hash": "3c5c6ec9",
    "tags": []
   },
   "outputs": [
    {
     "data": {
      "text/html": [
       "<div>\n",
       "<style scoped>\n",
       "    .dataframe tbody tr th:only-of-type {\n",
       "        vertical-align: middle;\n",
       "    }\n",
       "\n",
       "    .dataframe tbody tr th {\n",
       "        vertical-align: top;\n",
       "    }\n",
       "\n",
       "    .dataframe thead th {\n",
       "        text-align: right;\n",
       "    }\n",
       "</style>\n",
       "<table border=\"1\" class=\"dataframe\">\n",
       "  <thead>\n",
       "    <tr style=\"text-align: right;\">\n",
       "      <th></th>\n",
       "      <th>age</th>\n",
       "      <th>length_screw</th>\n",
       "      <th>diameter</th>\n",
       "      <th>middle_diameter</th>\n",
       "      <th>hammer_strength</th>\n",
       "      <th>rank</th>\n",
       "      <th>size</th>\n",
       "      <th>country</th>\n",
       "    </tr>\n",
       "  </thead>\n",
       "  <tbody>\n",
       "    <tr>\n",
       "      <th>0</th>\n",
       "      <td>47.0</td>\n",
       "      <td>39.537837</td>\n",
       "      <td>17.053504</td>\n",
       "      <td>4.301665</td>\n",
       "      <td>46.389102</td>\n",
       "      <td>medium</td>\n",
       "      <td>L</td>\n",
       "      <td>Denmark</td>\n",
       "    </tr>\n",
       "    <tr>\n",
       "      <th>2</th>\n",
       "      <td>72.0</td>\n",
       "      <td>40.686959</td>\n",
       "      <td>-21.411874</td>\n",
       "      <td>2.578786</td>\n",
       "      <td>-34.345003</td>\n",
       "      <td>medium</td>\n",
       "      <td>L</td>\n",
       "      <td>Austria</td>\n",
       "    </tr>\n",
       "    <tr>\n",
       "      <th>3</th>\n",
       "      <td>23.0</td>\n",
       "      <td>60.179331</td>\n",
       "      <td>39.712469</td>\n",
       "      <td>3.065198</td>\n",
       "      <td>118.023664</td>\n",
       "      <td>perfect</td>\n",
       "      <td>XL</td>\n",
       "      <td>Austria</td>\n",
       "    </tr>\n",
       "    <tr>\n",
       "      <th>5</th>\n",
       "      <td>65.0</td>\n",
       "      <td>52.287209</td>\n",
       "      <td>12.532527</td>\n",
       "      <td>4.092027</td>\n",
       "      <td>44.922023</td>\n",
       "      <td>bad</td>\n",
       "      <td>M</td>\n",
       "      <td>Austria</td>\n",
       "    </tr>\n",
       "    <tr>\n",
       "      <th>8</th>\n",
       "      <td>65.0</td>\n",
       "      <td>51.078399</td>\n",
       "      <td>-22.971850</td>\n",
       "      <td>4.033592</td>\n",
       "      <td>-33.540389</td>\n",
       "      <td>good</td>\n",
       "      <td>S</td>\n",
       "      <td>Denmark</td>\n",
       "    </tr>\n",
       "    <tr>\n",
       "      <th>...</th>\n",
       "      <td>...</td>\n",
       "      <td>...</td>\n",
       "      <td>...</td>\n",
       "      <td>...</td>\n",
       "      <td>...</td>\n",
       "      <td>...</td>\n",
       "      <td>...</td>\n",
       "      <td>...</td>\n",
       "    </tr>\n",
       "    <tr>\n",
       "      <th>9994</th>\n",
       "      <td>76.0</td>\n",
       "      <td>37.231863</td>\n",
       "      <td>-23.314827</td>\n",
       "      <td>2.293006</td>\n",
       "      <td>-38.269593</td>\n",
       "      <td>perfect</td>\n",
       "      <td>S</td>\n",
       "      <td>Italy</td>\n",
       "    </tr>\n",
       "    <tr>\n",
       "      <th>9995</th>\n",
       "      <td>80.0</td>\n",
       "      <td>29.688847</td>\n",
       "      <td>-8.900835</td>\n",
       "      <td>5.830887</td>\n",
       "      <td>-15.037037</td>\n",
       "      <td>good</td>\n",
       "      <td>XXL</td>\n",
       "      <td>Denmark</td>\n",
       "    </tr>\n",
       "    <tr>\n",
       "      <th>9996</th>\n",
       "      <td>35.0</td>\n",
       "      <td>23.757652</td>\n",
       "      <td>54.140757</td>\n",
       "      <td>3.128091</td>\n",
       "      <td>124.841787</td>\n",
       "      <td>medium</td>\n",
       "      <td>L</td>\n",
       "      <td>Germany</td>\n",
       "    </tr>\n",
       "    <tr>\n",
       "      <th>9997</th>\n",
       "      <td>31.0</td>\n",
       "      <td>7.493367</td>\n",
       "      <td>-32.458441</td>\n",
       "      <td>2.022378</td>\n",
       "      <td>-83.878678</td>\n",
       "      <td>perfect</td>\n",
       "      <td>L</td>\n",
       "      <td>France</td>\n",
       "    </tr>\n",
       "    <tr>\n",
       "      <th>9999</th>\n",
       "      <td>76.0</td>\n",
       "      <td>28.463501</td>\n",
       "      <td>22.295653</td>\n",
       "      <td>4.978659</td>\n",
       "      <td>55.307215</td>\n",
       "      <td>perfect</td>\n",
       "      <td>XXL</td>\n",
       "      <td>Italy</td>\n",
       "    </tr>\n",
       "  </tbody>\n",
       "</table>\n",
       "<p>4961 rows × 8 columns</p>\n",
       "</div>"
      ],
      "text/plain": [
       "       age  length_screw   diameter  middle_diameter  hammer_strength  \\\n",
       "0     47.0     39.537837  17.053504         4.301665        46.389102   \n",
       "2     72.0     40.686959 -21.411874         2.578786       -34.345003   \n",
       "3     23.0     60.179331  39.712469         3.065198       118.023664   \n",
       "5     65.0     52.287209  12.532527         4.092027        44.922023   \n",
       "8     65.0     51.078399 -22.971850         4.033592       -33.540389   \n",
       "...    ...           ...        ...              ...              ...   \n",
       "9994  76.0     37.231863 -23.314827         2.293006       -38.269593   \n",
       "9995  80.0     29.688847  -8.900835         5.830887       -15.037037   \n",
       "9996  35.0     23.757652  54.140757         3.128091       124.841787   \n",
       "9997  31.0      7.493367 -32.458441         2.022378       -83.878678   \n",
       "9999  76.0     28.463501  22.295653         4.978659        55.307215   \n",
       "\n",
       "         rank size  country  \n",
       "0      medium    L  Denmark  \n",
       "2      medium    L  Austria  \n",
       "3     perfect   XL  Austria  \n",
       "5         bad    M  Austria  \n",
       "8        good    S  Denmark  \n",
       "...       ...  ...      ...  \n",
       "9994  perfect    S    Italy  \n",
       "9995     good  XXL  Denmark  \n",
       "9996   medium    L  Germany  \n",
       "9997  perfect    L   France  \n",
       "9999  perfect  XXL    Italy  \n",
       "\n",
       "[4961 rows x 8 columns]"
      ]
     },
     "execution_count": 19,
     "metadata": {},
     "output_type": "execute_result"
    }
   ],
   "source": [
    "playground.dropna(axis=0)"
   ]
  },
  {
   "cell_type": "markdown",
   "metadata": {
    "cell_id": "7c30996b077e44c2acc3f6fa91a6df33",
    "deepnote_cell_type": "markdown",
    "tags": []
   },
   "source": [
    "**A:** It's a good solution because we removed 5039 rows, i.e. half of the dataset."
   ]
  },
  {
   "cell_type": "markdown",
   "metadata": {
    "cell_id": "084aa0ec2afa43948c5028be9ee58bd3",
    "deepnote_cell_type": "markdown",
    "tags": []
   },
   "source": [
    "Don't worry if you removed many rows from the original DataFrame, it is still untouched because most of methods changing a DataFrame return a new DataFrame, unless we defined the parameter <code>inplace=True</code>."
   ]
  },
  {
   "cell_type": "markdown",
   "metadata": {
    "cell_id": "720799c23b8541f3a9bdbe3ef9b7c597",
    "deepnote_cell_type": "markdown",
    "tags": []
   },
   "source": [
    "**Task**: Remove all the features containing at least one missing value. Is it a good idea? Can we do better?"
   ]
  },
  {
   "cell_type": "code",
   "execution_count": 20,
   "metadata": {
    "cell_id": "a1db01eea0f641c6a8c211662280ce3d",
    "deepnote_cell_type": "code",
    "deepnote_to_be_reexecuted": false,
    "execution_millis": 3,
    "execution_start": 1677520334903,
    "is_output_hidden": false,
    "source_hash": "2af400c3",
    "tags": []
   },
   "outputs": [
    {
     "data": {
      "text/html": [
       "<div>\n",
       "<style scoped>\n",
       "    .dataframe tbody tr th:only-of-type {\n",
       "        vertical-align: middle;\n",
       "    }\n",
       "\n",
       "    .dataframe tbody tr th {\n",
       "        vertical-align: top;\n",
       "    }\n",
       "\n",
       "    .dataframe thead th {\n",
       "        text-align: right;\n",
       "    }\n",
       "</style>\n",
       "<table border=\"1\" class=\"dataframe\">\n",
       "  <thead>\n",
       "    <tr style=\"text-align: right;\">\n",
       "      <th></th>\n",
       "    </tr>\n",
       "  </thead>\n",
       "  <tbody>\n",
       "    <tr>\n",
       "      <th>0</th>\n",
       "    </tr>\n",
       "    <tr>\n",
       "      <th>1</th>\n",
       "    </tr>\n",
       "    <tr>\n",
       "      <th>2</th>\n",
       "    </tr>\n",
       "    <tr>\n",
       "      <th>3</th>\n",
       "    </tr>\n",
       "    <tr>\n",
       "      <th>4</th>\n",
       "    </tr>\n",
       "    <tr>\n",
       "      <th>...</th>\n",
       "    </tr>\n",
       "    <tr>\n",
       "      <th>9995</th>\n",
       "    </tr>\n",
       "    <tr>\n",
       "      <th>9996</th>\n",
       "    </tr>\n",
       "    <tr>\n",
       "      <th>9997</th>\n",
       "    </tr>\n",
       "    <tr>\n",
       "      <th>9998</th>\n",
       "    </tr>\n",
       "    <tr>\n",
       "      <th>9999</th>\n",
       "    </tr>\n",
       "  </tbody>\n",
       "</table>\n",
       "<p>10000 rows × 0 columns</p>\n",
       "</div>"
      ],
      "text/plain": [
       "Empty DataFrame\n",
       "Columns: []\n",
       "Index: [0, 1, 2, 3, 4, 5, 6, 7, 8, 9, 10, 11, 12, 13, 14, 15, 16, 17, 18, 19, 20, 21, 22, 23, 24, 25, 26, 27, 28, 29, 30, 31, 32, 33, 34, 35, 36, 37, 38, 39, 40, 41, 42, 43, 44, 45, 46, 47, 48, 49, 50, 51, 52, 53, 54, 55, 56, 57, 58, 59, 60, 61, 62, 63, 64, 65, 66, 67, 68, 69, 70, 71, 72, 73, 74, 75, 76, 77, 78, 79, 80, 81, 82, 83, 84, 85, 86, 87, 88, 89, 90, 91, 92, 93, 94, 95, 96, 97, 98, 99, ...]\n",
       "\n",
       "[10000 rows x 0 columns]"
      ]
     },
     "execution_count": 20,
     "metadata": {},
     "output_type": "execute_result"
    }
   ],
   "source": [
    "playground.dropna(axis=1)"
   ]
  },
  {
   "cell_type": "markdown",
   "metadata": {
    "cell_id": "75eec737d2044bc39178df8f24d31de5",
    "deepnote_cell_type": "markdown",
    "tags": []
   },
   "source": [
    "**A:** We removed all the rows. We got an empty dataset. No good.\n",
    "\n",
    "The problem is the column *middle_diameter* since it contains a lot of missing value. We remove it by exploiting the parameter **thresh** in the method **dropna**."
   ]
  },
  {
   "cell_type": "code",
   "execution_count": 21,
   "metadata": {
    "cell_id": "fd02cc690b1c48faa566c5a5dda87b46",
    "deepnote_cell_type": "code",
    "deepnote_to_be_reexecuted": false,
    "execution_millis": 16,
    "execution_start": 1677688632455,
    "source_hash": "1ef5de4d",
    "tags": []
   },
   "outputs": [],
   "source": [
    "playground = pd.read_csv('data/playground.csv')"
   ]
  },
  {
   "cell_type": "code",
   "execution_count": 22,
   "metadata": {
    "cell_id": "911baf916cf94ac994d82fac640cd0fa",
    "deepnote_cell_type": "code",
    "deepnote_to_be_reexecuted": false,
    "execution_millis": 17,
    "execution_start": 1677688636130,
    "source_hash": "1a8cbf05",
    "tags": []
   },
   "outputs": [],
   "source": [
    "playground = playground.dropna(thresh=6000,axis=1).dropna(axis=0,how='all')"
   ]
  },
  {
   "cell_type": "markdown",
   "metadata": {
    "cell_id": "02f7e524c7ae428392b6ae53fd2d914c",
    "deepnote_cell_type": "markdown",
    "tags": []
   },
   "source": [
    "We reomved the column *middle_diameter* and, on the resulting new DataFrame, we removed all the rows full of missing data. "
   ]
  },
  {
   "cell_type": "code",
   "execution_count": 23,
   "metadata": {
    "cell_id": "26787fb1bfdc43fdb4add81415757cb9",
    "deepnote_cell_type": "code",
    "deepnote_to_be_reexecuted": false,
    "execution_millis": 32,
    "execution_start": 1677520494194,
    "source_hash": "d426bd90",
    "tags": []
   },
   "outputs": [
    {
     "name": "stdout",
     "output_type": "stream",
     "text": [
      "<class 'pandas.core.frame.DataFrame'>\n",
      "Index: 9990 entries, 0 to 9999\n",
      "Data columns (total 7 columns):\n",
      " #   Column           Non-Null Count  Dtype  \n",
      "---  ------           --------------  -----  \n",
      " 0   age              9990 non-null   float64\n",
      " 1   length_screw     9970 non-null   float64\n",
      " 2   diameter         9990 non-null   float64\n",
      " 3   hammer_strength  9970 non-null   float64\n",
      " 4   rank             9990 non-null   object \n",
      " 5   size             9950 non-null   object \n",
      " 6   country          9990 non-null   object \n",
      "dtypes: float64(4), object(3)\n",
      "memory usage: 624.4+ KB\n"
     ]
    }
   ],
   "source": [
    "playground.info()"
   ]
  },
  {
   "cell_type": "markdown",
   "metadata": {
    "cell_id": "b2b7760119ca41ad8430889d44d00bca",
    "deepnote_cell_type": "markdown",
    "tags": []
   },
   "source": [
    "Again, a few columns contain missing values: *length_screw*, *hammer_strength* and *size*. But the overall quantity of missing values is very limited. For these cases it is more suitable **imputing** the missing values."
   ]
  },
  {
   "cell_type": "markdown",
   "metadata": {
    "cell_id": "960142af8ee4445a8b3e56e65abba254",
    "deepnote_cell_type": "markdown",
    "tags": []
   },
   "source": [
    "![](slides/Slide11.png)"
   ]
  },
  {
   "cell_type": "markdown",
   "metadata": {
    "cell_id": "36fc1bfcc3834700a7d5238b69793d9c",
    "deepnote_cell_type": "markdown",
    "tags": []
   },
   "source": [
    "**Task**: Apply an imputation with strategy *most_frequent* to the feature *size*. Use the <code>SimpleImputer</code> class. Why the feature *size* and not *rank*?\n"
   ]
  },
  {
   "cell_type": "code",
   "execution_count": 24,
   "metadata": {
    "cell_id": "d87fa6e027c6432983d6d759dd9764b0",
    "deepnote_cell_type": "code",
    "deepnote_to_be_reexecuted": false,
    "execution_millis": 1,
    "execution_start": 1677520697836,
    "source_hash": "8c3afddd",
    "tags": []
   },
   "outputs": [],
   "source": [
    "from sklearn.impute import SimpleImputer"
   ]
  },
  {
   "cell_type": "code",
   "execution_count": 25,
   "metadata": {
    "cell_id": "eeb9bc8902b3413fb1027158e2bf4889",
    "deepnote_cell_type": "code",
    "deepnote_to_be_reexecuted": false,
    "execution_millis": 9,
    "execution_start": 1677520822253,
    "source_hash": "215d6777",
    "tags": []
   },
   "outputs": [
    {
     "data": {
      "text/plain": [
       "size\n",
       "L      2034\n",
       "XXL    2011\n",
       "M      1989\n",
       "S      1976\n",
       "XL     1940\n",
       "Name: count, dtype: int64"
      ]
     },
     "execution_count": 25,
     "metadata": {},
     "output_type": "execute_result"
    }
   ],
   "source": [
    "playground['size'].value_counts()"
   ]
  },
  {
   "cell_type": "code",
   "execution_count": 26,
   "metadata": {
    "cell_id": "131282c39c85404d88ff34d469ccd534",
    "deepnote_cell_type": "code",
    "deepnote_to_be_reexecuted": false,
    "execution_millis": 7,
    "execution_start": 1677522821338,
    "source_hash": "c0de0e1b",
    "tags": []
   },
   "outputs": [
    {
     "ename": "ValueError",
     "evalue": "2",
     "output_type": "error",
     "traceback": [
      "\u001b[1;31m---------------------------------------------------------------------------\u001b[0m",
      "\u001b[1;31mValueError\u001b[0m                                Traceback (most recent call last)",
      "Cell \u001b[1;32mIn[26], line 2\u001b[0m\n\u001b[0;32m      1\u001b[0m si \u001b[38;5;241m=\u001b[39m SimpleImputer(strategy\u001b[38;5;241m=\u001b[39m\u001b[38;5;124m'\u001b[39m\u001b[38;5;124mmost_frequent\u001b[39m\u001b[38;5;124m'\u001b[39m)\n\u001b[1;32m----> 2\u001b[0m \u001b[43mplayground\u001b[49m\u001b[43m[\u001b[49m\u001b[38;5;124;43m'\u001b[39;49m\u001b[38;5;124;43msize\u001b[39;49m\u001b[38;5;124;43m'\u001b[39;49m\u001b[43m]\u001b[49m \u001b[38;5;241m=\u001b[39m si\u001b[38;5;241m.\u001b[39mfit_transform(playground[[\u001b[38;5;124m'\u001b[39m\u001b[38;5;124msize\u001b[39m\u001b[38;5;124m'\u001b[39m]])\n",
      "File \u001b[1;32m~\\Desktop\\PyEnv\\SoMeNi\\Lib\\site-packages\\pandas\\core\\frame.py:4299\u001b[0m, in \u001b[0;36mDataFrame.__setitem__\u001b[1;34m(self, key, value)\u001b[0m\n\u001b[0;32m   4296\u001b[0m     \u001b[38;5;28mself\u001b[39m\u001b[38;5;241m.\u001b[39m_setitem_array([key], value)\n\u001b[0;32m   4297\u001b[0m \u001b[38;5;28;01melse\u001b[39;00m:\n\u001b[0;32m   4298\u001b[0m     \u001b[38;5;66;03m# set column\u001b[39;00m\n\u001b[1;32m-> 4299\u001b[0m     \u001b[38;5;28;43mself\u001b[39;49m\u001b[38;5;241;43m.\u001b[39;49m\u001b[43m_set_item\u001b[49m\u001b[43m(\u001b[49m\u001b[43mkey\u001b[49m\u001b[43m,\u001b[49m\u001b[43m \u001b[49m\u001b[43mvalue\u001b[49m\u001b[43m)\u001b[49m\n",
      "File \u001b[1;32m~\\Desktop\\PyEnv\\SoMeNi\\Lib\\site-packages\\pandas\\core\\frame.py:4512\u001b[0m, in \u001b[0;36mDataFrame._set_item\u001b[1;34m(self, key, value)\u001b[0m\n\u001b[0;32m   4502\u001b[0m \u001b[38;5;28;01mdef\u001b[39;00m \u001b[38;5;21m_set_item\u001b[39m(\u001b[38;5;28mself\u001b[39m, key, value) \u001b[38;5;241m-\u001b[39m\u001b[38;5;241m>\u001b[39m \u001b[38;5;28;01mNone\u001b[39;00m:\n\u001b[0;32m   4503\u001b[0m \u001b[38;5;250m    \u001b[39m\u001b[38;5;124;03m\"\"\"\u001b[39;00m\n\u001b[0;32m   4504\u001b[0m \u001b[38;5;124;03m    Add series to DataFrame in specified column.\u001b[39;00m\n\u001b[0;32m   4505\u001b[0m \n\u001b[1;32m   (...)\u001b[0m\n\u001b[0;32m   4510\u001b[0m \u001b[38;5;124;03m    ensure homogeneity.\u001b[39;00m\n\u001b[0;32m   4511\u001b[0m \u001b[38;5;124;03m    \"\"\"\u001b[39;00m\n\u001b[1;32m-> 4512\u001b[0m     value, refs \u001b[38;5;241m=\u001b[39m \u001b[38;5;28;43mself\u001b[39;49m\u001b[38;5;241;43m.\u001b[39;49m\u001b[43m_sanitize_column\u001b[49m\u001b[43m(\u001b[49m\u001b[43mvalue\u001b[49m\u001b[43m)\u001b[49m\n\u001b[0;32m   4514\u001b[0m     \u001b[38;5;28;01mif\u001b[39;00m (\n\u001b[0;32m   4515\u001b[0m         key \u001b[38;5;129;01min\u001b[39;00m \u001b[38;5;28mself\u001b[39m\u001b[38;5;241m.\u001b[39mcolumns\n\u001b[0;32m   4516\u001b[0m         \u001b[38;5;129;01mand\u001b[39;00m value\u001b[38;5;241m.\u001b[39mndim \u001b[38;5;241m==\u001b[39m \u001b[38;5;241m1\u001b[39m\n\u001b[0;32m   4517\u001b[0m         \u001b[38;5;129;01mand\u001b[39;00m \u001b[38;5;129;01mnot\u001b[39;00m \u001b[38;5;28misinstance\u001b[39m(value\u001b[38;5;241m.\u001b[39mdtype, ExtensionDtype)\n\u001b[0;32m   4518\u001b[0m     ):\n\u001b[0;32m   4519\u001b[0m         \u001b[38;5;66;03m# broadcast across multiple columns if necessary\u001b[39;00m\n\u001b[0;32m   4520\u001b[0m         \u001b[38;5;28;01mif\u001b[39;00m \u001b[38;5;129;01mnot\u001b[39;00m \u001b[38;5;28mself\u001b[39m\u001b[38;5;241m.\u001b[39mcolumns\u001b[38;5;241m.\u001b[39mis_unique \u001b[38;5;129;01mor\u001b[39;00m \u001b[38;5;28misinstance\u001b[39m(\u001b[38;5;28mself\u001b[39m\u001b[38;5;241m.\u001b[39mcolumns, MultiIndex):\n",
      "File \u001b[1;32m~\\Desktop\\PyEnv\\SoMeNi\\Lib\\site-packages\\pandas\\core\\frame.py:5254\u001b[0m, in \u001b[0;36mDataFrame._sanitize_column\u001b[1;34m(self, value)\u001b[0m\n\u001b[0;32m   5252\u001b[0m \u001b[38;5;28;01mif\u001b[39;00m is_list_like(value):\n\u001b[0;32m   5253\u001b[0m     com\u001b[38;5;241m.\u001b[39mrequire_length_match(value, \u001b[38;5;28mself\u001b[39m\u001b[38;5;241m.\u001b[39mindex)\n\u001b[1;32m-> 5254\u001b[0m arr \u001b[38;5;241m=\u001b[39m \u001b[43msanitize_array\u001b[49m\u001b[43m(\u001b[49m\u001b[43mvalue\u001b[49m\u001b[43m,\u001b[49m\u001b[43m \u001b[49m\u001b[38;5;28;43mself\u001b[39;49m\u001b[38;5;241;43m.\u001b[39;49m\u001b[43mindex\u001b[49m\u001b[43m,\u001b[49m\u001b[43m \u001b[49m\u001b[43mcopy\u001b[49m\u001b[38;5;241;43m=\u001b[39;49m\u001b[38;5;28;43;01mTrue\u001b[39;49;00m\u001b[43m,\u001b[49m\u001b[43m \u001b[49m\u001b[43mallow_2d\u001b[49m\u001b[38;5;241;43m=\u001b[39;49m\u001b[38;5;28;43;01mTrue\u001b[39;49;00m\u001b[43m)\u001b[49m\n\u001b[0;32m   5255\u001b[0m \u001b[38;5;28;01mif\u001b[39;00m (\n\u001b[0;32m   5256\u001b[0m     \u001b[38;5;28misinstance\u001b[39m(value, Index)\n\u001b[0;32m   5257\u001b[0m     \u001b[38;5;129;01mand\u001b[39;00m value\u001b[38;5;241m.\u001b[39mdtype \u001b[38;5;241m==\u001b[39m \u001b[38;5;124m\"\u001b[39m\u001b[38;5;124mobject\u001b[39m\u001b[38;5;124m\"\u001b[39m\n\u001b[1;32m   (...)\u001b[0m\n\u001b[0;32m   5260\u001b[0m     \u001b[38;5;66;03m# TODO: Remove kludge in sanitize_array for string mode when enforcing\u001b[39;00m\n\u001b[0;32m   5261\u001b[0m     \u001b[38;5;66;03m# this deprecation\u001b[39;00m\n\u001b[0;32m   5262\u001b[0m     warnings\u001b[38;5;241m.\u001b[39mwarn(\n\u001b[0;32m   5263\u001b[0m         \u001b[38;5;124m\"\u001b[39m\u001b[38;5;124mSetting an Index with object dtype into a DataFrame will stop \u001b[39m\u001b[38;5;124m\"\u001b[39m\n\u001b[0;32m   5264\u001b[0m         \u001b[38;5;124m\"\u001b[39m\u001b[38;5;124minferring another dtype in a future version. Cast the Index \u001b[39m\u001b[38;5;124m\"\u001b[39m\n\u001b[1;32m   (...)\u001b[0m\n\u001b[0;32m   5267\u001b[0m         stacklevel\u001b[38;5;241m=\u001b[39mfind_stack_level(),\n\u001b[0;32m   5268\u001b[0m     )\n",
      "File \u001b[1;32m~\\Desktop\\PyEnv\\SoMeNi\\Lib\\site-packages\\pandas\\core\\construction.py:606\u001b[0m, in \u001b[0;36msanitize_array\u001b[1;34m(data, index, dtype, copy, allow_2d)\u001b[0m\n\u001b[0;32m    604\u001b[0m subarr \u001b[38;5;241m=\u001b[39m data\n\u001b[0;32m    605\u001b[0m \u001b[38;5;28;01mif\u001b[39;00m data\u001b[38;5;241m.\u001b[39mdtype \u001b[38;5;241m==\u001b[39m \u001b[38;5;28mobject\u001b[39m:\n\u001b[1;32m--> 606\u001b[0m     subarr \u001b[38;5;241m=\u001b[39m \u001b[43mmaybe_infer_to_datetimelike\u001b[49m\u001b[43m(\u001b[49m\u001b[43mdata\u001b[49m\u001b[43m)\u001b[49m\n\u001b[0;32m    607\u001b[0m     \u001b[38;5;28;01mif\u001b[39;00m (\n\u001b[0;32m    608\u001b[0m         object_index\n\u001b[0;32m    609\u001b[0m         \u001b[38;5;129;01mand\u001b[39;00m using_pyarrow_string_dtype()\n\u001b[0;32m    610\u001b[0m         \u001b[38;5;129;01mand\u001b[39;00m is_string_dtype(subarr)\n\u001b[0;32m    611\u001b[0m     ):\n\u001b[0;32m    612\u001b[0m         \u001b[38;5;66;03m# Avoid inference when string option is set\u001b[39;00m\n\u001b[0;32m    613\u001b[0m         subarr \u001b[38;5;241m=\u001b[39m data\n",
      "File \u001b[1;32m~\\Desktop\\PyEnv\\SoMeNi\\Lib\\site-packages\\pandas\\core\\dtypes\\cast.py:1182\u001b[0m, in \u001b[0;36mmaybe_infer_to_datetimelike\u001b[1;34m(value)\u001b[0m\n\u001b[0;32m   1179\u001b[0m     \u001b[38;5;28;01mraise\u001b[39;00m \u001b[38;5;167;01mTypeError\u001b[39;00m(\u001b[38;5;28mtype\u001b[39m(value))  \u001b[38;5;66;03m# pragma: no cover\u001b[39;00m\n\u001b[0;32m   1180\u001b[0m \u001b[38;5;28;01mif\u001b[39;00m value\u001b[38;5;241m.\u001b[39mndim \u001b[38;5;241m!=\u001b[39m \u001b[38;5;241m1\u001b[39m:\n\u001b[0;32m   1181\u001b[0m     \u001b[38;5;66;03m# Caller is responsible\u001b[39;00m\n\u001b[1;32m-> 1182\u001b[0m     \u001b[38;5;28;01mraise\u001b[39;00m \u001b[38;5;167;01mValueError\u001b[39;00m(value\u001b[38;5;241m.\u001b[39mndim)  \u001b[38;5;66;03m# pragma: no cover\u001b[39;00m\n\u001b[0;32m   1184\u001b[0m \u001b[38;5;28;01mif\u001b[39;00m \u001b[38;5;129;01mnot\u001b[39;00m \u001b[38;5;28mlen\u001b[39m(value):\n\u001b[0;32m   1185\u001b[0m     \u001b[38;5;28;01mreturn\u001b[39;00m value\n",
      "\u001b[1;31mValueError\u001b[0m: 2"
     ]
    }
   ],
   "source": [
    "si = SimpleImputer(strategy='most_frequent')\n",
    "playground['size'] = si.fit_transform(playground[['size']])"
   ]
  },
  {
   "cell_type": "markdown",
   "metadata": {
    "cell_id": "96de1c6d04cc440ba2411b0d16fabfe0",
    "deepnote_cell_type": "markdown",
    "tags": []
   },
   "source": [
    "**Task:** Apply imputation with strategy *mean* to the features *hammer_strength* and *length_screw*. Use the <code>SimpleImputer</code> class."
   ]
  },
  {
   "cell_type": "code",
   "execution_count": 27,
   "metadata": {
    "cell_id": "d5bbcb71ca284b6093311dd4184eb8fd",
    "deepnote_cell_type": "code",
    "deepnote_to_be_reexecuted": false,
    "execution_millis": 9,
    "execution_start": 1677522824123,
    "source_hash": "8bac3569",
    "tags": []
   },
   "outputs": [],
   "source": [
    "si_mean = SimpleImputer(strategy='mean')\n",
    "playground[['length_screw','hammer_strength']] = si_mean.fit_transform(playground[['length_screw','hammer_strength']])"
   ]
  },
  {
   "cell_type": "code",
   "execution_count": 28,
   "metadata": {
    "cell_id": "b5e76ffe28cf41ea80b573b0a4b0cbf4",
    "deepnote_cell_type": "code",
    "deepnote_to_be_reexecuted": false,
    "execution_millis": 63,
    "execution_start": 1677521067525,
    "source_hash": "774d3db8",
    "tags": []
   },
   "outputs": [
    {
     "data": {
      "text/html": [
       "<div>\n",
       "<style scoped>\n",
       "    .dataframe tbody tr th:only-of-type {\n",
       "        vertical-align: middle;\n",
       "    }\n",
       "\n",
       "    .dataframe tbody tr th {\n",
       "        vertical-align: top;\n",
       "    }\n",
       "\n",
       "    .dataframe thead th {\n",
       "        text-align: right;\n",
       "    }\n",
       "</style>\n",
       "<table border=\"1\" class=\"dataframe\">\n",
       "  <thead>\n",
       "    <tr style=\"text-align: right;\">\n",
       "      <th></th>\n",
       "      <th>age</th>\n",
       "      <th>length_screw</th>\n",
       "      <th>diameter</th>\n",
       "      <th>hammer_strength</th>\n",
       "      <th>rank</th>\n",
       "      <th>size</th>\n",
       "      <th>country</th>\n",
       "    </tr>\n",
       "  </thead>\n",
       "  <tbody>\n",
       "    <tr>\n",
       "      <th>0</th>\n",
       "      <td>47.0</td>\n",
       "      <td>39.537837</td>\n",
       "      <td>17.053504</td>\n",
       "      <td>46.389102</td>\n",
       "      <td>medium</td>\n",
       "      <td>L</td>\n",
       "      <td>Denmark</td>\n",
       "    </tr>\n",
       "    <tr>\n",
       "      <th>1</th>\n",
       "      <td>20.0</td>\n",
       "      <td>-1.034592</td>\n",
       "      <td>-67.283321</td>\n",
       "      <td>-167.451060</td>\n",
       "      <td>good</td>\n",
       "      <td>XXL</td>\n",
       "      <td>Denmark</td>\n",
       "    </tr>\n",
       "    <tr>\n",
       "      <th>2</th>\n",
       "      <td>72.0</td>\n",
       "      <td>40.686959</td>\n",
       "      <td>-21.411874</td>\n",
       "      <td>-34.345003</td>\n",
       "      <td>medium</td>\n",
       "      <td>L</td>\n",
       "      <td>Austria</td>\n",
       "    </tr>\n",
       "    <tr>\n",
       "      <th>3</th>\n",
       "      <td>23.0</td>\n",
       "      <td>60.179331</td>\n",
       "      <td>39.712469</td>\n",
       "      <td>118.023664</td>\n",
       "      <td>perfect</td>\n",
       "      <td>XL</td>\n",
       "      <td>Austria</td>\n",
       "    </tr>\n",
       "    <tr>\n",
       "      <th>4</th>\n",
       "      <td>93.0</td>\n",
       "      <td>2.862281</td>\n",
       "      <td>33.059898</td>\n",
       "      <td>99.476390</td>\n",
       "      <td>perfect</td>\n",
       "      <td>XL</td>\n",
       "      <td>Germany</td>\n",
       "    </tr>\n",
       "    <tr>\n",
       "      <th>...</th>\n",
       "      <td>...</td>\n",
       "      <td>...</td>\n",
       "      <td>...</td>\n",
       "      <td>...</td>\n",
       "      <td>...</td>\n",
       "      <td>...</td>\n",
       "      <td>...</td>\n",
       "    </tr>\n",
       "    <tr>\n",
       "      <th>9995</th>\n",
       "      <td>80.0</td>\n",
       "      <td>29.688847</td>\n",
       "      <td>-8.900835</td>\n",
       "      <td>-15.037037</td>\n",
       "      <td>good</td>\n",
       "      <td>XXL</td>\n",
       "      <td>Denmark</td>\n",
       "    </tr>\n",
       "    <tr>\n",
       "      <th>9996</th>\n",
       "      <td>35.0</td>\n",
       "      <td>23.757652</td>\n",
       "      <td>54.140757</td>\n",
       "      <td>124.841787</td>\n",
       "      <td>medium</td>\n",
       "      <td>L</td>\n",
       "      <td>Germany</td>\n",
       "    </tr>\n",
       "    <tr>\n",
       "      <th>9997</th>\n",
       "      <td>31.0</td>\n",
       "      <td>7.493367</td>\n",
       "      <td>-32.458441</td>\n",
       "      <td>-83.878678</td>\n",
       "      <td>perfect</td>\n",
       "      <td>L</td>\n",
       "      <td>France</td>\n",
       "    </tr>\n",
       "    <tr>\n",
       "      <th>9998</th>\n",
       "      <td>33.0</td>\n",
       "      <td>33.341941</td>\n",
       "      <td>-36.872158</td>\n",
       "      <td>-84.604433</td>\n",
       "      <td>good</td>\n",
       "      <td>M</td>\n",
       "      <td>Austria</td>\n",
       "    </tr>\n",
       "    <tr>\n",
       "      <th>9999</th>\n",
       "      <td>76.0</td>\n",
       "      <td>28.463501</td>\n",
       "      <td>22.295653</td>\n",
       "      <td>55.307215</td>\n",
       "      <td>perfect</td>\n",
       "      <td>XXL</td>\n",
       "      <td>Italy</td>\n",
       "    </tr>\n",
       "  </tbody>\n",
       "</table>\n",
       "<p>9990 rows × 7 columns</p>\n",
       "</div>"
      ],
      "text/plain": [
       "       age  length_screw   diameter  hammer_strength     rank size  country\n",
       "0     47.0     39.537837  17.053504        46.389102   medium    L  Denmark\n",
       "1     20.0     -1.034592 -67.283321      -167.451060     good  XXL  Denmark\n",
       "2     72.0     40.686959 -21.411874       -34.345003   medium    L  Austria\n",
       "3     23.0     60.179331  39.712469       118.023664  perfect   XL  Austria\n",
       "4     93.0      2.862281  33.059898        99.476390  perfect   XL  Germany\n",
       "...    ...           ...        ...              ...      ...  ...      ...\n",
       "9995  80.0     29.688847  -8.900835       -15.037037     good  XXL  Denmark\n",
       "9996  35.0     23.757652  54.140757       124.841787   medium    L  Germany\n",
       "9997  31.0      7.493367 -32.458441       -83.878678  perfect    L   France\n",
       "9998  33.0     33.341941 -36.872158       -84.604433     good    M  Austria\n",
       "9999  76.0     28.463501  22.295653        55.307215  perfect  XXL    Italy\n",
       "\n",
       "[9990 rows x 7 columns]"
      ]
     },
     "execution_count": 28,
     "metadata": {},
     "output_type": "execute_result"
    }
   ],
   "source": [
    "playground"
   ]
  },
  {
   "cell_type": "markdown",
   "metadata": {
    "cell_id": "6cbf17623509428fbf002d538b8ab608",
    "deepnote_cell_type": "markdown",
    "tags": []
   },
   "source": [
    "### Transform Categorical Data\n",
    "\n",
    "#### The pandas Way\n",
    "\n",
    "![](slides/Slide12.png)\n",
    "![](slides/Slide13.png)"
   ]
  },
  {
   "cell_type": "markdown",
   "metadata": {
    "cell_id": "0256cfc15f1e4953aaecf88af85dc732",
    "deepnote_cell_type": "markdown",
    "tags": []
   },
   "source": [
    "#### The SKLearn Way\n",
    "\n",
    "![](slides/Slide14.png)"
   ]
  },
  {
   "cell_type": "markdown",
   "metadata": {
    "cell_id": "5ba50e81e2434c33b2ce9dc6f5cdb390",
    "deepnote_cell_type": "markdown",
    "tags": []
   },
   "source": [
    "Documentation for: [**OrdinalEncoder**](https://scikit-learn.org/stable/modules/generated/sklearn.preprocessing.OrdinalEncoder.html#sklearn.preprocessing.OrdinalEncoder).\n",
    "Documentation for: [**OneHotEncoder**](https://scikit-learn.org/stable/modules/generated/sklearn.preprocessing.OneHotEncoder.html#sklearn.preprocessing.OneHotEncoder).\n",
    "\n",
    "One of the parameters in the <code>OrdinalEncoder</code> constructor is *categories*. It is used to specify the order of the categories in the $i$-th feature. Specifically we can pass a list of lists/array.\n",
    "\n",
    "Example:\n",
    "```python\n",
    "oe = OrdinalEncoding(categories = [['A','B','C'])\n",
    "```\n",
    "0 - index of the element 'A' - will replace A, 1 - index of element 'B' - will replace B, and so."
   ]
  },
  {
   "cell_type": "code",
   "execution_count": 29,
   "metadata": {
    "cell_id": "7a75dac2e6f14199a7fb08df79e5d751",
    "deepnote_cell_type": "code",
    "deepnote_to_be_reexecuted": false,
    "execution_millis": 2,
    "execution_start": 1666781597373,
    "source_hash": "e8ed1528",
    "tags": []
   },
   "outputs": [],
   "source": [
    "from sklearn.preprocessing import OrdinalEncoder, OneHotEncoder"
   ]
  },
  {
   "cell_type": "markdown",
   "metadata": {
    "cell_id": "3e6af0e158a043c6b90fd8ae1dcfcaac",
    "deepnote_cell_type": "markdown",
    "deepnote_to_be_reexecuted": false,
    "execution_millis": 4,
    "execution_start": 1665577946553,
    "source_hash": "f96f6fa1",
    "tags": []
   },
   "source": [
    "**Task**: Apply the previous encodings but using SKLearn classes."
   ]
  },
  {
   "cell_type": "code",
   "execution_count": 34,
   "metadata": {
    "cell_id": "5fb6cf610d0e40eaa1098d77805ea27f",
    "deepnote_cell_type": "code",
    "deepnote_to_be_reexecuted": false,
    "execution_millis": 627,
    "execution_start": 1666781597419,
    "source_hash": "7f6054c7",
    "tags": []
   },
   "outputs": [
    {
     "ename": "ValueError",
     "evalue": "Expected a 2-dimensional container but got <class 'pandas.core.series.Series'> instead. Pass a DataFrame containing a single row (i.e. single sample) or a single column (i.e. single feature) instead.",
     "output_type": "error",
     "traceback": [
      "\u001b[1;31m---------------------------------------------------------------------------\u001b[0m",
      "\u001b[1;31mValueError\u001b[0m                                Traceback (most recent call last)",
      "Cell \u001b[1;32mIn[34], line 3\u001b[0m\n\u001b[0;32m      1\u001b[0m \u001b[38;5;66;03m#print(playground)\u001b[39;00m\n\u001b[0;32m      2\u001b[0m oe_size \u001b[38;5;241m=\u001b[39m OrdinalEncoder(categories \u001b[38;5;241m=\u001b[39m [[\u001b[38;5;124m'\u001b[39m\u001b[38;5;124mS\u001b[39m\u001b[38;5;124m'\u001b[39m,\u001b[38;5;124m'\u001b[39m\u001b[38;5;124mM\u001b[39m\u001b[38;5;124m'\u001b[39m,\u001b[38;5;124m'\u001b[39m\u001b[38;5;124mL\u001b[39m\u001b[38;5;124m'\u001b[39m,\u001b[38;5;124m'\u001b[39m\u001b[38;5;124mXL\u001b[39m\u001b[38;5;124m'\u001b[39m,\u001b[38;5;124m'\u001b[39m\u001b[38;5;124mXXL\u001b[39m\u001b[38;5;124m'\u001b[39m]])\n\u001b[1;32m----> 3\u001b[0m \u001b[43moe_size\u001b[49m\u001b[38;5;241;43m.\u001b[39;49m\u001b[43mfit_transform\u001b[49m\u001b[43m(\u001b[49m\u001b[43mplayground\u001b[49m\u001b[43m[\u001b[49m\u001b[38;5;124;43m'\u001b[39;49m\u001b[38;5;124;43msize\u001b[39;49m\u001b[38;5;124;43m'\u001b[39;49m\u001b[43m]\u001b[49m\u001b[43m)\u001b[49m\n\u001b[0;32m      4\u001b[0m oe_rank \u001b[38;5;241m=\u001b[39m OrdinalEncoder(categories \u001b[38;5;241m=\u001b[39m [[\u001b[38;5;124m'\u001b[39m\u001b[38;5;124mbad\u001b[39m\u001b[38;5;124m'\u001b[39m,\u001b[38;5;124m'\u001b[39m\u001b[38;5;124mmedium\u001b[39m\u001b[38;5;124m'\u001b[39m,\u001b[38;5;124m'\u001b[39m\u001b[38;5;124mgood\u001b[39m\u001b[38;5;124m'\u001b[39m,\u001b[38;5;124m'\u001b[39m\u001b[38;5;124mperfect\u001b[39m\u001b[38;5;124m'\u001b[39m]])\n\u001b[0;32m      5\u001b[0m oe_rank\u001b[38;5;241m.\u001b[39mfit_transform(playground[[\u001b[38;5;124m'\u001b[39m\u001b[38;5;124mrank\u001b[39m\u001b[38;5;124m'\u001b[39m]])\n",
      "File \u001b[1;32m~\\Desktop\\PyEnv\\SoMeNi\\Lib\\site-packages\\sklearn\\utils\\_set_output.py:295\u001b[0m, in \u001b[0;36m_wrap_method_output.<locals>.wrapped\u001b[1;34m(self, X, *args, **kwargs)\u001b[0m\n\u001b[0;32m    293\u001b[0m \u001b[38;5;129m@wraps\u001b[39m(f)\n\u001b[0;32m    294\u001b[0m \u001b[38;5;28;01mdef\u001b[39;00m \u001b[38;5;21mwrapped\u001b[39m(\u001b[38;5;28mself\u001b[39m, X, \u001b[38;5;241m*\u001b[39margs, \u001b[38;5;241m*\u001b[39m\u001b[38;5;241m*\u001b[39mkwargs):\n\u001b[1;32m--> 295\u001b[0m     data_to_wrap \u001b[38;5;241m=\u001b[39m \u001b[43mf\u001b[49m\u001b[43m(\u001b[49m\u001b[38;5;28;43mself\u001b[39;49m\u001b[43m,\u001b[49m\u001b[43m \u001b[49m\u001b[43mX\u001b[49m\u001b[43m,\u001b[49m\u001b[43m \u001b[49m\u001b[38;5;241;43m*\u001b[39;49m\u001b[43margs\u001b[49m\u001b[43m,\u001b[49m\u001b[43m \u001b[49m\u001b[38;5;241;43m*\u001b[39;49m\u001b[38;5;241;43m*\u001b[39;49m\u001b[43mkwargs\u001b[49m\u001b[43m)\u001b[49m\n\u001b[0;32m    296\u001b[0m     \u001b[38;5;28;01mif\u001b[39;00m \u001b[38;5;28misinstance\u001b[39m(data_to_wrap, \u001b[38;5;28mtuple\u001b[39m):\n\u001b[0;32m    297\u001b[0m         \u001b[38;5;66;03m# only wrap the first output for cross decomposition\u001b[39;00m\n\u001b[0;32m    298\u001b[0m         return_tuple \u001b[38;5;241m=\u001b[39m (\n\u001b[0;32m    299\u001b[0m             _wrap_data_with_container(method, data_to_wrap[\u001b[38;5;241m0\u001b[39m], X, \u001b[38;5;28mself\u001b[39m),\n\u001b[0;32m    300\u001b[0m             \u001b[38;5;241m*\u001b[39mdata_to_wrap[\u001b[38;5;241m1\u001b[39m:],\n\u001b[0;32m    301\u001b[0m         )\n",
      "File \u001b[1;32m~\\Desktop\\PyEnv\\SoMeNi\\Lib\\site-packages\\sklearn\\base.py:1098\u001b[0m, in \u001b[0;36mTransformerMixin.fit_transform\u001b[1;34m(self, X, y, **fit_params)\u001b[0m\n\u001b[0;32m   1083\u001b[0m         warnings\u001b[38;5;241m.\u001b[39mwarn(\n\u001b[0;32m   1084\u001b[0m             (\n\u001b[0;32m   1085\u001b[0m                 \u001b[38;5;124mf\u001b[39m\u001b[38;5;124m\"\u001b[39m\u001b[38;5;124mThis object (\u001b[39m\u001b[38;5;132;01m{\u001b[39;00m\u001b[38;5;28mself\u001b[39m\u001b[38;5;241m.\u001b[39m\u001b[38;5;18m__class__\u001b[39m\u001b[38;5;241m.\u001b[39m\u001b[38;5;18m__name__\u001b[39m\u001b[38;5;132;01m}\u001b[39;00m\u001b[38;5;124m) has a `transform`\u001b[39m\u001b[38;5;124m\"\u001b[39m\n\u001b[1;32m   (...)\u001b[0m\n\u001b[0;32m   1093\u001b[0m             \u001b[38;5;167;01mUserWarning\u001b[39;00m,\n\u001b[0;32m   1094\u001b[0m         )\n\u001b[0;32m   1096\u001b[0m \u001b[38;5;28;01mif\u001b[39;00m y \u001b[38;5;129;01mis\u001b[39;00m \u001b[38;5;28;01mNone\u001b[39;00m:\n\u001b[0;32m   1097\u001b[0m     \u001b[38;5;66;03m# fit method of arity 1 (unsupervised transformation)\u001b[39;00m\n\u001b[1;32m-> 1098\u001b[0m     \u001b[38;5;28;01mreturn\u001b[39;00m \u001b[38;5;28;43mself\u001b[39;49m\u001b[38;5;241;43m.\u001b[39;49m\u001b[43mfit\u001b[49m\u001b[43m(\u001b[49m\u001b[43mX\u001b[49m\u001b[43m,\u001b[49m\u001b[43m \u001b[49m\u001b[38;5;241;43m*\u001b[39;49m\u001b[38;5;241;43m*\u001b[39;49m\u001b[43mfit_params\u001b[49m\u001b[43m)\u001b[49m\u001b[38;5;241m.\u001b[39mtransform(X)\n\u001b[0;32m   1099\u001b[0m \u001b[38;5;28;01melse\u001b[39;00m:\n\u001b[0;32m   1100\u001b[0m     \u001b[38;5;66;03m# fit method of arity 2 (supervised transformation)\u001b[39;00m\n\u001b[0;32m   1101\u001b[0m     \u001b[38;5;28;01mreturn\u001b[39;00m \u001b[38;5;28mself\u001b[39m\u001b[38;5;241m.\u001b[39mfit(X, y, \u001b[38;5;241m*\u001b[39m\u001b[38;5;241m*\u001b[39mfit_params)\u001b[38;5;241m.\u001b[39mtransform(X)\n",
      "File \u001b[1;32m~\\Desktop\\PyEnv\\SoMeNi\\Lib\\site-packages\\sklearn\\base.py:1474\u001b[0m, in \u001b[0;36m_fit_context.<locals>.decorator.<locals>.wrapper\u001b[1;34m(estimator, *args, **kwargs)\u001b[0m\n\u001b[0;32m   1467\u001b[0m     estimator\u001b[38;5;241m.\u001b[39m_validate_params()\n\u001b[0;32m   1469\u001b[0m \u001b[38;5;28;01mwith\u001b[39;00m config_context(\n\u001b[0;32m   1470\u001b[0m     skip_parameter_validation\u001b[38;5;241m=\u001b[39m(\n\u001b[0;32m   1471\u001b[0m         prefer_skip_nested_validation \u001b[38;5;129;01mor\u001b[39;00m global_skip_validation\n\u001b[0;32m   1472\u001b[0m     )\n\u001b[0;32m   1473\u001b[0m ):\n\u001b[1;32m-> 1474\u001b[0m     \u001b[38;5;28;01mreturn\u001b[39;00m \u001b[43mfit_method\u001b[49m\u001b[43m(\u001b[49m\u001b[43mestimator\u001b[49m\u001b[43m,\u001b[49m\u001b[43m \u001b[49m\u001b[38;5;241;43m*\u001b[39;49m\u001b[43margs\u001b[49m\u001b[43m,\u001b[49m\u001b[43m \u001b[49m\u001b[38;5;241;43m*\u001b[39;49m\u001b[38;5;241;43m*\u001b[39;49m\u001b[43mkwargs\u001b[49m\u001b[43m)\u001b[49m\n",
      "File \u001b[1;32m~\\Desktop\\PyEnv\\SoMeNi\\Lib\\site-packages\\sklearn\\preprocessing\\_encoders.py:1495\u001b[0m, in \u001b[0;36mOrdinalEncoder.fit\u001b[1;34m(self, X, y)\u001b[0m\n\u001b[0;32m   1488\u001b[0m     \u001b[38;5;28;01mraise\u001b[39;00m \u001b[38;5;167;01mTypeError\u001b[39;00m(\n\u001b[0;32m   1489\u001b[0m         \u001b[38;5;124m\"\u001b[39m\u001b[38;5;124munknown_value should only be set when \u001b[39m\u001b[38;5;124m\"\u001b[39m\n\u001b[0;32m   1490\u001b[0m         \u001b[38;5;124m\"\u001b[39m\u001b[38;5;124mhandle_unknown is \u001b[39m\u001b[38;5;124m'\u001b[39m\u001b[38;5;124muse_encoded_value\u001b[39m\u001b[38;5;124m'\u001b[39m\u001b[38;5;124m, \u001b[39m\u001b[38;5;124m\"\u001b[39m\n\u001b[0;32m   1491\u001b[0m         \u001b[38;5;124mf\u001b[39m\u001b[38;5;124m\"\u001b[39m\u001b[38;5;124mgot \u001b[39m\u001b[38;5;132;01m{\u001b[39;00m\u001b[38;5;28mself\u001b[39m\u001b[38;5;241m.\u001b[39munknown_value\u001b[38;5;132;01m}\u001b[39;00m\u001b[38;5;124m.\u001b[39m\u001b[38;5;124m\"\u001b[39m\n\u001b[0;32m   1492\u001b[0m     )\n\u001b[0;32m   1494\u001b[0m \u001b[38;5;66;03m# `_fit` will only raise an error when `self.handle_unknown=\"error\"`\u001b[39;00m\n\u001b[1;32m-> 1495\u001b[0m fit_results \u001b[38;5;241m=\u001b[39m \u001b[38;5;28;43mself\u001b[39;49m\u001b[38;5;241;43m.\u001b[39;49m\u001b[43m_fit\u001b[49m\u001b[43m(\u001b[49m\n\u001b[0;32m   1496\u001b[0m \u001b[43m    \u001b[49m\u001b[43mX\u001b[49m\u001b[43m,\u001b[49m\n\u001b[0;32m   1497\u001b[0m \u001b[43m    \u001b[49m\u001b[43mhandle_unknown\u001b[49m\u001b[38;5;241;43m=\u001b[39;49m\u001b[38;5;28;43mself\u001b[39;49m\u001b[38;5;241;43m.\u001b[39;49m\u001b[43mhandle_unknown\u001b[49m\u001b[43m,\u001b[49m\n\u001b[0;32m   1498\u001b[0m \u001b[43m    \u001b[49m\u001b[43mforce_all_finite\u001b[49m\u001b[38;5;241;43m=\u001b[39;49m\u001b[38;5;124;43m\"\u001b[39;49m\u001b[38;5;124;43mallow-nan\u001b[39;49m\u001b[38;5;124;43m\"\u001b[39;49m\u001b[43m,\u001b[49m\n\u001b[0;32m   1499\u001b[0m \u001b[43m    \u001b[49m\u001b[43mreturn_and_ignore_missing_for_infrequent\u001b[49m\u001b[38;5;241;43m=\u001b[39;49m\u001b[38;5;28;43;01mTrue\u001b[39;49;00m\u001b[43m,\u001b[49m\n\u001b[0;32m   1500\u001b[0m \u001b[43m\u001b[49m\u001b[43m)\u001b[49m\n\u001b[0;32m   1501\u001b[0m \u001b[38;5;28mself\u001b[39m\u001b[38;5;241m.\u001b[39m_missing_indices \u001b[38;5;241m=\u001b[39m fit_results[\u001b[38;5;124m\"\u001b[39m\u001b[38;5;124mmissing_indices\u001b[39m\u001b[38;5;124m\"\u001b[39m]\n\u001b[0;32m   1503\u001b[0m cardinalities \u001b[38;5;241m=\u001b[39m [\u001b[38;5;28mlen\u001b[39m(categories) \u001b[38;5;28;01mfor\u001b[39;00m categories \u001b[38;5;129;01min\u001b[39;00m \u001b[38;5;28mself\u001b[39m\u001b[38;5;241m.\u001b[39mcategories_]\n",
      "File \u001b[1;32m~\\Desktop\\PyEnv\\SoMeNi\\Lib\\site-packages\\sklearn\\preprocessing\\_encoders.py:78\u001b[0m, in \u001b[0;36m_BaseEncoder._fit\u001b[1;34m(self, X, handle_unknown, force_all_finite, return_counts, return_and_ignore_missing_for_infrequent)\u001b[0m\n\u001b[0;32m     76\u001b[0m \u001b[38;5;28mself\u001b[39m\u001b[38;5;241m.\u001b[39m_check_n_features(X, reset\u001b[38;5;241m=\u001b[39m\u001b[38;5;28;01mTrue\u001b[39;00m)\n\u001b[0;32m     77\u001b[0m \u001b[38;5;28mself\u001b[39m\u001b[38;5;241m.\u001b[39m_check_feature_names(X, reset\u001b[38;5;241m=\u001b[39m\u001b[38;5;28;01mTrue\u001b[39;00m)\n\u001b[1;32m---> 78\u001b[0m X_list, n_samples, n_features \u001b[38;5;241m=\u001b[39m \u001b[38;5;28;43mself\u001b[39;49m\u001b[38;5;241;43m.\u001b[39;49m\u001b[43m_check_X\u001b[49m\u001b[43m(\u001b[49m\n\u001b[0;32m     79\u001b[0m \u001b[43m    \u001b[49m\u001b[43mX\u001b[49m\u001b[43m,\u001b[49m\u001b[43m \u001b[49m\u001b[43mforce_all_finite\u001b[49m\u001b[38;5;241;43m=\u001b[39;49m\u001b[43mforce_all_finite\u001b[49m\n\u001b[0;32m     80\u001b[0m \u001b[43m\u001b[49m\u001b[43m)\u001b[49m\n\u001b[0;32m     81\u001b[0m \u001b[38;5;28mself\u001b[39m\u001b[38;5;241m.\u001b[39mn_features_in_ \u001b[38;5;241m=\u001b[39m n_features\n\u001b[0;32m     83\u001b[0m \u001b[38;5;28;01mif\u001b[39;00m \u001b[38;5;28mself\u001b[39m\u001b[38;5;241m.\u001b[39mcategories \u001b[38;5;241m!=\u001b[39m \u001b[38;5;124m\"\u001b[39m\u001b[38;5;124mauto\u001b[39m\u001b[38;5;124m\"\u001b[39m:\n",
      "File \u001b[1;32m~\\Desktop\\PyEnv\\SoMeNi\\Lib\\site-packages\\sklearn\\preprocessing\\_encoders.py:44\u001b[0m, in \u001b[0;36m_BaseEncoder._check_X\u001b[1;34m(self, X, force_all_finite)\u001b[0m\n\u001b[0;32m     31\u001b[0m \u001b[38;5;250m\u001b[39m\u001b[38;5;124;03m\"\"\"\u001b[39;00m\n\u001b[0;32m     32\u001b[0m \u001b[38;5;124;03mPerform custom check_array:\u001b[39;00m\n\u001b[0;32m     33\u001b[0m \u001b[38;5;124;03m- convert list of strings to object dtype\u001b[39;00m\n\u001b[1;32m   (...)\u001b[0m\n\u001b[0;32m     40\u001b[0m \n\u001b[0;32m     41\u001b[0m \u001b[38;5;124;03m\"\"\"\u001b[39;00m\n\u001b[0;32m     42\u001b[0m \u001b[38;5;28;01mif\u001b[39;00m \u001b[38;5;129;01mnot\u001b[39;00m (\u001b[38;5;28mhasattr\u001b[39m(X, \u001b[38;5;124m\"\u001b[39m\u001b[38;5;124miloc\u001b[39m\u001b[38;5;124m\"\u001b[39m) \u001b[38;5;129;01mand\u001b[39;00m \u001b[38;5;28mgetattr\u001b[39m(X, \u001b[38;5;124m\"\u001b[39m\u001b[38;5;124mndim\u001b[39m\u001b[38;5;124m\"\u001b[39m, \u001b[38;5;241m0\u001b[39m) \u001b[38;5;241m==\u001b[39m \u001b[38;5;241m2\u001b[39m):\n\u001b[0;32m     43\u001b[0m     \u001b[38;5;66;03m# if not a dataframe, do normal check_array validation\u001b[39;00m\n\u001b[1;32m---> 44\u001b[0m     X_temp \u001b[38;5;241m=\u001b[39m \u001b[43mcheck_array\u001b[49m\u001b[43m(\u001b[49m\u001b[43mX\u001b[49m\u001b[43m,\u001b[49m\u001b[43m \u001b[49m\u001b[43mdtype\u001b[49m\u001b[38;5;241;43m=\u001b[39;49m\u001b[38;5;28;43;01mNone\u001b[39;49;00m\u001b[43m,\u001b[49m\u001b[43m \u001b[49m\u001b[43mforce_all_finite\u001b[49m\u001b[38;5;241;43m=\u001b[39;49m\u001b[43mforce_all_finite\u001b[49m\u001b[43m)\u001b[49m\n\u001b[0;32m     45\u001b[0m     \u001b[38;5;28;01mif\u001b[39;00m \u001b[38;5;129;01mnot\u001b[39;00m \u001b[38;5;28mhasattr\u001b[39m(X, \u001b[38;5;124m\"\u001b[39m\u001b[38;5;124mdtype\u001b[39m\u001b[38;5;124m\"\u001b[39m) \u001b[38;5;129;01mand\u001b[39;00m np\u001b[38;5;241m.\u001b[39missubdtype(X_temp\u001b[38;5;241m.\u001b[39mdtype, np\u001b[38;5;241m.\u001b[39mstr_):\n\u001b[0;32m     46\u001b[0m         X \u001b[38;5;241m=\u001b[39m check_array(X, dtype\u001b[38;5;241m=\u001b[39m\u001b[38;5;28mobject\u001b[39m, force_all_finite\u001b[38;5;241m=\u001b[39mforce_all_finite)\n",
      "File \u001b[1;32m~\\Desktop\\PyEnv\\SoMeNi\\Lib\\site-packages\\sklearn\\utils\\validation.py:1035\u001b[0m, in \u001b[0;36mcheck_array\u001b[1;34m(array, accept_sparse, accept_large_sparse, dtype, order, copy, force_all_finite, ensure_2d, allow_nd, ensure_min_samples, ensure_min_features, estimator, input_name)\u001b[0m\n\u001b[0;32m   1028\u001b[0m         \u001b[38;5;28;01melse\u001b[39;00m:\n\u001b[0;32m   1029\u001b[0m             msg \u001b[38;5;241m=\u001b[39m (\n\u001b[0;32m   1030\u001b[0m                 \u001b[38;5;124mf\u001b[39m\u001b[38;5;124m\"\u001b[39m\u001b[38;5;124mExpected 2D array, got 1D array instead:\u001b[39m\u001b[38;5;130;01m\\n\u001b[39;00m\u001b[38;5;124marray=\u001b[39m\u001b[38;5;132;01m{\u001b[39;00marray\u001b[38;5;132;01m}\u001b[39;00m\u001b[38;5;124m.\u001b[39m\u001b[38;5;130;01m\\n\u001b[39;00m\u001b[38;5;124m\"\u001b[39m\n\u001b[0;32m   1031\u001b[0m                 \u001b[38;5;124m\"\u001b[39m\u001b[38;5;124mReshape your data either using array.reshape(-1, 1) if \u001b[39m\u001b[38;5;124m\"\u001b[39m\n\u001b[0;32m   1032\u001b[0m                 \u001b[38;5;124m\"\u001b[39m\u001b[38;5;124myour data has a single feature or array.reshape(1, -1) \u001b[39m\u001b[38;5;124m\"\u001b[39m\n\u001b[0;32m   1033\u001b[0m                 \u001b[38;5;124m\"\u001b[39m\u001b[38;5;124mif it contains a single sample.\u001b[39m\u001b[38;5;124m\"\u001b[39m\n\u001b[0;32m   1034\u001b[0m             )\n\u001b[1;32m-> 1035\u001b[0m         \u001b[38;5;28;01mraise\u001b[39;00m \u001b[38;5;167;01mValueError\u001b[39;00m(msg)\n\u001b[0;32m   1037\u001b[0m \u001b[38;5;28;01mif\u001b[39;00m dtype_numeric \u001b[38;5;129;01mand\u001b[39;00m \u001b[38;5;28mhasattr\u001b[39m(array\u001b[38;5;241m.\u001b[39mdtype, \u001b[38;5;124m\"\u001b[39m\u001b[38;5;124mkind\u001b[39m\u001b[38;5;124m\"\u001b[39m) \u001b[38;5;129;01mand\u001b[39;00m array\u001b[38;5;241m.\u001b[39mdtype\u001b[38;5;241m.\u001b[39mkind \u001b[38;5;129;01min\u001b[39;00m \u001b[38;5;124m\"\u001b[39m\u001b[38;5;124mUSV\u001b[39m\u001b[38;5;124m\"\u001b[39m:\n\u001b[0;32m   1038\u001b[0m     \u001b[38;5;28;01mraise\u001b[39;00m \u001b[38;5;167;01mValueError\u001b[39;00m(\n\u001b[0;32m   1039\u001b[0m         \u001b[38;5;124m\"\u001b[39m\u001b[38;5;124mdtype=\u001b[39m\u001b[38;5;124m'\u001b[39m\u001b[38;5;124mnumeric\u001b[39m\u001b[38;5;124m'\u001b[39m\u001b[38;5;124m is not compatible with arrays of bytes/strings.\u001b[39m\u001b[38;5;124m\"\u001b[39m\n\u001b[0;32m   1040\u001b[0m         \u001b[38;5;124m\"\u001b[39m\u001b[38;5;124mConvert your data to numeric values explicitly instead.\u001b[39m\u001b[38;5;124m\"\u001b[39m\n\u001b[0;32m   1041\u001b[0m     )\n",
      "\u001b[1;31mValueError\u001b[0m: Expected a 2-dimensional container but got <class 'pandas.core.series.Series'> instead. Pass a DataFrame containing a single row (i.e. single sample) or a single column (i.e. single feature) instead."
     ]
    }
   ],
   "source": [
    "#print(playground)\n",
    "oe_size = OrdinalEncoder(categories = [['S','M','L','XL','XXL']])\n",
    "oe_size.fit_transform(playground[['size']])\n",
    "oe_rank = OrdinalEncoder(categories = [['bad','medium','good','perfect']])\n",
    "oe_rank.fit_transform(playground[['rank']])"
   ]
  },
  {
   "cell_type": "code",
   "execution_count": 35,
   "metadata": {
    "cell_id": "d1c002c89c5746568293b321d4ad7b9a",
    "deepnote_cell_type": "code",
    "deepnote_to_be_reexecuted": false,
    "execution_millis": 626,
    "execution_start": 1666781597420,
    "source_hash": "c13623d4",
    "tags": []
   },
   "outputs": [
    {
     "data": {
      "text/plain": [
       "0     medium\n",
       "1       good\n",
       "2     medium\n",
       "3    perfect\n",
       "Name: rank, dtype: object"
      ]
     },
     "execution_count": 35,
     "metadata": {},
     "output_type": "execute_result"
    }
   ],
   "source": [
    "playground['rank'][:4]"
   ]
  },
  {
   "cell_type": "code",
   "execution_count": 36,
   "metadata": {
    "cell_id": "82f7108b507c48be9c258373b5f44ddd",
    "deepnote_cell_type": "code",
    "deepnote_to_be_reexecuted": false,
    "execution_millis": 15,
    "execution_start": 1677522833539,
    "source_hash": "bb6c2750",
    "tags": []
   },
   "outputs": [],
   "source": [
    "ohe_country = OneHotEncoder()\n",
    "temp = ohe_country.fit_transform(playground[['country']]).toarray()\n",
    "names = ohe_country.get_feature_names_out()\n",
    "playground[list(names)] = temp "
   ]
  },
  {
   "cell_type": "code",
   "execution_count": 37,
   "metadata": {
    "cell_id": "31f147e057a7497e9bd44be9098f8731",
    "deepnote_cell_type": "code",
    "deepnote_to_be_reexecuted": false,
    "execution_millis": 14,
    "execution_start": 1677522837852,
    "source_hash": "d426bd90",
    "tags": []
   },
   "outputs": [
    {
     "name": "stdout",
     "output_type": "stream",
     "text": [
      "<class 'pandas.core.frame.DataFrame'>\n",
      "Index: 9990 entries, 0 to 9999\n",
      "Data columns (total 14 columns):\n",
      " #   Column           Non-Null Count  Dtype  \n",
      "---  ------           --------------  -----  \n",
      " 0   age              9990 non-null   float64\n",
      " 1   length_screw     9990 non-null   float64\n",
      " 2   diameter         9990 non-null   float64\n",
      " 3   hammer_strength  9990 non-null   float64\n",
      " 4   rank             9990 non-null   object \n",
      " 5   size             9950 non-null   object \n",
      " 6   country          9990 non-null   object \n",
      " 7   country_Austria  9990 non-null   float64\n",
      " 8   country_Canada   9990 non-null   float64\n",
      " 9   country_Denmark  9990 non-null   float64\n",
      " 10  country_France   9990 non-null   float64\n",
      " 11  country_Germany  9990 non-null   float64\n",
      " 12  country_Italy    9990 non-null   float64\n",
      " 13  country_Spain    9990 non-null   float64\n",
      "dtypes: float64(11), object(3)\n",
      "memory usage: 1.1+ MB\n"
     ]
    }
   ],
   "source": [
    "playground.info()"
   ]
  },
  {
   "cell_type": "markdown",
   "metadata": {
    "cell_id": "b3941f1925f743dc85b9d7d127637161",
    "deepnote_cell_type": "markdown",
    "tags": []
   },
   "source": [
    "\n",
    "![](slides/Slide15.png)\n",
    "![](slides/Slide16.png)\n"
   ]
  },
  {
   "cell_type": "markdown",
   "metadata": {
    "cell_id": "ed2429f7284347e6b34a16cdf246ed0f",
    "deepnote_cell_type": "markdown",
    "tags": []
   },
   "source": [
    "**Task**: Apply a min-max scaling to the feature *age*."
   ]
  },
  {
   "cell_type": "code",
   "execution_count": 39,
   "metadata": {
    "cell_id": "b155afc405524c5f95c65e71117a21f3",
    "deepnote_cell_type": "code",
    "deepnote_to_be_reexecuted": false,
    "execution_millis": 5,
    "execution_start": 1677688602115,
    "source_hash": "e0d6dfca",
    "tags": []
   },
   "outputs": [],
   "source": [
    "from sklearn.preprocessing import MinMaxScaler, StandardScaler"
   ]
  },
  {
   "cell_type": "code",
   "execution_count": 40,
   "metadata": {
    "cell_id": "9ee55f043d644c2b9d0679f0720a88ff",
    "deepnote_cell_type": "code",
    "deepnote_to_be_reexecuted": false,
    "execution_millis": 19,
    "execution_start": 1677523186098,
    "source_hash": "2766d8d6",
    "tags": []
   },
   "outputs": [
    {
     "data": {
      "text/plain": [
       "array([[0.3625],\n",
       "       [0.025 ],\n",
       "       [0.675 ],\n",
       "       ...,\n",
       "       [0.1625],\n",
       "       [0.1875],\n",
       "       [0.725 ]])"
      ]
     },
     "execution_count": 40,
     "metadata": {},
     "output_type": "execute_result"
    }
   ],
   "source": [
    "mm_scaler = MinMaxScaler()\n",
    "mm_scaler.fit_transform(playground[['age']])"
   ]
  },
  {
   "cell_type": "markdown",
   "metadata": {
    "cell_id": "393bafce78744315a1f4fa5eace98710",
    "deepnote_cell_type": "markdown",
    "tags": []
   },
   "source": [
    "**Task**: Apply a standardization to the features *length_screw*, *diameter* and *hammer_strength*."
   ]
  },
  {
   "cell_type": "code",
   "execution_count": 41,
   "metadata": {
    "cell_id": "cddb772304c84056ac9988a916ea774d",
    "deepnote_cell_type": "code",
    "deepnote_to_be_reexecuted": false,
    "execution_millis": 2,
    "execution_start": 1677523201631,
    "source_hash": "279d591e",
    "tags": []
   },
   "outputs": [
    {
     "data": {
      "text/plain": [
       "array([[ 0.48064018,  0.38789898,  0.31349256],\n",
       "       [-1.53966089, -1.71031482, -1.80210112],\n",
       "       [ 0.5378606 , -0.56908024, -0.48523749],\n",
       "       ...,\n",
       "       [-1.11501183, -0.8439075 , -0.97529103],\n",
       "       [ 0.17211597, -0.95371625, -0.98247117],\n",
       "       [-0.07080558,  0.51831827,  0.40172249]])"
      ]
     },
     "execution_count": 41,
     "metadata": {},
     "output_type": "execute_result"
    }
   ],
   "source": [
    "sscaler = StandardScaler()\n",
    "sscaler.fit_transform(playground[['length_screw','diameter','hammer_strength']])"
   ]
  },
  {
   "cell_type": "markdown",
   "metadata": {
    "cell_id": "a2575af7f54c472c9111ef379d5e7660",
    "deepnote_cell_type": "markdown",
    "tags": []
   },
   "source": [
    "A complete overview of the most important characteristics of the features and the required transformation has been hereby depicted\n",
    "![](figures/ColumnTransformerOverview.jpg)\n",
    "\n",
    "Here, for each column we indicate the chain of transformations. Each chain will be merged into a big transformation corresponding to the preprocessing phase."
   ]
  },
  {
   "cell_type": "markdown",
   "metadata": {
    "cell_id": "14d3d9c548bb4897b2286942509ea6c5",
    "deepnote_cell_type": "markdown",
    "tags": []
   },
   "source": [
    "### Pipeline\n",
    "![](slides/Slide17.png)"
   ]
  },
  {
   "cell_type": "markdown",
   "metadata": {
    "cell_id": "206b2502fef146cb9093e79cc4e4b9fe",
    "deepnote_cell_type": "markdown",
    "tags": []
   },
   "source": [
    "In our case, we have to implement two pipelines composed by two transformers.\n",
    "![](slides/Slide18.png)"
   ]
  },
  {
   "cell_type": "code",
   "execution_count": null,
   "metadata": {
    "cell_id": "f9c55602f67d432b9057c4990785fcca",
    "deepnote_cell_type": "code",
    "deepnote_to_be_reexecuted": false,
    "execution_millis": 532,
    "execution_start": 1677688563007,
    "source_hash": "834985c9",
    "tags": []
   },
   "outputs": [],
   "source": [
    "from sklearn.pipeline import Pipeline"
   ]
  },
  {
   "cell_type": "code",
   "execution_count": null,
   "metadata": {
    "cell_id": "82970c0a7aca42978a423e60499582cf",
    "deepnote_cell_type": "code",
    "deepnote_to_be_reexecuted": false,
    "execution_millis": 2,
    "execution_start": 1677689079365,
    "source_hash": "8acf5278",
    "tags": []
   },
   "outputs": [],
   "source": [
    "playground = pd.read_csv('data/playground.csv')\n",
    "playground = playground.dropna(thresh=6000,axis=1).dropna(axis=0,how='all')"
   ]
  },
  {
   "cell_type": "markdown",
   "metadata": {
    "cell_id": "e2508051cd8f4276938162f70e6bf7ca",
    "deepnote_cell_type": "markdown",
    "tags": []
   },
   "source": [
    "**Task**: Define the first pipeline composed by:\n",
    "1. SimpleImputer with strategy = 'mean'\n",
    "2. StandardScaler\n",
    "\n",
    "The choice of names is up to you."
   ]
  },
  {
   "cell_type": "code",
   "execution_count": null,
   "metadata": {
    "cell_id": "e4b7ef2c7c5e4c23aa3a039eefe46b0d",
    "deepnote_cell_type": "code",
    "deepnote_to_be_reexecuted": false,
    "execution_millis": 12,
    "execution_start": 1677689698935,
    "source_hash": "1371a71c",
    "tags": []
   },
   "outputs": [
    {
     "data": {
      "text/plain": [
       "array([[ 0.48064018,  0.31349256],\n",
       "       [-1.53966089, -1.80210112],\n",
       "       [ 0.5378606 , -0.48523749],\n",
       "       ...,\n",
       "       [-1.11501183, -0.97529103],\n",
       "       [ 0.17211597, -0.98247117],\n",
       "       [-0.07080558,  0.40172249]])"
      ]
     },
     "execution_count": 5,
     "metadata": {},
     "output_type": "execute_result"
    }
   ],
   "source": [
    "imp_scaler = Pipeline(\n",
    "    [\n",
    "        ('pipe1_si',SimpleImputer(strategy='mean')),\n",
    "        ('pipe1_scaler',StandardScaler())\n",
    "    ]\n",
    ")\n",
    "imp_scaler.fit_transform(playground[['length_screw','hammer_strength']])"
   ]
  },
  {
   "cell_type": "code",
   "execution_count": null,
   "metadata": {
    "cell_id": "9ff8b6b8750144539e16c63231d20c50",
    "deepnote_cell_type": "code",
    "deepnote_to_be_reexecuted": false,
    "execution_millis": 3,
    "execution_start": 1677689088107,
    "source_hash": "acd141d",
    "tags": []
   },
   "outputs": [
    {
     "data": {
      "text/plain": [
       "array(['length_screw', 'hammer_strength'], dtype=object)"
      ]
     },
     "execution_count": 6,
     "metadata": {},
     "output_type": "execute_result"
    }
   ],
   "source": [
    "imp_scaler.get_feature_names_out()"
   ]
  },
  {
   "cell_type": "code",
   "execution_count": null,
   "metadata": {
    "cell_id": "d6ba97d5ced14009ba72f0c75255afda",
    "deepnote_cell_type": "code",
    "deepnote_to_be_reexecuted": false,
    "execution_millis": 3,
    "execution_start": 1677689091115,
    "source_hash": "516f3646",
    "tags": []
   },
   "outputs": [
    {
     "data": {
      "text/plain": [
       "{'memory': None,\n",
       " 'steps': [('pipe1_si', SimpleImputer()), ('pipe1_scaler', StandardScaler())],\n",
       " 'verbose': False,\n",
       " 'pipe1_si': SimpleImputer(),\n",
       " 'pipe1_scaler': StandardScaler(),\n",
       " 'pipe1_si__add_indicator': False,\n",
       " 'pipe1_si__copy': True,\n",
       " 'pipe1_si__fill_value': None,\n",
       " 'pipe1_si__missing_values': nan,\n",
       " 'pipe1_si__strategy': 'mean',\n",
       " 'pipe1_si__verbose': 'deprecated',\n",
       " 'pipe1_scaler__copy': True,\n",
       " 'pipe1_scaler__with_mean': True,\n",
       " 'pipe1_scaler__with_std': True}"
      ]
     },
     "execution_count": 7,
     "metadata": {},
     "output_type": "execute_result"
    }
   ],
   "source": [
    "imp_scaler.get_params()"
   ]
  },
  {
   "cell_type": "markdown",
   "metadata": {
    "cell_id": "c416701448344aff8dde7992596e46b3",
    "deepnote_cell_type": "markdown",
    "tags": []
   },
   "source": [
    "**Task:** Define the second and the third pipeline composed by:\n",
    "*Pipeline2*:\n",
    "1. SimpleImputer with strategy = 'most_frequent'\n",
    "2. OrdinalEncoder with categories = [['S','M','L','XL','XXL']]\n",
    "3. MinMaxScaler\n",
    "\n",
    "*Pipeline3*\n",
    "1. OrdinalEncoder with categories = [['bad','medium','good','perfect']]\n",
    "2. MinMaxScaler"
   ]
  },
  {
   "cell_type": "code",
   "execution_count": null,
   "metadata": {
    "cell_id": "5e98196e77a64c2cbd4fd7090c4a23fb",
    "deepnote_cell_type": "code",
    "deepnote_to_be_reexecuted": false,
    "execution_millis": 3,
    "execution_start": 1677689702176,
    "source_hash": "3de00b41",
    "tags": []
   },
   "outputs": [],
   "source": [
    "imp_ordinal = Pipeline(\n",
    "    [\n",
    "        ('pipe2_si', SimpleImputer(strategy='most_frequent')),\n",
    "        ('pipe2_ordinal', OrdinalEncoder(categories=[['S','M','L','XL','XXL']])),\n",
    "        ('pipe2_mm',MinMaxScaler())\n",
    "    ]\n",
    ")\n",
    "\n",
    "imp_ordinal2 = Pipeline(\n",
    "    [\n",
    "        ('pipe3_ordinal', OrdinalEncoder(categories=[['bad','medium','good','perfect']])),\n",
    "        ('pipe3_mm',MinMaxScaler())\n",
    "    ]\n",
    ")\n"
   ]
  },
  {
   "cell_type": "markdown",
   "metadata": {
    "cell_id": "85b3a0d4ec6b48fbaef01ac6e6d978ef",
    "deepnote_cell_type": "markdown",
    "tags": []
   },
   "source": [
    "Once we defined the pipelines, we have all the transfomers - ingredient - to build a <code>ColumnTransformer</code> to apply to our dataset."
   ]
  },
  {
   "cell_type": "markdown",
   "metadata": {
    "cell_id": "548e7face3724aca8f16fb5845ad7fa0",
    "deepnote_cell_type": "markdown",
    "tags": []
   },
   "source": [
    "### Column Transformer\n",
    "![](slides/Slide19.png)\n",
    "![](slides/Slide20.png)"
   ]
  },
  {
   "cell_type": "markdown",
   "metadata": {
    "cell_id": "6b49bae225cc4672a319deb531c93b5d",
    "deepnote_cell_type": "markdown",
    "tags": []
   },
   "source": [
    "**Task**: Implement the ColumnTransformer depicted here:\n",
    "![](figures/ColumnTransformerOverview.jpg)\n",
    "\n",
    "Start from the playground DataFrame loaded in the next code cell and put all the blocks together 😊😊"
   ]
  },
  {
   "cell_type": "code",
   "execution_count": null,
   "metadata": {
    "cell_id": "144908655991453d93cadd8c9b5df16d",
    "deepnote_cell_type": "code",
    "deepnote_to_be_reexecuted": false,
    "execution_millis": 73,
    "execution_start": 1677689613246,
    "source_hash": "bf2b16cc",
    "tags": []
   },
   "outputs": [
    {
     "data": {
      "application/vnd.deepnote.dataframe.v3+json": {
       "column_count": 7,
       "columns": [
        {
         "dtype": "float64",
         "name": "age",
         "stats": {
          "histogram": [
           {
            "bin_end": 26,
            "bin_start": 18,
            "count": 1010
           },
           {
            "bin_end": 34,
            "bin_start": 26,
            "count": 983
           },
           {
            "bin_end": 42,
            "bin_start": 34,
            "count": 977
           },
           {
            "bin_end": 50,
            "bin_start": 42,
            "count": 995
           },
           {
            "bin_end": 58,
            "bin_start": 50,
            "count": 957
           },
           {
            "bin_end": 66,
            "bin_start": 58,
            "count": 1040
           },
           {
            "bin_end": 74,
            "bin_start": 66,
            "count": 981
           },
           {
            "bin_end": 82,
            "bin_start": 74,
            "count": 978
           },
           {
            "bin_end": 90,
            "bin_start": 82,
            "count": 991
           },
           {
            "bin_end": 98,
            "bin_start": 90,
            "count": 1078
           }
          ],
          "max": "98.0",
          "min": "18.0",
          "nan_count": 0,
          "unique_count": 81
         }
        },
        {
         "dtype": "float64",
         "name": "length_screw",
         "stats": {
          "histogram": [
           {
            "bin_end": -30.92386700200553,
            "bin_start": -45.44386529320862,
            "count": 13
           },
           {
            "bin_end": -16.403868710802445,
            "bin_start": -30.92386700200553,
            "count": 86
           },
           {
            "bin_end": -1.8838704195993614,
            "bin_start": -16.403868710802445,
            "count": 457
           },
           {
            "bin_end": 12.636127871603726,
            "bin_start": -1.8838704195993614,
            "count": 1415
           },
           {
            "bin_end": 27.156126162806814,
            "bin_start": 12.636127871603726,
            "count": 2532
           },
           {
            "bin_end": 41.676124454009894,
            "bin_start": 27.156126162806814,
            "count": 2683
           },
           {
            "bin_end": 56.19612274521299,
            "bin_start": 41.676124454009894,
            "count": 1820
           },
           {
            "bin_end": 70.71612103641607,
            "bin_start": 56.19612274521299,
            "count": 750
           },
           {
            "bin_end": 85.23611932761916,
            "bin_start": 70.71612103641607,
            "count": 185
           },
           {
            "bin_end": 99.75611761882224,
            "bin_start": 85.23611932761916,
            "count": 29
           }
          ],
          "max": "99.75611761882224",
          "min": "-45.44386529320862",
          "nan_count": 20,
          "unique_count": 9970
         }
        },
        {
         "dtype": "float64",
         "name": "diameter",
         "stats": {
          "histogram": [
           {
            "bin_end": -124.7659292143231,
            "bin_start": -154.473963065475,
            "count": 3
           },
           {
            "bin_end": -95.05789536317118,
            "bin_start": -124.7659292143231,
            "count": 83
           },
           {
            "bin_end": -65.34986151201926,
            "bin_start": -95.05789536317118,
            "count": 386
           },
           {
            "bin_end": -35.64182766086735,
            "bin_start": -65.34986151201926,
            "count": 1302
           },
           {
            "bin_end": -5.933793809715439,
            "bin_start": -35.64182766086735,
            "count": 2537
           },
           {
            "bin_end": 23.774240041436485,
            "bin_start": -5.933793809715439,
            "count": 2842
           },
           {
            "bin_end": 53.48227389258838,
            "bin_start": 23.774240041436485,
            "count": 1833
           },
           {
            "bin_end": 83.1903077437403,
            "bin_start": 53.48227389258838,
            "count": 773
           },
           {
            "bin_end": 112.8983415948922,
            "bin_start": 83.1903077437403,
            "count": 209
           },
           {
            "bin_end": 142.60637544604413,
            "bin_start": 112.8983415948922,
            "count": 22
           }
          ],
          "max": "142.60637544604413",
          "min": "-154.473963065475",
          "nan_count": 0,
          "unique_count": 9990
         }
        },
        {
         "dtype": "float64",
         "name": "hammer_strength",
         "stats": {
          "histogram": [
           {
            "bin_end": -304.23916069494896,
            "bin_start": -376.367169809334,
            "count": 3
           },
           {
            "bin_end": -232.111151580564,
            "bin_start": -304.23916069494896,
            "count": 72
           },
           {
            "bin_end": -159.98314246617903,
            "bin_start": -232.111151580564,
            "count": 338
           },
           {
            "bin_end": -87.85513335179405,
            "bin_start": -159.98314246617903,
            "count": 1123
           },
           {
            "bin_end": -15.727124237409043,
            "bin_start": -87.85513335179405,
            "count": 2294
           },
           {
            "bin_end": 56.40088487697591,
            "bin_start": -15.727124237409043,
            "count": 2791
           },
           {
            "bin_end": 128.52889399136086,
            "bin_start": 56.40088487697591,
            "count": 2052
           },
           {
            "bin_end": 200.65690310574587,
            "bin_start": 128.52889399136086,
            "count": 961
           },
           {
            "bin_end": 272.7849122201309,
            "bin_start": 200.65690310574587,
            "count": 283
           },
           {
            "bin_end": 344.91292133451583,
            "bin_start": 272.7849122201309,
            "count": 53
           }
          ],
          "max": "344.91292133451583",
          "min": "-376.367169809334",
          "nan_count": 20,
          "unique_count": 9970
         }
        },
        {
         "dtype": "object",
         "name": "rank",
         "stats": {
          "categories": [
           {
            "count": 2553,
            "name": "perfect"
           },
           {
            "count": 2490,
            "name": "medium"
           },
           {
            "count": 4947,
            "name": "2 others"
           }
          ],
          "nan_count": 0,
          "unique_count": 4
         }
        },
        {
         "dtype": "object",
         "name": "size",
         "stats": {
          "categories": [
           {
            "count": 2034,
            "name": "L"
           },
           {
            "count": 7916,
            "name": "4 others"
           },
           {
            "count": 40,
            "name": "Missing"
           }
          ],
          "nan_count": 40,
          "unique_count": 5
         }
        },
        {
         "dtype": "object",
         "name": "country",
         "stats": {
          "categories": [
           {
            "count": 1459,
            "name": "Canada"
           },
           {
            "count": 1443,
            "name": "Germany"
           },
           {
            "count": 7088,
            "name": "5 others"
           }
          ],
          "nan_count": 0,
          "unique_count": 7
         }
        },
        {
         "dtype": "int64",
         "name": "_deepnote_index_column"
        }
       ],
       "row_count": 9990,
       "rows": [
        {
         "_deepnote_index_column": "0",
         "age": "47.0",
         "country": "Denmark",
         "diameter": "17.053504428095536",
         "hammer_strength": "46.38910231282338",
         "length_screw": "39.53783715511043",
         "rank": "medium",
         "size": "L"
        },
        {
         "_deepnote_index_column": "1",
         "age": "20.0",
         "country": "Denmark",
         "diameter": "-67.28332053632883",
         "hammer_strength": "-167.45105993979055",
         "length_screw": "-1.0345917222642529",
         "rank": "good",
         "size": "XXL"
        },
        {
         "_deepnote_index_column": "2",
         "age": "72.0",
         "country": "Austria",
         "diameter": "-21.41187449112198",
         "hammer_strength": "-34.34500319370989",
         "length_screw": "40.68695854757322",
         "rank": "medium",
         "size": "L"
        },
        {
         "_deepnote_index_column": "3",
         "age": "23.0",
         "country": "Austria",
         "diameter": "39.71246882290648",
         "hammer_strength": "118.02366379337644",
         "length_screw": "60.17933091270527",
         "rank": "perfect",
         "size": "XL"
        },
        {
         "_deepnote_index_column": "4",
         "age": "93.0",
         "country": "Germany",
         "diameter": "33.05989838662275",
         "hammer_strength": "99.47638988360627",
         "length_screw": "2.8622811028677333",
         "rank": "perfect",
         "size": "XL"
        },
        {
         "_deepnote_index_column": "5",
         "age": "65.0",
         "country": "Austria",
         "diameter": "12.532527065730402",
         "hammer_strength": "44.92202332586888",
         "length_screw": "52.287208931016025",
         "rank": "bad",
         "size": "M"
        },
        {
         "_deepnote_index_column": "6",
         "age": "61.0",
         "country": "Italy",
         "diameter": "56.06005066226774",
         "hammer_strength": "139.3421174484423",
         "length_screw": "15.33348443632616",
         "rank": "perfect",
         "size": "S"
        },
        {
         "_deepnote_index_column": "7",
         "age": "45.0",
         "country": "Austria",
         "diameter": "18.256918012974204",
         "hammer_strength": "60.61483251343852",
         "length_screw": "34.52857862306451",
         "rank": "good",
         "size": "L"
        },
        {
         "_deepnote_index_column": "8",
         "age": "65.0",
         "country": "Denmark",
         "diameter": "-22.97184967159064",
         "hammer_strength": "-33.54038871282749",
         "length_screw": "51.07839914305847",
         "rank": "good",
         "size": "S"
        },
        {
         "_deepnote_index_column": "9",
         "age": "98.0",
         "country": "France",
         "diameter": "-42.12851169023626",
         "hammer_strength": "-96.73298065233756",
         "length_screw": "26.075551526621847",
         "rank": "perfect",
         "size": "M"
        }
       ]
      },
      "text/html": [
       "<div>\n",
       "<style scoped>\n",
       "    .dataframe tbody tr th:only-of-type {\n",
       "        vertical-align: middle;\n",
       "    }\n",
       "\n",
       "    .dataframe tbody tr th {\n",
       "        vertical-align: top;\n",
       "    }\n",
       "\n",
       "    .dataframe thead th {\n",
       "        text-align: right;\n",
       "    }\n",
       "</style>\n",
       "<table border=\"1\" class=\"dataframe\">\n",
       "  <thead>\n",
       "    <tr style=\"text-align: right;\">\n",
       "      <th></th>\n",
       "      <th>age</th>\n",
       "      <th>length_screw</th>\n",
       "      <th>diameter</th>\n",
       "      <th>hammer_strength</th>\n",
       "      <th>rank</th>\n",
       "      <th>size</th>\n",
       "      <th>country</th>\n",
       "    </tr>\n",
       "  </thead>\n",
       "  <tbody>\n",
       "    <tr>\n",
       "      <th>0</th>\n",
       "      <td>47.0</td>\n",
       "      <td>39.537837</td>\n",
       "      <td>17.053504</td>\n",
       "      <td>46.389102</td>\n",
       "      <td>medium</td>\n",
       "      <td>L</td>\n",
       "      <td>Denmark</td>\n",
       "    </tr>\n",
       "    <tr>\n",
       "      <th>1</th>\n",
       "      <td>20.0</td>\n",
       "      <td>-1.034592</td>\n",
       "      <td>-67.283321</td>\n",
       "      <td>-167.451060</td>\n",
       "      <td>good</td>\n",
       "      <td>XXL</td>\n",
       "      <td>Denmark</td>\n",
       "    </tr>\n",
       "    <tr>\n",
       "      <th>2</th>\n",
       "      <td>72.0</td>\n",
       "      <td>40.686959</td>\n",
       "      <td>-21.411874</td>\n",
       "      <td>-34.345003</td>\n",
       "      <td>medium</td>\n",
       "      <td>L</td>\n",
       "      <td>Austria</td>\n",
       "    </tr>\n",
       "    <tr>\n",
       "      <th>3</th>\n",
       "      <td>23.0</td>\n",
       "      <td>60.179331</td>\n",
       "      <td>39.712469</td>\n",
       "      <td>118.023664</td>\n",
       "      <td>perfect</td>\n",
       "      <td>XL</td>\n",
       "      <td>Austria</td>\n",
       "    </tr>\n",
       "    <tr>\n",
       "      <th>4</th>\n",
       "      <td>93.0</td>\n",
       "      <td>2.862281</td>\n",
       "      <td>33.059898</td>\n",
       "      <td>99.476390</td>\n",
       "      <td>perfect</td>\n",
       "      <td>XL</td>\n",
       "      <td>Germany</td>\n",
       "    </tr>\n",
       "    <tr>\n",
       "      <th>...</th>\n",
       "      <td>...</td>\n",
       "      <td>...</td>\n",
       "      <td>...</td>\n",
       "      <td>...</td>\n",
       "      <td>...</td>\n",
       "      <td>...</td>\n",
       "      <td>...</td>\n",
       "    </tr>\n",
       "    <tr>\n",
       "      <th>9995</th>\n",
       "      <td>80.0</td>\n",
       "      <td>29.688847</td>\n",
       "      <td>-8.900835</td>\n",
       "      <td>-15.037037</td>\n",
       "      <td>good</td>\n",
       "      <td>XXL</td>\n",
       "      <td>Denmark</td>\n",
       "    </tr>\n",
       "    <tr>\n",
       "      <th>9996</th>\n",
       "      <td>35.0</td>\n",
       "      <td>23.757652</td>\n",
       "      <td>54.140757</td>\n",
       "      <td>124.841787</td>\n",
       "      <td>medium</td>\n",
       "      <td>L</td>\n",
       "      <td>Germany</td>\n",
       "    </tr>\n",
       "    <tr>\n",
       "      <th>9997</th>\n",
       "      <td>31.0</td>\n",
       "      <td>7.493367</td>\n",
       "      <td>-32.458441</td>\n",
       "      <td>-83.878678</td>\n",
       "      <td>perfect</td>\n",
       "      <td>L</td>\n",
       "      <td>France</td>\n",
       "    </tr>\n",
       "    <tr>\n",
       "      <th>9998</th>\n",
       "      <td>33.0</td>\n",
       "      <td>33.341941</td>\n",
       "      <td>-36.872158</td>\n",
       "      <td>-84.604433</td>\n",
       "      <td>good</td>\n",
       "      <td>M</td>\n",
       "      <td>Austria</td>\n",
       "    </tr>\n",
       "    <tr>\n",
       "      <th>9999</th>\n",
       "      <td>76.0</td>\n",
       "      <td>28.463501</td>\n",
       "      <td>22.295653</td>\n",
       "      <td>55.307215</td>\n",
       "      <td>perfect</td>\n",
       "      <td>XXL</td>\n",
       "      <td>Italy</td>\n",
       "    </tr>\n",
       "  </tbody>\n",
       "</table>\n",
       "<p>9990 rows × 7 columns</p>\n",
       "</div>"
      ],
      "text/plain": [
       "       age  length_screw   diameter  hammer_strength     rank size  country\n",
       "0     47.0     39.537837  17.053504        46.389102   medium    L  Denmark\n",
       "1     20.0     -1.034592 -67.283321      -167.451060     good  XXL  Denmark\n",
       "2     72.0     40.686959 -21.411874       -34.345003   medium    L  Austria\n",
       "3     23.0     60.179331  39.712469       118.023664  perfect   XL  Austria\n",
       "4     93.0      2.862281  33.059898        99.476390  perfect   XL  Germany\n",
       "...    ...           ...        ...              ...      ...  ...      ...\n",
       "9995  80.0     29.688847  -8.900835       -15.037037     good  XXL  Denmark\n",
       "9996  35.0     23.757652  54.140757       124.841787   medium    L  Germany\n",
       "9997  31.0      7.493367 -32.458441       -83.878678  perfect    L   France\n",
       "9998  33.0     33.341941 -36.872158       -84.604433     good    M  Austria\n",
       "9999  76.0     28.463501  22.295653        55.307215  perfect  XXL    Italy\n",
       "\n",
       "[9990 rows x 7 columns]"
      ]
     },
     "execution_count": 3,
     "metadata": {},
     "output_type": "execute_result"
    }
   ],
   "source": [
    "playground = pd.read_csv('data/playground.csv').dropna(thresh=6000,axis=1).dropna(axis=0,how='all')\n",
    "playground"
   ]
  },
  {
   "cell_type": "code",
   "execution_count": null,
   "metadata": {
    "cell_id": "81f6368cce974ef48be6dc7faae0b1f9",
    "deepnote_cell_type": "code",
    "deepnote_to_be_reexecuted": false,
    "execution_millis": 7,
    "execution_start": 1677689609826,
    "source_hash": "67470659",
    "tags": []
   },
   "outputs": [],
   "source": [
    "from sklearn.compose import ColumnTransformer"
   ]
  },
  {
   "cell_type": "code",
   "execution_count": null,
   "metadata": {
    "cell_id": "4966113da91749fca8b8ca0cb60c3b57",
    "deepnote_cell_type": "code",
    "deepnote_to_be_reexecuted": false,
    "execution_millis": 6,
    "execution_start": 1677689707849,
    "source_hash": "60392327",
    "tags": []
   },
   "outputs": [],
   "source": [
    "playground_tf = ColumnTransformer(\n",
    "    transformers=[\n",
    "        ('age', MinMaxScaler(), ['age']),\n",
    "        ('imp_std', imp_scaler, ['length_screw','hammer_strength']),\n",
    "        ('diam_std', StandardScaler(), ['diameter']),\n",
    "        ('rank', imp_ordinal2, ['rank']),\n",
    "        ('imp_ord', imp_ordinal, ['size']),\n",
    "        ('country_hot', OneHotEncoder(drop='first',categories='auto'),['country'])\n",
    "    ],\n",
    "    verbose_feature_names_out = False\n",
    ")"
   ]
  },
  {
   "cell_type": "code",
   "execution_count": null,
   "metadata": {
    "cell_id": "85cd40b7628048989a2b00015147ad7e",
    "deepnote_cell_type": "code",
    "deepnote_to_be_reexecuted": false,
    "execution_millis": 51,
    "execution_start": 1677689814820,
    "source_hash": "4cb3a869",
    "tags": []
   },
   "outputs": [
    {
     "data": {
      "application/vnd.deepnote.dataframe.v3+json": {
       "column_count": 12,
       "columns": [
        {
         "dtype": "float64",
         "name": "age",
         "stats": {
          "histogram": [
           {
            "bin_end": 0.1,
            "bin_start": 0,
            "count": 1010
           },
           {
            "bin_end": 0.2,
            "bin_start": 0.1,
            "count": 983
           },
           {
            "bin_end": 0.30000000000000004,
            "bin_start": 0.2,
            "count": 977
           },
           {
            "bin_end": 0.4,
            "bin_start": 0.30000000000000004,
            "count": 995
           },
           {
            "bin_end": 0.5,
            "bin_start": 0.4,
            "count": 957
           },
           {
            "bin_end": 0.6000000000000001,
            "bin_start": 0.5,
            "count": 1040
           },
           {
            "bin_end": 0.7000000000000001,
            "bin_start": 0.6000000000000001,
            "count": 981
           },
           {
            "bin_end": 0.8,
            "bin_start": 0.7000000000000001,
            "count": 978
           },
           {
            "bin_end": 0.9,
            "bin_start": 0.8,
            "count": 991
           },
           {
            "bin_end": 1,
            "bin_start": 0.9,
            "count": 1078
           }
          ],
          "max": "1.0",
          "min": "0.0",
          "nan_count": 0,
          "unique_count": 81
         }
        },
        {
         "dtype": "float64",
         "name": "length_screw",
         "stats": {
          "histogram": [
           {
            "bin_end": -3.0279951281855007,
            "bin_start": -3.751017361362002,
            "count": 13
           },
           {
            "bin_end": -2.3049728950089996,
            "bin_start": -3.0279951281855007,
            "count": 86
           },
           {
            "bin_end": -1.581950661832498,
            "bin_start": -2.3049728950089996,
            "count": 457
           },
           {
            "bin_end": -0.8589284286559966,
            "bin_start": -1.581950661832498,
            "count": 1415
           },
           {
            "bin_end": -0.13590619547949512,
            "bin_start": -0.8589284286559966,
            "count": 2532
           },
           {
            "bin_end": 0.5871160376970059,
            "bin_start": -0.13590619547949512,
            "count": 2703
           },
           {
            "bin_end": 1.3101382708735074,
            "bin_start": 0.5871160376970059,
            "count": 1820
           },
           {
            "bin_end": 2.033160504050009,
            "bin_start": 1.3101382708735074,
            "count": 750
           },
           {
            "bin_end": 2.7561827372265104,
            "bin_start": 2.033160504050009,
            "count": 185
           },
           {
            "bin_end": 3.479204970403012,
            "bin_start": 2.7561827372265104,
            "count": 29
           }
          ],
          "max": "3.479204970403012",
          "min": "-3.751017361362002",
          "nan_count": 0,
          "unique_count": 9971
         }
        },
        {
         "dtype": "float64",
         "name": "hammer_strength",
         "stats": {
          "histogram": [
           {
            "bin_end": -3.155392464628905,
            "bin_start": -3.868979464694069,
            "count": 3
           },
           {
            "bin_end": -2.4418054645637413,
            "bin_start": -3.155392464628905,
            "count": 72
           },
           {
            "bin_end": -1.7282184644985774,
            "bin_start": -2.4418054645637413,
            "count": 338
           },
           {
            "bin_end": -1.0146314644334136,
            "bin_start": -1.7282184644985774,
            "count": 1123
           },
           {
            "bin_end": -0.3010444643682497,
            "bin_start": -1.0146314644334136,
            "count": 2294
           },
           {
            "bin_end": 0.4125425356969141,
            "bin_start": -0.3010444643682497,
            "count": 2811
           },
           {
            "bin_end": 1.1261295357620775,
            "bin_start": 0.4125425356969141,
            "count": 2052
           },
           {
            "bin_end": 1.8397165358272418,
            "bin_start": 1.1261295357620775,
            "count": 961
           },
           {
            "bin_end": 2.553303535892406,
            "bin_start": 1.8397165358272418,
            "count": 283
           },
           {
            "bin_end": 3.2668905359575695,
            "bin_start": 2.553303535892406,
            "count": 53
           }
          ],
          "max": "3.2668905359575695",
          "min": "-3.868979464694069",
          "nan_count": 0,
          "unique_count": 9971
         }
        },
        {
         "dtype": "float64",
         "name": "diameter",
         "stats": {
          "histogram": [
           {
            "bin_end": -3.140423235798286,
            "bin_start": -3.879528682180476,
            "count": 3
           },
           {
            "bin_end": -2.4013177894160953,
            "bin_start": -3.140423235798286,
            "count": 83
           },
           {
            "bin_end": -1.6622123430339046,
            "bin_start": -2.4013177894160953,
            "count": 386
           },
           {
            "bin_end": -0.9231068966517144,
            "bin_start": -1.6622123430339046,
            "count": 1302
           },
           {
            "bin_end": -0.1840014502695242,
            "bin_start": -0.9231068966517144,
            "count": 2537
           },
           {
            "bin_end": 0.5551039961126669,
            "bin_start": -0.1840014502695242,
            "count": 2842
           },
           {
            "bin_end": 1.2942094424948571,
            "bin_start": 0.5551039961126669,
            "count": 1833
           },
           {
            "bin_end": 2.0333148888770474,
            "bin_start": 1.2942094424948571,
            "count": 773
           },
           {
            "bin_end": 2.7724203352592376,
            "bin_start": 2.0333148888770474,
            "count": 209
           },
           {
            "bin_end": 3.5115257816414283,
            "bin_start": 2.7724203352592376,
            "count": 22
           }
          ],
          "max": "3.5115257816414283",
          "min": "-3.879528682180476",
          "nan_count": 0,
          "unique_count": 9990
         }
        },
        {
         "dtype": "float64",
         "name": "rank",
         "stats": {
          "histogram": [
           {
            "bin_end": 0.1,
            "bin_start": 0,
            "count": 2461
           },
           {
            "bin_end": 0.2,
            "bin_start": 0.1,
            "count": 0
           },
           {
            "bin_end": 0.30000000000000004,
            "bin_start": 0.2,
            "count": 0
           },
           {
            "bin_end": 0.4,
            "bin_start": 0.30000000000000004,
            "count": 2490
           },
           {
            "bin_end": 0.5,
            "bin_start": 0.4,
            "count": 0
           },
           {
            "bin_end": 0.6000000000000001,
            "bin_start": 0.5,
            "count": 0
           },
           {
            "bin_end": 0.7000000000000001,
            "bin_start": 0.6000000000000001,
            "count": 2486
           },
           {
            "bin_end": 0.8,
            "bin_start": 0.7000000000000001,
            "count": 0
           },
           {
            "bin_end": 0.9,
            "bin_start": 0.8,
            "count": 0
           },
           {
            "bin_end": 1,
            "bin_start": 0.9,
            "count": 2553
           }
          ],
          "max": "1.0",
          "min": "0.0",
          "nan_count": 0,
          "unique_count": 4
         }
        },
        {
         "dtype": "float64",
         "name": "size",
         "stats": {
          "histogram": [
           {
            "bin_end": 0.1,
            "bin_start": 0,
            "count": 1976
           },
           {
            "bin_end": 0.2,
            "bin_start": 0.1,
            "count": 0
           },
           {
            "bin_end": 0.30000000000000004,
            "bin_start": 0.2,
            "count": 1989
           },
           {
            "bin_end": 0.4,
            "bin_start": 0.30000000000000004,
            "count": 0
           },
           {
            "bin_end": 0.5,
            "bin_start": 0.4,
            "count": 0
           },
           {
            "bin_end": 0.6000000000000001,
            "bin_start": 0.5,
            "count": 2074
           },
           {
            "bin_end": 0.7000000000000001,
            "bin_start": 0.6000000000000001,
            "count": 0
           },
           {
            "bin_end": 0.8,
            "bin_start": 0.7000000000000001,
            "count": 1940
           },
           {
            "bin_end": 0.9,
            "bin_start": 0.8,
            "count": 0
           },
           {
            "bin_end": 1,
            "bin_start": 0.9,
            "count": 2011
           }
          ],
          "max": "1.0",
          "min": "0.0",
          "nan_count": 0,
          "unique_count": 5
         }
        },
        {
         "dtype": "float64",
         "name": "country_Canada",
         "stats": {
          "histogram": [
           {
            "bin_end": 0.1,
            "bin_start": 0,
            "count": 8531
           },
           {
            "bin_end": 0.2,
            "bin_start": 0.1,
            "count": 0
           },
           {
            "bin_end": 0.30000000000000004,
            "bin_start": 0.2,
            "count": 0
           },
           {
            "bin_end": 0.4,
            "bin_start": 0.30000000000000004,
            "count": 0
           },
           {
            "bin_end": 0.5,
            "bin_start": 0.4,
            "count": 0
           },
           {
            "bin_end": 0.6000000000000001,
            "bin_start": 0.5,
            "count": 0
           },
           {
            "bin_end": 0.7000000000000001,
            "bin_start": 0.6000000000000001,
            "count": 0
           },
           {
            "bin_end": 0.8,
            "bin_start": 0.7000000000000001,
            "count": 0
           },
           {
            "bin_end": 0.9,
            "bin_start": 0.8,
            "count": 0
           },
           {
            "bin_end": 1,
            "bin_start": 0.9,
            "count": 1459
           }
          ],
          "max": "1.0",
          "min": "0.0",
          "nan_count": 0,
          "unique_count": 2
         }
        },
        {
         "dtype": "float64",
         "name": "country_Denmark",
         "stats": {
          "histogram": [
           {
            "bin_end": 0.1,
            "bin_start": 0,
            "count": 8585
           },
           {
            "bin_end": 0.2,
            "bin_start": 0.1,
            "count": 0
           },
           {
            "bin_end": 0.30000000000000004,
            "bin_start": 0.2,
            "count": 0
           },
           {
            "bin_end": 0.4,
            "bin_start": 0.30000000000000004,
            "count": 0
           },
           {
            "bin_end": 0.5,
            "bin_start": 0.4,
            "count": 0
           },
           {
            "bin_end": 0.6000000000000001,
            "bin_start": 0.5,
            "count": 0
           },
           {
            "bin_end": 0.7000000000000001,
            "bin_start": 0.6000000000000001,
            "count": 0
           },
           {
            "bin_end": 0.8,
            "bin_start": 0.7000000000000001,
            "count": 0
           },
           {
            "bin_end": 0.9,
            "bin_start": 0.8,
            "count": 0
           },
           {
            "bin_end": 1,
            "bin_start": 0.9,
            "count": 1405
           }
          ],
          "max": "1.0",
          "min": "0.0",
          "nan_count": 0,
          "unique_count": 2
         }
        },
        {
         "dtype": "float64",
         "name": "country_France",
         "stats": {
          "histogram": [
           {
            "bin_end": 0.1,
            "bin_start": 0,
            "count": 8567
           },
           {
            "bin_end": 0.2,
            "bin_start": 0.1,
            "count": 0
           },
           {
            "bin_end": 0.30000000000000004,
            "bin_start": 0.2,
            "count": 0
           },
           {
            "bin_end": 0.4,
            "bin_start": 0.30000000000000004,
            "count": 0
           },
           {
            "bin_end": 0.5,
            "bin_start": 0.4,
            "count": 0
           },
           {
            "bin_end": 0.6000000000000001,
            "bin_start": 0.5,
            "count": 0
           },
           {
            "bin_end": 0.7000000000000001,
            "bin_start": 0.6000000000000001,
            "count": 0
           },
           {
            "bin_end": 0.8,
            "bin_start": 0.7000000000000001,
            "count": 0
           },
           {
            "bin_end": 0.9,
            "bin_start": 0.8,
            "count": 0
           },
           {
            "bin_end": 1,
            "bin_start": 0.9,
            "count": 1423
           }
          ],
          "max": "1.0",
          "min": "0.0",
          "nan_count": 0,
          "unique_count": 2
         }
        },
        {
         "dtype": "float64",
         "name": "country_Germany",
         "stats": {
          "histogram": [
           {
            "bin_end": 0.1,
            "bin_start": 0,
            "count": 8547
           },
           {
            "bin_end": 0.2,
            "bin_start": 0.1,
            "count": 0
           },
           {
            "bin_end": 0.30000000000000004,
            "bin_start": 0.2,
            "count": 0
           },
           {
            "bin_end": 0.4,
            "bin_start": 0.30000000000000004,
            "count": 0
           },
           {
            "bin_end": 0.5,
            "bin_start": 0.4,
            "count": 0
           },
           {
            "bin_end": 0.6000000000000001,
            "bin_start": 0.5,
            "count": 0
           },
           {
            "bin_end": 0.7000000000000001,
            "bin_start": 0.6000000000000001,
            "count": 0
           },
           {
            "bin_end": 0.8,
            "bin_start": 0.7000000000000001,
            "count": 0
           },
           {
            "bin_end": 0.9,
            "bin_start": 0.8,
            "count": 0
           },
           {
            "bin_end": 1,
            "bin_start": 0.9,
            "count": 1443
           }
          ],
          "max": "1.0",
          "min": "0.0",
          "nan_count": 0,
          "unique_count": 2
         }
        },
        {
         "dtype": "float64",
         "name": "country_Italy"
        },
        {
         "dtype": "float64",
         "name": "country_Spain"
        },
        {
         "dtype": "int64",
         "name": "_deepnote_index_column"
        }
       ],
       "row_count": 9990,
       "rows": [
        {
         "_deepnote_index_column": "0",
         "age": "0.36250000000000004",
         "country_Canada": "0.0",
         "country_Denmark": "1.0",
         "country_France": "0.0",
         "country_Germany": "0.0",
         "country_Italy": "0.0",
         "country_Spain": "0.0",
         "diameter": "0.3878989794359253",
         "hammer_strength": "0.3134925553497722",
         "length_screw": "0.4806401809498395",
         "rank": "0.3333333333333333",
         "size": "0.5"
        },
        {
         "_deepnote_index_column": "1",
         "age": "0.024999999999999994",
         "country_Canada": "0.0",
         "country_Denmark": "1.0",
         "country_France": "0.0",
         "country_Germany": "0.0",
         "country_Italy": "0.0",
         "country_Spain": "0.0",
         "diameter": "-1.7103148227329643",
         "hammer_strength": "-1.8021011196856573",
         "length_screw": "-1.5396608923696136",
         "rank": "0.6666666666666666",
         "size": "1.0"
        },
        {
         "_deepnote_index_column": "2",
         "age": "0.675",
         "country_Canada": "0.0",
         "country_Denmark": "0.0",
         "country_France": "0.0",
         "country_Germany": "0.0",
         "country_Italy": "0.0",
         "country_Spain": "0.0",
         "diameter": "-0.5690802403533374",
         "hammer_strength": "-0.4852374922242401",
         "length_screw": "0.5378605950784486",
         "rank": "0.3333333333333333",
         "size": "0.5"
        },
        {
         "_deepnote_index_column": "3",
         "age": "0.06250000000000003",
         "country_Canada": "0.0",
         "country_Denmark": "0.0",
         "country_France": "0.0",
         "country_Germany": "0.0",
         "country_Italy": "0.0",
         "country_Spain": "0.0",
         "diameter": "0.9516307995050454",
         "hammer_strength": "1.0221977096377017",
         "length_screw": "1.5084818248264003",
         "rank": "1.0",
         "size": "0.75"
        },
        {
         "_deepnote_index_column": "4",
         "age": "0.9375000000000001",
         "country_Canada": "0.0",
         "country_Denmark": "0.0",
         "country_France": "0.0",
         "country_Germany": "1.0",
         "country_Italy": "0.0",
         "country_Spain": "0.0",
         "diameter": "0.78612166259837",
         "hammer_strength": "0.8387032015933891",
         "length_screw": "-1.3456164003576039",
         "rank": "1.0",
         "size": "0.75"
        },
        {
         "_deepnote_index_column": "5",
         "age": "0.5875",
         "country_Canada": "0.0",
         "country_Denmark": "0.0",
         "country_France": "0.0",
         "country_Germany": "0.0",
         "country_Italy": "0.0",
         "country_Spain": "0.0",
         "diameter": "0.27542169439455605",
         "hammer_strength": "0.29897824244950505",
         "length_screw": "1.1154941987080562",
         "rank": "0.0",
         "size": "0.25"
        },
        {
         "_deepnote_index_column": "6",
         "age": "0.5375000000000001",
         "country_Canada": "0.0",
         "country_Denmark": "0.0",
         "country_France": "0.0",
         "country_Germany": "0.0",
         "country_Italy": "1.0",
         "country_Spain": "0.0",
         "diameter": "1.3583418875961881",
         "hammer_strength": "1.233108444268151",
         "length_screw": "-0.7246137594676082",
         "rank": "1.0",
         "size": "0.0"
        },
        {
         "_deepnote_index_column": "7",
         "age": "0.3375",
         "country_Canada": "0.0",
         "country_Denmark": "0.0",
         "country_France": "0.0",
         "country_Germany": "0.0",
         "country_Italy": "0.0",
         "country_Spain": "0.0",
         "diameter": "0.41783867653236073",
         "hammer_strength": "0.4542325572191544",
         "length_screw": "0.2312045255343325",
         "rank": "0.6666666666666666",
         "size": "0.5"
        },
        {
         "_deepnote_index_column": "8",
         "age": "0.5875",
         "country_Canada": "0.0",
         "country_Denmark": "1.0",
         "country_France": "0.0",
         "country_Germany": "0.0",
         "country_Italy": "0.0",
         "country_Spain": "0.0",
         "diameter": "-0.6078908246512518",
         "hammer_strength": "-0.47727716667704084",
         "length_screw": "1.0553016053725464",
         "rank": "0.6666666666666666",
         "size": "0.0"
        },
        {
         "_deepnote_index_column": "9",
         "age": "1.0",
         "country_Canada": "0.0",
         "country_Denmark": "0.0",
         "country_France": "1.0",
         "country_Germany": "0.0",
         "country_Italy": "0.0",
         "country_Spain": "0.0",
         "diameter": "-1.0844889497047152",
         "hammer_strength": "-1.1024630363846764",
         "length_screw": "-0.1897133289859556",
         "rank": "1.0",
         "size": "0.25"
        }
       ]
      },
      "text/html": [
       "<div>\n",
       "<style scoped>\n",
       "    .dataframe tbody tr th:only-of-type {\n",
       "        vertical-align: middle;\n",
       "    }\n",
       "\n",
       "    .dataframe tbody tr th {\n",
       "        vertical-align: top;\n",
       "    }\n",
       "\n",
       "    .dataframe thead th {\n",
       "        text-align: right;\n",
       "    }\n",
       "</style>\n",
       "<table border=\"1\" class=\"dataframe\">\n",
       "  <thead>\n",
       "    <tr style=\"text-align: right;\">\n",
       "      <th></th>\n",
       "      <th>age</th>\n",
       "      <th>length_screw</th>\n",
       "      <th>hammer_strength</th>\n",
       "      <th>diameter</th>\n",
       "      <th>rank</th>\n",
       "      <th>size</th>\n",
       "      <th>country_Canada</th>\n",
       "      <th>country_Denmark</th>\n",
       "      <th>country_France</th>\n",
       "      <th>country_Germany</th>\n",
       "      <th>country_Italy</th>\n",
       "      <th>country_Spain</th>\n",
       "    </tr>\n",
       "  </thead>\n",
       "  <tbody>\n",
       "    <tr>\n",
       "      <th>0</th>\n",
       "      <td>0.3625</td>\n",
       "      <td>0.480640</td>\n",
       "      <td>0.313493</td>\n",
       "      <td>0.387899</td>\n",
       "      <td>0.333333</td>\n",
       "      <td>0.50</td>\n",
       "      <td>0.0</td>\n",
       "      <td>1.0</td>\n",
       "      <td>0.0</td>\n",
       "      <td>0.0</td>\n",
       "      <td>0.0</td>\n",
       "      <td>0.0</td>\n",
       "    </tr>\n",
       "    <tr>\n",
       "      <th>1</th>\n",
       "      <td>0.0250</td>\n",
       "      <td>-1.539661</td>\n",
       "      <td>-1.802101</td>\n",
       "      <td>-1.710315</td>\n",
       "      <td>0.666667</td>\n",
       "      <td>1.00</td>\n",
       "      <td>0.0</td>\n",
       "      <td>1.0</td>\n",
       "      <td>0.0</td>\n",
       "      <td>0.0</td>\n",
       "      <td>0.0</td>\n",
       "      <td>0.0</td>\n",
       "    </tr>\n",
       "    <tr>\n",
       "      <th>2</th>\n",
       "      <td>0.6750</td>\n",
       "      <td>0.537861</td>\n",
       "      <td>-0.485237</td>\n",
       "      <td>-0.569080</td>\n",
       "      <td>0.333333</td>\n",
       "      <td>0.50</td>\n",
       "      <td>0.0</td>\n",
       "      <td>0.0</td>\n",
       "      <td>0.0</td>\n",
       "      <td>0.0</td>\n",
       "      <td>0.0</td>\n",
       "      <td>0.0</td>\n",
       "    </tr>\n",
       "    <tr>\n",
       "      <th>3</th>\n",
       "      <td>0.0625</td>\n",
       "      <td>1.508482</td>\n",
       "      <td>1.022198</td>\n",
       "      <td>0.951631</td>\n",
       "      <td>1.000000</td>\n",
       "      <td>0.75</td>\n",
       "      <td>0.0</td>\n",
       "      <td>0.0</td>\n",
       "      <td>0.0</td>\n",
       "      <td>0.0</td>\n",
       "      <td>0.0</td>\n",
       "      <td>0.0</td>\n",
       "    </tr>\n",
       "    <tr>\n",
       "      <th>4</th>\n",
       "      <td>0.9375</td>\n",
       "      <td>-1.345616</td>\n",
       "      <td>0.838703</td>\n",
       "      <td>0.786122</td>\n",
       "      <td>1.000000</td>\n",
       "      <td>0.75</td>\n",
       "      <td>0.0</td>\n",
       "      <td>0.0</td>\n",
       "      <td>0.0</td>\n",
       "      <td>1.0</td>\n",
       "      <td>0.0</td>\n",
       "      <td>0.0</td>\n",
       "    </tr>\n",
       "    <tr>\n",
       "      <th>...</th>\n",
       "      <td>...</td>\n",
       "      <td>...</td>\n",
       "      <td>...</td>\n",
       "      <td>...</td>\n",
       "      <td>...</td>\n",
       "      <td>...</td>\n",
       "      <td>...</td>\n",
       "      <td>...</td>\n",
       "      <td>...</td>\n",
       "      <td>...</td>\n",
       "      <td>...</td>\n",
       "      <td>...</td>\n",
       "    </tr>\n",
       "    <tr>\n",
       "      <th>9985</th>\n",
       "      <td>0.7750</td>\n",
       "      <td>-0.009790</td>\n",
       "      <td>-0.294217</td>\n",
       "      <td>-0.257818</td>\n",
       "      <td>0.666667</td>\n",
       "      <td>1.00</td>\n",
       "      <td>0.0</td>\n",
       "      <td>1.0</td>\n",
       "      <td>0.0</td>\n",
       "      <td>0.0</td>\n",
       "      <td>0.0</td>\n",
       "      <td>0.0</td>\n",
       "    </tr>\n",
       "    <tr>\n",
       "      <th>9986</th>\n",
       "      <td>0.2125</td>\n",
       "      <td>-0.305133</td>\n",
       "      <td>1.089652</td>\n",
       "      <td>1.310592</td>\n",
       "      <td>0.333333</td>\n",
       "      <td>0.50</td>\n",
       "      <td>0.0</td>\n",
       "      <td>0.0</td>\n",
       "      <td>0.0</td>\n",
       "      <td>1.0</td>\n",
       "      <td>0.0</td>\n",
       "      <td>0.0</td>\n",
       "    </tr>\n",
       "    <tr>\n",
       "      <th>9987</th>\n",
       "      <td>0.1625</td>\n",
       "      <td>-1.115012</td>\n",
       "      <td>-0.975291</td>\n",
       "      <td>-0.843907</td>\n",
       "      <td>1.000000</td>\n",
       "      <td>0.50</td>\n",
       "      <td>0.0</td>\n",
       "      <td>0.0</td>\n",
       "      <td>1.0</td>\n",
       "      <td>0.0</td>\n",
       "      <td>0.0</td>\n",
       "      <td>0.0</td>\n",
       "    </tr>\n",
       "    <tr>\n",
       "      <th>9988</th>\n",
       "      <td>0.1875</td>\n",
       "      <td>0.172116</td>\n",
       "      <td>-0.982471</td>\n",
       "      <td>-0.953716</td>\n",
       "      <td>0.666667</td>\n",
       "      <td>0.25</td>\n",
       "      <td>0.0</td>\n",
       "      <td>0.0</td>\n",
       "      <td>0.0</td>\n",
       "      <td>0.0</td>\n",
       "      <td>0.0</td>\n",
       "      <td>0.0</td>\n",
       "    </tr>\n",
       "    <tr>\n",
       "      <th>9989</th>\n",
       "      <td>0.7250</td>\n",
       "      <td>-0.070806</td>\n",
       "      <td>0.401722</td>\n",
       "      <td>0.518318</td>\n",
       "      <td>1.000000</td>\n",
       "      <td>1.00</td>\n",
       "      <td>0.0</td>\n",
       "      <td>0.0</td>\n",
       "      <td>0.0</td>\n",
       "      <td>0.0</td>\n",
       "      <td>1.0</td>\n",
       "      <td>0.0</td>\n",
       "    </tr>\n",
       "  </tbody>\n",
       "</table>\n",
       "<p>9990 rows × 12 columns</p>\n",
       "</div>"
      ],
      "text/plain": [
       "         age  length_screw  hammer_strength  diameter      rank  size  \\\n",
       "0     0.3625      0.480640         0.313493  0.387899  0.333333  0.50   \n",
       "1     0.0250     -1.539661        -1.802101 -1.710315  0.666667  1.00   \n",
       "2     0.6750      0.537861        -0.485237 -0.569080  0.333333  0.50   \n",
       "3     0.0625      1.508482         1.022198  0.951631  1.000000  0.75   \n",
       "4     0.9375     -1.345616         0.838703  0.786122  1.000000  0.75   \n",
       "...      ...           ...              ...       ...       ...   ...   \n",
       "9985  0.7750     -0.009790        -0.294217 -0.257818  0.666667  1.00   \n",
       "9986  0.2125     -0.305133         1.089652  1.310592  0.333333  0.50   \n",
       "9987  0.1625     -1.115012        -0.975291 -0.843907  1.000000  0.50   \n",
       "9988  0.1875      0.172116        -0.982471 -0.953716  0.666667  0.25   \n",
       "9989  0.7250     -0.070806         0.401722  0.518318  1.000000  1.00   \n",
       "\n",
       "      country_Canada  country_Denmark  country_France  country_Germany  \\\n",
       "0                0.0              1.0             0.0              0.0   \n",
       "1                0.0              1.0             0.0              0.0   \n",
       "2                0.0              0.0             0.0              0.0   \n",
       "3                0.0              0.0             0.0              0.0   \n",
       "4                0.0              0.0             0.0              1.0   \n",
       "...              ...              ...             ...              ...   \n",
       "9985             0.0              1.0             0.0              0.0   \n",
       "9986             0.0              0.0             0.0              1.0   \n",
       "9987             0.0              0.0             1.0              0.0   \n",
       "9988             0.0              0.0             0.0              0.0   \n",
       "9989             0.0              0.0             0.0              0.0   \n",
       "\n",
       "      country_Italy  country_Spain  \n",
       "0               0.0            0.0  \n",
       "1               0.0            0.0  \n",
       "2               0.0            0.0  \n",
       "3               0.0            0.0  \n",
       "4               0.0            0.0  \n",
       "...             ...            ...  \n",
       "9985            0.0            0.0  \n",
       "9986            0.0            0.0  \n",
       "9987            0.0            0.0  \n",
       "9988            0.0            0.0  \n",
       "9989            1.0            0.0  \n",
       "\n",
       "[9990 rows x 12 columns]"
      ]
     },
     "execution_count": 8,
     "metadata": {},
     "output_type": "execute_result"
    }
   ],
   "source": [
    "playground_tf.fit(playground)\n",
    "new_playground = pd.DataFrame(playground_tf.transform(playground), columns=playground_tf.get_feature_names_out())\n",
    "new_playground"
   ]
  },
  {
   "cell_type": "code",
   "execution_count": null,
   "metadata": {
    "cell_id": "9a445720bbaf457a826e9b70c0d45412",
    "deepnote_cell_type": "code",
    "deepnote_to_be_reexecuted": false,
    "execution_millis": 52,
    "execution_start": 1677690076005,
    "source_hash": "51197661",
    "tags": []
   },
   "outputs": [
    {
     "data": {
      "application/vnd.deepnote.dataframe.v3+json": {
       "column_count": 12,
       "columns": [
        {
         "dtype": "float64",
         "name": 0,
         "stats": {
          "histogram": [
           {
            "bin_end": 0.1,
            "bin_start": 0,
            "count": 1010
           },
           {
            "bin_end": 0.2,
            "bin_start": 0.1,
            "count": 983
           },
           {
            "bin_end": 0.30000000000000004,
            "bin_start": 0.2,
            "count": 977
           },
           {
            "bin_end": 0.4,
            "bin_start": 0.30000000000000004,
            "count": 995
           },
           {
            "bin_end": 0.5,
            "bin_start": 0.4,
            "count": 957
           },
           {
            "bin_end": 0.6000000000000001,
            "bin_start": 0.5,
            "count": 1040
           },
           {
            "bin_end": 0.7000000000000001,
            "bin_start": 0.6000000000000001,
            "count": 981
           },
           {
            "bin_end": 0.8,
            "bin_start": 0.7000000000000001,
            "count": 978
           },
           {
            "bin_end": 0.9,
            "bin_start": 0.8,
            "count": 991
           },
           {
            "bin_end": 1,
            "bin_start": 0.9,
            "count": 1078
           }
          ],
          "max": "1.0",
          "min": "0.0",
          "nan_count": 0,
          "unique_count": 81
         }
        },
        {
         "dtype": "float64",
         "name": 1,
         "stats": {
          "histogram": [
           {
            "bin_end": -3.0279951281855007,
            "bin_start": -3.751017361362002,
            "count": 13
           },
           {
            "bin_end": -2.3049728950089996,
            "bin_start": -3.0279951281855007,
            "count": 86
           },
           {
            "bin_end": -1.581950661832498,
            "bin_start": -2.3049728950089996,
            "count": 457
           },
           {
            "bin_end": -0.8589284286559966,
            "bin_start": -1.581950661832498,
            "count": 1415
           },
           {
            "bin_end": -0.13590619547949512,
            "bin_start": -0.8589284286559966,
            "count": 2532
           },
           {
            "bin_end": 0.5871160376970059,
            "bin_start": -0.13590619547949512,
            "count": 2703
           },
           {
            "bin_end": 1.3101382708735074,
            "bin_start": 0.5871160376970059,
            "count": 1820
           },
           {
            "bin_end": 2.033160504050009,
            "bin_start": 1.3101382708735074,
            "count": 750
           },
           {
            "bin_end": 2.7561827372265104,
            "bin_start": 2.033160504050009,
            "count": 185
           },
           {
            "bin_end": 3.479204970403012,
            "bin_start": 2.7561827372265104,
            "count": 29
           }
          ],
          "max": "3.479204970403012",
          "min": "-3.751017361362002",
          "nan_count": 0,
          "unique_count": 9971
         }
        },
        {
         "dtype": "float64",
         "name": 2,
         "stats": {
          "histogram": [
           {
            "bin_end": -3.155392464628905,
            "bin_start": -3.868979464694069,
            "count": 3
           },
           {
            "bin_end": -2.4418054645637413,
            "bin_start": -3.155392464628905,
            "count": 72
           },
           {
            "bin_end": -1.7282184644985774,
            "bin_start": -2.4418054645637413,
            "count": 338
           },
           {
            "bin_end": -1.0146314644334136,
            "bin_start": -1.7282184644985774,
            "count": 1123
           },
           {
            "bin_end": -0.3010444643682497,
            "bin_start": -1.0146314644334136,
            "count": 2294
           },
           {
            "bin_end": 0.4125425356969141,
            "bin_start": -0.3010444643682497,
            "count": 2811
           },
           {
            "bin_end": 1.1261295357620775,
            "bin_start": 0.4125425356969141,
            "count": 2052
           },
           {
            "bin_end": 1.8397165358272418,
            "bin_start": 1.1261295357620775,
            "count": 961
           },
           {
            "bin_end": 2.553303535892406,
            "bin_start": 1.8397165358272418,
            "count": 283
           },
           {
            "bin_end": 3.2668905359575695,
            "bin_start": 2.553303535892406,
            "count": 53
           }
          ],
          "max": "3.2668905359575695",
          "min": "-3.868979464694069",
          "nan_count": 0,
          "unique_count": 9971
         }
        },
        {
         "dtype": "float64",
         "name": 3,
         "stats": {
          "histogram": [
           {
            "bin_end": -3.140423235798286,
            "bin_start": -3.879528682180476,
            "count": 3
           },
           {
            "bin_end": -2.4013177894160953,
            "bin_start": -3.140423235798286,
            "count": 83
           },
           {
            "bin_end": -1.6622123430339046,
            "bin_start": -2.4013177894160953,
            "count": 386
           },
           {
            "bin_end": -0.9231068966517144,
            "bin_start": -1.6622123430339046,
            "count": 1302
           },
           {
            "bin_end": -0.1840014502695242,
            "bin_start": -0.9231068966517144,
            "count": 2537
           },
           {
            "bin_end": 0.5551039961126669,
            "bin_start": -0.1840014502695242,
            "count": 2842
           },
           {
            "bin_end": 1.2942094424948571,
            "bin_start": 0.5551039961126669,
            "count": 1833
           },
           {
            "bin_end": 2.0333148888770474,
            "bin_start": 1.2942094424948571,
            "count": 773
           },
           {
            "bin_end": 2.7724203352592376,
            "bin_start": 2.0333148888770474,
            "count": 209
           },
           {
            "bin_end": 3.5115257816414283,
            "bin_start": 2.7724203352592376,
            "count": 22
           }
          ],
          "max": "3.5115257816414283",
          "min": "-3.879528682180476",
          "nan_count": 0,
          "unique_count": 9990
         }
        },
        {
         "dtype": "float64",
         "name": 4,
         "stats": {
          "histogram": [
           {
            "bin_end": 0.1,
            "bin_start": 0,
            "count": 2461
           },
           {
            "bin_end": 0.2,
            "bin_start": 0.1,
            "count": 0
           },
           {
            "bin_end": 0.30000000000000004,
            "bin_start": 0.2,
            "count": 0
           },
           {
            "bin_end": 0.4,
            "bin_start": 0.30000000000000004,
            "count": 2490
           },
           {
            "bin_end": 0.5,
            "bin_start": 0.4,
            "count": 0
           },
           {
            "bin_end": 0.6000000000000001,
            "bin_start": 0.5,
            "count": 0
           },
           {
            "bin_end": 0.7000000000000001,
            "bin_start": 0.6000000000000001,
            "count": 2486
           },
           {
            "bin_end": 0.8,
            "bin_start": 0.7000000000000001,
            "count": 0
           },
           {
            "bin_end": 0.9,
            "bin_start": 0.8,
            "count": 0
           },
           {
            "bin_end": 1,
            "bin_start": 0.9,
            "count": 2553
           }
          ],
          "max": "1.0",
          "min": "0.0",
          "nan_count": 0,
          "unique_count": 4
         }
        },
        {
         "dtype": "float64",
         "name": 5,
         "stats": {
          "histogram": [
           {
            "bin_end": 0.1,
            "bin_start": 0,
            "count": 1976
           },
           {
            "bin_end": 0.2,
            "bin_start": 0.1,
            "count": 0
           },
           {
            "bin_end": 0.30000000000000004,
            "bin_start": 0.2,
            "count": 1989
           },
           {
            "bin_end": 0.4,
            "bin_start": 0.30000000000000004,
            "count": 0
           },
           {
            "bin_end": 0.5,
            "bin_start": 0.4,
            "count": 0
           },
           {
            "bin_end": 0.6000000000000001,
            "bin_start": 0.5,
            "count": 2074
           },
           {
            "bin_end": 0.7000000000000001,
            "bin_start": 0.6000000000000001,
            "count": 0
           },
           {
            "bin_end": 0.8,
            "bin_start": 0.7000000000000001,
            "count": 1940
           },
           {
            "bin_end": 0.9,
            "bin_start": 0.8,
            "count": 0
           },
           {
            "bin_end": 1,
            "bin_start": 0.9,
            "count": 2011
           }
          ],
          "max": "1.0",
          "min": "0.0",
          "nan_count": 0,
          "unique_count": 5
         }
        },
        {
         "dtype": "float64",
         "name": 6,
         "stats": {
          "histogram": [
           {
            "bin_end": 0.1,
            "bin_start": 0,
            "count": 8531
           },
           {
            "bin_end": 0.2,
            "bin_start": 0.1,
            "count": 0
           },
           {
            "bin_end": 0.30000000000000004,
            "bin_start": 0.2,
            "count": 0
           },
           {
            "bin_end": 0.4,
            "bin_start": 0.30000000000000004,
            "count": 0
           },
           {
            "bin_end": 0.5,
            "bin_start": 0.4,
            "count": 0
           },
           {
            "bin_end": 0.6000000000000001,
            "bin_start": 0.5,
            "count": 0
           },
           {
            "bin_end": 0.7000000000000001,
            "bin_start": 0.6000000000000001,
            "count": 0
           },
           {
            "bin_end": 0.8,
            "bin_start": 0.7000000000000001,
            "count": 0
           },
           {
            "bin_end": 0.9,
            "bin_start": 0.8,
            "count": 0
           },
           {
            "bin_end": 1,
            "bin_start": 0.9,
            "count": 1459
           }
          ],
          "max": "1.0",
          "min": "0.0",
          "nan_count": 0,
          "unique_count": 2
         }
        },
        {
         "dtype": "float64",
         "name": 7,
         "stats": {
          "histogram": [
           {
            "bin_end": 0.1,
            "bin_start": 0,
            "count": 8585
           },
           {
            "bin_end": 0.2,
            "bin_start": 0.1,
            "count": 0
           },
           {
            "bin_end": 0.30000000000000004,
            "bin_start": 0.2,
            "count": 0
           },
           {
            "bin_end": 0.4,
            "bin_start": 0.30000000000000004,
            "count": 0
           },
           {
            "bin_end": 0.5,
            "bin_start": 0.4,
            "count": 0
           },
           {
            "bin_end": 0.6000000000000001,
            "bin_start": 0.5,
            "count": 0
           },
           {
            "bin_end": 0.7000000000000001,
            "bin_start": 0.6000000000000001,
            "count": 0
           },
           {
            "bin_end": 0.8,
            "bin_start": 0.7000000000000001,
            "count": 0
           },
           {
            "bin_end": 0.9,
            "bin_start": 0.8,
            "count": 0
           },
           {
            "bin_end": 1,
            "bin_start": 0.9,
            "count": 1405
           }
          ],
          "max": "1.0",
          "min": "0.0",
          "nan_count": 0,
          "unique_count": 2
         }
        },
        {
         "dtype": "float64",
         "name": 8,
         "stats": {
          "histogram": [
           {
            "bin_end": 0.1,
            "bin_start": 0,
            "count": 8567
           },
           {
            "bin_end": 0.2,
            "bin_start": 0.1,
            "count": 0
           },
           {
            "bin_end": 0.30000000000000004,
            "bin_start": 0.2,
            "count": 0
           },
           {
            "bin_end": 0.4,
            "bin_start": 0.30000000000000004,
            "count": 0
           },
           {
            "bin_end": 0.5,
            "bin_start": 0.4,
            "count": 0
           },
           {
            "bin_end": 0.6000000000000001,
            "bin_start": 0.5,
            "count": 0
           },
           {
            "bin_end": 0.7000000000000001,
            "bin_start": 0.6000000000000001,
            "count": 0
           },
           {
            "bin_end": 0.8,
            "bin_start": 0.7000000000000001,
            "count": 0
           },
           {
            "bin_end": 0.9,
            "bin_start": 0.8,
            "count": 0
           },
           {
            "bin_end": 1,
            "bin_start": 0.9,
            "count": 1423
           }
          ],
          "max": "1.0",
          "min": "0.0",
          "nan_count": 0,
          "unique_count": 2
         }
        },
        {
         "dtype": "float64",
         "name": 9,
         "stats": {
          "histogram": [
           {
            "bin_end": 0.1,
            "bin_start": 0,
            "count": 8547
           },
           {
            "bin_end": 0.2,
            "bin_start": 0.1,
            "count": 0
           },
           {
            "bin_end": 0.30000000000000004,
            "bin_start": 0.2,
            "count": 0
           },
           {
            "bin_end": 0.4,
            "bin_start": 0.30000000000000004,
            "count": 0
           },
           {
            "bin_end": 0.5,
            "bin_start": 0.4,
            "count": 0
           },
           {
            "bin_end": 0.6000000000000001,
            "bin_start": 0.5,
            "count": 0
           },
           {
            "bin_end": 0.7000000000000001,
            "bin_start": 0.6000000000000001,
            "count": 0
           },
           {
            "bin_end": 0.8,
            "bin_start": 0.7000000000000001,
            "count": 0
           },
           {
            "bin_end": 0.9,
            "bin_start": 0.8,
            "count": 0
           },
           {
            "bin_end": 1,
            "bin_start": 0.9,
            "count": 1443
           }
          ],
          "max": "1.0",
          "min": "0.0",
          "nan_count": 0,
          "unique_count": 2
         }
        },
        {
         "dtype": "float64",
         "name": 10
        },
        {
         "dtype": "float64",
         "name": 11
        },
        {
         "dtype": "int64",
         "name": "_deepnote_index_column"
        }
       ],
       "row_count": 9990,
       "rows": [
        {
         "0": "0.36250000000000004",
         "1": "0.4806401809498395",
         "10": "0.0",
         "11": "0.0",
         "2": "0.3134925553497722",
         "3": "0.3878989794359253",
         "4": "0.3333333333333333",
         "5": "0.5",
         "6": "0.0",
         "7": "1.0",
         "8": "0.0",
         "9": "0.0",
         "_deepnote_index_column": "0"
        },
        {
         "0": "0.024999999999999994",
         "1": "-1.5396608923696136",
         "10": "0.0",
         "11": "0.0",
         "2": "-1.8021011196856573",
         "3": "-1.7103148227329643",
         "4": "0.6666666666666666",
         "5": "1.0",
         "6": "0.0",
         "7": "1.0",
         "8": "0.0",
         "9": "0.0",
         "_deepnote_index_column": "1"
        },
        {
         "0": "0.675",
         "1": "0.5378605950784486",
         "10": "0.0",
         "11": "0.0",
         "2": "-0.4852374922242401",
         "3": "-0.5690802403533374",
         "4": "0.3333333333333333",
         "5": "0.5",
         "6": "0.0",
         "7": "0.0",
         "8": "0.0",
         "9": "0.0",
         "_deepnote_index_column": "2"
        },
        {
         "0": "0.06250000000000003",
         "1": "1.5084818248264003",
         "10": "0.0",
         "11": "0.0",
         "2": "1.0221977096377017",
         "3": "0.9516307995050454",
         "4": "1.0",
         "5": "0.75",
         "6": "0.0",
         "7": "0.0",
         "8": "0.0",
         "9": "0.0",
         "_deepnote_index_column": "3"
        },
        {
         "0": "0.9375000000000001",
         "1": "-1.3456164003576039",
         "10": "0.0",
         "11": "0.0",
         "2": "0.8387032015933891",
         "3": "0.78612166259837",
         "4": "1.0",
         "5": "0.75",
         "6": "0.0",
         "7": "0.0",
         "8": "0.0",
         "9": "1.0",
         "_deepnote_index_column": "4"
        },
        {
         "0": "0.5875",
         "1": "1.1154941987080562",
         "10": "0.0",
         "11": "0.0",
         "2": "0.29897824244950505",
         "3": "0.27542169439455605",
         "4": "0.0",
         "5": "0.25",
         "6": "0.0",
         "7": "0.0",
         "8": "0.0",
         "9": "0.0",
         "_deepnote_index_column": "5"
        },
        {
         "0": "0.5375000000000001",
         "1": "-0.7246137594676082",
         "10": "1.0",
         "11": "0.0",
         "2": "1.233108444268151",
         "3": "1.3583418875961881",
         "4": "1.0",
         "5": "0.0",
         "6": "0.0",
         "7": "0.0",
         "8": "0.0",
         "9": "0.0",
         "_deepnote_index_column": "6"
        },
        {
         "0": "0.3375",
         "1": "0.2312045255343325",
         "10": "0.0",
         "11": "0.0",
         "2": "0.4542325572191544",
         "3": "0.41783867653236073",
         "4": "0.6666666666666666",
         "5": "0.5",
         "6": "0.0",
         "7": "0.0",
         "8": "0.0",
         "9": "0.0",
         "_deepnote_index_column": "7"
        },
        {
         "0": "0.5875",
         "1": "1.0553016053725464",
         "10": "0.0",
         "11": "0.0",
         "2": "-0.47727716667704084",
         "3": "-0.6078908246512518",
         "4": "0.6666666666666666",
         "5": "0.0",
         "6": "0.0",
         "7": "1.0",
         "8": "0.0",
         "9": "0.0",
         "_deepnote_index_column": "8"
        },
        {
         "0": "1.0",
         "1": "-0.1897133289859556",
         "10": "0.0",
         "11": "0.0",
         "2": "-1.1024630363846764",
         "3": "-1.0844889497047152",
         "4": "1.0",
         "5": "0.25",
         "6": "0.0",
         "7": "0.0",
         "8": "1.0",
         "9": "0.0",
         "_deepnote_index_column": "9"
        }
       ]
      },
      "text/html": [
       "<div>\n",
       "<style scoped>\n",
       "    .dataframe tbody tr th:only-of-type {\n",
       "        vertical-align: middle;\n",
       "    }\n",
       "\n",
       "    .dataframe tbody tr th {\n",
       "        vertical-align: top;\n",
       "    }\n",
       "\n",
       "    .dataframe thead th {\n",
       "        text-align: right;\n",
       "    }\n",
       "</style>\n",
       "<table border=\"1\" class=\"dataframe\">\n",
       "  <thead>\n",
       "    <tr style=\"text-align: right;\">\n",
       "      <th></th>\n",
       "      <th>0</th>\n",
       "      <th>1</th>\n",
       "      <th>2</th>\n",
       "      <th>3</th>\n",
       "      <th>4</th>\n",
       "      <th>5</th>\n",
       "      <th>6</th>\n",
       "      <th>7</th>\n",
       "      <th>8</th>\n",
       "      <th>9</th>\n",
       "      <th>10</th>\n",
       "      <th>11</th>\n",
       "    </tr>\n",
       "  </thead>\n",
       "  <tbody>\n",
       "    <tr>\n",
       "      <th>0</th>\n",
       "      <td>0.3625</td>\n",
       "      <td>0.480640</td>\n",
       "      <td>0.313493</td>\n",
       "      <td>0.387899</td>\n",
       "      <td>0.333333</td>\n",
       "      <td>0.50</td>\n",
       "      <td>0.0</td>\n",
       "      <td>1.0</td>\n",
       "      <td>0.0</td>\n",
       "      <td>0.0</td>\n",
       "      <td>0.0</td>\n",
       "      <td>0.0</td>\n",
       "    </tr>\n",
       "    <tr>\n",
       "      <th>1</th>\n",
       "      <td>0.0250</td>\n",
       "      <td>-1.539661</td>\n",
       "      <td>-1.802101</td>\n",
       "      <td>-1.710315</td>\n",
       "      <td>0.666667</td>\n",
       "      <td>1.00</td>\n",
       "      <td>0.0</td>\n",
       "      <td>1.0</td>\n",
       "      <td>0.0</td>\n",
       "      <td>0.0</td>\n",
       "      <td>0.0</td>\n",
       "      <td>0.0</td>\n",
       "    </tr>\n",
       "    <tr>\n",
       "      <th>2</th>\n",
       "      <td>0.6750</td>\n",
       "      <td>0.537861</td>\n",
       "      <td>-0.485237</td>\n",
       "      <td>-0.569080</td>\n",
       "      <td>0.333333</td>\n",
       "      <td>0.50</td>\n",
       "      <td>0.0</td>\n",
       "      <td>0.0</td>\n",
       "      <td>0.0</td>\n",
       "      <td>0.0</td>\n",
       "      <td>0.0</td>\n",
       "      <td>0.0</td>\n",
       "    </tr>\n",
       "    <tr>\n",
       "      <th>3</th>\n",
       "      <td>0.0625</td>\n",
       "      <td>1.508482</td>\n",
       "      <td>1.022198</td>\n",
       "      <td>0.951631</td>\n",
       "      <td>1.000000</td>\n",
       "      <td>0.75</td>\n",
       "      <td>0.0</td>\n",
       "      <td>0.0</td>\n",
       "      <td>0.0</td>\n",
       "      <td>0.0</td>\n",
       "      <td>0.0</td>\n",
       "      <td>0.0</td>\n",
       "    </tr>\n",
       "    <tr>\n",
       "      <th>4</th>\n",
       "      <td>0.9375</td>\n",
       "      <td>-1.345616</td>\n",
       "      <td>0.838703</td>\n",
       "      <td>0.786122</td>\n",
       "      <td>1.000000</td>\n",
       "      <td>0.75</td>\n",
       "      <td>0.0</td>\n",
       "      <td>0.0</td>\n",
       "      <td>0.0</td>\n",
       "      <td>1.0</td>\n",
       "      <td>0.0</td>\n",
       "      <td>0.0</td>\n",
       "    </tr>\n",
       "    <tr>\n",
       "      <th>...</th>\n",
       "      <td>...</td>\n",
       "      <td>...</td>\n",
       "      <td>...</td>\n",
       "      <td>...</td>\n",
       "      <td>...</td>\n",
       "      <td>...</td>\n",
       "      <td>...</td>\n",
       "      <td>...</td>\n",
       "      <td>...</td>\n",
       "      <td>...</td>\n",
       "      <td>...</td>\n",
       "      <td>...</td>\n",
       "    </tr>\n",
       "    <tr>\n",
       "      <th>9985</th>\n",
       "      <td>0.7750</td>\n",
       "      <td>-0.009790</td>\n",
       "      <td>-0.294217</td>\n",
       "      <td>-0.257818</td>\n",
       "      <td>0.666667</td>\n",
       "      <td>1.00</td>\n",
       "      <td>0.0</td>\n",
       "      <td>1.0</td>\n",
       "      <td>0.0</td>\n",
       "      <td>0.0</td>\n",
       "      <td>0.0</td>\n",
       "      <td>0.0</td>\n",
       "    </tr>\n",
       "    <tr>\n",
       "      <th>9986</th>\n",
       "      <td>0.2125</td>\n",
       "      <td>-0.305133</td>\n",
       "      <td>1.089652</td>\n",
       "      <td>1.310592</td>\n",
       "      <td>0.333333</td>\n",
       "      <td>0.50</td>\n",
       "      <td>0.0</td>\n",
       "      <td>0.0</td>\n",
       "      <td>0.0</td>\n",
       "      <td>1.0</td>\n",
       "      <td>0.0</td>\n",
       "      <td>0.0</td>\n",
       "    </tr>\n",
       "    <tr>\n",
       "      <th>9987</th>\n",
       "      <td>0.1625</td>\n",
       "      <td>-1.115012</td>\n",
       "      <td>-0.975291</td>\n",
       "      <td>-0.843907</td>\n",
       "      <td>1.000000</td>\n",
       "      <td>0.50</td>\n",
       "      <td>0.0</td>\n",
       "      <td>0.0</td>\n",
       "      <td>1.0</td>\n",
       "      <td>0.0</td>\n",
       "      <td>0.0</td>\n",
       "      <td>0.0</td>\n",
       "    </tr>\n",
       "    <tr>\n",
       "      <th>9988</th>\n",
       "      <td>0.1875</td>\n",
       "      <td>0.172116</td>\n",
       "      <td>-0.982471</td>\n",
       "      <td>-0.953716</td>\n",
       "      <td>0.666667</td>\n",
       "      <td>0.25</td>\n",
       "      <td>0.0</td>\n",
       "      <td>0.0</td>\n",
       "      <td>0.0</td>\n",
       "      <td>0.0</td>\n",
       "      <td>0.0</td>\n",
       "      <td>0.0</td>\n",
       "    </tr>\n",
       "    <tr>\n",
       "      <th>9989</th>\n",
       "      <td>0.7250</td>\n",
       "      <td>-0.070806</td>\n",
       "      <td>0.401722</td>\n",
       "      <td>0.518318</td>\n",
       "      <td>1.000000</td>\n",
       "      <td>1.00</td>\n",
       "      <td>0.0</td>\n",
       "      <td>0.0</td>\n",
       "      <td>0.0</td>\n",
       "      <td>0.0</td>\n",
       "      <td>1.0</td>\n",
       "      <td>0.0</td>\n",
       "    </tr>\n",
       "  </tbody>\n",
       "</table>\n",
       "<p>9990 rows × 12 columns</p>\n",
       "</div>"
      ],
      "text/plain": [
       "          0         1         2         3         4     5    6    7    8   \\\n",
       "0     0.3625  0.480640  0.313493  0.387899  0.333333  0.50  0.0  1.0  0.0   \n",
       "1     0.0250 -1.539661 -1.802101 -1.710315  0.666667  1.00  0.0  1.0  0.0   \n",
       "2     0.6750  0.537861 -0.485237 -0.569080  0.333333  0.50  0.0  0.0  0.0   \n",
       "3     0.0625  1.508482  1.022198  0.951631  1.000000  0.75  0.0  0.0  0.0   \n",
       "4     0.9375 -1.345616  0.838703  0.786122  1.000000  0.75  0.0  0.0  0.0   \n",
       "...      ...       ...       ...       ...       ...   ...  ...  ...  ...   \n",
       "9985  0.7750 -0.009790 -0.294217 -0.257818  0.666667  1.00  0.0  1.0  0.0   \n",
       "9986  0.2125 -0.305133  1.089652  1.310592  0.333333  0.50  0.0  0.0  0.0   \n",
       "9987  0.1625 -1.115012 -0.975291 -0.843907  1.000000  0.50  0.0  0.0  1.0   \n",
       "9988  0.1875  0.172116 -0.982471 -0.953716  0.666667  0.25  0.0  0.0  0.0   \n",
       "9989  0.7250 -0.070806  0.401722  0.518318  1.000000  1.00  0.0  0.0  0.0   \n",
       "\n",
       "       9    10   11  \n",
       "0     0.0  0.0  0.0  \n",
       "1     0.0  0.0  0.0  \n",
       "2     0.0  0.0  0.0  \n",
       "3     0.0  0.0  0.0  \n",
       "4     1.0  0.0  0.0  \n",
       "...   ...  ...  ...  \n",
       "9985  0.0  0.0  0.0  \n",
       "9986  1.0  0.0  0.0  \n",
       "9987  0.0  0.0  0.0  \n",
       "9988  0.0  0.0  0.0  \n",
       "9989  0.0  1.0  0.0  \n",
       "\n",
       "[9990 rows x 12 columns]"
      ]
     },
     "execution_count": 12,
     "metadata": {},
     "output_type": "execute_result"
    }
   ],
   "source": [
    "playground_tf_verbose = ColumnTransformer(\n",
    "    transformers=[\n",
    "        ('age', MinMaxScaler(), ['age']),\n",
    "        ('imp_std', imp_scaler, ['length_screw','hammer_strength']),\n",
    "        ('diam_std', StandardScaler(), ['diameter']),\n",
    "        ('rank', imp_ordinal2, ['rank']),\n",
    "        ('imp_ord', imp_ordinal, ['size']),\n",
    "        ('country_hot', OneHotEncoder(drop='first',categories='auto'),['country'])\n",
    "    ],\n",
    "    verbose_feature_names_out = True\n",
    ")\n",
    "playground_tf_verbose.fit(playground)\n",
    "pd.DataFrame(playground_tf_verbose.transform(playground), columns=playground_tf_verbose.get_feature_names_out())"
   ]
  },
  {
   "cell_type": "code",
   "execution_count": null,
   "metadata": {
    "cell_id": "fefdbd07f25e4dc7aa759c826fce1e44",
    "deepnote_cell_type": "code",
    "deepnote_to_be_reexecuted": false,
    "execution_millis": 3,
    "execution_start": 1677689883777,
    "source_hash": "c75a25fb",
    "tags": []
   },
   "outputs": [
    {
     "data": {
      "text/plain": [
       "(9990, 12)"
      ]
     },
     "execution_count": 9,
     "metadata": {},
     "output_type": "execute_result"
    }
   ],
   "source": [
    "new_playground.shape"
   ]
  },
  {
   "cell_type": "markdown",
   "metadata": {
    "cell_id": "f306716cdf4f448c850205431a819438",
    "deepnote_cell_type": "markdown",
    "tags": []
   },
   "source": [
    "### Creating customer transfomers\n",
    "While SKLearn has many Transformers, it's often helpful to create our own. Here we will create a custom Transformer from scratch. In fact, in SKLearn, an object is a Transformer if it implements the methods:\n",
    "1. fit(X, y)\n",
    "2. transform(X) which should return a Pandas Data Frame or a Numpy array\n",
    "\n",
    "So, we have to define a class that inherits from the <code>BaseEstimator</code> and <code>TransformerMixin</code> classes found in the <code>sklearn.base</code> module, and overides the methods _fit_ and _transform_."
   ]
  },
  {
   "cell_type": "markdown",
   "metadata": {
    "cell_id": "799d687ba41944268297c3ce0d4461b6",
    "deepnote_cell_type": "markdown",
    "tags": []
   },
   "source": [
    "There is a second method to build custom transformers. The <code>FunctionTransformer</code> class builds a Transformer wrapper taking a function object, which implements the transformation.\n",
    "\n",
    "First, we define the transformation, i.e. we define a function. Then, we pass the function to a <code>FunctionTransformer</code>."
   ]
  },
  {
   "cell_type": "markdown",
   "metadata": {
    "cell_id": "97229b6f101e4b929b94d119c4aa3ce6",
    "deepnote_cell_type": "markdown",
    "tags": []
   },
   "source": [
    "## Time to fly on your own\n",
    "\n",
    "We introduced all the most important elements to build a semi-automatic preprocessing pipeline. In this part of the notebook **you** have to deal with a new dataset.\n",
    "\n",
    "The dataset is available at the folder /data/heart.csv\n",
    "\n",
    "Its features are:\n",
    "- age : Age of the patient\n",
    "- sex : Sex of the patient\n",
    "- exng: exercise induced angina (1 = yes; 0 = no)\n",
    "- ca: number of major vessels (0-3)\n",
    "- cp : Chest Pain type chest pain type:\n",
    "    - Value 1: typical angina\n",
    "    - Value 2: atypical angina\n",
    "    - Value 3: non-anginal pain\n",
    "    - Value 4: asymptomatic\n",
    "- trtbps : resting blood pressure (in mm Hg)\n",
    "- chol : cholestoral in mg/dl fetched via BMI sensor\n",
    "- fbs : (fasting blood sugar > 120 mg/dl) (1 = true; 0 = false)\n",
    "- rest_ecg : resting electrocardiographic results:\n",
    "    - Value 0: normal\n",
    "    - Value 1: having ST-T wave abnormality (T wave inversions and/or ST elevation depression of > 0.05 mV)\n",
    "    - Value 2: showing probable or definite left ventricular hypertrophy by Estes' criteria\n",
    "- thalach : maximum heart rate achieved\n",
    "- zip: zip code of the patient"
   ]
  },
  {
   "cell_type": "code",
   "execution_count": 1,
   "metadata": {
    "allow_embed": false,
    "cell_id": "badbf5eaecf84d56bef629930e0eb821",
    "deepnote_cell_type": "code",
    "deepnote_to_be_reexecuted": false,
    "execution_millis": 1581,
    "execution_start": 1677691955029,
    "source_hash": "764a5e0a",
    "tags": []
   },
   "outputs": [],
   "source": [
    "import sklearn\n",
    "import numpy as np\n",
    "import pandas as pd\n",
    "import matplotlib as mpl\n",
    "import scipy as sp\n",
    "from sklearn.impute import SimpleImputer\n",
    "from sklearn.preprocessing import StandardScaler, MinMaxScaler, OrdinalEncoder, OneHotEncoder\n",
    "from sklearn.compose import ColumnTransformer\n",
    "from sklearn.pipeline import Pipeline"
   ]
  },
  {
   "cell_type": "code",
   "execution_count": 14,
   "metadata": {
    "cell_id": "4bfa0053b00a41df8f169e43a3433017",
    "deepnote_cell_type": "code",
    "deepnote_to_be_reexecuted": false,
    "execution_millis": 2,
    "execution_start": 1677693209541,
    "source_hash": "5e5665ff",
    "tags": []
   },
   "outputs": [],
   "source": [
    "heart = pd.read_csv('data/heart.csv', sep=',')"
   ]
  },
  {
   "cell_type": "markdown",
   "metadata": {
    "cell_id": "f03686b8931c472d85f9621d8251880f",
    "deepnote_cell_type": "markdown",
    "tags": []
   },
   "source": [
    "Steps to tackle:\n",
    "- Exploratory analysis of the dataset: number or rows, number of columns, column names, column types\n",
    "- Missing data: columns containing missing data? Are there corrupted rows? which columns/rows do I have to remove? Imputation?\n",
    "- Handling categorical data? How many columns are ordinal? How many nominal?\n",
    "- Feature scaling\n",
    "- Pipeline and ColumnTransformer implementation\n",
    "\n",
    "*Hint*: A possible summary of the overall transformation may be given by the following figure:\n",
    "![](figures/ColumnTransformerExercise.jpg)"
   ]
  },
  {
   "cell_type": "code",
   "execution_count": 15,
   "metadata": {
    "cell_id": "0e4cc85c1fa345cfbdefd0dc35d3b95a",
    "deepnote_cell_type": "code",
    "deepnote_to_be_reexecuted": false,
    "execution_millis": 5,
    "execution_start": 1677693235949,
    "source_hash": "ace1c3b3",
    "tags": []
   },
   "outputs": [
    {
     "name": "stdout",
     "output_type": "stream",
     "text": [
      "<class 'pandas.core.frame.DataFrame'>\n",
      "RangeIndex: 303 entries, 0 to 302\n",
      "Data columns (total 14 columns):\n",
      " #   Column    Non-Null Count  Dtype  \n",
      "---  ------    --------------  -----  \n",
      " 0   age       303 non-null    int64  \n",
      " 1   sex       297 non-null    float64\n",
      " 2   cp        302 non-null    float64\n",
      " 3   trtbps    302 non-null    float64\n",
      " 4   chol      298 non-null    float64\n",
      " 5   fbs       293 non-null    float64\n",
      " 6   restecg   302 non-null    float64\n",
      " 7   thalachh  300 non-null    float64\n",
      " 8   exng      302 non-null    float64\n",
      " 9   oldpeak   302 non-null    float64\n",
      " 10  slp       302 non-null    float64\n",
      " 11  caa       302 non-null    float64\n",
      " 12  thall     303 non-null    int64  \n",
      " 13  zip       303 non-null    int64  \n",
      "dtypes: float64(11), int64(3)\n",
      "memory usage: 33.3 KB\n"
     ]
    }
   ],
   "source": [
    "heart.info()"
   ]
  },
  {
   "cell_type": "code",
   "execution_count": 18,
   "metadata": {
    "cell_id": "8fb28492e29a4c649ada51bdc278e6d6",
    "deepnote_cell_type": "code",
    "deepnote_to_be_reexecuted": false,
    "execution_millis": 6,
    "execution_start": 1677693563662,
    "source_hash": "5329cf1",
    "tags": []
   },
   "outputs": [],
   "source": [
    "heart = heart.dropna(axis=0, thresh = heart.isnull().sum(axis=1).max())"
   ]
  },
  {
   "cell_type": "code",
   "execution_count": 19,
   "metadata": {
    "cell_id": "3321442704374c9baf95019f2397f000",
    "deepnote_cell_type": "code",
    "deepnote_to_be_reexecuted": false,
    "execution_millis": 9,
    "execution_start": 1677693943664,
    "source_hash": "6a809ae2",
    "tags": []
   },
   "outputs": [
    {
     "data": {
      "text/html": [
       "<style>#sk-container-id-1 {color: black;background-color: white;}#sk-container-id-1 pre{padding: 0;}#sk-container-id-1 div.sk-toggleable {background-color: white;}#sk-container-id-1 label.sk-toggleable__label {cursor: pointer;display: block;width: 100%;margin-bottom: 0;padding: 0.3em;box-sizing: border-box;text-align: center;}#sk-container-id-1 label.sk-toggleable__label-arrow:before {content: \"▸\";float: left;margin-right: 0.25em;color: #696969;}#sk-container-id-1 label.sk-toggleable__label-arrow:hover:before {color: black;}#sk-container-id-1 div.sk-estimator:hover label.sk-toggleable__label-arrow:before {color: black;}#sk-container-id-1 div.sk-toggleable__content {max-height: 0;max-width: 0;overflow: hidden;text-align: left;background-color: #f0f8ff;}#sk-container-id-1 div.sk-toggleable__content pre {margin: 0.2em;color: black;border-radius: 0.25em;background-color: #f0f8ff;}#sk-container-id-1 input.sk-toggleable__control:checked~div.sk-toggleable__content {max-height: 200px;max-width: 100%;overflow: auto;}#sk-container-id-1 input.sk-toggleable__control:checked~label.sk-toggleable__label-arrow:before {content: \"▾\";}#sk-container-id-1 div.sk-estimator input.sk-toggleable__control:checked~label.sk-toggleable__label {background-color: #d4ebff;}#sk-container-id-1 div.sk-label input.sk-toggleable__control:checked~label.sk-toggleable__label {background-color: #d4ebff;}#sk-container-id-1 input.sk-hidden--visually {border: 0;clip: rect(1px 1px 1px 1px);clip: rect(1px, 1px, 1px, 1px);height: 1px;margin: -1px;overflow: hidden;padding: 0;position: absolute;width: 1px;}#sk-container-id-1 div.sk-estimator {font-family: monospace;background-color: #f0f8ff;border: 1px dotted black;border-radius: 0.25em;box-sizing: border-box;margin-bottom: 0.5em;}#sk-container-id-1 div.sk-estimator:hover {background-color: #d4ebff;}#sk-container-id-1 div.sk-parallel-item::after {content: \"\";width: 100%;border-bottom: 1px solid gray;flex-grow: 1;}#sk-container-id-1 div.sk-label:hover label.sk-toggleable__label {background-color: #d4ebff;}#sk-container-id-1 div.sk-serial::before {content: \"\";position: absolute;border-left: 1px solid gray;box-sizing: border-box;top: 0;bottom: 0;left: 50%;z-index: 0;}#sk-container-id-1 div.sk-serial {display: flex;flex-direction: column;align-items: center;background-color: white;padding-right: 0.2em;padding-left: 0.2em;position: relative;}#sk-container-id-1 div.sk-item {position: relative;z-index: 1;}#sk-container-id-1 div.sk-parallel {display: flex;align-items: stretch;justify-content: center;background-color: white;position: relative;}#sk-container-id-1 div.sk-item::before, #sk-container-id-1 div.sk-parallel-item::before {content: \"\";position: absolute;border-left: 1px solid gray;box-sizing: border-box;top: 0;bottom: 0;left: 50%;z-index: -1;}#sk-container-id-1 div.sk-parallel-item {display: flex;flex-direction: column;z-index: 1;position: relative;background-color: white;}#sk-container-id-1 div.sk-parallel-item:first-child::after {align-self: flex-end;width: 50%;}#sk-container-id-1 div.sk-parallel-item:last-child::after {align-self: flex-start;width: 50%;}#sk-container-id-1 div.sk-parallel-item:only-child::after {width: 0;}#sk-container-id-1 div.sk-dashed-wrapped {border: 1px dashed gray;margin: 0 0.4em 0.5em 0.4em;box-sizing: border-box;padding-bottom: 0.4em;background-color: white;}#sk-container-id-1 div.sk-label label {font-family: monospace;font-weight: bold;display: inline-block;line-height: 1.2em;}#sk-container-id-1 div.sk-label-container {text-align: center;}#sk-container-id-1 div.sk-container {/* jupyter's `normalize.less` sets `[hidden] { display: none; }` but bootstrap.min.css set `[hidden] { display: none !important; }` so we also need the `!important` here to be able to override the default hidden behavior on the sphinx rendered scikit-learn.org. See: https://github.com/scikit-learn/scikit-learn/issues/21755 */display: inline-block !important;position: relative;}#sk-container-id-1 div.sk-text-repr-fallback {display: none;}</style><div id=\"sk-container-id-1\" class=\"sk-top-container\"><div class=\"sk-text-repr-fallback\"><pre>ColumnTransformer(remainder=&#x27;passthrough&#x27;,\n",
       "                  transformers=[(&#x27;1&#x27;, MinMaxScaler(),\n",
       "                                 [&#x27;age&#x27;, &#x27;caa&#x27;, &#x27;slp&#x27;, &#x27;thall&#x27;]),\n",
       "                                (&#x27;2&#x27;,\n",
       "                                 Pipeline(steps=[(&#x27;imp&#x27;, SimpleImputer()),\n",
       "                                                 (&#x27;stand&#x27;, StandardScaler())]),\n",
       "                                 [&#x27;chol&#x27;, &#x27;fbs&#x27;, &#x27;thalachh&#x27;]),\n",
       "                                (&#x27;3&#x27;, SimpleImputer(strategy=&#x27;most_frequent&#x27;),\n",
       "                                 [&#x27;sex&#x27;]),\n",
       "                                (&#x27;4&#x27;,\n",
       "                                 OneHotEncoder(drop=&#x27;first&#x27;,\n",
       "                                               handle_unknown=&#x27;ignore&#x27;),\n",
       "                                 [&#x27;zip&#x27;, &#x27;restecg&#x27;, &#x27;cp&#x27;]),\n",
       "                                (&#x27;5&#x27;, StandardScaler(), [&#x27;trtbps&#x27;, &#x27;oldpeak&#x27;])],\n",
       "                  verbose_feature_names_out=False)</pre><b>In a Jupyter environment, please rerun this cell to show the HTML representation or trust the notebook. <br />On GitHub, the HTML representation is unable to render, please try loading this page with nbviewer.org.</b></div><div class=\"sk-container\" hidden><div class=\"sk-item sk-dashed-wrapped\"><div class=\"sk-label-container\"><div class=\"sk-label sk-toggleable\"><input class=\"sk-toggleable__control sk-hidden--visually\" id=\"sk-estimator-id-1\" type=\"checkbox\" ><label for=\"sk-estimator-id-1\" class=\"sk-toggleable__label sk-toggleable__label-arrow\">ColumnTransformer</label><div class=\"sk-toggleable__content\"><pre>ColumnTransformer(remainder=&#x27;passthrough&#x27;,\n",
       "                  transformers=[(&#x27;1&#x27;, MinMaxScaler(),\n",
       "                                 [&#x27;age&#x27;, &#x27;caa&#x27;, &#x27;slp&#x27;, &#x27;thall&#x27;]),\n",
       "                                (&#x27;2&#x27;,\n",
       "                                 Pipeline(steps=[(&#x27;imp&#x27;, SimpleImputer()),\n",
       "                                                 (&#x27;stand&#x27;, StandardScaler())]),\n",
       "                                 [&#x27;chol&#x27;, &#x27;fbs&#x27;, &#x27;thalachh&#x27;]),\n",
       "                                (&#x27;3&#x27;, SimpleImputer(strategy=&#x27;most_frequent&#x27;),\n",
       "                                 [&#x27;sex&#x27;]),\n",
       "                                (&#x27;4&#x27;,\n",
       "                                 OneHotEncoder(drop=&#x27;first&#x27;,\n",
       "                                               handle_unknown=&#x27;ignore&#x27;),\n",
       "                                 [&#x27;zip&#x27;, &#x27;restecg&#x27;, &#x27;cp&#x27;]),\n",
       "                                (&#x27;5&#x27;, StandardScaler(), [&#x27;trtbps&#x27;, &#x27;oldpeak&#x27;])],\n",
       "                  verbose_feature_names_out=False)</pre></div></div></div><div class=\"sk-parallel\"><div class=\"sk-parallel-item\"><div class=\"sk-item\"><div class=\"sk-label-container\"><div class=\"sk-label sk-toggleable\"><input class=\"sk-toggleable__control sk-hidden--visually\" id=\"sk-estimator-id-2\" type=\"checkbox\" ><label for=\"sk-estimator-id-2\" class=\"sk-toggleable__label sk-toggleable__label-arrow\">1</label><div class=\"sk-toggleable__content\"><pre>[&#x27;age&#x27;, &#x27;caa&#x27;, &#x27;slp&#x27;, &#x27;thall&#x27;]</pre></div></div></div><div class=\"sk-serial\"><div class=\"sk-item\"><div class=\"sk-estimator sk-toggleable\"><input class=\"sk-toggleable__control sk-hidden--visually\" id=\"sk-estimator-id-3\" type=\"checkbox\" ><label for=\"sk-estimator-id-3\" class=\"sk-toggleable__label sk-toggleable__label-arrow\">MinMaxScaler</label><div class=\"sk-toggleable__content\"><pre>MinMaxScaler()</pre></div></div></div></div></div></div><div class=\"sk-parallel-item\"><div class=\"sk-item\"><div class=\"sk-label-container\"><div class=\"sk-label sk-toggleable\"><input class=\"sk-toggleable__control sk-hidden--visually\" id=\"sk-estimator-id-4\" type=\"checkbox\" ><label for=\"sk-estimator-id-4\" class=\"sk-toggleable__label sk-toggleable__label-arrow\">2</label><div class=\"sk-toggleable__content\"><pre>[&#x27;chol&#x27;, &#x27;fbs&#x27;, &#x27;thalachh&#x27;]</pre></div></div></div><div class=\"sk-serial\"><div class=\"sk-item\"><div class=\"sk-serial\"><div class=\"sk-item\"><div class=\"sk-estimator sk-toggleable\"><input class=\"sk-toggleable__control sk-hidden--visually\" id=\"sk-estimator-id-5\" type=\"checkbox\" ><label for=\"sk-estimator-id-5\" class=\"sk-toggleable__label sk-toggleable__label-arrow\">SimpleImputer</label><div class=\"sk-toggleable__content\"><pre>SimpleImputer()</pre></div></div></div><div class=\"sk-item\"><div class=\"sk-estimator sk-toggleable\"><input class=\"sk-toggleable__control sk-hidden--visually\" id=\"sk-estimator-id-6\" type=\"checkbox\" ><label for=\"sk-estimator-id-6\" class=\"sk-toggleable__label sk-toggleable__label-arrow\">StandardScaler</label><div class=\"sk-toggleable__content\"><pre>StandardScaler()</pre></div></div></div></div></div></div></div></div><div class=\"sk-parallel-item\"><div class=\"sk-item\"><div class=\"sk-label-container\"><div class=\"sk-label sk-toggleable\"><input class=\"sk-toggleable__control sk-hidden--visually\" id=\"sk-estimator-id-7\" type=\"checkbox\" ><label for=\"sk-estimator-id-7\" class=\"sk-toggleable__label sk-toggleable__label-arrow\">3</label><div class=\"sk-toggleable__content\"><pre>[&#x27;sex&#x27;]</pre></div></div></div><div class=\"sk-serial\"><div class=\"sk-item\"><div class=\"sk-estimator sk-toggleable\"><input class=\"sk-toggleable__control sk-hidden--visually\" id=\"sk-estimator-id-8\" type=\"checkbox\" ><label for=\"sk-estimator-id-8\" class=\"sk-toggleable__label sk-toggleable__label-arrow\">SimpleImputer</label><div class=\"sk-toggleable__content\"><pre>SimpleImputer(strategy=&#x27;most_frequent&#x27;)</pre></div></div></div></div></div></div><div class=\"sk-parallel-item\"><div class=\"sk-item\"><div class=\"sk-label-container\"><div class=\"sk-label sk-toggleable\"><input class=\"sk-toggleable__control sk-hidden--visually\" id=\"sk-estimator-id-9\" type=\"checkbox\" ><label for=\"sk-estimator-id-9\" class=\"sk-toggleable__label sk-toggleable__label-arrow\">4</label><div class=\"sk-toggleable__content\"><pre>[&#x27;zip&#x27;, &#x27;restecg&#x27;, &#x27;cp&#x27;]</pre></div></div></div><div class=\"sk-serial\"><div class=\"sk-item\"><div class=\"sk-estimator sk-toggleable\"><input class=\"sk-toggleable__control sk-hidden--visually\" id=\"sk-estimator-id-10\" type=\"checkbox\" ><label for=\"sk-estimator-id-10\" class=\"sk-toggleable__label sk-toggleable__label-arrow\">OneHotEncoder</label><div class=\"sk-toggleable__content\"><pre>OneHotEncoder(drop=&#x27;first&#x27;, handle_unknown=&#x27;ignore&#x27;)</pre></div></div></div></div></div></div><div class=\"sk-parallel-item\"><div class=\"sk-item\"><div class=\"sk-label-container\"><div class=\"sk-label sk-toggleable\"><input class=\"sk-toggleable__control sk-hidden--visually\" id=\"sk-estimator-id-11\" type=\"checkbox\" ><label for=\"sk-estimator-id-11\" class=\"sk-toggleable__label sk-toggleable__label-arrow\">5</label><div class=\"sk-toggleable__content\"><pre>[&#x27;trtbps&#x27;, &#x27;oldpeak&#x27;]</pre></div></div></div><div class=\"sk-serial\"><div class=\"sk-item\"><div class=\"sk-estimator sk-toggleable\"><input class=\"sk-toggleable__control sk-hidden--visually\" id=\"sk-estimator-id-12\" type=\"checkbox\" ><label for=\"sk-estimator-id-12\" class=\"sk-toggleable__label sk-toggleable__label-arrow\">StandardScaler</label><div class=\"sk-toggleable__content\"><pre>StandardScaler()</pre></div></div></div></div></div></div><div class=\"sk-parallel-item\"><div class=\"sk-item\"><div class=\"sk-label-container\"><div class=\"sk-label sk-toggleable\"><input class=\"sk-toggleable__control sk-hidden--visually\" id=\"sk-estimator-id-13\" type=\"checkbox\" ><label for=\"sk-estimator-id-13\" class=\"sk-toggleable__label sk-toggleable__label-arrow\">remainder</label><div class=\"sk-toggleable__content\"><pre>[&#x27;exng&#x27;]</pre></div></div></div><div class=\"sk-serial\"><div class=\"sk-item\"><div class=\"sk-estimator sk-toggleable\"><input class=\"sk-toggleable__control sk-hidden--visually\" id=\"sk-estimator-id-14\" type=\"checkbox\" ><label for=\"sk-estimator-id-14\" class=\"sk-toggleable__label sk-toggleable__label-arrow\">passthrough</label><div class=\"sk-toggleable__content\"><pre>passthrough</pre></div></div></div></div></div></div></div></div></div></div>"
      ],
      "text/plain": [
       "ColumnTransformer(remainder='passthrough',\n",
       "                  transformers=[('1', MinMaxScaler(),\n",
       "                                 ['age', 'caa', 'slp', 'thall']),\n",
       "                                ('2',\n",
       "                                 Pipeline(steps=[('imp', SimpleImputer()),\n",
       "                                                 ('stand', StandardScaler())]),\n",
       "                                 ['chol', 'fbs', 'thalachh']),\n",
       "                                ('3', SimpleImputer(strategy='most_frequent'),\n",
       "                                 ['sex']),\n",
       "                                ('4',\n",
       "                                 OneHotEncoder(drop='first',\n",
       "                                               handle_unknown='ignore'),\n",
       "                                 ['zip', 'restecg', 'cp']),\n",
       "                                ('5', StandardScaler(), ['trtbps', 'oldpeak'])],\n",
       "                  verbose_feature_names_out=False)"
      ]
     },
     "execution_count": 19,
     "metadata": {},
     "output_type": "execute_result"
    }
   ],
   "source": [
    "pip = Pipeline(\n",
    "    [\n",
    "        ('imp', SimpleImputer(strategy='mean')),\n",
    "        ('stand',StandardScaler())\n",
    "    ]\n",
    ")\n",
    "\n",
    "heart_ct = ColumnTransformer(\n",
    "    transformers= [\n",
    "        ('1',MinMaxScaler(),['age','caa','slp','thall']),\n",
    "        ('2',pip, ['chol','fbs','thalachh']),\n",
    "        ('3',SimpleImputer(strategy='most_frequent'),['sex']),\n",
    "        ('4',OneHotEncoder(drop='first',categories='auto',handle_unknown='ignore'),['zip','restecg','cp']),\n",
    "        ('5',StandardScaler(),['trtbps','oldpeak'])\n",
    "    ],\n",
    "    verbose_feature_names_out=False,\n",
    "    remainder='passthrough'\n",
    ")\n",
    "\n",
    "heart_ct.fit(heart)"
   ]
  },
  {
   "cell_type": "code",
   "execution_count": 20,
   "metadata": {
    "cell_id": "aef7bce282514f5b8c4fe91e48812a34",
    "deepnote_cell_type": "code",
    "deepnote_to_be_reexecuted": false,
    "execution_millis": 3,
    "execution_start": 1677694039293,
    "source_hash": "170710e2",
    "tags": []
   },
   "outputs": [],
   "source": [
    "new_heart = pd.DataFrame(heart_ct.transform(heart), columns=heart_ct.get_feature_names_out())"
   ]
  },
  {
   "cell_type": "code",
   "execution_count": 22,
   "metadata": {
    "cell_id": "b57a87c1f281421aa348bfd6c77a14e2",
    "deepnote_cell_type": "code",
    "deepnote_to_be_reexecuted": false,
    "execution_millis": 4,
    "execution_start": 1677694237218,
    "source_hash": "a8149c2d",
    "tags": []
   },
   "outputs": [
    {
     "name": "stdout",
     "output_type": "stream",
     "text": [
      "<class 'pandas.core.frame.DataFrame'>\n",
      "RangeIndex: 302 entries, 0 to 301\n",
      "Data columns (total 20 columns):\n",
      " #   Column       Non-Null Count  Dtype  \n",
      "---  ------       --------------  -----  \n",
      " 0   age          302 non-null    float64\n",
      " 1   caa          302 non-null    float64\n",
      " 2   slp          302 non-null    float64\n",
      " 3   thall        302 non-null    float64\n",
      " 4   chol         302 non-null    float64\n",
      " 5   fbs          302 non-null    float64\n",
      " 6   thalachh     302 non-null    float64\n",
      " 7   sex          302 non-null    float64\n",
      " 8   zip_25100    302 non-null    float64\n",
      " 9   zip_26026    302 non-null    float64\n",
      " 10  zip_26030    302 non-null    float64\n",
      " 11  zip_26100    302 non-null    float64\n",
      " 12  restecg_1.0  302 non-null    float64\n",
      " 13  restecg_2.0  302 non-null    float64\n",
      " 14  cp_1.0       302 non-null    float64\n",
      " 15  cp_2.0       302 non-null    float64\n",
      " 16  cp_3.0       302 non-null    float64\n",
      " 17  trtbps       302 non-null    float64\n",
      " 18  oldpeak      302 non-null    float64\n",
      " 19  exng         302 non-null    float64\n",
      "dtypes: float64(20)\n",
      "memory usage: 47.3 KB\n"
     ]
    }
   ],
   "source": [
    "new_heart.info()"
   ]
  },
  {
   "cell_type": "code",
   "execution_count": null,
   "metadata": {
    "cell_id": "9e4fd9b48cea4db9855c7c76507183e6",
    "deepnote_cell_type": "code",
    "tags": []
   },
   "outputs": [],
   "source": []
  },
  {
   "cell_type": "markdown",
   "metadata": {
    "created_in_deepnote_cell": true,
    "deepnote_cell_type": "markdown"
   },
   "source": [
    "<a style='text-decoration:none;line-height:16px;display:flex;color:#5B5B62;padding:10px;justify-content:end;' href='https://deepnote.com?utm_source=created-in-deepnote-cell&projectId=6ee4087b-eb51-48aa-a70e-4a2bd2d4632f' target=\"_blank\">\n",
    "<img alt='Created in deepnote.com' style='display:inline;max-height:16px;margin:0px;margin-right:7.5px;' src='data:image/svg+xml;base64,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' > </img>\n",
    "Created in <span style='font-weight:600;margin-left:4px;'>Deepnote</span></a>"
   ]
  }
 ],
 "metadata": {
  "deepnote_execution_queue": [],
  "deepnote_full_width": true,
  "deepnote_notebook_id": "afb6fbd5f7974f19bb3e8148bcc8d211",
  "deepnote_persisted_session": {
   "createdAt": "2023-03-01T18:16:32.898Z"
  },
  "kernelspec": {
   "display_name": "Python 3 (ipykernel)",
   "language": "python",
   "name": "python3"
  },
  "language_info": {
   "codemirror_mode": {
    "name": "ipython",
    "version": 3
   },
   "file_extension": ".py",
   "mimetype": "text/x-python",
   "name": "python",
   "nbconvert_exporter": "python",
   "pygments_lexer": "ipython3",
   "version": "3.11.5"
  }
 },
 "nbformat": 4,
 "nbformat_minor": 4
}
