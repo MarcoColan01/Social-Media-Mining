{
 "cells": [
  {
   "cell_type": "code",
   "execution_count": 2,
   "id": "9afd6944-e41f-4971-adbe-2d7b80602f88",
   "metadata": {},
   "outputs": [],
   "source": [
    "#pip install spotipy\n",
    "import spotipy\n",
    "from spotipy.oauth2 import SpotifyClientCredentials"
   ]
  },
  {
   "cell_type": "code",
   "execution_count": 14,
   "id": "f4a0f334-1813-459f-8a13-b384df5334aa",
   "metadata": {},
   "outputs": [
    {
     "name": "stdout",
     "output_type": "stream",
     "text": [
      "AUSTIN (Bonus)\n",
      "AUSTIN\n",
      "The Diamond Collection (Deluxe)\n",
      "Twelve Carat Toothache (Deluxe)\n",
      "Twelve Carat Toothache\n",
      "Hollywood's Bleeding\n",
      "beerbongs & bentleys\n",
      "Stoney (Deluxe)\n",
      "Stoney (Complete Edition)\n",
      "Stoney\n"
     ]
    }
   ],
   "source": [
    "#OTTENERE IL TITOLO DEGLI ALBUM DI UN CERTO ARTISTA\n",
    "posty_uri = 'spotify:artist:246dkjvS1zLTtiykXe5h60' #POST MALONE\n",
    "tedua_uri = 'spotify:artist:1AgAVqo74e2q4FVvg0xpT7' #TEDUA\n",
    "spotify = spotipy.Spotify(client_credentials_manager=SpotifyClientCredentials('85aa8b30835e45a3b99623b2797df916', 'ecb8aa6ad9d7431db74fb99af51dec93'))\n",
    "results = spotify.artist_albums(posty_uri, album_type = 'album')\n",
    "albums = results['items']\n",
    "while results['next']:\n",
    "    results = spotify.next(results)\n",
    "    albums.extend(results['items'])\n",
    "\n",
    "for album in albums:\n",
    "    print(album['name'])"
   ]
  },
  {
   "cell_type": "code",
   "execution_count": 17,
   "id": "6f78cf79-3f62-41c7-bf72-aad92bd2155c",
   "metadata": {},
   "outputs": [
    {
     "name": "stdout",
     "output_type": "stream",
     "text": [
      "track    : Sunflower - Spider-Man: Into the Spider-Verse\n",
      "cover art: https://i.scdn.co/image/ab67616d0000b2739478c87599550dd73bfa7e02\n",
      "\n",
      "track    : Circles\n",
      "cover art: https://i.scdn.co/image/ab67616d0000b2739478c87599550dd73bfa7e02\n",
      "\n",
      "track    : Dial Drunk (with Post Malone)\n",
      "cover art: https://i.scdn.co/image/ab67616d0000b273f519f148d88bf65074b4a3a9\n",
      "\n",
      "track    : Chemical\n",
      "cover art: https://i.scdn.co/image/ab67616d0000b273f76f8deeba5370c98ad38f1c\n",
      "\n",
      "track    : rockstar (feat. 21 Savage)\n",
      "cover art: https://i.scdn.co/image/ab67616d0000b273b1c4b76e23414c9f20242268\n",
      "\n",
      "track    : Congratulations\n",
      "cover art: https://i.scdn.co/image/ab67616d0000b27355404f712deb84d0650a4b41\n",
      "\n",
      "track    : I Like You (A Happier Song) (with Doja Cat)\n",
      "cover art: https://i.scdn.co/image/ab67616d0000b27334362676667a4322838ccc97\n",
      "\n",
      "track    : Wow.\n",
      "cover art: https://i.scdn.co/image/ab67616d0000b2739478c87599550dd73bfa7e02\n",
      "\n",
      "track    : Better Now\n",
      "cover art: https://i.scdn.co/image/ab67616d0000b273b1c4b76e23414c9f20242268\n",
      "\n",
      "track    : Dial Drunk (with Post Malone)\n",
      "cover art: https://i.scdn.co/image/ab67616d0000b273ba6fb0a7e6c53fb8faa96226\n",
      "\n"
     ]
    }
   ],
   "source": [
    "#OTTENERE LE 10 CANZONI TOP DI UN ARTISTA\n",
    "results = spotify.artist_top_tracks(posty_uri)\n",
    "\n",
    "for track in results['tracks'][:10]:\n",
    "    print('track    : ' + track['name'])\n",
    "    #print('audio    : ' + track['preview_url'])\n",
    "    print('cover art: ' + track['album']['images'][0]['url'])\n",
    "    print()"
   ]
  },
  {
   "cell_type": "code",
   "execution_count": null,
   "id": "3daa2d85-104c-4ba3-8c9b-c68863c4c834",
   "metadata": {},
   "outputs": [],
   "source": []
  },
  {
   "cell_type": "code",
   "execution_count": null,
   "id": "923b3604-a19f-426f-82b6-4d708b44035c",
   "metadata": {},
   "outputs": [],
   "source": []
  }
 ],
 "metadata": {
  "kernelspec": {
   "display_name": "Python 3 (ipykernel)",
   "language": "python",
   "name": "python3"
  },
  "language_info": {
   "codemirror_mode": {
    "name": "ipython",
    "version": 3
   },
   "file_extension": ".py",
   "mimetype": "text/x-python",
   "name": "python",
   "nbconvert_exporter": "python",
   "pygments_lexer": "ipython3",
   "version": "3.11.5"
  }
 },
 "nbformat": 4,
 "nbformat_minor": 5
}
