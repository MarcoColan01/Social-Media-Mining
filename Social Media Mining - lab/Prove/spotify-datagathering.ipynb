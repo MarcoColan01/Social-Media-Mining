{
 "cells": [
  {
   "cell_type": "code",
   "execution_count": 1,
   "id": "97a2976d-ecfd-4476-9729-da7ca2578604",
   "metadata": {},
   "outputs": [],
   "source": [
    "import spotipy\n",
    "from spotipy.oauth2 import SpotifyClientCredentials\n",
    "import csv"
   ]
  },
  {
   "cell_type": "code",
   "execution_count": 12,
   "id": "63e0aba7-311e-4043-85c2-16d374316bfa",
   "metadata": {},
   "outputs": [],
   "source": [
    "def get_country_charts(sp, country_code, chart_type='top'):\n",
    "    if chart_type == 'top':\n",
    "        playlist_id = \"37i9dQZEVXbMDoHDwVN2tF\"  # Playlist delle classifiche top\n",
    "    elif chart_type == 'viral':\n",
    "        playlist_id = \"37i9dQZEVXbLiRSasKsNU9\"  # Playlist delle classifiche virali\n",
    "    else:\n",
    "        return None\n",
    "    \n",
    "    charts = sp.playlist_tracks(playlist_id, market=country_code)\n",
    "    \n",
    "    tracks = []\n",
    "    for item in charts['items']:\n",
    "        track_info = item['track']\n",
    "        track_name = track_info['name']\n",
    "        artists = \", \".join([artist['name'] for artist in track_info['artists']])\n",
    "        tracks.append({'Track Name': track_name, 'Artists': artists})\n",
    "    \n",
    "    return tracks\n",
    "\n",
    "\n",
    "def write_to_csv(data, filename):\n",
    "    with open(filename, 'w', newline='', encoding='utf-8') as csvfile:\n",
    "        fieldnames = ['Country', 'Track Name', 'Artists']\n",
    "        writer = csv.DictWriter(csvfile, fieldnames=fieldnames)\n",
    "        writer.writeheader()\n",
    "        for country, tracks in data.items():\n",
    "            for track in tracks:\n",
    "                track['Country'] = country\n",
    "                writer.writerow(track)\n",
    "\n",
    "def main():\n",
    "    client_id = '85aa8b30835e45a3b99623b2797df916'\n",
    "    client_secret = 'ecb8aa6ad9d7431db74fb99af51dec93'\n",
    "    sp = spotipy.Spotify(auth_manager=SpotifyClientCredentials(client_id=client_id, client_secret=client_secret))\n",
    "    \n",
    "    countries = ['US', 'GB', 'DE', 'FR', 'JP', 'IT', 'ES', 'CA', 'AU', 'NL', 'BR', 'MX', 'SE', 'FI', 'NO', 'DK', 'PL', 'PT', 'IE', 'CH', 'AT', 'BE', 'NZ', 'SG', 'MY', 'GR', 'AR', 'CL', 'CO', 'HK', 'CZ', 'HU', 'ID', 'PH', 'TH', 'TR', 'RU', 'KR', 'TW', 'ZA', 'IL', 'SA', 'AE', 'EG', 'QA', 'KW', 'BH', 'OM', 'LU', 'LV', 'LT', 'EE', 'SK', 'SI', 'CR', 'PA', 'DO', 'PY', 'BO', 'HN', 'NI', 'SV', 'GT', 'JM', 'TT', 'UY', 'BB', 'EC', 'BA']\n",
    "    countries.sort()\n",
    "    data = {}\n",
    "\n",
    "    for country_code in countries:\n",
    "        top_tracks = get_country_charts(sp, country_code, chart_type='top')\n",
    "        viral_tracks = get_country_charts(sp, country_code, chart_type='viral')\n",
    "        data[country_code] = top_tracks + viral_tracks\n",
    "\n",
    "    write_to_csv(data, 'spotify_charts.csv')\n",
    "\n",
    "if __name__ == \"__main__\":\n",
    "    main()"
   ]
  },
  {
   "cell_type": "code",
   "execution_count": null,
   "id": "d3690104-2a44-4cf8-81e4-a2e9fe55f880",
   "metadata": {},
   "outputs": [],
   "source": []
  }
 ],
 "metadata": {
  "kernelspec": {
   "display_name": "Python 3 (ipykernel)",
   "language": "python",
   "name": "python3"
  },
  "language_info": {
   "codemirror_mode": {
    "name": "ipython",
    "version": 3
   },
   "file_extension": ".py",
   "mimetype": "text/x-python",
   "name": "python",
   "nbconvert_exporter": "python",
   "pygments_lexer": "ipython3",
   "version": "3.11.5"
  }
 },
 "nbformat": 4,
 "nbformat_minor": 5
}
