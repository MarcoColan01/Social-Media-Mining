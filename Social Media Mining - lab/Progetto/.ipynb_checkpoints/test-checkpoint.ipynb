{
 "cells": [
  {
   "cell_type": "code",
   "execution_count": 15,
   "id": "8b7b95f4-d76b-4954-a26f-22dd8a177ae7",
   "metadata": {},
   "outputs": [
    {
     "name": "stdout",
     "output_type": "stream",
     "text": [
      "Collecting wikipedia-api\n",
      "  Obtaining dependency information for wikipedia-api from https://files.pythonhosted.org/packages/2f/3f/919727b460d88c899d110f98d1a0c415264b5d8ad8176f14ce7ad9db0e3b/Wikipedia_API-0.6.0-py3-none-any.whl.metadata\n",
      "  Downloading Wikipedia_API-0.6.0-py3-none-any.whl.metadata (22 kB)\n",
      "Requirement already satisfied: requests in c:\\users\\cola0\\desktop\\pyenv\\someni\\lib\\site-packages (from wikipedia-api) (2.31.0)\n",
      "Requirement already satisfied: charset-normalizer<4,>=2 in c:\\users\\cola0\\desktop\\pyenv\\someni\\lib\\site-packages (from requests->wikipedia-api) (3.3.2)\n",
      "Requirement already satisfied: idna<4,>=2.5 in c:\\users\\cola0\\desktop\\pyenv\\someni\\lib\\site-packages (from requests->wikipedia-api) (3.6)\n",
      "Requirement already satisfied: urllib3<3,>=1.21.1 in c:\\users\\cola0\\desktop\\pyenv\\someni\\lib\\site-packages (from requests->wikipedia-api) (2.2.1)\n",
      "Requirement already satisfied: certifi>=2017.4.17 in c:\\users\\cola0\\desktop\\pyenv\\someni\\lib\\site-packages (from requests->wikipedia-api) (2024.2.2)\n",
      "Downloading Wikipedia_API-0.6.0-py3-none-any.whl (14 kB)\n",
      "Installing collected packages: wikipedia-api\n",
      "Successfully installed wikipedia-api-0.6.0\n"
     ]
    },
    {
     "name": "stderr",
     "output_type": "stream",
     "text": [
      "\n",
      "[notice] A new release of pip is available: 23.2.1 -> 24.0\n",
      "[notice] To update, run: python.exe -m pip install --upgrade pip\n"
     ]
    }
   ],
   "source": [
    "#!pip install wikipedia-api"
   ]
  },
  {
   "cell_type": "code",
   "execution_count": 25,
   "id": "a90e172f-7549-4967-a18a-22b676dff542",
   "metadata": {},
   "outputs": [],
   "source": [
    "import spotipy\n",
    "import requests\n",
    "from spotipy.oauth2 import SpotifyClientCredentials"
   ]
  },
  {
   "cell_type": "code",
   "execution_count": 14,
   "id": "becc31a2-ae23-4eb5-9f2a-620d8c3aba99",
   "metadata": {},
   "outputs": [
    {
     "ename": "ModuleNotFoundError",
     "evalue": "No module named 'wikipediaapi'",
     "output_type": "error",
     "traceback": [
      "\u001b[1;31m---------------------------------------------------------------------------\u001b[0m",
      "\u001b[1;31mModuleNotFoundError\u001b[0m                       Traceback (most recent call last)",
      "Cell \u001b[1;32mIn[14], line 2\u001b[0m\n\u001b[0;32m      1\u001b[0m \u001b[38;5;28;01mimport\u001b[39;00m \u001b[38;5;21;01mspotipy\u001b[39;00m\n\u001b[1;32m----> 2\u001b[0m \u001b[38;5;28;01mimport\u001b[39;00m \u001b[38;5;21;01mwikipediaapi\u001b[39;00m\n\u001b[0;32m      3\u001b[0m \u001b[38;5;28;01mfrom\u001b[39;00m \u001b[38;5;21;01mspotipy\u001b[39;00m\u001b[38;5;21;01m.\u001b[39;00m\u001b[38;5;21;01moauth2\u001b[39;00m \u001b[38;5;28;01mimport\u001b[39;00m SpotifyClientCredentials\n\u001b[0;32m      5\u001b[0m \u001b[38;5;66;03m# Autenticazione alle API di Spotify\u001b[39;00m\n",
      "\u001b[1;31mModuleNotFoundError\u001b[0m: No module named 'wikipediaapi'"
     ]
    }
   ],
   "source": [
    "\n",
    "\n",
    "# Autenticazione alle API di Spotify\n",
    "sp = spotipy.Spotify(client_credentials_manager=SpotifyClientCredentials(client_id=\"85aa8b30835e45a3b99623b2797df916\",client_secret=\"ecb8aa6ad9d7431db74fb99af51dec93\"))\n",
    "\n",
    "\n",
    "# ID della playlist\n",
    "playlist_id = 'https://open.spotify.com/playlist/37i9dQZEVXbMDoHDwVN2tF'\n",
    "\n",
    "# Ottenere i brani della playlist\n",
    "playlist_items = sp.playlist_tracks(playlist_id)\n",
    "\n",
    "# Scorrere i brani della playlist\n",
    "for item in playlist_items['items']:\n",
    "    # Ottenere l'ID dell'artista del brano\n",
    "    artist_id = item['track']['artists'][0]['id']  # Assumendo un solo artista per brano\n",
    "    \n",
    "    # Ottenere informazioni dettagliate sull'artista\n",
    "    artist_info = sp.artist(artist_id)\n",
    "    # Ottenere la nazionalità dell'artista\n",
    "    #nationality = artist_info['country']\n",
    "    #print(artist_info)\n",
    "    \n",
    "    # Stampa il nome dell'artista e la sua nazionalità\n",
    "    #print(f\"Artista: {artist_info['name']}, Nazionalità: {nationality}\")\n"
   ]
  },
  {
   "cell_type": "code",
   "execution_count": 37,
   "id": "f9364c4f-cd78-415f-bef1-ec707da657ad",
   "metadata": {},
   "outputs": [
    {
     "name": "stdout",
     "output_type": "stream",
     "text": [
      "[{\"name\": \"post malone\", \"net_worth\": 30000000}]\n"
     ]
    }
   ],
   "source": [
    "name = 'Post Malone'\n",
    "api_url = 'https://api.api-ninjas.com/v1/celebrity?name={}'.format(name)\n",
    "response = requests.get(api_url, headers={'X-Api-Key': 'Tjysdm81u4mW1RuxzccCgQ==zX6IqQSBLjbD0TzA'})\n",
    "if response.status_code == requests.codes.ok:\n",
    "    print(response.text)\n",
    "else:\n",
    "    print(\"Error:\", response.status_code, response.text)"
   ]
  },
  {
   "cell_type": "code",
   "execution_count": null,
   "id": "1cc63463-ae2d-4bf3-8377-ea2020845341",
   "metadata": {},
   "outputs": [],
   "source": []
  }
 ],
 "metadata": {
  "kernelspec": {
   "display_name": "Python 3 (ipykernel)",
   "language": "python",
   "name": "python3"
  },
  "language_info": {
   "codemirror_mode": {
    "name": "ipython",
    "version": 3
   },
   "file_extension": ".py",
   "mimetype": "text/x-python",
   "name": "python",
   "nbconvert_exporter": "python",
   "pygments_lexer": "ipython3",
   "version": "3.11.5"
  }
 },
 "nbformat": 4,
 "nbformat_minor": 5
}
