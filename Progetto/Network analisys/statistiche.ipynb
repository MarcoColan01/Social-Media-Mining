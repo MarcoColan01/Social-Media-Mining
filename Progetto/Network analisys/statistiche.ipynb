{
 "cells": [
  {
   "cell_type": "code",
   "execution_count": 1,
   "metadata": {},
   "outputs": [],
   "source": [
    "import pandas as pd\n",
    "import matplotlib.pyplot as plt\n",
    "import scipy.stats as st\n",
    "import statsmodels.api as sm"
   ]
  },
  {
   "cell_type": "code",
   "execution_count": 8,
   "metadata": {},
   "outputs": [
    {
     "data": {
      "image/png": "[encoded data removed]",
      "text/plain": [
       "<Figure size 640x480 with 1 Axes>"
      ]
     },
     "metadata": {},
     "output_type": "display_data"
    },
    {
     "name": "stdout",
     "output_type": "stream",
     "text": [
      "valori totali:6985\n",
      "outlier:109\n",
      "valori nulli:0\n"
     ]
    }
   ],
   "source": [
    "data = pd.read_csv('machine-global-mergedfix2 - Copia.csv', sep = ',')\n",
    "\n",
    "'''\n",
    "outlier di sinistra: valori < 1quartile-(1.5*rangeinterquartile)\n",
    "outlier di destra: valori > 3quartile+(1.5*rangeinterquartile)\n",
    "'''\n",
    "\n",
    "data['danceability'].plot.box(vert = False)\n",
    "plt.show()\n",
    "#outlier di sinistra: valori che sono < 1°quartile-(1.5*rangeinterquartile)\n",
    "sxOutliers = data['danceability'].quantile(0.25)-(1.5*(data['danceability'].quantile(0.75)-data['danceability'].quantile(0.25)))\n",
    "#outlier di destra: valori che sono > 3°quartile+(1.5*rangeinterquartile)\n",
    "dxOutliers = data['danceability'].quantile(0.75)+(1.5*(data['danceability'].quantile(0.75)-data['danceability'].quantile(0.25)))\n",
    "print(f'valori totali:{len(data.danceability)}\\noutlier:{len(data[data.danceability < sxOutliers])+len(data[data.danceability > dxOutliers])}\\nvalori nulli:{len(data[data.danceability.isna()])}')\n",
    "\n"
   ]
  },
  {
   "cell_type": "code",
   "execution_count": null,
   "metadata": {},
   "outputs": [],
   "source": []
  }
 ],
 "metadata": {
  "kernelspec": {
   "display_name": "Python 3",
   "language": "python",
   "name": "python3"
  },
  "language_info": {
   "codemirror_mode": {
    "name": "ipython",
    "version": 3
   },
   "file_extension": ".py",
   "mimetype": "text/x-python",
   "name": "python",
   "nbconvert_exporter": "python",
   "pygments_lexer": "ipython3",
   "version": "3.11.5"
  }
 },
 "nbformat": 4,
 "nbformat_minor": 2
}
