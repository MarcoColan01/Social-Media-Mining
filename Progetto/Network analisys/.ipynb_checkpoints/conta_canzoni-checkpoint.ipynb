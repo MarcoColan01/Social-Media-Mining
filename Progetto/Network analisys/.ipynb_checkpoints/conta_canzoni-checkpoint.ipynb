{
 "cells": [
  {
   "cell_type": "code",
   "execution_count": null,
   "id": "e0472f40-25c4-4298-9b50-ea1dc5809b02",
   "metadata": {},
   "outputs": [],
   "source": [
    "import csv\n",
    "import glob\n",
    "\n",
    "def count_titles_in_csv_files():\n",
    "    # Dizionario per memorizzare il conteggio dei titoli\n",
    "    title_count = {}\n",
    "\n",
    "    # Cerca tutti i file CSV nella stessa cartella del sorgente Python che iniziano con \"z-global.csv\"\n",
    "    for i in range(1,16):\n",
    "        #print(\"ciao\")\n",
    "        with open(f'0{i}-viral.csv', 'r', encoding = 'utf-16') as csvfile:\n",
    "            reader = csv.reader(csvfile)\n",
    "            for row in reader:\n",
    "                # Ottiene il titolo dalla riga\n",
    "                #print(row[2])\n",
    "                title = row[2:]\n",
    "                print(title)\n",
    "                # Aggiorna il conteggio del titolo nel dizionario\n",
    "                title_count[title[0]] = title_count.get(title[0], 0) + 1\n",
    "\n",
    "    return title_count\n",
    "\n",
    "# Ottieni il conteggio dei titoli nei file CSV\n",
    "titles_count = count_titles_in_csv_files()\n",
    "\n",
    "sorted_titles_count = dict(sorted(titles_count.items(), key=lambda item: item[1], reverse=True))\n",
    "\n",
    "# Stampare il conteggio dei titoli\n",
    "for title, count in sorted_titles_count.items():\n",
    "    print(f\"{title}: {count}\")\n"
   ]
  }
 ],
 "metadata": {
  "kernelspec": {
   "display_name": "Python 3 (ipykernel)",
   "language": "python",
   "name": "python3"
  },
  "language_info": {
   "codemirror_mode": {
    "name": "ipython",
    "version": 3
   },
   "file_extension": ".py",
   "mimetype": "text/x-python",
   "name": "python",
   "nbconvert_exporter": "python",
   "pygments_lexer": "ipython3",
   "version": "3.11.5"
  }
 },
 "nbformat": 4,
 "nbformat_minor": 5
}
