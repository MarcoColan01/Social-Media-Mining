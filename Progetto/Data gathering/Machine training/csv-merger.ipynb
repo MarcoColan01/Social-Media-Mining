{
 "cells": [
  {
   "cell_type": "code",
   "execution_count": 3,
   "id": "631a84cb-dd7b-4dc3-8779-c86d06a8f28a",
   "metadata": {},
   "outputs": [],
   "source": [
    "import pandas as pd\n",
    "\n",
    "# Leggi i due file CSV\n",
    "df1 = pd.read_csv('machine-global02.csv', encoding = 'utf-16')\n",
    "df2 = pd.read_csv('machine-global03.csv', encoding = 'utf-16')\n",
    "\n",
    "# Unisci i due dataframe in base alla colonna \"Paese\"\n",
    "merged_df = pd.merge(df1, df2, on='paese', how='outer')\n",
    "\n",
    "# Ordina il dataframe in base alla colonna \"Paese\"\n",
    "merged_df = merged_df.sort_values(by='paese')\n",
    "\n",
    "# Salva il dataframe risultante in un nuovo file CSV\n",
    "merged_df.to_csv('machine-global-merged.csv', index=False, encoding = 'utf-16')"
   ]
  },
  {
   "cell_type": "code",
   "execution_count": null,
   "id": "421435c1-f97f-4406-9727-0c9c3883e359",
   "metadata": {},
   "outputs": [],
   "source": []
  }
 ],
 "metadata": {
  "kernelspec": {
   "display_name": "Python 3 (ipykernel)",
   "language": "python",
   "name": "python3"
  },
  "language_info": {
   "codemirror_mode": {
    "name": "ipython",
    "version": 3
   },
   "file_extension": ".py",
   "mimetype": "text/x-python",
   "name": "python",
   "nbconvert_exporter": "python",
   "pygments_lexer": "ipython3",
   "version": "3.11.5"
  }
 },
 "nbformat": 4,
 "nbformat_minor": 5
}
