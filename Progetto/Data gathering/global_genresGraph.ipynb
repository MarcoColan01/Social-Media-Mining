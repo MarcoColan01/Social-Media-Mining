{
 "cells": [
  {
   "cell_type": "code",
   "execution_count": 2,
   "id": "a0f7ceaa-f6c4-40ce-9478-a5fc7882ef83",
   "metadata": {},
   "outputs": [],
   "source": [
    "from traceback import print_tb\n",
    "import networkx as nx\n",
    "import csv\n",
    "import spotipy\n",
    "from spotipy.oauth2 import SpotifyClientCredentials\n",
    "import pickle\n",
    "import pandas as pd"
   ]
  },
  {
   "cell_type": "code",
   "execution_count": 3,
   "id": "adfc6d80-7f72-4a37-accb-5a440f0103e6",
   "metadata": {},
   "outputs": [],
   "source": [
    "spotify = spotipy.Spotify(client_credentials_manager=SpotifyClientCredentials(client_id=\"85aa8b30835e45a3b99623b2797df916\",client_secret=\"ecb8aa6ad9d7431db74fb99af51dec93\"))\n"
   ]
  },
  {
   "cell_type": "code",
   "execution_count": 22,
   "id": "9ce13de7-a482-4b6e-b451-7d86397e7154",
   "metadata": {},
   "outputs": [
    {
     "name": "stdout",
     "output_type": "stream",
     "text": [
      "[set(), {'k-pop'}, {'cumbia pop', 'reggaeton chileno'}, {'cumbia pop', 'reggaeton chileno'}, {'irish singer-songwriter', 'modern rock', 'pov: indie'}, {'turbo folk'}, {'turbo folk'}, set(), {'russian trap', 'russian hip hop'}, {'trap argentino', 'urbano latino', 'trap latino'}, {'trap argentino', 'urbano latino', 'trap latino'}, {'funk mtg', 'trap brasileiro'}, {'funk mtg', 'trap brasileiro'}, {'funk mtg', 'trap brasileiro'}, {'bulgarian pop', 'chalga'}, {'modern rock', 'rap', 'pov: indie', 'hip hop', 'irish singer-songwriter'}, {'modern rock', 'rap', 'pov: indie', 'hip hop', 'irish singer-songwriter'}, set(), {'reggaeton chileno'}, {'reggaeton chileno'}, {'reggaeton colombiano', 'pop reggaeton', 'reggaeton', 'urbano latino', 'trap latino', 'colombian pop'}, {'reggaeton colombiano', 'pop reggaeton', 'reggaeton', 'urbano latino', 'trap latino', 'colombian pop'}, set(), {'corrido', 'sierreno', 'reggaeton colombiano', 'pop reggaeton', 'reggaeton', 'urbano latino', 'trap latino', 'musica mexicana', 'sad sierreno', 'colombian pop'}, {'corrido', 'sierreno', 'reggaeton colombiano', 'pop reggaeton', 'reggaeton', 'urbano latino', 'trap latino', 'musica mexicana', 'sad sierreno', 'colombian pop'}, {'danish pop', 'classic danish pop', 'dansktop'}, {'danish pop', 'classic danish pop', 'dansktop'}, {'reggaeton colombiano', 'pop reggaeton', 'reggaeton', 'urbano latino', 'trap latino', 'colombian pop', 'urbano chileno', 'mambo chileno'}, {'reggaeton colombiano', 'pop reggaeton', 'reggaeton', 'urbano latino', 'trap latino', 'colombian pop', 'urbano chileno', 'mambo chileno'}, {'mahraganat', 'egyptian pop'}, {'reggaeton colombiano', 'pop reggaeton', 'reggaeton', 'urbano latino', 'trap latino', 'colombian pop', 'urbano chileno', 'mambo chileno'}, {'reggaeton colombiano', 'pop reggaeton', 'reggaeton', 'urbano latino', 'trap latino', 'colombian pop', 'urbano chileno', 'mambo chileno'}, {'pop'}, {'pop rap', 'trap', 'r&b', 'southern hip hop', 'hip hop', 'trap soul'}, {'pop rap', 'trap', 'r&b', 'southern hip hop', 'hip hop', 'trap soul'}, {'tagalog rap', 'pinoy hip hop'}, {'finnish drill'}, {'singer-songwriter pop', 'rap francais', 'pop urbaine', 'r&b francais', 'french hip hop', 'rap marseille'}, {'singer-songwriter pop', 'rap francais', 'pop urbaine', 'r&b francais', 'french hip hop', 'rap marseille'}, {'singer-songwriter pop', 'rap francais', 'pop urbaine', 'r&b francais', 'french hip hop', 'rap marseille'}, {'german pop', 'liedermacher', 'austropop', 'german rock'}, {'german pop', 'liedermacher', 'austropop', 'german rock'}, {'j-pop'}, {'greek trap'}, {'sad sierreno'}, {'reggaeton colombiano', 'pop reggaeton', 'reggaeton', 'urbano latino', 'trap latino', 'colombian pop'}, {'modern bollywood', 'desi pop', 'filmi'}, {'singer-songwriter pop'}, {'irish singer-songwriter', 'modern rock', 'pov: indie'}, {'rap', 'atl hip hop', 'trap', 'hip hop', 'plugg', 'melodic rap'}, {'rap', 'atl hip hop', 'trap', 'hip hop', 'plugg', 'melodic rap'}, {'rap', 'atl hip hop', 'trap', 'hip hop', 'plugg', 'melodic rap'}, {'mizrahi', 'israeli mediterranean', 'israeli pop'}, {'trap italiana', 'italian pop', 'italian hip hop'}, set(), {'pop rap', 'trap', 'r&b', 'southern hip hop', 'hip hop', 'trap soul'}, {'pop rap', 'trap', 'r&b', 'southern hip hop', 'hip hop', 'trap soul'}, {'pop rap', 'trap', 'r&b', 'southern hip hop', 'hip hop', 'trap soul'}, set(), set(), set(), {'rap maroc'}, {'corrido', 'corridos tumbados', 'sierreno', 'musica mexicana', 'sad sierreno'}, {'corrido', 'corridos tumbados', 'sierreno', 'musica mexicana', 'sad sierreno'}, {'sad sierreno'}, {'sad sierreno'}, {'afrobeats', 'ghanaian pop', 'nigerian pop'}, {'afrobeats', 'ghanaian pop', 'nigerian pop'}, set(), {'irish singer-songwriter', 'modern rock', 'pov: indie'}, {'lustrum'}, {'kashmiri pop'}, {'kashmiri pop'}, {'trap triste', 'reggaeton colombiano', 'pop reggaeton', 'reggaeton', 'urbano latino', 'trap latino', 'colombian pop', 'trap boricua'}, {'trap triste', 'reggaeton colombiano', 'pop reggaeton', 'reggaeton', 'urbano latino', 'trap latino', 'colombian pop', 'trap boricua'}, {'trap triste', 'reggaeton colombiano', 'pop reggaeton', 'reggaeton', 'urbano latino', 'trap latino', 'colombian pop', 'trap boricua'}, {'urbano latino', 'trap latino', 'trap argentino', 'urbano chileno', 'pop argentino', 'mambo chileno'}, {'urbano latino', 'trap latino', 'trap argentino', 'urbano chileno', 'pop argentino', 'mambo chileno'}, {'urbano latino', 'trap latino', 'trap argentino', 'urbano chileno', 'pop argentino', 'mambo chileno'}, {'reggaeton colombiano', 'pop reggaeton', 'reggaeton', 'urbano latino', 'trap latino', 'colombian pop', 'urbano chileno', 'pop argentino', 'mambo chileno'}, {'reggaeton colombiano', 'pop reggaeton', 'reggaeton', 'urbano latino', 'trap latino', 'colombian pop', 'urbano chileno', 'pop argentino', 'mambo chileno'}, {'reggaeton colombiano', 'pop reggaeton', 'reggaeton', 'urbano latino', 'trap latino', 'colombian pop', 'urbano chileno', 'pop argentino', 'mambo chileno'}, {'polish viral pop', 'polish viral rap'}, {'polish viral pop', 'polish viral rap'}, {'polish viral pop', 'polish viral rap'}, {'detroit trap brasileiro', 'hip hop tuga', 'trap brasileiro'}, {'detroit trap brasileiro', 'hip hop tuga', 'trap brasileiro'}, set(), {'irish singer-songwriter', 'modern rock', 'pov: indie'}, {'urbano latino', 'reggaeton', 'trap latino', 'rap dominicano'}, {'urbano latino', 'reggaeton', 'trap latino', 'rap dominicano'}, {'urbano latino', 'reggaeton', 'trap latino', 'rap dominicano'}, {'romanian pop'}, set(), {'czsk hip hop'}, {'czsk hip hop'}, {'urbano latino', 'reggaeton', 'urbano espanol', 'trap latino', 'trap argentino', 'drill espanol'}, {'urbano latino', 'reggaeton', 'urbano espanol', 'trap latino', 'trap argentino', 'drill espanol'}, {'urbano latino', 'reggaeton', 'urbano espanol', 'trap latino', 'trap argentino', 'drill espanol'}, {'modern rock', 'rap', 'atl hip hop', 'pov: indie', 'trap', 'hip hop', 'irish singer-songwriter', 'plugg', 'melodic rap'}, {'modern rock', 'rap', 'atl hip hop', 'pov: indie', 'trap', 'hip hop', 'irish singer-songwriter', 'plugg', 'melodic rap'}, {'modern rock', 'rap', 'atl hip hop', 'pov: indie', 'trap', 'hip hop', 'irish singer-songwriter', 'plugg', 'melodic rap'}, {'hip hop', 'rap', 'amapiano'}, {'hip hop', 'rap', 'amapiano'}, {'hip hop', 'rap', 'amapiano'}, {'swedish trap pop', 'swedish pop rap', 'classic swedish pop', 'swedish hip hop', 'swedish pop', 'swedish idol pop'}, {'swedish trap pop', 'swedish pop rap', 'classic swedish pop', 'swedish hip hop', 'swedish pop', 'swedish idol pop'}, set(), set(), {'korean ost', 'j-division'}, {'turkish hip hop', 'turkish pop', 'turkish trap', 'turkce drill'}, {'turkish hip hop', 'turkish pop', 'turkish trap', 'turkce drill'}, set(), set(), {'pop argentino', 'cumbia pop'}, {'pop argentino', 'cumbia pop'}, {'reggaeton colombiano', 'pop reggaeton', 'reggaeton', 'urbano latino', 'trap latino', 'panamanian pop', 'colombian pop', 'latin hip hop'}, {'reggaeton colombiano', 'pop reggaeton', 'reggaeton', 'urbano latino', 'trap latino', 'panamanian pop', 'colombian pop', 'latin hip hop'}, {'reggaeton colombiano', 'pop reggaeton', 'reggaeton', 'urbano latino', 'trap latino', 'panamanian pop', 'colombian pop', 'latin hip hop'}, {'reggaeton colombiano', 'pop reggaeton', 'reggaeton', 'urbano latino', 'trap latino', 'panamanian pop', 'colombian pop', 'latin hip hop'}, {'k-pop'}]\n"
     ]
    },
    {
     "data": {
      "text/plain": [
       "'\\n    #for i in range (10):\\n        #artist_genres = spotify.artist(songs[\"items\"][i][\"track\"][\"artists\"][i][\"id\"])[\\'genres\\'] #generi dell\\'artista\\n    #print(artist_genres)'"
      ]
     },
     "execution_count": 22,
     "metadata": {},
     "output_type": "execute_result"
    }
   ],
   "source": [
    "people = list()\n",
    "with open('global.csv', 'r') as file:\n",
    "    reader = csv.DictReader(file)\n",
    "    for row in reader:\n",
    "        people.append(row)\n",
    "\n",
    "dataset = list()\n",
    "for person in people:\n",
    "    \n",
    "    playlist = spotify.playlist(person[\"Link\"])\n",
    "    songs = spotify.playlist_items(playlist[\"id\"])\n",
    "    #print(len(songs))\n",
    "    aux = set()\n",
    "    \n",
    "    for i in range (len(songs[\"items\"])):\n",
    "        try: \n",
    "            genres = spotify.artist(songs[\"items\"][i][\"track\"][\"artists\"][i][\"id\"])['genres']\n",
    "            for genre in genres:\n",
    "                aux.add(genre)\n",
    "            dataset.append(aux)\n",
    "        except:\n",
    "            continue   \n",
    "#print(dataset)"
   ]
  },
  {
   "cell_type": "code",
   "execution_count": 57,
   "id": "e9d39a8e-8768-493f-947c-0ab4aa22823a",
   "metadata": {},
   "outputs": [],
   "source": [
    "grafo = nx.Graph()\n",
    "\n",
    "for genres in dataset:\n",
    "    for genre1 in genres:\n",
    "        for genre2 in genres:\n",
    "            grafo.add_node(genre1)\n",
    "            if genre1 != genre2 and not grafo.has_edge(genre2, genre1):\n",
    "                grafo.add_edge(genre1, genre2)\n",
    "nx.write_gexf(grafo, 'genres.gexf')"
   ]
  },
  {
   "cell_type": "code",
   "execution_count": null,
   "id": "ced72f0f-30c4-4c1b-8b08-5118e1ad72a0",
   "metadata": {},
   "outputs": [],
   "source": []
  }
 ],
 "metadata": {
  "kernelspec": {
   "display_name": "Python 3 (ipykernel)",
   "language": "python",
   "name": "python3"
  },
  "language_info": {
   "codemirror_mode": {
    "name": "ipython",
    "version": 3
   },
   "file_extension": ".py",
   "mimetype": "text/x-python",
   "name": "python",
   "nbconvert_exporter": "python",
   "pygments_lexer": "ipython3",
   "version": "3.11.5"
  }
 },
 "nbformat": 4,
 "nbformat_minor": 5
}
