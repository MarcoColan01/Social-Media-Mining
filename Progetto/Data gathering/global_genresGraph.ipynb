{
 "cells": [
  {
   "cell_type": "code",
   "execution_count": 1,
   "id": "a0f7ceaa-f6c4-40ce-9478-a5fc7882ef83",
   "metadata": {},
   "outputs": [],
   "source": [
    "from traceback import print_tb\n",
    "import networkx as nx\n",
    "import csv\n",
    "import spotipy\n",
    "from spotipy.oauth2 import SpotifyClientCredentials\n",
    "import pickle\n",
    "import pandas as pd"
   ]
  },
  {
   "cell_type": "code",
   "execution_count": 2,
   "id": "adfc6d80-7f72-4a37-accb-5a440f0103e6",
   "metadata": {},
   "outputs": [],
   "source": [
    "spotify = spotipy.Spotify(client_credentials_manager=SpotifyClientCredentials(client_id=\"85aa8b30835e45a3b99623b2797df916\",client_secret=\"ecb8aa6ad9d7431db74fb99af51dec93\"))\n"
   ]
  },
  {
   "cell_type": "code",
   "execution_count": null,
   "id": "efd1bcf1",
   "metadata": {},
   "outputs": [
    {
     "name": "stdout",
     "output_type": "stream",
     "text": [
      "Collecting pandas\n",
      "  Obtaining dependency information for pandas from https://files.pythonhosted.org/packages/ab/63/966db1321a0ad55df1d1fe51505d2cdae191b84c907974873817b0a6e849/pandas-2.2.2-cp311-cp311-win_amd64.whl.metadata\n",
      "  Downloading pandas-2.2.2-cp311-cp311-win_amd64.whl.metadata (19 kB)\n",
      "Collecting numpy>=1.23.2 (from pandas)\n",
      "  Obtaining dependency information for numpy>=1.23.2 from https://files.pythonhosted.org/packages/3f/6b/5610004206cf7f8e7ad91c5a85a8c71b2f2f8051a0c0c4d5916b76d6cbb2/numpy-1.26.4-cp311-cp311-win_amd64.whl.metadata\n",
      "  Using cached numpy-1.26.4-cp311-cp311-win_amd64.whl.metadata (61 kB)\n",
      "Requirement already satisfied: python-dateutil>=2.8.2 in c:\\users\\cola0\\appdata\\roaming\\python\\python311\\site-packages (from pandas) (2.9.0.post0)\n",
      "Collecting pytz>=2020.1 (from pandas)\n",
      "  Obtaining dependency information for pytz>=2020.1 from https://files.pythonhosted.org/packages/9c/3d/a121f284241f08268b21359bd425f7d4825cffc5ac5cd0e1b3d82ffd2b10/pytz-2024.1-py2.py3-none-any.whl.metadata\n",
      "  Using cached pytz-2024.1-py2.py3-none-any.whl.metadata (22 kB)\n",
      "Collecting tzdata>=2022.7 (from pandas)\n",
      "  Obtaining dependency information for tzdata>=2022.7 from https://files.pythonhosted.org/packages/65/58/f9c9e6be752e9fcb8b6a0ee9fb87e6e7a1f6bcab2cdc73f02bb7ba91ada0/tzdata-2024.1-py2.py3-none-any.whl.metadata\n",
      "  Using cached tzdata-2024.1-py2.py3-none-any.whl.metadata (1.4 kB)\n",
      "Requirement already satisfied: six>=1.5 in c:\\users\\cola0\\appdata\\roaming\\python\\python311\\site-packages (from python-dateutil>=2.8.2->pandas) (1.16.0)\n",
      "Downloading pandas-2.2.2-cp311-cp311-win_amd64.whl (11.6 MB)\n",
      "   ---------------------------------------- 0.0/11.6 MB ? eta -:--:--\n",
      "   ---------------------------------------- 0.0/11.6 MB ? eta -:--:--\n",
      "   ---------------------------------------- 0.1/11.6 MB 1.3 MB/s eta 0:00:09\n",
      "   -- ------------------------------------- 0.6/11.6 MB 4.8 MB/s eta 0:00:03\n",
      "   --- ------------------------------------ 1.2/11.6 MB 7.4 MB/s eta 0:00:02\n",
      "   ------ --------------------------------- 1.9/11.6 MB 9.2 MB/s eta 0:00:02\n",
      "   -------- ------------------------------- 2.6/11.6 MB 10.3 MB/s eta 0:00:01\n",
      "   ---------- ----------------------------- 3.1/11.6 MB 10.5 MB/s eta 0:00:01\n",
      "   ------------- -------------------------- 3.8/11.6 MB 11.0 MB/s eta 0:00:01\n",
      "   -------------- ------------------------- 4.3/11.6 MB 11.4 MB/s eta 0:00:01\n",
      "   ----------------- ---------------------- 5.0/11.6 MB 11.9 MB/s eta 0:00:01\n",
      "   ------------------- -------------------- 5.6/11.6 MB 11.8 MB/s eta 0:00:01\n",
      "   --------------------- ------------------ 6.2/11.6 MB 12.0 MB/s eta 0:00:01\n",
      "   ----------------------- ---------------- 6.8/11.6 MB 12.1 MB/s eta 0:00:01\n",
      "   ------------------------- -------------- 7.4/11.6 MB 12.4 MB/s eta 0:00:01\n",
      "   --------------------------- ------------ 8.1/11.6 MB 12.7 MB/s eta 0:00:01\n",
      "   ------------------------------ --------- 8.8/11.6 MB 12.8 MB/s eta 0:00:01\n",
      "   ------------------------------- -------- 9.1/11.6 MB 12.4 MB/s eta 0:00:01\n",
      "   ---------------------------------- ----- 9.9/11.6 MB 12.7 MB/s eta 0:00:01\n",
      "   ------------------------------------- -- 10.8/11.6 MB 14.6 MB/s eta 0:00:01\n",
      "   ---------------------------------------  11.4/11.6 MB 14.5 MB/s eta 0:00:01\n",
      "   ---------------------------------------  11.6/11.6 MB 14.2 MB/s eta 0:00:01\n",
      "   ---------------------------------------- 11.6/11.6 MB 13.3 MB/s eta 0:00:00\n",
      "Using cached numpy-1.26.4-cp311-cp311-win_amd64.whl (15.8 MB)\n",
      "Using cached pytz-2024.1-py2.py3-none-any.whl (505 kB)\n",
      "Using cached tzdata-2024.1-py2.py3-none-any.whl (345 kB)\n",
      "Installing collected packages: pytz, tzdata, numpy, pandas\n",
      "Note: you may need to restart the kernel to use updated packages.\n"
     ]
    },
    {
     "name": "stderr",
     "output_type": "stream",
     "text": [
      "  WARNING: Failed to write executable - trying to use .deleteme logic\n",
      "ERROR: Could not install packages due to an OSError: [WinError 2] Impossibile trovare il file specificato: 'c:\\\\Python311\\\\Scripts\\\\f2py.exe' -> 'c:\\\\Python311\\\\Scripts\\\\f2py.exe.deleteme'\n",
      "\n",
      "\n",
      "[notice] A new release of pip is available: 23.2.1 -> 24.0\n",
      "[notice] To update, run: python.exe -m pip install --upgrade pip\n"
     ]
    }
   ],
   "source": []
  },
  {
   "cell_type": "code",
   "execution_count": 3,
   "id": "9ce13de7-a482-4b6e-b451-7d86397e7154",
   "metadata": {},
   "outputs": [],
   "source": [
    "people = list()\n",
    "with open('global.csv', 'r') as file:\n",
    "    reader = csv.DictReader(file)\n",
    "    for row in reader:\n",
    "        people.append(row)\n",
    "\n",
    "dataset = list()\n",
    "for person in people:\n",
    "    \n",
    "    playlist = spotify.playlist(person[\"Link\"])\n",
    "    songs = spotify.playlist_items(playlist[\"id\"])\n",
    "    #print(len(songs))\n",
    "    aux = set()\n",
    "    \n",
    "    for i in range (len(songs[\"items\"])):\n",
    "        try: \n",
    "            genres = spotify.artist(songs[\"items\"][i][\"track\"][\"artists\"][i][\"id\"])['genres']\n",
    "            for genre in genres:\n",
    "                aux.add(genre)\n",
    "            dataset.append(aux)\n",
    "        except:\n",
    "            continue   \n",
    "#print(dataset)"
   ]
  },
  {
   "cell_type": "code",
   "execution_count": 4,
   "id": "e9d39a8e-8768-493f-947c-0ab4aa22823a",
   "metadata": {},
   "outputs": [],
   "source": [
    "grafo = nx.Graph()\n",
    "\n",
    "for genres in dataset:\n",
    "    for genre1 in genres:\n",
    "        for genre2 in genres:\n",
    "            grafo.add_node(genre1)\n",
    "            if genre1 != genre2 and not grafo.has_edge(genre2, genre1):\n",
    "                grafo.add_edge(genre1, genre2)\n",
    "nx.write_gexf(grafo, 'global_genres06.gexf')\n",
    "with open('global_genres06.pkl', 'wb') as f:\n",
    "    pickle.dump(grafo, f)"
   ]
  },
  {
   "cell_type": "code",
   "execution_count": null,
   "id": "ced72f0f-30c4-4c1b-8b08-5118e1ad72a0",
   "metadata": {},
   "outputs": [],
   "source": []
  }
 ],
 "metadata": {
  "kernelspec": {
   "display_name": "Python 3 (ipykernel)",
   "language": "python",
   "name": "python3"
  },
  "language_info": {
   "codemirror_mode": {
    "name": "ipython",
    "version": 3
   },
   "file_extension": ".py",
   "mimetype": "text/x-python",
   "name": "python",
   "nbconvert_exporter": "python",
   "pygments_lexer": "ipython3",
   "version": "3.11.5"
  }
 },
 "nbformat": 4,
 "nbformat_minor": 5
}
