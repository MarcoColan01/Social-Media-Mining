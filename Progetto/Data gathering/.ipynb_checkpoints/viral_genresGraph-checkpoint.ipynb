{
 "cells": [
  {
   "cell_type": "code",
   "execution_count": 1,
   "id": "f70f82e9-abc4-4976-b196-7041bffb08df",
   "metadata": {},
   "outputs": [],
   "source": [
    "from traceback import print_tb\n",
    "import networkx as nx\n",
    "import csv\n",
    "import spotipy\n",
    "from spotipy.oauth2 import SpotifyClientCredentials\n",
    "import pickle\n",
    "import pandas as pd"
   ]
  },
  {
   "cell_type": "code",
   "execution_count": 2,
   "id": "d3f44d9a-7cfd-4e5f-a9fc-a0adbc155ae6",
   "metadata": {},
   "outputs": [],
   "source": [
    "spotify = spotipy.Spotify(client_credentials_manager=SpotifyClientCredentials(client_id=\"85aa8b30835e45a3b99623b2797df916\",client_secret=\"ecb8aa6ad9d7431db74fb99af51dec93\"))\n"
   ]
  },
  {
   "cell_type": "code",
   "execution_count": 3,
   "id": "ec6ee54a-0e45-414b-b43c-0ad3124f7ec5",
   "metadata": {},
   "outputs": [
    {
     "name": "stdout",
     "output_type": "stream",
     "text": [
      "[set(), set(), set(), set(), set(), set(), set(), set(), set(), {'funk rj', 'funk 150 bpm'}, {'funk rj', 'funk 150 bpm'}, {'bulgarian r&b', 'bulgarian pop'}, {'bulgarian r&b', 'bulgarian pop'}, set(), set(), {'urbano chileno', 'trap chileno'}, {'urbano chileno', 'trap chileno'}, set(), set(), {'latin viral pop', 'colombian pop', 'reggaeton colombiano', 'latin pop'}, {'latin viral pop', 'colombian pop', 'reggaeton colombiano', 'latin pop'}, set(), set(), set(), {'mahraganat', 'egyptian trap'}, {'mahraganat', 'egyptian trap'}, set(), set(), set(), set(), set(), set(), set(), set(), set(), set(), set(), set(), {'kashmiri pop'}, set(), {'irish singer-songwriter', 'modern rock', 'pov: indie'}, {'conscious hip hop', 'rap', 'west coast rap', 'hip hop'}, {'conscious hip hop', 'rap', 'west coast rap', 'hip hop'}, {'israeli mediterranean'}, {'israeli mediterranean'}, set(), set(), set(), set(), set(), set(), {'lithuanian indie', 'lithuanian pop'}, {'lithuanian indie', 'lithuanian pop'}, set(), {'malay rap'}, {'malay rap'}, {'urbano latino', 'mambo chileno', 'urbano chileno'}, {'urbano latino', 'mambo chileno', 'urbano chileno'}, set(), {'urbano latino', 'trap latino'}, {'urbano latino', 'trap latino'}, {'conscious hip hop', 'nigerian pop', 'latin christian', 'afropop', 'west coast rap', 'hip hop', 'afrobeats', 'rap'}, {'conscious hip hop', 'nigerian pop', 'latin christian', 'afropop', 'west coast rap', 'hip hop', 'afrobeats', 'rap'}, {'conscious hip hop', 'nigerian pop', 'latin christian', 'afropop', 'west coast rap', 'hip hop', 'afrobeats', 'rap'}, {'canadian contemporary country', 'canadian country'}, set(), set(), set(), {'kashmiri pop'}, {'panamanian pop'}, {'panamanian pop'}, set(), set(), {'polish viral pop', 'polish hip hop'}, {'polish viral pop', 'polish hip hop'}, set(), set(), set(), {'pop peruano'}, set(), set(), set(), {'raspe'}, set(), set(), set(), {'urbano latino', 'mambo chileno', 'urbano chileno'}, {'urbano latino', 'mambo chileno', 'urbano chileno'}, set(), set(), set(), set(), set(), set(), set(), set(), set(), set()]\n"
     ]
    }
   ],
   "source": [
    "people = list()\n",
    "with open('viral.csv', 'r') as file:\n",
    "    reader = csv.DictReader(file)\n",
    "    for row in reader:\n",
    "        people.append(row)\n",
    "\n",
    "dataset = list()\n",
    "for person in people:\n",
    "    \n",
    "    playlist = spotify.playlist(person[\"Link\"])\n",
    "    songs = spotify.playlist_items(playlist[\"id\"])\n",
    "    aux = set()\n",
    "    \n",
    "    for i in range (len(songs[\"items\"])):\n",
    "        try: \n",
    "            genres = spotify.artist(songs[\"items\"][i][\"track\"][\"artists\"][i][\"id\"])['genres']\n",
    "            for genre in genres:\n",
    "                aux.add(genre)\n",
    "            dataset.append(aux)\n",
    "        except:\n",
    "            continue   \n",
    "print(dataset)"
   ]
  },
  {
   "cell_type": "code",
   "execution_count": null,
   "id": "049e7302-9965-4e28-a8cc-7c715849eb67",
   "metadata": {},
   "outputs": [],
   "source": [
    "grafo = nx.Graph()\n",
    "\n",
    "for genres in dataset:\n",
    "    for genre1 in genres:\n",
    "        for genre2 in genres:\n",
    "            grafo.add_node(genre1)\n",
    "            if genre1 != genre2 and not grafo.has_edge(genre2, genre1):\n",
    "                grafo.add_edge(genre1, genre2)\n",
    "nx.write_gexf(grafo, 'viral_genres.gexf')"
   ]
  }
 ],
 "metadata": {
  "kernelspec": {
   "display_name": "Python 3 (ipykernel)",
   "language": "python",
   "name": "python3"
  },
  "language_info": {
   "codemirror_mode": {
    "name": "ipython",
    "version": 3
   },
   "file_extension": ".py",
   "mimetype": "text/x-python",
   "name": "python",
   "nbconvert_exporter": "python",
   "pygments_lexer": "ipython3",
   "version": "3.11.5"
  }
 },
 "nbformat": 4,
 "nbformat_minor": 5
}
