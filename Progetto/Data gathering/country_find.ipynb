{
 "cells": [
  {
   "cell_type": "code",
   "execution_count": 36,
   "metadata": {},
   "outputs": [
    {
     "name": "stdout",
     "output_type": "stream",
     "text": [
      "Argentina, Uruguay, Venezuela, Bolivia, Cile, Colombia, Costa_Rica, Ecuador, El_Salvador, Guatemala, Honduras, Messico, Nicaragua, Panama, Paraguay, Peru, Repubblica_Dominicana, Spagna, \n"
     ]
    }
   ],
   "source": [
    "with open('global.csv', 'r') as file:\n",
    "    countries = list(file)\n",
    "    countries.pop(0)\n",
    "    countries.pop(0)\n",
    "    string = \"\"\n",
    "    \n",
    "    index = [2, 70, 71, 7, 12, 13, 15, 17, 19, 28, 29, 42, 43, 49, 50, 51, 56, 60]\n",
    "    for i in index:\n",
    "        app = countries[i-1]\n",
    "        string = string + str.split(app, ',')[0] + \", \"\n",
    "    print(string)"
   ]
  }
 ],
 "metadata": {
  "kernelspec": {
   "display_name": "Python 3",
   "language": "python",
   "name": "python3"
  },
  "language_info": {
   "codemirror_mode": {
    "name": "ipython",
    "version": 3
   },
   "file_extension": ".py",
   "mimetype": "text/x-python",
   "name": "python",
   "nbconvert_exporter": "python",
   "pygments_lexer": "ipython3",
   "version": "3.11.5"
  }
 },
 "nbformat": 4,
 "nbformat_minor": 2
}
