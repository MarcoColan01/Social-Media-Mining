{
 "cells": [
  {
   "cell_type": "code",
   "execution_count": 1,
   "id": "c1433635-2acd-4b1e-b8f0-859f405aa8f7",
   "metadata": {},
   "outputs": [
    {
     "name": "stdout",
     "output_type": "stream",
     "text": [
      "0.629\n"
     ]
    }
   ],
   "source": [
    "from traceback import print_tb\n",
    "import networkx as nx\n",
    "import csv\n",
    "import spotipy\n",
    "from spotipy.oauth2 import SpotifyClientCredentials\n",
    "\n",
    "#----INIZIO----API-SPOTIFY----INIZIO----\n",
    "\n",
    "#ID della mia applicazione su account spotify\n",
    "#credenziali giannuzzo\n",
    "spotify = spotipy.Spotify(client_credentials_manager=SpotifyClientCredentials(client_id=\"f01bf64d770a48b098b130b8cdc62b47\",client_secret=\"546e3a93ca524544b122006002c9e6e9\"))\n",
    "#spotify = spotipy.Spotify(client_credentials_manager=SpotifyClientCredentials(client_id=\"85aa8b30835e45a3b99623b2797df916\",client_secret=\"ecb8aa6ad9d7431db74fb99af51dec93\"))\n",
    "\n",
    "#apro il file playlist che contiene il nome dell'utente e il link alla sua playlist\n",
    "#metto i dati nella lista people\n",
    "people = list()\n",
    "with open('global.csv', 'r') as file:\n",
    "    reader = csv.DictReader(file)\n",
    "    for row in reader:\n",
    "        people.append(row)\n",
    "\n",
    "del people[0]\n",
    "#questo è il mio dataset a ogni indice corrisponde una lista di codici ISRC (30 per playlist tranne in rari casi)\n",
    "dataset = list()\n",
    "\n",
    "#prendo il link della playlist dalla lista people creata prima\n",
    "#dal link estraggo l'id della playlist\n",
    "#dall'id della playlist estraggo tutti i brani da ogni brano estraggo il codice ISRC\n",
    "j = 0\n",
    "aux = {}\n",
    "person = people[0][\"Link\"]\n",
    "playlist = spotify.playlist(person)\n",
    "songs = spotify.playlist_items(playlist[\"id\"])\n",
    "track_uri = songs[\"items\"][0][\"track\"][\"uri\"]\n",
    "danceability = spotify.audio_features(track_uri)[0]['danceability']\n",
    "print(danceability)"
   ]
  },
  {
   "cell_type": "code",
   "execution_count": null,
   "id": "da93aa23-aaf7-4271-8889-83d0792e7c8b",
   "metadata": {},
   "outputs": [],
   "source": []
  }
 ],
 "metadata": {
  "kernelspec": {
   "display_name": "Python 3 (ipykernel)",
   "language": "python",
   "name": "python3"
  },
  "language_info": {
   "codemirror_mode": {
    "name": "ipython",
    "version": 3
   },
   "file_extension": ".py",
   "mimetype": "text/x-python",
   "name": "python",
   "nbconvert_exporter": "python",
   "pygments_lexer": "ipython3",
   "version": "3.11.5"
  }
 },
 "nbformat": 4,
 "nbformat_minor": 5
}
