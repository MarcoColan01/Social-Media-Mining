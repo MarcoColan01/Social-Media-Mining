{
 "cells": [
  {
   "cell_type": "code",
   "execution_count": 1,
   "id": "f70f82e9-abc4-4976-b196-7041bffb08df",
   "metadata": {},
   "outputs": [],
   "source": [
    "from traceback import print_tb\n",
    "import networkx as nx\n",
    "import csv\n",
    "import spotipy\n",
    "from spotipy.oauth2 import SpotifyClientCredentials\n",
    "import pickle\n",
    "import pandas as pd"
   ]
  },
  {
   "cell_type": "code",
   "execution_count": 2,
   "id": "d3f44d9a-7cfd-4e5f-a9fc-a0adbc155ae6",
   "metadata": {},
   "outputs": [],
   "source": [
    "spotify = spotipy.Spotify(client_credentials_manager=SpotifyClientCredentials(client_id=\"85aa8b30835e45a3b99623b2797df916\",client_secret=\"ecb8aa6ad9d7431db74fb99af51dec93\"))\n"
   ]
  },
  {
   "cell_type": "code",
   "execution_count": 3,
   "id": "ec6ee54a-0e45-414b-b43c-0ad3124f7ec5",
   "metadata": {},
   "outputs": [],
   "source": [
    "people = list()\n",
    "with open('viral.csv', 'r') as file:\n",
    "    reader = csv.DictReader(file)\n",
    "    for row in reader:\n",
    "        people.append(row)\n",
    "\n",
    "dataset = list()\n",
    "for person in people:\n",
    "    \n",
    "    playlist = spotify.playlist(person[\"Link\"])\n",
    "    songs = spotify.playlist_items(playlist[\"id\"])\n",
    "    aux = set()\n",
    "    \n",
    "    for i in range (len(songs[\"items\"])):\n",
    "        try: \n",
    "            genres = spotify.artist(songs[\"items\"][i][\"track\"][\"artists\"][i][\"id\"])['genres']\n",
    "            for genre in genres:\n",
    "                aux.add(genre)\n",
    "            dataset.append(aux)\n",
    "        except:\n",
    "            continue   \n",
    "#print(dataset)"
   ]
  },
  {
   "cell_type": "code",
   "execution_count": 4,
   "id": "049e7302-9965-4e28-a8cc-7c715849eb67",
   "metadata": {},
   "outputs": [],
   "source": [
    "grafo = nx.Graph()\n",
    "\n",
    "for genres in dataset:\n",
    "    for genre1 in genres:\n",
    "        for genre2 in genres:\n",
    "            grafo.add_node(genre1)\n",
    "            if genre1 != genre2 and not grafo.has_edge(genre2, genre1):\n",
    "                grafo.add_edge(genre1, genre2)\n",
    "nx.write_gexf(grafo, 'global_genres03.gexf')\n",
    "with open('global_genres03pkl', 'wb') as f:\n",
    "    pickle.dump(grafo, f)"
   ]
  },
  {
   "cell_type": "code",
   "execution_count": null,
   "id": "f0dc9804-3911-4a56-b8a5-07252c04fc5b",
   "metadata": {},
   "outputs": [],
   "source": []
  },
  {
   "cell_type": "code",
   "execution_count": null,
   "id": "fcefdb62-a857-44ae-94dd-f276e8772feb",
   "metadata": {},
   "outputs": [],
   "source": []
  }
 ],
 "metadata": {
  "kernelspec": {
   "display_name": "Python 3 (ipykernel)",
   "language": "python",
   "name": "python3"
  },
  "language_info": {
   "codemirror_mode": {
    "name": "ipython",
    "version": 3
   },
   "file_extension": ".py",
   "mimetype": "text/x-python",
   "name": "python",
   "nbconvert_exporter": "python",
   "pygments_lexer": "ipython3",
   "version": "3.11.5"
  }
 },
 "nbformat": 4,
 "nbformat_minor": 5
}
